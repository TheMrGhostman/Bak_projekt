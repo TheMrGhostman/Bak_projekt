{
 "cells": [
  {
   "cell_type": "code",
   "execution_count": 20,
   "metadata": {
    "scrolled": true
   },
   "outputs": [
    {
     "name": "stdout",
     "output_type": "stream",
     "text": [
      "Populating the interactive namespace from numpy and matplotlib\n"
     ]
    }
   ],
   "source": [
    "%pylab --no-import-all notebook\n",
    "import os"
   ]
  },
  {
   "cell_type": "code",
   "execution_count": 21,
   "metadata": {
    "collapsed": true
   },
   "outputs": [],
   "source": [
    "way = os.getcwd() + \"/Data_npy/\""
   ]
  },
  {
   "cell_type": "code",
   "execution_count": 25,
   "metadata": {},
   "outputs": [
    {
     "data": {
      "application/javascript": [
       "/* Put everything inside the global mpl namespace */\n",
       "window.mpl = {};\n",
       "\n",
       "\n",
       "mpl.get_websocket_type = function() {\n",
       "    if (typeof(WebSocket) !== 'undefined') {\n",
       "        return WebSocket;\n",
       "    } else if (typeof(MozWebSocket) !== 'undefined') {\n",
       "        return MozWebSocket;\n",
       "    } else {\n",
       "        alert('Your browser does not have WebSocket support.' +\n",
       "              'Please try Chrome, Safari or Firefox ≥ 6. ' +\n",
       "              'Firefox 4 and 5 are also supported but you ' +\n",
       "              'have to enable WebSockets in about:config.');\n",
       "    };\n",
       "}\n",
       "\n",
       "mpl.figure = function(figure_id, websocket, ondownload, parent_element) {\n",
       "    this.id = figure_id;\n",
       "\n",
       "    this.ws = websocket;\n",
       "\n",
       "    this.supports_binary = (this.ws.binaryType != undefined);\n",
       "\n",
       "    if (!this.supports_binary) {\n",
       "        var warnings = document.getElementById(\"mpl-warnings\");\n",
       "        if (warnings) {\n",
       "            warnings.style.display = 'block';\n",
       "            warnings.textContent = (\n",
       "                \"This browser does not support binary websocket messages. \" +\n",
       "                    \"Performance may be slow.\");\n",
       "        }\n",
       "    }\n",
       "\n",
       "    this.imageObj = new Image();\n",
       "\n",
       "    this.context = undefined;\n",
       "    this.message = undefined;\n",
       "    this.canvas = undefined;\n",
       "    this.rubberband_canvas = undefined;\n",
       "    this.rubberband_context = undefined;\n",
       "    this.format_dropdown = undefined;\n",
       "\n",
       "    this.image_mode = 'full';\n",
       "\n",
       "    this.root = $('<div/>');\n",
       "    this._root_extra_style(this.root)\n",
       "    this.root.attr('style', 'display: inline-block');\n",
       "\n",
       "    $(parent_element).append(this.root);\n",
       "\n",
       "    this._init_header(this);\n",
       "    this._init_canvas(this);\n",
       "    this._init_toolbar(this);\n",
       "\n",
       "    var fig = this;\n",
       "\n",
       "    this.waiting = false;\n",
       "\n",
       "    this.ws.onopen =  function () {\n",
       "            fig.send_message(\"supports_binary\", {value: fig.supports_binary});\n",
       "            fig.send_message(\"send_image_mode\", {});\n",
       "            if (mpl.ratio != 1) {\n",
       "                fig.send_message(\"set_dpi_ratio\", {'dpi_ratio': mpl.ratio});\n",
       "            }\n",
       "            fig.send_message(\"refresh\", {});\n",
       "        }\n",
       "\n",
       "    this.imageObj.onload = function() {\n",
       "            if (fig.image_mode == 'full') {\n",
       "                // Full images could contain transparency (where diff images\n",
       "                // almost always do), so we need to clear the canvas so that\n",
       "                // there is no ghosting.\n",
       "                fig.context.clearRect(0, 0, fig.canvas.width, fig.canvas.height);\n",
       "            }\n",
       "            fig.context.drawImage(fig.imageObj, 0, 0);\n",
       "        };\n",
       "\n",
       "    this.imageObj.onunload = function() {\n",
       "        fig.ws.close();\n",
       "    }\n",
       "\n",
       "    this.ws.onmessage = this._make_on_message_function(this);\n",
       "\n",
       "    this.ondownload = ondownload;\n",
       "}\n",
       "\n",
       "mpl.figure.prototype._init_header = function() {\n",
       "    var titlebar = $(\n",
       "        '<div class=\"ui-dialog-titlebar ui-widget-header ui-corner-all ' +\n",
       "        'ui-helper-clearfix\"/>');\n",
       "    var titletext = $(\n",
       "        '<div class=\"ui-dialog-title\" style=\"width: 100%; ' +\n",
       "        'text-align: center; padding: 3px;\"/>');\n",
       "    titlebar.append(titletext)\n",
       "    this.root.append(titlebar);\n",
       "    this.header = titletext[0];\n",
       "}\n",
       "\n",
       "\n",
       "\n",
       "mpl.figure.prototype._canvas_extra_style = function(canvas_div) {\n",
       "\n",
       "}\n",
       "\n",
       "\n",
       "mpl.figure.prototype._root_extra_style = function(canvas_div) {\n",
       "\n",
       "}\n",
       "\n",
       "mpl.figure.prototype._init_canvas = function() {\n",
       "    var fig = this;\n",
       "\n",
       "    var canvas_div = $('<div/>');\n",
       "\n",
       "    canvas_div.attr('style', 'position: relative; clear: both; outline: 0');\n",
       "\n",
       "    function canvas_keyboard_event(event) {\n",
       "        return fig.key_event(event, event['data']);\n",
       "    }\n",
       "\n",
       "    canvas_div.keydown('key_press', canvas_keyboard_event);\n",
       "    canvas_div.keyup('key_release', canvas_keyboard_event);\n",
       "    this.canvas_div = canvas_div\n",
       "    this._canvas_extra_style(canvas_div)\n",
       "    this.root.append(canvas_div);\n",
       "\n",
       "    var canvas = $('<canvas/>');\n",
       "    canvas.addClass('mpl-canvas');\n",
       "    canvas.attr('style', \"left: 0; top: 0; z-index: 0; outline: 0\")\n",
       "\n",
       "    this.canvas = canvas[0];\n",
       "    this.context = canvas[0].getContext(\"2d\");\n",
       "\n",
       "    var backingStore = this.context.backingStorePixelRatio ||\n",
       "\tthis.context.webkitBackingStorePixelRatio ||\n",
       "\tthis.context.mozBackingStorePixelRatio ||\n",
       "\tthis.context.msBackingStorePixelRatio ||\n",
       "\tthis.context.oBackingStorePixelRatio ||\n",
       "\tthis.context.backingStorePixelRatio || 1;\n",
       "\n",
       "    mpl.ratio = (window.devicePixelRatio || 1) / backingStore;\n",
       "\n",
       "    var rubberband = $('<canvas/>');\n",
       "    rubberband.attr('style', \"position: absolute; left: 0; top: 0; z-index: 1;\")\n",
       "\n",
       "    var pass_mouse_events = true;\n",
       "\n",
       "    canvas_div.resizable({\n",
       "        start: function(event, ui) {\n",
       "            pass_mouse_events = false;\n",
       "        },\n",
       "        resize: function(event, ui) {\n",
       "            fig.request_resize(ui.size.width, ui.size.height);\n",
       "        },\n",
       "        stop: function(event, ui) {\n",
       "            pass_mouse_events = true;\n",
       "            fig.request_resize(ui.size.width, ui.size.height);\n",
       "        },\n",
       "    });\n",
       "\n",
       "    function mouse_event_fn(event) {\n",
       "        if (pass_mouse_events)\n",
       "            return fig.mouse_event(event, event['data']);\n",
       "    }\n",
       "\n",
       "    rubberband.mousedown('button_press', mouse_event_fn);\n",
       "    rubberband.mouseup('button_release', mouse_event_fn);\n",
       "    // Throttle sequential mouse events to 1 every 20ms.\n",
       "    rubberband.mousemove('motion_notify', mouse_event_fn);\n",
       "\n",
       "    rubberband.mouseenter('figure_enter', mouse_event_fn);\n",
       "    rubberband.mouseleave('figure_leave', mouse_event_fn);\n",
       "\n",
       "    canvas_div.on(\"wheel\", function (event) {\n",
       "        event = event.originalEvent;\n",
       "        event['data'] = 'scroll'\n",
       "        if (event.deltaY < 0) {\n",
       "            event.step = 1;\n",
       "        } else {\n",
       "            event.step = -1;\n",
       "        }\n",
       "        mouse_event_fn(event);\n",
       "    });\n",
       "\n",
       "    canvas_div.append(canvas);\n",
       "    canvas_div.append(rubberband);\n",
       "\n",
       "    this.rubberband = rubberband;\n",
       "    this.rubberband_canvas = rubberband[0];\n",
       "    this.rubberband_context = rubberband[0].getContext(\"2d\");\n",
       "    this.rubberband_context.strokeStyle = \"#000000\";\n",
       "\n",
       "    this._resize_canvas = function(width, height) {\n",
       "        // Keep the size of the canvas, canvas container, and rubber band\n",
       "        // canvas in synch.\n",
       "        canvas_div.css('width', width)\n",
       "        canvas_div.css('height', height)\n",
       "\n",
       "        canvas.attr('width', width * mpl.ratio);\n",
       "        canvas.attr('height', height * mpl.ratio);\n",
       "        canvas.attr('style', 'width: ' + width + 'px; height: ' + height + 'px;');\n",
       "\n",
       "        rubberband.attr('width', width);\n",
       "        rubberband.attr('height', height);\n",
       "    }\n",
       "\n",
       "    // Set the figure to an initial 600x600px, this will subsequently be updated\n",
       "    // upon first draw.\n",
       "    this._resize_canvas(600, 600);\n",
       "\n",
       "    // Disable right mouse context menu.\n",
       "    $(this.rubberband_canvas).bind(\"contextmenu\",function(e){\n",
       "        return false;\n",
       "    });\n",
       "\n",
       "    function set_focus () {\n",
       "        canvas.focus();\n",
       "        canvas_div.focus();\n",
       "    }\n",
       "\n",
       "    window.setTimeout(set_focus, 100);\n",
       "}\n",
       "\n",
       "mpl.figure.prototype._init_toolbar = function() {\n",
       "    var fig = this;\n",
       "\n",
       "    var nav_element = $('<div/>')\n",
       "    nav_element.attr('style', 'width: 100%');\n",
       "    this.root.append(nav_element);\n",
       "\n",
       "    // Define a callback function for later on.\n",
       "    function toolbar_event(event) {\n",
       "        return fig.toolbar_button_onclick(event['data']);\n",
       "    }\n",
       "    function toolbar_mouse_event(event) {\n",
       "        return fig.toolbar_button_onmouseover(event['data']);\n",
       "    }\n",
       "\n",
       "    for(var toolbar_ind in mpl.toolbar_items) {\n",
       "        var name = mpl.toolbar_items[toolbar_ind][0];\n",
       "        var tooltip = mpl.toolbar_items[toolbar_ind][1];\n",
       "        var image = mpl.toolbar_items[toolbar_ind][2];\n",
       "        var method_name = mpl.toolbar_items[toolbar_ind][3];\n",
       "\n",
       "        if (!name) {\n",
       "            // put a spacer in here.\n",
       "            continue;\n",
       "        }\n",
       "        var button = $('<button/>');\n",
       "        button.addClass('ui-button ui-widget ui-state-default ui-corner-all ' +\n",
       "                        'ui-button-icon-only');\n",
       "        button.attr('role', 'button');\n",
       "        button.attr('aria-disabled', 'false');\n",
       "        button.click(method_name, toolbar_event);\n",
       "        button.mouseover(tooltip, toolbar_mouse_event);\n",
       "\n",
       "        var icon_img = $('<span/>');\n",
       "        icon_img.addClass('ui-button-icon-primary ui-icon');\n",
       "        icon_img.addClass(image);\n",
       "        icon_img.addClass('ui-corner-all');\n",
       "\n",
       "        var tooltip_span = $('<span/>');\n",
       "        tooltip_span.addClass('ui-button-text');\n",
       "        tooltip_span.html(tooltip);\n",
       "\n",
       "        button.append(icon_img);\n",
       "        button.append(tooltip_span);\n",
       "\n",
       "        nav_element.append(button);\n",
       "    }\n",
       "\n",
       "    var fmt_picker_span = $('<span/>');\n",
       "\n",
       "    var fmt_picker = $('<select/>');\n",
       "    fmt_picker.addClass('mpl-toolbar-option ui-widget ui-widget-content');\n",
       "    fmt_picker_span.append(fmt_picker);\n",
       "    nav_element.append(fmt_picker_span);\n",
       "    this.format_dropdown = fmt_picker[0];\n",
       "\n",
       "    for (var ind in mpl.extensions) {\n",
       "        var fmt = mpl.extensions[ind];\n",
       "        var option = $(\n",
       "            '<option/>', {selected: fmt === mpl.default_extension}).html(fmt);\n",
       "        fmt_picker.append(option)\n",
       "    }\n",
       "\n",
       "    // Add hover states to the ui-buttons\n",
       "    $( \".ui-button\" ).hover(\n",
       "        function() { $(this).addClass(\"ui-state-hover\");},\n",
       "        function() { $(this).removeClass(\"ui-state-hover\");}\n",
       "    );\n",
       "\n",
       "    var status_bar = $('<span class=\"mpl-message\"/>');\n",
       "    nav_element.append(status_bar);\n",
       "    this.message = status_bar[0];\n",
       "}\n",
       "\n",
       "mpl.figure.prototype.request_resize = function(x_pixels, y_pixels) {\n",
       "    // Request matplotlib to resize the figure. Matplotlib will then trigger a resize in the client,\n",
       "    // which will in turn request a refresh of the image.\n",
       "    this.send_message('resize', {'width': x_pixels, 'height': y_pixels});\n",
       "}\n",
       "\n",
       "mpl.figure.prototype.send_message = function(type, properties) {\n",
       "    properties['type'] = type;\n",
       "    properties['figure_id'] = this.id;\n",
       "    this.ws.send(JSON.stringify(properties));\n",
       "}\n",
       "\n",
       "mpl.figure.prototype.send_draw_message = function() {\n",
       "    if (!this.waiting) {\n",
       "        this.waiting = true;\n",
       "        this.ws.send(JSON.stringify({type: \"draw\", figure_id: this.id}));\n",
       "    }\n",
       "}\n",
       "\n",
       "\n",
       "mpl.figure.prototype.handle_save = function(fig, msg) {\n",
       "    var format_dropdown = fig.format_dropdown;\n",
       "    var format = format_dropdown.options[format_dropdown.selectedIndex].value;\n",
       "    fig.ondownload(fig, format);\n",
       "}\n",
       "\n",
       "\n",
       "mpl.figure.prototype.handle_resize = function(fig, msg) {\n",
       "    var size = msg['size'];\n",
       "    if (size[0] != fig.canvas.width || size[1] != fig.canvas.height) {\n",
       "        fig._resize_canvas(size[0], size[1]);\n",
       "        fig.send_message(\"refresh\", {});\n",
       "    };\n",
       "}\n",
       "\n",
       "mpl.figure.prototype.handle_rubberband = function(fig, msg) {\n",
       "    var x0 = msg['x0'] / mpl.ratio;\n",
       "    var y0 = (fig.canvas.height - msg['y0']) / mpl.ratio;\n",
       "    var x1 = msg['x1'] / mpl.ratio;\n",
       "    var y1 = (fig.canvas.height - msg['y1']) / mpl.ratio;\n",
       "    x0 = Math.floor(x0) + 0.5;\n",
       "    y0 = Math.floor(y0) + 0.5;\n",
       "    x1 = Math.floor(x1) + 0.5;\n",
       "    y1 = Math.floor(y1) + 0.5;\n",
       "    var min_x = Math.min(x0, x1);\n",
       "    var min_y = Math.min(y0, y1);\n",
       "    var width = Math.abs(x1 - x0);\n",
       "    var height = Math.abs(y1 - y0);\n",
       "\n",
       "    fig.rubberband_context.clearRect(\n",
       "        0, 0, fig.canvas.width, fig.canvas.height);\n",
       "\n",
       "    fig.rubberband_context.strokeRect(min_x, min_y, width, height);\n",
       "}\n",
       "\n",
       "mpl.figure.prototype.handle_figure_label = function(fig, msg) {\n",
       "    // Updates the figure title.\n",
       "    fig.header.textContent = msg['label'];\n",
       "}\n",
       "\n",
       "mpl.figure.prototype.handle_cursor = function(fig, msg) {\n",
       "    var cursor = msg['cursor'];\n",
       "    switch(cursor)\n",
       "    {\n",
       "    case 0:\n",
       "        cursor = 'pointer';\n",
       "        break;\n",
       "    case 1:\n",
       "        cursor = 'default';\n",
       "        break;\n",
       "    case 2:\n",
       "        cursor = 'crosshair';\n",
       "        break;\n",
       "    case 3:\n",
       "        cursor = 'move';\n",
       "        break;\n",
       "    }\n",
       "    fig.rubberband_canvas.style.cursor = cursor;\n",
       "}\n",
       "\n",
       "mpl.figure.prototype.handle_message = function(fig, msg) {\n",
       "    fig.message.textContent = msg['message'];\n",
       "}\n",
       "\n",
       "mpl.figure.prototype.handle_draw = function(fig, msg) {\n",
       "    // Request the server to send over a new figure.\n",
       "    fig.send_draw_message();\n",
       "}\n",
       "\n",
       "mpl.figure.prototype.handle_image_mode = function(fig, msg) {\n",
       "    fig.image_mode = msg['mode'];\n",
       "}\n",
       "\n",
       "mpl.figure.prototype.updated_canvas_event = function() {\n",
       "    // Called whenever the canvas gets updated.\n",
       "    this.send_message(\"ack\", {});\n",
       "}\n",
       "\n",
       "// A function to construct a web socket function for onmessage handling.\n",
       "// Called in the figure constructor.\n",
       "mpl.figure.prototype._make_on_message_function = function(fig) {\n",
       "    return function socket_on_message(evt) {\n",
       "        if (evt.data instanceof Blob) {\n",
       "            /* FIXME: We get \"Resource interpreted as Image but\n",
       "             * transferred with MIME type text/plain:\" errors on\n",
       "             * Chrome.  But how to set the MIME type?  It doesn't seem\n",
       "             * to be part of the websocket stream */\n",
       "            evt.data.type = \"image/png\";\n",
       "\n",
       "            /* Free the memory for the previous frames */\n",
       "            if (fig.imageObj.src) {\n",
       "                (window.URL || window.webkitURL).revokeObjectURL(\n",
       "                    fig.imageObj.src);\n",
       "            }\n",
       "\n",
       "            fig.imageObj.src = (window.URL || window.webkitURL).createObjectURL(\n",
       "                evt.data);\n",
       "            fig.updated_canvas_event();\n",
       "            fig.waiting = false;\n",
       "            return;\n",
       "        }\n",
       "        else if (typeof evt.data === 'string' && evt.data.slice(0, 21) == \"data:image/png;base64\") {\n",
       "            fig.imageObj.src = evt.data;\n",
       "            fig.updated_canvas_event();\n",
       "            fig.waiting = false;\n",
       "            return;\n",
       "        }\n",
       "\n",
       "        var msg = JSON.parse(evt.data);\n",
       "        var msg_type = msg['type'];\n",
       "\n",
       "        // Call the  \"handle_{type}\" callback, which takes\n",
       "        // the figure and JSON message as its only arguments.\n",
       "        try {\n",
       "            var callback = fig[\"handle_\" + msg_type];\n",
       "        } catch (e) {\n",
       "            console.log(\"No handler for the '\" + msg_type + \"' message type: \", msg);\n",
       "            return;\n",
       "        }\n",
       "\n",
       "        if (callback) {\n",
       "            try {\n",
       "                // console.log(\"Handling '\" + msg_type + \"' message: \", msg);\n",
       "                callback(fig, msg);\n",
       "            } catch (e) {\n",
       "                console.log(\"Exception inside the 'handler_\" + msg_type + \"' callback:\", e, e.stack, msg);\n",
       "            }\n",
       "        }\n",
       "    };\n",
       "}\n",
       "\n",
       "// from http://stackoverflow.com/questions/1114465/getting-mouse-location-in-canvas\n",
       "mpl.findpos = function(e) {\n",
       "    //this section is from http://www.quirksmode.org/js/events_properties.html\n",
       "    var targ;\n",
       "    if (!e)\n",
       "        e = window.event;\n",
       "    if (e.target)\n",
       "        targ = e.target;\n",
       "    else if (e.srcElement)\n",
       "        targ = e.srcElement;\n",
       "    if (targ.nodeType == 3) // defeat Safari bug\n",
       "        targ = targ.parentNode;\n",
       "\n",
       "    // jQuery normalizes the pageX and pageY\n",
       "    // pageX,Y are the mouse positions relative to the document\n",
       "    // offset() returns the position of the element relative to the document\n",
       "    var x = e.pageX - $(targ).offset().left;\n",
       "    var y = e.pageY - $(targ).offset().top;\n",
       "\n",
       "    return {\"x\": x, \"y\": y};\n",
       "};\n",
       "\n",
       "/*\n",
       " * return a copy of an object with only non-object keys\n",
       " * we need this to avoid circular references\n",
       " * http://stackoverflow.com/a/24161582/3208463\n",
       " */\n",
       "function simpleKeys (original) {\n",
       "  return Object.keys(original).reduce(function (obj, key) {\n",
       "    if (typeof original[key] !== 'object')\n",
       "        obj[key] = original[key]\n",
       "    return obj;\n",
       "  }, {});\n",
       "}\n",
       "\n",
       "mpl.figure.prototype.mouse_event = function(event, name) {\n",
       "    var canvas_pos = mpl.findpos(event)\n",
       "\n",
       "    if (name === 'button_press')\n",
       "    {\n",
       "        this.canvas.focus();\n",
       "        this.canvas_div.focus();\n",
       "    }\n",
       "\n",
       "    var x = canvas_pos.x * mpl.ratio;\n",
       "    var y = canvas_pos.y * mpl.ratio;\n",
       "\n",
       "    this.send_message(name, {x: x, y: y, button: event.button,\n",
       "                             step: event.step,\n",
       "                             guiEvent: simpleKeys(event)});\n",
       "\n",
       "    /* This prevents the web browser from automatically changing to\n",
       "     * the text insertion cursor when the button is pressed.  We want\n",
       "     * to control all of the cursor setting manually through the\n",
       "     * 'cursor' event from matplotlib */\n",
       "    event.preventDefault();\n",
       "    return false;\n",
       "}\n",
       "\n",
       "mpl.figure.prototype._key_event_extra = function(event, name) {\n",
       "    // Handle any extra behaviour associated with a key event\n",
       "}\n",
       "\n",
       "mpl.figure.prototype.key_event = function(event, name) {\n",
       "\n",
       "    // Prevent repeat events\n",
       "    if (name == 'key_press')\n",
       "    {\n",
       "        if (event.which === this._key)\n",
       "            return;\n",
       "        else\n",
       "            this._key = event.which;\n",
       "    }\n",
       "    if (name == 'key_release')\n",
       "        this._key = null;\n",
       "\n",
       "    var value = '';\n",
       "    if (event.ctrlKey && event.which != 17)\n",
       "        value += \"ctrl+\";\n",
       "    if (event.altKey && event.which != 18)\n",
       "        value += \"alt+\";\n",
       "    if (event.shiftKey && event.which != 16)\n",
       "        value += \"shift+\";\n",
       "\n",
       "    value += 'k';\n",
       "    value += event.which.toString();\n",
       "\n",
       "    this._key_event_extra(event, name);\n",
       "\n",
       "    this.send_message(name, {key: value,\n",
       "                             guiEvent: simpleKeys(event)});\n",
       "    return false;\n",
       "}\n",
       "\n",
       "mpl.figure.prototype.toolbar_button_onclick = function(name) {\n",
       "    if (name == 'download') {\n",
       "        this.handle_save(this, null);\n",
       "    } else {\n",
       "        this.send_message(\"toolbar_button\", {name: name});\n",
       "    }\n",
       "};\n",
       "\n",
       "mpl.figure.prototype.toolbar_button_onmouseover = function(tooltip) {\n",
       "    this.message.textContent = tooltip;\n",
       "};\n",
       "mpl.toolbar_items = [[\"Home\", \"Reset original view\", \"fa fa-home icon-home\", \"home\"], [\"Back\", \"Back to  previous view\", \"fa fa-arrow-left icon-arrow-left\", \"back\"], [\"Forward\", \"Forward to next view\", \"fa fa-arrow-right icon-arrow-right\", \"forward\"], [\"\", \"\", \"\", \"\"], [\"Pan\", \"Pan axes with left mouse, zoom with right\", \"fa fa-arrows icon-move\", \"pan\"], [\"Zoom\", \"Zoom to rectangle\", \"fa fa-square-o icon-check-empty\", \"zoom\"], [\"\", \"\", \"\", \"\"], [\"Download\", \"Download plot\", \"fa fa-floppy-o icon-save\", \"download\"]];\n",
       "\n",
       "mpl.extensions = [\"eps\", \"jpeg\", \"pdf\", \"png\", \"ps\", \"raw\", \"svg\", \"tif\"];\n",
       "\n",
       "mpl.default_extension = \"png\";var comm_websocket_adapter = function(comm) {\n",
       "    // Create a \"websocket\"-like object which calls the given IPython comm\n",
       "    // object with the appropriate methods. Currently this is a non binary\n",
       "    // socket, so there is still some room for performance tuning.\n",
       "    var ws = {};\n",
       "\n",
       "    ws.close = function() {\n",
       "        comm.close()\n",
       "    };\n",
       "    ws.send = function(m) {\n",
       "        //console.log('sending', m);\n",
       "        comm.send(m);\n",
       "    };\n",
       "    // Register the callback with on_msg.\n",
       "    comm.on_msg(function(msg) {\n",
       "        //console.log('receiving', msg['content']['data'], msg);\n",
       "        // Pass the mpl event to the overriden (by mpl) onmessage function.\n",
       "        ws.onmessage(msg['content']['data'])\n",
       "    });\n",
       "    return ws;\n",
       "}\n",
       "\n",
       "mpl.mpl_figure_comm = function(comm, msg) {\n",
       "    // This is the function which gets called when the mpl process\n",
       "    // starts-up an IPython Comm through the \"matplotlib\" channel.\n",
       "\n",
       "    var id = msg.content.data.id;\n",
       "    // Get hold of the div created by the display call when the Comm\n",
       "    // socket was opened in Python.\n",
       "    var element = $(\"#\" + id);\n",
       "    var ws_proxy = comm_websocket_adapter(comm)\n",
       "\n",
       "    function ondownload(figure, format) {\n",
       "        window.open(figure.imageObj.src);\n",
       "    }\n",
       "\n",
       "    var fig = new mpl.figure(id, ws_proxy,\n",
       "                           ondownload,\n",
       "                           element.get(0));\n",
       "\n",
       "    // Call onopen now - mpl needs it, as it is assuming we've passed it a real\n",
       "    // web socket which is closed, not our websocket->open comm proxy.\n",
       "    ws_proxy.onopen();\n",
       "\n",
       "    fig.parent_element = element.get(0);\n",
       "    fig.cell_info = mpl.find_output_cell(\"<div id='\" + id + \"'></div>\");\n",
       "    if (!fig.cell_info) {\n",
       "        console.error(\"Failed to find cell for figure\", id, fig);\n",
       "        return;\n",
       "    }\n",
       "\n",
       "    var output_index = fig.cell_info[2]\n",
       "    var cell = fig.cell_info[0];\n",
       "\n",
       "};\n",
       "\n",
       "mpl.figure.prototype.handle_close = function(fig, msg) {\n",
       "    var width = fig.canvas.width/mpl.ratio\n",
       "    fig.root.unbind('remove')\n",
       "\n",
       "    // Update the output cell to use the data from the current canvas.\n",
       "    fig.push_to_output();\n",
       "    var dataURL = fig.canvas.toDataURL();\n",
       "    // Re-enable the keyboard manager in IPython - without this line, in FF,\n",
       "    // the notebook keyboard shortcuts fail.\n",
       "    IPython.keyboard_manager.enable()\n",
       "    $(fig.parent_element).html('<img src=\"' + dataURL + '\" width=\"' + width + '\">');\n",
       "    fig.close_ws(fig, msg);\n",
       "}\n",
       "\n",
       "mpl.figure.prototype.close_ws = function(fig, msg){\n",
       "    fig.send_message('closing', msg);\n",
       "    // fig.ws.close()\n",
       "}\n",
       "\n",
       "mpl.figure.prototype.push_to_output = function(remove_interactive) {\n",
       "    // Turn the data on the canvas into data in the output cell.\n",
       "    var width = this.canvas.width/mpl.ratio\n",
       "    var dataURL = this.canvas.toDataURL();\n",
       "    this.cell_info[1]['text/html'] = '<img src=\"' + dataURL + '\" width=\"' + width + '\">';\n",
       "}\n",
       "\n",
       "mpl.figure.prototype.updated_canvas_event = function() {\n",
       "    // Tell IPython that the notebook contents must change.\n",
       "    IPython.notebook.set_dirty(true);\n",
       "    this.send_message(\"ack\", {});\n",
       "    var fig = this;\n",
       "    // Wait a second, then push the new image to the DOM so\n",
       "    // that it is saved nicely (might be nice to debounce this).\n",
       "    setTimeout(function () { fig.push_to_output() }, 1000);\n",
       "}\n",
       "\n",
       "mpl.figure.prototype._init_toolbar = function() {\n",
       "    var fig = this;\n",
       "\n",
       "    var nav_element = $('<div/>')\n",
       "    nav_element.attr('style', 'width: 100%');\n",
       "    this.root.append(nav_element);\n",
       "\n",
       "    // Define a callback function for later on.\n",
       "    function toolbar_event(event) {\n",
       "        return fig.toolbar_button_onclick(event['data']);\n",
       "    }\n",
       "    function toolbar_mouse_event(event) {\n",
       "        return fig.toolbar_button_onmouseover(event['data']);\n",
       "    }\n",
       "\n",
       "    for(var toolbar_ind in mpl.toolbar_items){\n",
       "        var name = mpl.toolbar_items[toolbar_ind][0];\n",
       "        var tooltip = mpl.toolbar_items[toolbar_ind][1];\n",
       "        var image = mpl.toolbar_items[toolbar_ind][2];\n",
       "        var method_name = mpl.toolbar_items[toolbar_ind][3];\n",
       "\n",
       "        if (!name) { continue; };\n",
       "\n",
       "        var button = $('<button class=\"btn btn-default\" href=\"#\" title=\"' + name + '\"><i class=\"fa ' + image + ' fa-lg\"></i></button>');\n",
       "        button.click(method_name, toolbar_event);\n",
       "        button.mouseover(tooltip, toolbar_mouse_event);\n",
       "        nav_element.append(button);\n",
       "    }\n",
       "\n",
       "    // Add the status bar.\n",
       "    var status_bar = $('<span class=\"mpl-message\" style=\"text-align:right; float: right;\"/>');\n",
       "    nav_element.append(status_bar);\n",
       "    this.message = status_bar[0];\n",
       "\n",
       "    // Add the close button to the window.\n",
       "    var buttongrp = $('<div class=\"btn-group inline pull-right\"></div>');\n",
       "    var button = $('<button class=\"btn btn-mini btn-primary\" href=\"#\" title=\"Stop Interaction\"><i class=\"fa fa-power-off icon-remove icon-large\"></i></button>');\n",
       "    button.click(function (evt) { fig.handle_close(fig, {}); } );\n",
       "    button.mouseover('Stop Interaction', toolbar_mouse_event);\n",
       "    buttongrp.append(button);\n",
       "    var titlebar = this.root.find($('.ui-dialog-titlebar'));\n",
       "    titlebar.prepend(buttongrp);\n",
       "}\n",
       "\n",
       "mpl.figure.prototype._root_extra_style = function(el){\n",
       "    var fig = this\n",
       "    el.on(\"remove\", function(){\n",
       "\tfig.close_ws(fig, {});\n",
       "    });\n",
       "}\n",
       "\n",
       "mpl.figure.prototype._canvas_extra_style = function(el){\n",
       "    // this is important to make the div 'focusable\n",
       "    el.attr('tabindex', 0)\n",
       "    // reach out to IPython and tell the keyboard manager to turn it's self\n",
       "    // off when our div gets focus\n",
       "\n",
       "    // location in version 3\n",
       "    if (IPython.notebook.keyboard_manager) {\n",
       "        IPython.notebook.keyboard_manager.register_events(el);\n",
       "    }\n",
       "    else {\n",
       "        // location in version 2\n",
       "        IPython.keyboard_manager.register_events(el);\n",
       "    }\n",
       "\n",
       "}\n",
       "\n",
       "mpl.figure.prototype._key_event_extra = function(event, name) {\n",
       "    var manager = IPython.notebook.keyboard_manager;\n",
       "    if (!manager)\n",
       "        manager = IPython.keyboard_manager;\n",
       "\n",
       "    // Check for shift+enter\n",
       "    if (event.shiftKey && event.which == 13) {\n",
       "        this.canvas_div.blur();\n",
       "        event.shiftKey = false;\n",
       "        // Send a \"J\" for go to next cell\n",
       "        event.which = 74;\n",
       "        event.keyCode = 74;\n",
       "        manager.command_mode();\n",
       "        manager.handle_keydown(event);\n",
       "    }\n",
       "}\n",
       "\n",
       "mpl.figure.prototype.handle_save = function(fig, msg) {\n",
       "    fig.ondownload(fig, null);\n",
       "}\n",
       "\n",
       "\n",
       "mpl.find_output_cell = function(html_output) {\n",
       "    // Return the cell and output element which can be found *uniquely* in the notebook.\n",
       "    // Note - this is a bit hacky, but it is done because the \"notebook_saving.Notebook\"\n",
       "    // IPython event is triggered only after the cells have been serialised, which for\n",
       "    // our purposes (turning an active figure into a static one), is too late.\n",
       "    var cells = IPython.notebook.get_cells();\n",
       "    var ncells = cells.length;\n",
       "    for (var i=0; i<ncells; i++) {\n",
       "        var cell = cells[i];\n",
       "        if (cell.cell_type === 'code'){\n",
       "            for (var j=0; j<cell.output_area.outputs.length; j++) {\n",
       "                var data = cell.output_area.outputs[j];\n",
       "                if (data.data) {\n",
       "                    // IPython >= 3 moved mimebundle to data attribute of output\n",
       "                    data = data.data;\n",
       "                }\n",
       "                if (data['text/html'] == html_output) {\n",
       "                    return [cell, data, j];\n",
       "                }\n",
       "            }\n",
       "        }\n",
       "    }\n",
       "}\n",
       "\n",
       "// Register the function which deals with the matplotlib target/channel.\n",
       "// The kernel may be null if the page has been refreshed.\n",
       "if (IPython.notebook.kernel != null) {\n",
       "    IPython.notebook.kernel.comm_manager.register_target('matplotlib', mpl.mpl_figure_comm);\n",
       "}\n"
      ],
      "text/plain": [
       "<IPython.core.display.Javascript object>"
      ]
     },
     "metadata": {},
     "output_type": "display_data"
    },
    {
     "data": {
      "text/html": [
       "<img src=\"data:image/png;base64,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\" width=\"432\">"
      ],
      "text/plain": [
       "<IPython.core.display.HTML object>"
      ]
     },
     "metadata": {},
     "output_type": "display_data"
    },
    {
     "data": {
      "text/plain": [
       "[<matplotlib.lines.Line2D at 0x115f19cf8>]"
      ]
     },
     "execution_count": 25,
     "metadata": {},
     "output_type": "execute_result"
    }
   ],
   "source": [
    "X = np.load(way + \"No1.npy\")\n",
    "pylab.figure()\n",
    "pylab.plot(X[0],X[1])\n"
   ]
  },
  {
   "cell_type": "code",
   "execution_count": 24,
   "metadata": {},
   "outputs": [
    {
     "data": {
      "application/javascript": [
       "/* Put everything inside the global mpl namespace */\n",
       "window.mpl = {};\n",
       "\n",
       "\n",
       "mpl.get_websocket_type = function() {\n",
       "    if (typeof(WebSocket) !== 'undefined') {\n",
       "        return WebSocket;\n",
       "    } else if (typeof(MozWebSocket) !== 'undefined') {\n",
       "        return MozWebSocket;\n",
       "    } else {\n",
       "        alert('Your browser does not have WebSocket support.' +\n",
       "              'Please try Chrome, Safari or Firefox ≥ 6. ' +\n",
       "              'Firefox 4 and 5 are also supported but you ' +\n",
       "              'have to enable WebSockets in about:config.');\n",
       "    };\n",
       "}\n",
       "\n",
       "mpl.figure = function(figure_id, websocket, ondownload, parent_element) {\n",
       "    this.id = figure_id;\n",
       "\n",
       "    this.ws = websocket;\n",
       "\n",
       "    this.supports_binary = (this.ws.binaryType != undefined);\n",
       "\n",
       "    if (!this.supports_binary) {\n",
       "        var warnings = document.getElementById(\"mpl-warnings\");\n",
       "        if (warnings) {\n",
       "            warnings.style.display = 'block';\n",
       "            warnings.textContent = (\n",
       "                \"This browser does not support binary websocket messages. \" +\n",
       "                    \"Performance may be slow.\");\n",
       "        }\n",
       "    }\n",
       "\n",
       "    this.imageObj = new Image();\n",
       "\n",
       "    this.context = undefined;\n",
       "    this.message = undefined;\n",
       "    this.canvas = undefined;\n",
       "    this.rubberband_canvas = undefined;\n",
       "    this.rubberband_context = undefined;\n",
       "    this.format_dropdown = undefined;\n",
       "\n",
       "    this.image_mode = 'full';\n",
       "\n",
       "    this.root = $('<div/>');\n",
       "    this._root_extra_style(this.root)\n",
       "    this.root.attr('style', 'display: inline-block');\n",
       "\n",
       "    $(parent_element).append(this.root);\n",
       "\n",
       "    this._init_header(this);\n",
       "    this._init_canvas(this);\n",
       "    this._init_toolbar(this);\n",
       "\n",
       "    var fig = this;\n",
       "\n",
       "    this.waiting = false;\n",
       "\n",
       "    this.ws.onopen =  function () {\n",
       "            fig.send_message(\"supports_binary\", {value: fig.supports_binary});\n",
       "            fig.send_message(\"send_image_mode\", {});\n",
       "            if (mpl.ratio != 1) {\n",
       "                fig.send_message(\"set_dpi_ratio\", {'dpi_ratio': mpl.ratio});\n",
       "            }\n",
       "            fig.send_message(\"refresh\", {});\n",
       "        }\n",
       "\n",
       "    this.imageObj.onload = function() {\n",
       "            if (fig.image_mode == 'full') {\n",
       "                // Full images could contain transparency (where diff images\n",
       "                // almost always do), so we need to clear the canvas so that\n",
       "                // there is no ghosting.\n",
       "                fig.context.clearRect(0, 0, fig.canvas.width, fig.canvas.height);\n",
       "            }\n",
       "            fig.context.drawImage(fig.imageObj, 0, 0);\n",
       "        };\n",
       "\n",
       "    this.imageObj.onunload = function() {\n",
       "        fig.ws.close();\n",
       "    }\n",
       "\n",
       "    this.ws.onmessage = this._make_on_message_function(this);\n",
       "\n",
       "    this.ondownload = ondownload;\n",
       "}\n",
       "\n",
       "mpl.figure.prototype._init_header = function() {\n",
       "    var titlebar = $(\n",
       "        '<div class=\"ui-dialog-titlebar ui-widget-header ui-corner-all ' +\n",
       "        'ui-helper-clearfix\"/>');\n",
       "    var titletext = $(\n",
       "        '<div class=\"ui-dialog-title\" style=\"width: 100%; ' +\n",
       "        'text-align: center; padding: 3px;\"/>');\n",
       "    titlebar.append(titletext)\n",
       "    this.root.append(titlebar);\n",
       "    this.header = titletext[0];\n",
       "}\n",
       "\n",
       "\n",
       "\n",
       "mpl.figure.prototype._canvas_extra_style = function(canvas_div) {\n",
       "\n",
       "}\n",
       "\n",
       "\n",
       "mpl.figure.prototype._root_extra_style = function(canvas_div) {\n",
       "\n",
       "}\n",
       "\n",
       "mpl.figure.prototype._init_canvas = function() {\n",
       "    var fig = this;\n",
       "\n",
       "    var canvas_div = $('<div/>');\n",
       "\n",
       "    canvas_div.attr('style', 'position: relative; clear: both; outline: 0');\n",
       "\n",
       "    function canvas_keyboard_event(event) {\n",
       "        return fig.key_event(event, event['data']);\n",
       "    }\n",
       "\n",
       "    canvas_div.keydown('key_press', canvas_keyboard_event);\n",
       "    canvas_div.keyup('key_release', canvas_keyboard_event);\n",
       "    this.canvas_div = canvas_div\n",
       "    this._canvas_extra_style(canvas_div)\n",
       "    this.root.append(canvas_div);\n",
       "\n",
       "    var canvas = $('<canvas/>');\n",
       "    canvas.addClass('mpl-canvas');\n",
       "    canvas.attr('style', \"left: 0; top: 0; z-index: 0; outline: 0\")\n",
       "\n",
       "    this.canvas = canvas[0];\n",
       "    this.context = canvas[0].getContext(\"2d\");\n",
       "\n",
       "    var backingStore = this.context.backingStorePixelRatio ||\n",
       "\tthis.context.webkitBackingStorePixelRatio ||\n",
       "\tthis.context.mozBackingStorePixelRatio ||\n",
       "\tthis.context.msBackingStorePixelRatio ||\n",
       "\tthis.context.oBackingStorePixelRatio ||\n",
       "\tthis.context.backingStorePixelRatio || 1;\n",
       "\n",
       "    mpl.ratio = (window.devicePixelRatio || 1) / backingStore;\n",
       "\n",
       "    var rubberband = $('<canvas/>');\n",
       "    rubberband.attr('style', \"position: absolute; left: 0; top: 0; z-index: 1;\")\n",
       "\n",
       "    var pass_mouse_events = true;\n",
       "\n",
       "    canvas_div.resizable({\n",
       "        start: function(event, ui) {\n",
       "            pass_mouse_events = false;\n",
       "        },\n",
       "        resize: function(event, ui) {\n",
       "            fig.request_resize(ui.size.width, ui.size.height);\n",
       "        },\n",
       "        stop: function(event, ui) {\n",
       "            pass_mouse_events = true;\n",
       "            fig.request_resize(ui.size.width, ui.size.height);\n",
       "        },\n",
       "    });\n",
       "\n",
       "    function mouse_event_fn(event) {\n",
       "        if (pass_mouse_events)\n",
       "            return fig.mouse_event(event, event['data']);\n",
       "    }\n",
       "\n",
       "    rubberband.mousedown('button_press', mouse_event_fn);\n",
       "    rubberband.mouseup('button_release', mouse_event_fn);\n",
       "    // Throttle sequential mouse events to 1 every 20ms.\n",
       "    rubberband.mousemove('motion_notify', mouse_event_fn);\n",
       "\n",
       "    rubberband.mouseenter('figure_enter', mouse_event_fn);\n",
       "    rubberband.mouseleave('figure_leave', mouse_event_fn);\n",
       "\n",
       "    canvas_div.on(\"wheel\", function (event) {\n",
       "        event = event.originalEvent;\n",
       "        event['data'] = 'scroll'\n",
       "        if (event.deltaY < 0) {\n",
       "            event.step = 1;\n",
       "        } else {\n",
       "            event.step = -1;\n",
       "        }\n",
       "        mouse_event_fn(event);\n",
       "    });\n",
       "\n",
       "    canvas_div.append(canvas);\n",
       "    canvas_div.append(rubberband);\n",
       "\n",
       "    this.rubberband = rubberband;\n",
       "    this.rubberband_canvas = rubberband[0];\n",
       "    this.rubberband_context = rubberband[0].getContext(\"2d\");\n",
       "    this.rubberband_context.strokeStyle = \"#000000\";\n",
       "\n",
       "    this._resize_canvas = function(width, height) {\n",
       "        // Keep the size of the canvas, canvas container, and rubber band\n",
       "        // canvas in synch.\n",
       "        canvas_div.css('width', width)\n",
       "        canvas_div.css('height', height)\n",
       "\n",
       "        canvas.attr('width', width * mpl.ratio);\n",
       "        canvas.attr('height', height * mpl.ratio);\n",
       "        canvas.attr('style', 'width: ' + width + 'px; height: ' + height + 'px;');\n",
       "\n",
       "        rubberband.attr('width', width);\n",
       "        rubberband.attr('height', height);\n",
       "    }\n",
       "\n",
       "    // Set the figure to an initial 600x600px, this will subsequently be updated\n",
       "    // upon first draw.\n",
       "    this._resize_canvas(600, 600);\n",
       "\n",
       "    // Disable right mouse context menu.\n",
       "    $(this.rubberband_canvas).bind(\"contextmenu\",function(e){\n",
       "        return false;\n",
       "    });\n",
       "\n",
       "    function set_focus () {\n",
       "        canvas.focus();\n",
       "        canvas_div.focus();\n",
       "    }\n",
       "\n",
       "    window.setTimeout(set_focus, 100);\n",
       "}\n",
       "\n",
       "mpl.figure.prototype._init_toolbar = function() {\n",
       "    var fig = this;\n",
       "\n",
       "    var nav_element = $('<div/>')\n",
       "    nav_element.attr('style', 'width: 100%');\n",
       "    this.root.append(nav_element);\n",
       "\n",
       "    // Define a callback function for later on.\n",
       "    function toolbar_event(event) {\n",
       "        return fig.toolbar_button_onclick(event['data']);\n",
       "    }\n",
       "    function toolbar_mouse_event(event) {\n",
       "        return fig.toolbar_button_onmouseover(event['data']);\n",
       "    }\n",
       "\n",
       "    for(var toolbar_ind in mpl.toolbar_items) {\n",
       "        var name = mpl.toolbar_items[toolbar_ind][0];\n",
       "        var tooltip = mpl.toolbar_items[toolbar_ind][1];\n",
       "        var image = mpl.toolbar_items[toolbar_ind][2];\n",
       "        var method_name = mpl.toolbar_items[toolbar_ind][3];\n",
       "\n",
       "        if (!name) {\n",
       "            // put a spacer in here.\n",
       "            continue;\n",
       "        }\n",
       "        var button = $('<button/>');\n",
       "        button.addClass('ui-button ui-widget ui-state-default ui-corner-all ' +\n",
       "                        'ui-button-icon-only');\n",
       "        button.attr('role', 'button');\n",
       "        button.attr('aria-disabled', 'false');\n",
       "        button.click(method_name, toolbar_event);\n",
       "        button.mouseover(tooltip, toolbar_mouse_event);\n",
       "\n",
       "        var icon_img = $('<span/>');\n",
       "        icon_img.addClass('ui-button-icon-primary ui-icon');\n",
       "        icon_img.addClass(image);\n",
       "        icon_img.addClass('ui-corner-all');\n",
       "\n",
       "        var tooltip_span = $('<span/>');\n",
       "        tooltip_span.addClass('ui-button-text');\n",
       "        tooltip_span.html(tooltip);\n",
       "\n",
       "        button.append(icon_img);\n",
       "        button.append(tooltip_span);\n",
       "\n",
       "        nav_element.append(button);\n",
       "    }\n",
       "\n",
       "    var fmt_picker_span = $('<span/>');\n",
       "\n",
       "    var fmt_picker = $('<select/>');\n",
       "    fmt_picker.addClass('mpl-toolbar-option ui-widget ui-widget-content');\n",
       "    fmt_picker_span.append(fmt_picker);\n",
       "    nav_element.append(fmt_picker_span);\n",
       "    this.format_dropdown = fmt_picker[0];\n",
       "\n",
       "    for (var ind in mpl.extensions) {\n",
       "        var fmt = mpl.extensions[ind];\n",
       "        var option = $(\n",
       "            '<option/>', {selected: fmt === mpl.default_extension}).html(fmt);\n",
       "        fmt_picker.append(option)\n",
       "    }\n",
       "\n",
       "    // Add hover states to the ui-buttons\n",
       "    $( \".ui-button\" ).hover(\n",
       "        function() { $(this).addClass(\"ui-state-hover\");},\n",
       "        function() { $(this).removeClass(\"ui-state-hover\");}\n",
       "    );\n",
       "\n",
       "    var status_bar = $('<span class=\"mpl-message\"/>');\n",
       "    nav_element.append(status_bar);\n",
       "    this.message = status_bar[0];\n",
       "}\n",
       "\n",
       "mpl.figure.prototype.request_resize = function(x_pixels, y_pixels) {\n",
       "    // Request matplotlib to resize the figure. Matplotlib will then trigger a resize in the client,\n",
       "    // which will in turn request a refresh of the image.\n",
       "    this.send_message('resize', {'width': x_pixels, 'height': y_pixels});\n",
       "}\n",
       "\n",
       "mpl.figure.prototype.send_message = function(type, properties) {\n",
       "    properties['type'] = type;\n",
       "    properties['figure_id'] = this.id;\n",
       "    this.ws.send(JSON.stringify(properties));\n",
       "}\n",
       "\n",
       "mpl.figure.prototype.send_draw_message = function() {\n",
       "    if (!this.waiting) {\n",
       "        this.waiting = true;\n",
       "        this.ws.send(JSON.stringify({type: \"draw\", figure_id: this.id}));\n",
       "    }\n",
       "}\n",
       "\n",
       "\n",
       "mpl.figure.prototype.handle_save = function(fig, msg) {\n",
       "    var format_dropdown = fig.format_dropdown;\n",
       "    var format = format_dropdown.options[format_dropdown.selectedIndex].value;\n",
       "    fig.ondownload(fig, format);\n",
       "}\n",
       "\n",
       "\n",
       "mpl.figure.prototype.handle_resize = function(fig, msg) {\n",
       "    var size = msg['size'];\n",
       "    if (size[0] != fig.canvas.width || size[1] != fig.canvas.height) {\n",
       "        fig._resize_canvas(size[0], size[1]);\n",
       "        fig.send_message(\"refresh\", {});\n",
       "    };\n",
       "}\n",
       "\n",
       "mpl.figure.prototype.handle_rubberband = function(fig, msg) {\n",
       "    var x0 = msg['x0'] / mpl.ratio;\n",
       "    var y0 = (fig.canvas.height - msg['y0']) / mpl.ratio;\n",
       "    var x1 = msg['x1'] / mpl.ratio;\n",
       "    var y1 = (fig.canvas.height - msg['y1']) / mpl.ratio;\n",
       "    x0 = Math.floor(x0) + 0.5;\n",
       "    y0 = Math.floor(y0) + 0.5;\n",
       "    x1 = Math.floor(x1) + 0.5;\n",
       "    y1 = Math.floor(y1) + 0.5;\n",
       "    var min_x = Math.min(x0, x1);\n",
       "    var min_y = Math.min(y0, y1);\n",
       "    var width = Math.abs(x1 - x0);\n",
       "    var height = Math.abs(y1 - y0);\n",
       "\n",
       "    fig.rubberband_context.clearRect(\n",
       "        0, 0, fig.canvas.width, fig.canvas.height);\n",
       "\n",
       "    fig.rubberband_context.strokeRect(min_x, min_y, width, height);\n",
       "}\n",
       "\n",
       "mpl.figure.prototype.handle_figure_label = function(fig, msg) {\n",
       "    // Updates the figure title.\n",
       "    fig.header.textContent = msg['label'];\n",
       "}\n",
       "\n",
       "mpl.figure.prototype.handle_cursor = function(fig, msg) {\n",
       "    var cursor = msg['cursor'];\n",
       "    switch(cursor)\n",
       "    {\n",
       "    case 0:\n",
       "        cursor = 'pointer';\n",
       "        break;\n",
       "    case 1:\n",
       "        cursor = 'default';\n",
       "        break;\n",
       "    case 2:\n",
       "        cursor = 'crosshair';\n",
       "        break;\n",
       "    case 3:\n",
       "        cursor = 'move';\n",
       "        break;\n",
       "    }\n",
       "    fig.rubberband_canvas.style.cursor = cursor;\n",
       "}\n",
       "\n",
       "mpl.figure.prototype.handle_message = function(fig, msg) {\n",
       "    fig.message.textContent = msg['message'];\n",
       "}\n",
       "\n",
       "mpl.figure.prototype.handle_draw = function(fig, msg) {\n",
       "    // Request the server to send over a new figure.\n",
       "    fig.send_draw_message();\n",
       "}\n",
       "\n",
       "mpl.figure.prototype.handle_image_mode = function(fig, msg) {\n",
       "    fig.image_mode = msg['mode'];\n",
       "}\n",
       "\n",
       "mpl.figure.prototype.updated_canvas_event = function() {\n",
       "    // Called whenever the canvas gets updated.\n",
       "    this.send_message(\"ack\", {});\n",
       "}\n",
       "\n",
       "// A function to construct a web socket function for onmessage handling.\n",
       "// Called in the figure constructor.\n",
       "mpl.figure.prototype._make_on_message_function = function(fig) {\n",
       "    return function socket_on_message(evt) {\n",
       "        if (evt.data instanceof Blob) {\n",
       "            /* FIXME: We get \"Resource interpreted as Image but\n",
       "             * transferred with MIME type text/plain:\" errors on\n",
       "             * Chrome.  But how to set the MIME type?  It doesn't seem\n",
       "             * to be part of the websocket stream */\n",
       "            evt.data.type = \"image/png\";\n",
       "\n",
       "            /* Free the memory for the previous frames */\n",
       "            if (fig.imageObj.src) {\n",
       "                (window.URL || window.webkitURL).revokeObjectURL(\n",
       "                    fig.imageObj.src);\n",
       "            }\n",
       "\n",
       "            fig.imageObj.src = (window.URL || window.webkitURL).createObjectURL(\n",
       "                evt.data);\n",
       "            fig.updated_canvas_event();\n",
       "            fig.waiting = false;\n",
       "            return;\n",
       "        }\n",
       "        else if (typeof evt.data === 'string' && evt.data.slice(0, 21) == \"data:image/png;base64\") {\n",
       "            fig.imageObj.src = evt.data;\n",
       "            fig.updated_canvas_event();\n",
       "            fig.waiting = false;\n",
       "            return;\n",
       "        }\n",
       "\n",
       "        var msg = JSON.parse(evt.data);\n",
       "        var msg_type = msg['type'];\n",
       "\n",
       "        // Call the  \"handle_{type}\" callback, which takes\n",
       "        // the figure and JSON message as its only arguments.\n",
       "        try {\n",
       "            var callback = fig[\"handle_\" + msg_type];\n",
       "        } catch (e) {\n",
       "            console.log(\"No handler for the '\" + msg_type + \"' message type: \", msg);\n",
       "            return;\n",
       "        }\n",
       "\n",
       "        if (callback) {\n",
       "            try {\n",
       "                // console.log(\"Handling '\" + msg_type + \"' message: \", msg);\n",
       "                callback(fig, msg);\n",
       "            } catch (e) {\n",
       "                console.log(\"Exception inside the 'handler_\" + msg_type + \"' callback:\", e, e.stack, msg);\n",
       "            }\n",
       "        }\n",
       "    };\n",
       "}\n",
       "\n",
       "// from http://stackoverflow.com/questions/1114465/getting-mouse-location-in-canvas\n",
       "mpl.findpos = function(e) {\n",
       "    //this section is from http://www.quirksmode.org/js/events_properties.html\n",
       "    var targ;\n",
       "    if (!e)\n",
       "        e = window.event;\n",
       "    if (e.target)\n",
       "        targ = e.target;\n",
       "    else if (e.srcElement)\n",
       "        targ = e.srcElement;\n",
       "    if (targ.nodeType == 3) // defeat Safari bug\n",
       "        targ = targ.parentNode;\n",
       "\n",
       "    // jQuery normalizes the pageX and pageY\n",
       "    // pageX,Y are the mouse positions relative to the document\n",
       "    // offset() returns the position of the element relative to the document\n",
       "    var x = e.pageX - $(targ).offset().left;\n",
       "    var y = e.pageY - $(targ).offset().top;\n",
       "\n",
       "    return {\"x\": x, \"y\": y};\n",
       "};\n",
       "\n",
       "/*\n",
       " * return a copy of an object with only non-object keys\n",
       " * we need this to avoid circular references\n",
       " * http://stackoverflow.com/a/24161582/3208463\n",
       " */\n",
       "function simpleKeys (original) {\n",
       "  return Object.keys(original).reduce(function (obj, key) {\n",
       "    if (typeof original[key] !== 'object')\n",
       "        obj[key] = original[key]\n",
       "    return obj;\n",
       "  }, {});\n",
       "}\n",
       "\n",
       "mpl.figure.prototype.mouse_event = function(event, name) {\n",
       "    var canvas_pos = mpl.findpos(event)\n",
       "\n",
       "    if (name === 'button_press')\n",
       "    {\n",
       "        this.canvas.focus();\n",
       "        this.canvas_div.focus();\n",
       "    }\n",
       "\n",
       "    var x = canvas_pos.x * mpl.ratio;\n",
       "    var y = canvas_pos.y * mpl.ratio;\n",
       "\n",
       "    this.send_message(name, {x: x, y: y, button: event.button,\n",
       "                             step: event.step,\n",
       "                             guiEvent: simpleKeys(event)});\n",
       "\n",
       "    /* This prevents the web browser from automatically changing to\n",
       "     * the text insertion cursor when the button is pressed.  We want\n",
       "     * to control all of the cursor setting manually through the\n",
       "     * 'cursor' event from matplotlib */\n",
       "    event.preventDefault();\n",
       "    return false;\n",
       "}\n",
       "\n",
       "mpl.figure.prototype._key_event_extra = function(event, name) {\n",
       "    // Handle any extra behaviour associated with a key event\n",
       "}\n",
       "\n",
       "mpl.figure.prototype.key_event = function(event, name) {\n",
       "\n",
       "    // Prevent repeat events\n",
       "    if (name == 'key_press')\n",
       "    {\n",
       "        if (event.which === this._key)\n",
       "            return;\n",
       "        else\n",
       "            this._key = event.which;\n",
       "    }\n",
       "    if (name == 'key_release')\n",
       "        this._key = null;\n",
       "\n",
       "    var value = '';\n",
       "    if (event.ctrlKey && event.which != 17)\n",
       "        value += \"ctrl+\";\n",
       "    if (event.altKey && event.which != 18)\n",
       "        value += \"alt+\";\n",
       "    if (event.shiftKey && event.which != 16)\n",
       "        value += \"shift+\";\n",
       "\n",
       "    value += 'k';\n",
       "    value += event.which.toString();\n",
       "\n",
       "    this._key_event_extra(event, name);\n",
       "\n",
       "    this.send_message(name, {key: value,\n",
       "                             guiEvent: simpleKeys(event)});\n",
       "    return false;\n",
       "}\n",
       "\n",
       "mpl.figure.prototype.toolbar_button_onclick = function(name) {\n",
       "    if (name == 'download') {\n",
       "        this.handle_save(this, null);\n",
       "    } else {\n",
       "        this.send_message(\"toolbar_button\", {name: name});\n",
       "    }\n",
       "};\n",
       "\n",
       "mpl.figure.prototype.toolbar_button_onmouseover = function(tooltip) {\n",
       "    this.message.textContent = tooltip;\n",
       "};\n",
       "mpl.toolbar_items = [[\"Home\", \"Reset original view\", \"fa fa-home icon-home\", \"home\"], [\"Back\", \"Back to  previous view\", \"fa fa-arrow-left icon-arrow-left\", \"back\"], [\"Forward\", \"Forward to next view\", \"fa fa-arrow-right icon-arrow-right\", \"forward\"], [\"\", \"\", \"\", \"\"], [\"Pan\", \"Pan axes with left mouse, zoom with right\", \"fa fa-arrows icon-move\", \"pan\"], [\"Zoom\", \"Zoom to rectangle\", \"fa fa-square-o icon-check-empty\", \"zoom\"], [\"\", \"\", \"\", \"\"], [\"Download\", \"Download plot\", \"fa fa-floppy-o icon-save\", \"download\"]];\n",
       "\n",
       "mpl.extensions = [\"eps\", \"jpeg\", \"pdf\", \"png\", \"ps\", \"raw\", \"svg\", \"tif\"];\n",
       "\n",
       "mpl.default_extension = \"png\";var comm_websocket_adapter = function(comm) {\n",
       "    // Create a \"websocket\"-like object which calls the given IPython comm\n",
       "    // object with the appropriate methods. Currently this is a non binary\n",
       "    // socket, so there is still some room for performance tuning.\n",
       "    var ws = {};\n",
       "\n",
       "    ws.close = function() {\n",
       "        comm.close()\n",
       "    };\n",
       "    ws.send = function(m) {\n",
       "        //console.log('sending', m);\n",
       "        comm.send(m);\n",
       "    };\n",
       "    // Register the callback with on_msg.\n",
       "    comm.on_msg(function(msg) {\n",
       "        //console.log('receiving', msg['content']['data'], msg);\n",
       "        // Pass the mpl event to the overriden (by mpl) onmessage function.\n",
       "        ws.onmessage(msg['content']['data'])\n",
       "    });\n",
       "    return ws;\n",
       "}\n",
       "\n",
       "mpl.mpl_figure_comm = function(comm, msg) {\n",
       "    // This is the function which gets called when the mpl process\n",
       "    // starts-up an IPython Comm through the \"matplotlib\" channel.\n",
       "\n",
       "    var id = msg.content.data.id;\n",
       "    // Get hold of the div created by the display call when the Comm\n",
       "    // socket was opened in Python.\n",
       "    var element = $(\"#\" + id);\n",
       "    var ws_proxy = comm_websocket_adapter(comm)\n",
       "\n",
       "    function ondownload(figure, format) {\n",
       "        window.open(figure.imageObj.src);\n",
       "    }\n",
       "\n",
       "    var fig = new mpl.figure(id, ws_proxy,\n",
       "                           ondownload,\n",
       "                           element.get(0));\n",
       "\n",
       "    // Call onopen now - mpl needs it, as it is assuming we've passed it a real\n",
       "    // web socket which is closed, not our websocket->open comm proxy.\n",
       "    ws_proxy.onopen();\n",
       "\n",
       "    fig.parent_element = element.get(0);\n",
       "    fig.cell_info = mpl.find_output_cell(\"<div id='\" + id + \"'></div>\");\n",
       "    if (!fig.cell_info) {\n",
       "        console.error(\"Failed to find cell for figure\", id, fig);\n",
       "        return;\n",
       "    }\n",
       "\n",
       "    var output_index = fig.cell_info[2]\n",
       "    var cell = fig.cell_info[0];\n",
       "\n",
       "};\n",
       "\n",
       "mpl.figure.prototype.handle_close = function(fig, msg) {\n",
       "    var width = fig.canvas.width/mpl.ratio\n",
       "    fig.root.unbind('remove')\n",
       "\n",
       "    // Update the output cell to use the data from the current canvas.\n",
       "    fig.push_to_output();\n",
       "    var dataURL = fig.canvas.toDataURL();\n",
       "    // Re-enable the keyboard manager in IPython - without this line, in FF,\n",
       "    // the notebook keyboard shortcuts fail.\n",
       "    IPython.keyboard_manager.enable()\n",
       "    $(fig.parent_element).html('<img src=\"' + dataURL + '\" width=\"' + width + '\">');\n",
       "    fig.close_ws(fig, msg);\n",
       "}\n",
       "\n",
       "mpl.figure.prototype.close_ws = function(fig, msg){\n",
       "    fig.send_message('closing', msg);\n",
       "    // fig.ws.close()\n",
       "}\n",
       "\n",
       "mpl.figure.prototype.push_to_output = function(remove_interactive) {\n",
       "    // Turn the data on the canvas into data in the output cell.\n",
       "    var width = this.canvas.width/mpl.ratio\n",
       "    var dataURL = this.canvas.toDataURL();\n",
       "    this.cell_info[1]['text/html'] = '<img src=\"' + dataURL + '\" width=\"' + width + '\">';\n",
       "}\n",
       "\n",
       "mpl.figure.prototype.updated_canvas_event = function() {\n",
       "    // Tell IPython that the notebook contents must change.\n",
       "    IPython.notebook.set_dirty(true);\n",
       "    this.send_message(\"ack\", {});\n",
       "    var fig = this;\n",
       "    // Wait a second, then push the new image to the DOM so\n",
       "    // that it is saved nicely (might be nice to debounce this).\n",
       "    setTimeout(function () { fig.push_to_output() }, 1000);\n",
       "}\n",
       "\n",
       "mpl.figure.prototype._init_toolbar = function() {\n",
       "    var fig = this;\n",
       "\n",
       "    var nav_element = $('<div/>')\n",
       "    nav_element.attr('style', 'width: 100%');\n",
       "    this.root.append(nav_element);\n",
       "\n",
       "    // Define a callback function for later on.\n",
       "    function toolbar_event(event) {\n",
       "        return fig.toolbar_button_onclick(event['data']);\n",
       "    }\n",
       "    function toolbar_mouse_event(event) {\n",
       "        return fig.toolbar_button_onmouseover(event['data']);\n",
       "    }\n",
       "\n",
       "    for(var toolbar_ind in mpl.toolbar_items){\n",
       "        var name = mpl.toolbar_items[toolbar_ind][0];\n",
       "        var tooltip = mpl.toolbar_items[toolbar_ind][1];\n",
       "        var image = mpl.toolbar_items[toolbar_ind][2];\n",
       "        var method_name = mpl.toolbar_items[toolbar_ind][3];\n",
       "\n",
       "        if (!name) { continue; };\n",
       "\n",
       "        var button = $('<button class=\"btn btn-default\" href=\"#\" title=\"' + name + '\"><i class=\"fa ' + image + ' fa-lg\"></i></button>');\n",
       "        button.click(method_name, toolbar_event);\n",
       "        button.mouseover(tooltip, toolbar_mouse_event);\n",
       "        nav_element.append(button);\n",
       "    }\n",
       "\n",
       "    // Add the status bar.\n",
       "    var status_bar = $('<span class=\"mpl-message\" style=\"text-align:right; float: right;\"/>');\n",
       "    nav_element.append(status_bar);\n",
       "    this.message = status_bar[0];\n",
       "\n",
       "    // Add the close button to the window.\n",
       "    var buttongrp = $('<div class=\"btn-group inline pull-right\"></div>');\n",
       "    var button = $('<button class=\"btn btn-mini btn-primary\" href=\"#\" title=\"Stop Interaction\"><i class=\"fa fa-power-off icon-remove icon-large\"></i></button>');\n",
       "    button.click(function (evt) { fig.handle_close(fig, {}); } );\n",
       "    button.mouseover('Stop Interaction', toolbar_mouse_event);\n",
       "    buttongrp.append(button);\n",
       "    var titlebar = this.root.find($('.ui-dialog-titlebar'));\n",
       "    titlebar.prepend(buttongrp);\n",
       "}\n",
       "\n",
       "mpl.figure.prototype._root_extra_style = function(el){\n",
       "    var fig = this\n",
       "    el.on(\"remove\", function(){\n",
       "\tfig.close_ws(fig, {});\n",
       "    });\n",
       "}\n",
       "\n",
       "mpl.figure.prototype._canvas_extra_style = function(el){\n",
       "    // this is important to make the div 'focusable\n",
       "    el.attr('tabindex', 0)\n",
       "    // reach out to IPython and tell the keyboard manager to turn it's self\n",
       "    // off when our div gets focus\n",
       "\n",
       "    // location in version 3\n",
       "    if (IPython.notebook.keyboard_manager) {\n",
       "        IPython.notebook.keyboard_manager.register_events(el);\n",
       "    }\n",
       "    else {\n",
       "        // location in version 2\n",
       "        IPython.keyboard_manager.register_events(el);\n",
       "    }\n",
       "\n",
       "}\n",
       "\n",
       "mpl.figure.prototype._key_event_extra = function(event, name) {\n",
       "    var manager = IPython.notebook.keyboard_manager;\n",
       "    if (!manager)\n",
       "        manager = IPython.keyboard_manager;\n",
       "\n",
       "    // Check for shift+enter\n",
       "    if (event.shiftKey && event.which == 13) {\n",
       "        this.canvas_div.blur();\n",
       "        event.shiftKey = false;\n",
       "        // Send a \"J\" for go to next cell\n",
       "        event.which = 74;\n",
       "        event.keyCode = 74;\n",
       "        manager.command_mode();\n",
       "        manager.handle_keydown(event);\n",
       "    }\n",
       "}\n",
       "\n",
       "mpl.figure.prototype.handle_save = function(fig, msg) {\n",
       "    fig.ondownload(fig, null);\n",
       "}\n",
       "\n",
       "\n",
       "mpl.find_output_cell = function(html_output) {\n",
       "    // Return the cell and output element which can be found *uniquely* in the notebook.\n",
       "    // Note - this is a bit hacky, but it is done because the \"notebook_saving.Notebook\"\n",
       "    // IPython event is triggered only after the cells have been serialised, which for\n",
       "    // our purposes (turning an active figure into a static one), is too late.\n",
       "    var cells = IPython.notebook.get_cells();\n",
       "    var ncells = cells.length;\n",
       "    for (var i=0; i<ncells; i++) {\n",
       "        var cell = cells[i];\n",
       "        if (cell.cell_type === 'code'){\n",
       "            for (var j=0; j<cell.output_area.outputs.length; j++) {\n",
       "                var data = cell.output_area.outputs[j];\n",
       "                if (data.data) {\n",
       "                    // IPython >= 3 moved mimebundle to data attribute of output\n",
       "                    data = data.data;\n",
       "                }\n",
       "                if (data['text/html'] == html_output) {\n",
       "                    return [cell, data, j];\n",
       "                }\n",
       "            }\n",
       "        }\n",
       "    }\n",
       "}\n",
       "\n",
       "// Register the function which deals with the matplotlib target/channel.\n",
       "// The kernel may be null if the page has been refreshed.\n",
       "if (IPython.notebook.kernel != null) {\n",
       "    IPython.notebook.kernel.comm_manager.register_target('matplotlib', mpl.mpl_figure_comm);\n",
       "}\n"
      ],
      "text/plain": [
       "<IPython.core.display.Javascript object>"
      ]
     },
     "metadata": {},
     "output_type": "display_data"
    },
    {
     "data": {
      "text/html": [
       "<img src=\"data:image/png;base64,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\" width=\"645\">"
      ],
      "text/plain": [
       "<IPython.core.display.HTML object>"
      ]
     },
     "metadata": {},
     "output_type": "display_data"
    },
    {
     "data": {
      "text/plain": [
       "[<matplotlib.lines.Line2D at 0x1161931d0>]"
      ]
     },
     "execution_count": 24,
     "metadata": {},
     "output_type": "execute_result"
    }
   ],
   "source": [
    "X = np.load(way + \"No2.npy\")\n",
    "pylab.figure()\n",
    "pylab.plot(X[0],X[1])"
   ]
  },
  {
   "cell_type": "code",
   "execution_count": 26,
   "metadata": {},
   "outputs": [
    {
     "data": {
      "application/javascript": [
       "/* Put everything inside the global mpl namespace */\n",
       "window.mpl = {};\n",
       "\n",
       "\n",
       "mpl.get_websocket_type = function() {\n",
       "    if (typeof(WebSocket) !== 'undefined') {\n",
       "        return WebSocket;\n",
       "    } else if (typeof(MozWebSocket) !== 'undefined') {\n",
       "        return MozWebSocket;\n",
       "    } else {\n",
       "        alert('Your browser does not have WebSocket support.' +\n",
       "              'Please try Chrome, Safari or Firefox ≥ 6. ' +\n",
       "              'Firefox 4 and 5 are also supported but you ' +\n",
       "              'have to enable WebSockets in about:config.');\n",
       "    };\n",
       "}\n",
       "\n",
       "mpl.figure = function(figure_id, websocket, ondownload, parent_element) {\n",
       "    this.id = figure_id;\n",
       "\n",
       "    this.ws = websocket;\n",
       "\n",
       "    this.supports_binary = (this.ws.binaryType != undefined);\n",
       "\n",
       "    if (!this.supports_binary) {\n",
       "        var warnings = document.getElementById(\"mpl-warnings\");\n",
       "        if (warnings) {\n",
       "            warnings.style.display = 'block';\n",
       "            warnings.textContent = (\n",
       "                \"This browser does not support binary websocket messages. \" +\n",
       "                    \"Performance may be slow.\");\n",
       "        }\n",
       "    }\n",
       "\n",
       "    this.imageObj = new Image();\n",
       "\n",
       "    this.context = undefined;\n",
       "    this.message = undefined;\n",
       "    this.canvas = undefined;\n",
       "    this.rubberband_canvas = undefined;\n",
       "    this.rubberband_context = undefined;\n",
       "    this.format_dropdown = undefined;\n",
       "\n",
       "    this.image_mode = 'full';\n",
       "\n",
       "    this.root = $('<div/>');\n",
       "    this._root_extra_style(this.root)\n",
       "    this.root.attr('style', 'display: inline-block');\n",
       "\n",
       "    $(parent_element).append(this.root);\n",
       "\n",
       "    this._init_header(this);\n",
       "    this._init_canvas(this);\n",
       "    this._init_toolbar(this);\n",
       "\n",
       "    var fig = this;\n",
       "\n",
       "    this.waiting = false;\n",
       "\n",
       "    this.ws.onopen =  function () {\n",
       "            fig.send_message(\"supports_binary\", {value: fig.supports_binary});\n",
       "            fig.send_message(\"send_image_mode\", {});\n",
       "            if (mpl.ratio != 1) {\n",
       "                fig.send_message(\"set_dpi_ratio\", {'dpi_ratio': mpl.ratio});\n",
       "            }\n",
       "            fig.send_message(\"refresh\", {});\n",
       "        }\n",
       "\n",
       "    this.imageObj.onload = function() {\n",
       "            if (fig.image_mode == 'full') {\n",
       "                // Full images could contain transparency (where diff images\n",
       "                // almost always do), so we need to clear the canvas so that\n",
       "                // there is no ghosting.\n",
       "                fig.context.clearRect(0, 0, fig.canvas.width, fig.canvas.height);\n",
       "            }\n",
       "            fig.context.drawImage(fig.imageObj, 0, 0);\n",
       "        };\n",
       "\n",
       "    this.imageObj.onunload = function() {\n",
       "        fig.ws.close();\n",
       "    }\n",
       "\n",
       "    this.ws.onmessage = this._make_on_message_function(this);\n",
       "\n",
       "    this.ondownload = ondownload;\n",
       "}\n",
       "\n",
       "mpl.figure.prototype._init_header = function() {\n",
       "    var titlebar = $(\n",
       "        '<div class=\"ui-dialog-titlebar ui-widget-header ui-corner-all ' +\n",
       "        'ui-helper-clearfix\"/>');\n",
       "    var titletext = $(\n",
       "        '<div class=\"ui-dialog-title\" style=\"width: 100%; ' +\n",
       "        'text-align: center; padding: 3px;\"/>');\n",
       "    titlebar.append(titletext)\n",
       "    this.root.append(titlebar);\n",
       "    this.header = titletext[0];\n",
       "}\n",
       "\n",
       "\n",
       "\n",
       "mpl.figure.prototype._canvas_extra_style = function(canvas_div) {\n",
       "\n",
       "}\n",
       "\n",
       "\n",
       "mpl.figure.prototype._root_extra_style = function(canvas_div) {\n",
       "\n",
       "}\n",
       "\n",
       "mpl.figure.prototype._init_canvas = function() {\n",
       "    var fig = this;\n",
       "\n",
       "    var canvas_div = $('<div/>');\n",
       "\n",
       "    canvas_div.attr('style', 'position: relative; clear: both; outline: 0');\n",
       "\n",
       "    function canvas_keyboard_event(event) {\n",
       "        return fig.key_event(event, event['data']);\n",
       "    }\n",
       "\n",
       "    canvas_div.keydown('key_press', canvas_keyboard_event);\n",
       "    canvas_div.keyup('key_release', canvas_keyboard_event);\n",
       "    this.canvas_div = canvas_div\n",
       "    this._canvas_extra_style(canvas_div)\n",
       "    this.root.append(canvas_div);\n",
       "\n",
       "    var canvas = $('<canvas/>');\n",
       "    canvas.addClass('mpl-canvas');\n",
       "    canvas.attr('style', \"left: 0; top: 0; z-index: 0; outline: 0\")\n",
       "\n",
       "    this.canvas = canvas[0];\n",
       "    this.context = canvas[0].getContext(\"2d\");\n",
       "\n",
       "    var backingStore = this.context.backingStorePixelRatio ||\n",
       "\tthis.context.webkitBackingStorePixelRatio ||\n",
       "\tthis.context.mozBackingStorePixelRatio ||\n",
       "\tthis.context.msBackingStorePixelRatio ||\n",
       "\tthis.context.oBackingStorePixelRatio ||\n",
       "\tthis.context.backingStorePixelRatio || 1;\n",
       "\n",
       "    mpl.ratio = (window.devicePixelRatio || 1) / backingStore;\n",
       "\n",
       "    var rubberband = $('<canvas/>');\n",
       "    rubberband.attr('style', \"position: absolute; left: 0; top: 0; z-index: 1;\")\n",
       "\n",
       "    var pass_mouse_events = true;\n",
       "\n",
       "    canvas_div.resizable({\n",
       "        start: function(event, ui) {\n",
       "            pass_mouse_events = false;\n",
       "        },\n",
       "        resize: function(event, ui) {\n",
       "            fig.request_resize(ui.size.width, ui.size.height);\n",
       "        },\n",
       "        stop: function(event, ui) {\n",
       "            pass_mouse_events = true;\n",
       "            fig.request_resize(ui.size.width, ui.size.height);\n",
       "        },\n",
       "    });\n",
       "\n",
       "    function mouse_event_fn(event) {\n",
       "        if (pass_mouse_events)\n",
       "            return fig.mouse_event(event, event['data']);\n",
       "    }\n",
       "\n",
       "    rubberband.mousedown('button_press', mouse_event_fn);\n",
       "    rubberband.mouseup('button_release', mouse_event_fn);\n",
       "    // Throttle sequential mouse events to 1 every 20ms.\n",
       "    rubberband.mousemove('motion_notify', mouse_event_fn);\n",
       "\n",
       "    rubberband.mouseenter('figure_enter', mouse_event_fn);\n",
       "    rubberband.mouseleave('figure_leave', mouse_event_fn);\n",
       "\n",
       "    canvas_div.on(\"wheel\", function (event) {\n",
       "        event = event.originalEvent;\n",
       "        event['data'] = 'scroll'\n",
       "        if (event.deltaY < 0) {\n",
       "            event.step = 1;\n",
       "        } else {\n",
       "            event.step = -1;\n",
       "        }\n",
       "        mouse_event_fn(event);\n",
       "    });\n",
       "\n",
       "    canvas_div.append(canvas);\n",
       "    canvas_div.append(rubberband);\n",
       "\n",
       "    this.rubberband = rubberband;\n",
       "    this.rubberband_canvas = rubberband[0];\n",
       "    this.rubberband_context = rubberband[0].getContext(\"2d\");\n",
       "    this.rubberband_context.strokeStyle = \"#000000\";\n",
       "\n",
       "    this._resize_canvas = function(width, height) {\n",
       "        // Keep the size of the canvas, canvas container, and rubber band\n",
       "        // canvas in synch.\n",
       "        canvas_div.css('width', width)\n",
       "        canvas_div.css('height', height)\n",
       "\n",
       "        canvas.attr('width', width * mpl.ratio);\n",
       "        canvas.attr('height', height * mpl.ratio);\n",
       "        canvas.attr('style', 'width: ' + width + 'px; height: ' + height + 'px;');\n",
       "\n",
       "        rubberband.attr('width', width);\n",
       "        rubberband.attr('height', height);\n",
       "    }\n",
       "\n",
       "    // Set the figure to an initial 600x600px, this will subsequently be updated\n",
       "    // upon first draw.\n",
       "    this._resize_canvas(600, 600);\n",
       "\n",
       "    // Disable right mouse context menu.\n",
       "    $(this.rubberband_canvas).bind(\"contextmenu\",function(e){\n",
       "        return false;\n",
       "    });\n",
       "\n",
       "    function set_focus () {\n",
       "        canvas.focus();\n",
       "        canvas_div.focus();\n",
       "    }\n",
       "\n",
       "    window.setTimeout(set_focus, 100);\n",
       "}\n",
       "\n",
       "mpl.figure.prototype._init_toolbar = function() {\n",
       "    var fig = this;\n",
       "\n",
       "    var nav_element = $('<div/>')\n",
       "    nav_element.attr('style', 'width: 100%');\n",
       "    this.root.append(nav_element);\n",
       "\n",
       "    // Define a callback function for later on.\n",
       "    function toolbar_event(event) {\n",
       "        return fig.toolbar_button_onclick(event['data']);\n",
       "    }\n",
       "    function toolbar_mouse_event(event) {\n",
       "        return fig.toolbar_button_onmouseover(event['data']);\n",
       "    }\n",
       "\n",
       "    for(var toolbar_ind in mpl.toolbar_items) {\n",
       "        var name = mpl.toolbar_items[toolbar_ind][0];\n",
       "        var tooltip = mpl.toolbar_items[toolbar_ind][1];\n",
       "        var image = mpl.toolbar_items[toolbar_ind][2];\n",
       "        var method_name = mpl.toolbar_items[toolbar_ind][3];\n",
       "\n",
       "        if (!name) {\n",
       "            // put a spacer in here.\n",
       "            continue;\n",
       "        }\n",
       "        var button = $('<button/>');\n",
       "        button.addClass('ui-button ui-widget ui-state-default ui-corner-all ' +\n",
       "                        'ui-button-icon-only');\n",
       "        button.attr('role', 'button');\n",
       "        button.attr('aria-disabled', 'false');\n",
       "        button.click(method_name, toolbar_event);\n",
       "        button.mouseover(tooltip, toolbar_mouse_event);\n",
       "\n",
       "        var icon_img = $('<span/>');\n",
       "        icon_img.addClass('ui-button-icon-primary ui-icon');\n",
       "        icon_img.addClass(image);\n",
       "        icon_img.addClass('ui-corner-all');\n",
       "\n",
       "        var tooltip_span = $('<span/>');\n",
       "        tooltip_span.addClass('ui-button-text');\n",
       "        tooltip_span.html(tooltip);\n",
       "\n",
       "        button.append(icon_img);\n",
       "        button.append(tooltip_span);\n",
       "\n",
       "        nav_element.append(button);\n",
       "    }\n",
       "\n",
       "    var fmt_picker_span = $('<span/>');\n",
       "\n",
       "    var fmt_picker = $('<select/>');\n",
       "    fmt_picker.addClass('mpl-toolbar-option ui-widget ui-widget-content');\n",
       "    fmt_picker_span.append(fmt_picker);\n",
       "    nav_element.append(fmt_picker_span);\n",
       "    this.format_dropdown = fmt_picker[0];\n",
       "\n",
       "    for (var ind in mpl.extensions) {\n",
       "        var fmt = mpl.extensions[ind];\n",
       "        var option = $(\n",
       "            '<option/>', {selected: fmt === mpl.default_extension}).html(fmt);\n",
       "        fmt_picker.append(option)\n",
       "    }\n",
       "\n",
       "    // Add hover states to the ui-buttons\n",
       "    $( \".ui-button\" ).hover(\n",
       "        function() { $(this).addClass(\"ui-state-hover\");},\n",
       "        function() { $(this).removeClass(\"ui-state-hover\");}\n",
       "    );\n",
       "\n",
       "    var status_bar = $('<span class=\"mpl-message\"/>');\n",
       "    nav_element.append(status_bar);\n",
       "    this.message = status_bar[0];\n",
       "}\n",
       "\n",
       "mpl.figure.prototype.request_resize = function(x_pixels, y_pixels) {\n",
       "    // Request matplotlib to resize the figure. Matplotlib will then trigger a resize in the client,\n",
       "    // which will in turn request a refresh of the image.\n",
       "    this.send_message('resize', {'width': x_pixels, 'height': y_pixels});\n",
       "}\n",
       "\n",
       "mpl.figure.prototype.send_message = function(type, properties) {\n",
       "    properties['type'] = type;\n",
       "    properties['figure_id'] = this.id;\n",
       "    this.ws.send(JSON.stringify(properties));\n",
       "}\n",
       "\n",
       "mpl.figure.prototype.send_draw_message = function() {\n",
       "    if (!this.waiting) {\n",
       "        this.waiting = true;\n",
       "        this.ws.send(JSON.stringify({type: \"draw\", figure_id: this.id}));\n",
       "    }\n",
       "}\n",
       "\n",
       "\n",
       "mpl.figure.prototype.handle_save = function(fig, msg) {\n",
       "    var format_dropdown = fig.format_dropdown;\n",
       "    var format = format_dropdown.options[format_dropdown.selectedIndex].value;\n",
       "    fig.ondownload(fig, format);\n",
       "}\n",
       "\n",
       "\n",
       "mpl.figure.prototype.handle_resize = function(fig, msg) {\n",
       "    var size = msg['size'];\n",
       "    if (size[0] != fig.canvas.width || size[1] != fig.canvas.height) {\n",
       "        fig._resize_canvas(size[0], size[1]);\n",
       "        fig.send_message(\"refresh\", {});\n",
       "    };\n",
       "}\n",
       "\n",
       "mpl.figure.prototype.handle_rubberband = function(fig, msg) {\n",
       "    var x0 = msg['x0'] / mpl.ratio;\n",
       "    var y0 = (fig.canvas.height - msg['y0']) / mpl.ratio;\n",
       "    var x1 = msg['x1'] / mpl.ratio;\n",
       "    var y1 = (fig.canvas.height - msg['y1']) / mpl.ratio;\n",
       "    x0 = Math.floor(x0) + 0.5;\n",
       "    y0 = Math.floor(y0) + 0.5;\n",
       "    x1 = Math.floor(x1) + 0.5;\n",
       "    y1 = Math.floor(y1) + 0.5;\n",
       "    var min_x = Math.min(x0, x1);\n",
       "    var min_y = Math.min(y0, y1);\n",
       "    var width = Math.abs(x1 - x0);\n",
       "    var height = Math.abs(y1 - y0);\n",
       "\n",
       "    fig.rubberband_context.clearRect(\n",
       "        0, 0, fig.canvas.width, fig.canvas.height);\n",
       "\n",
       "    fig.rubberband_context.strokeRect(min_x, min_y, width, height);\n",
       "}\n",
       "\n",
       "mpl.figure.prototype.handle_figure_label = function(fig, msg) {\n",
       "    // Updates the figure title.\n",
       "    fig.header.textContent = msg['label'];\n",
       "}\n",
       "\n",
       "mpl.figure.prototype.handle_cursor = function(fig, msg) {\n",
       "    var cursor = msg['cursor'];\n",
       "    switch(cursor)\n",
       "    {\n",
       "    case 0:\n",
       "        cursor = 'pointer';\n",
       "        break;\n",
       "    case 1:\n",
       "        cursor = 'default';\n",
       "        break;\n",
       "    case 2:\n",
       "        cursor = 'crosshair';\n",
       "        break;\n",
       "    case 3:\n",
       "        cursor = 'move';\n",
       "        break;\n",
       "    }\n",
       "    fig.rubberband_canvas.style.cursor = cursor;\n",
       "}\n",
       "\n",
       "mpl.figure.prototype.handle_message = function(fig, msg) {\n",
       "    fig.message.textContent = msg['message'];\n",
       "}\n",
       "\n",
       "mpl.figure.prototype.handle_draw = function(fig, msg) {\n",
       "    // Request the server to send over a new figure.\n",
       "    fig.send_draw_message();\n",
       "}\n",
       "\n",
       "mpl.figure.prototype.handle_image_mode = function(fig, msg) {\n",
       "    fig.image_mode = msg['mode'];\n",
       "}\n",
       "\n",
       "mpl.figure.prototype.updated_canvas_event = function() {\n",
       "    // Called whenever the canvas gets updated.\n",
       "    this.send_message(\"ack\", {});\n",
       "}\n",
       "\n",
       "// A function to construct a web socket function for onmessage handling.\n",
       "// Called in the figure constructor.\n",
       "mpl.figure.prototype._make_on_message_function = function(fig) {\n",
       "    return function socket_on_message(evt) {\n",
       "        if (evt.data instanceof Blob) {\n",
       "            /* FIXME: We get \"Resource interpreted as Image but\n",
       "             * transferred with MIME type text/plain:\" errors on\n",
       "             * Chrome.  But how to set the MIME type?  It doesn't seem\n",
       "             * to be part of the websocket stream */\n",
       "            evt.data.type = \"image/png\";\n",
       "\n",
       "            /* Free the memory for the previous frames */\n",
       "            if (fig.imageObj.src) {\n",
       "                (window.URL || window.webkitURL).revokeObjectURL(\n",
       "                    fig.imageObj.src);\n",
       "            }\n",
       "\n",
       "            fig.imageObj.src = (window.URL || window.webkitURL).createObjectURL(\n",
       "                evt.data);\n",
       "            fig.updated_canvas_event();\n",
       "            fig.waiting = false;\n",
       "            return;\n",
       "        }\n",
       "        else if (typeof evt.data === 'string' && evt.data.slice(0, 21) == \"data:image/png;base64\") {\n",
       "            fig.imageObj.src = evt.data;\n",
       "            fig.updated_canvas_event();\n",
       "            fig.waiting = false;\n",
       "            return;\n",
       "        }\n",
       "\n",
       "        var msg = JSON.parse(evt.data);\n",
       "        var msg_type = msg['type'];\n",
       "\n",
       "        // Call the  \"handle_{type}\" callback, which takes\n",
       "        // the figure and JSON message as its only arguments.\n",
       "        try {\n",
       "            var callback = fig[\"handle_\" + msg_type];\n",
       "        } catch (e) {\n",
       "            console.log(\"No handler for the '\" + msg_type + \"' message type: \", msg);\n",
       "            return;\n",
       "        }\n",
       "\n",
       "        if (callback) {\n",
       "            try {\n",
       "                // console.log(\"Handling '\" + msg_type + \"' message: \", msg);\n",
       "                callback(fig, msg);\n",
       "            } catch (e) {\n",
       "                console.log(\"Exception inside the 'handler_\" + msg_type + \"' callback:\", e, e.stack, msg);\n",
       "            }\n",
       "        }\n",
       "    };\n",
       "}\n",
       "\n",
       "// from http://stackoverflow.com/questions/1114465/getting-mouse-location-in-canvas\n",
       "mpl.findpos = function(e) {\n",
       "    //this section is from http://www.quirksmode.org/js/events_properties.html\n",
       "    var targ;\n",
       "    if (!e)\n",
       "        e = window.event;\n",
       "    if (e.target)\n",
       "        targ = e.target;\n",
       "    else if (e.srcElement)\n",
       "        targ = e.srcElement;\n",
       "    if (targ.nodeType == 3) // defeat Safari bug\n",
       "        targ = targ.parentNode;\n",
       "\n",
       "    // jQuery normalizes the pageX and pageY\n",
       "    // pageX,Y are the mouse positions relative to the document\n",
       "    // offset() returns the position of the element relative to the document\n",
       "    var x = e.pageX - $(targ).offset().left;\n",
       "    var y = e.pageY - $(targ).offset().top;\n",
       "\n",
       "    return {\"x\": x, \"y\": y};\n",
       "};\n",
       "\n",
       "/*\n",
       " * return a copy of an object with only non-object keys\n",
       " * we need this to avoid circular references\n",
       " * http://stackoverflow.com/a/24161582/3208463\n",
       " */\n",
       "function simpleKeys (original) {\n",
       "  return Object.keys(original).reduce(function (obj, key) {\n",
       "    if (typeof original[key] !== 'object')\n",
       "        obj[key] = original[key]\n",
       "    return obj;\n",
       "  }, {});\n",
       "}\n",
       "\n",
       "mpl.figure.prototype.mouse_event = function(event, name) {\n",
       "    var canvas_pos = mpl.findpos(event)\n",
       "\n",
       "    if (name === 'button_press')\n",
       "    {\n",
       "        this.canvas.focus();\n",
       "        this.canvas_div.focus();\n",
       "    }\n",
       "\n",
       "    var x = canvas_pos.x * mpl.ratio;\n",
       "    var y = canvas_pos.y * mpl.ratio;\n",
       "\n",
       "    this.send_message(name, {x: x, y: y, button: event.button,\n",
       "                             step: event.step,\n",
       "                             guiEvent: simpleKeys(event)});\n",
       "\n",
       "    /* This prevents the web browser from automatically changing to\n",
       "     * the text insertion cursor when the button is pressed.  We want\n",
       "     * to control all of the cursor setting manually through the\n",
       "     * 'cursor' event from matplotlib */\n",
       "    event.preventDefault();\n",
       "    return false;\n",
       "}\n",
       "\n",
       "mpl.figure.prototype._key_event_extra = function(event, name) {\n",
       "    // Handle any extra behaviour associated with a key event\n",
       "}\n",
       "\n",
       "mpl.figure.prototype.key_event = function(event, name) {\n",
       "\n",
       "    // Prevent repeat events\n",
       "    if (name == 'key_press')\n",
       "    {\n",
       "        if (event.which === this._key)\n",
       "            return;\n",
       "        else\n",
       "            this._key = event.which;\n",
       "    }\n",
       "    if (name == 'key_release')\n",
       "        this._key = null;\n",
       "\n",
       "    var value = '';\n",
       "    if (event.ctrlKey && event.which != 17)\n",
       "        value += \"ctrl+\";\n",
       "    if (event.altKey && event.which != 18)\n",
       "        value += \"alt+\";\n",
       "    if (event.shiftKey && event.which != 16)\n",
       "        value += \"shift+\";\n",
       "\n",
       "    value += 'k';\n",
       "    value += event.which.toString();\n",
       "\n",
       "    this._key_event_extra(event, name);\n",
       "\n",
       "    this.send_message(name, {key: value,\n",
       "                             guiEvent: simpleKeys(event)});\n",
       "    return false;\n",
       "}\n",
       "\n",
       "mpl.figure.prototype.toolbar_button_onclick = function(name) {\n",
       "    if (name == 'download') {\n",
       "        this.handle_save(this, null);\n",
       "    } else {\n",
       "        this.send_message(\"toolbar_button\", {name: name});\n",
       "    }\n",
       "};\n",
       "\n",
       "mpl.figure.prototype.toolbar_button_onmouseover = function(tooltip) {\n",
       "    this.message.textContent = tooltip;\n",
       "};\n",
       "mpl.toolbar_items = [[\"Home\", \"Reset original view\", \"fa fa-home icon-home\", \"home\"], [\"Back\", \"Back to  previous view\", \"fa fa-arrow-left icon-arrow-left\", \"back\"], [\"Forward\", \"Forward to next view\", \"fa fa-arrow-right icon-arrow-right\", \"forward\"], [\"\", \"\", \"\", \"\"], [\"Pan\", \"Pan axes with left mouse, zoom with right\", \"fa fa-arrows icon-move\", \"pan\"], [\"Zoom\", \"Zoom to rectangle\", \"fa fa-square-o icon-check-empty\", \"zoom\"], [\"\", \"\", \"\", \"\"], [\"Download\", \"Download plot\", \"fa fa-floppy-o icon-save\", \"download\"]];\n",
       "\n",
       "mpl.extensions = [\"eps\", \"jpeg\", \"pdf\", \"png\", \"ps\", \"raw\", \"svg\", \"tif\"];\n",
       "\n",
       "mpl.default_extension = \"png\";var comm_websocket_adapter = function(comm) {\n",
       "    // Create a \"websocket\"-like object which calls the given IPython comm\n",
       "    // object with the appropriate methods. Currently this is a non binary\n",
       "    // socket, so there is still some room for performance tuning.\n",
       "    var ws = {};\n",
       "\n",
       "    ws.close = function() {\n",
       "        comm.close()\n",
       "    };\n",
       "    ws.send = function(m) {\n",
       "        //console.log('sending', m);\n",
       "        comm.send(m);\n",
       "    };\n",
       "    // Register the callback with on_msg.\n",
       "    comm.on_msg(function(msg) {\n",
       "        //console.log('receiving', msg['content']['data'], msg);\n",
       "        // Pass the mpl event to the overriden (by mpl) onmessage function.\n",
       "        ws.onmessage(msg['content']['data'])\n",
       "    });\n",
       "    return ws;\n",
       "}\n",
       "\n",
       "mpl.mpl_figure_comm = function(comm, msg) {\n",
       "    // This is the function which gets called when the mpl process\n",
       "    // starts-up an IPython Comm through the \"matplotlib\" channel.\n",
       "\n",
       "    var id = msg.content.data.id;\n",
       "    // Get hold of the div created by the display call when the Comm\n",
       "    // socket was opened in Python.\n",
       "    var element = $(\"#\" + id);\n",
       "    var ws_proxy = comm_websocket_adapter(comm)\n",
       "\n",
       "    function ondownload(figure, format) {\n",
       "        window.open(figure.imageObj.src);\n",
       "    }\n",
       "\n",
       "    var fig = new mpl.figure(id, ws_proxy,\n",
       "                           ondownload,\n",
       "                           element.get(0));\n",
       "\n",
       "    // Call onopen now - mpl needs it, as it is assuming we've passed it a real\n",
       "    // web socket which is closed, not our websocket->open comm proxy.\n",
       "    ws_proxy.onopen();\n",
       "\n",
       "    fig.parent_element = element.get(0);\n",
       "    fig.cell_info = mpl.find_output_cell(\"<div id='\" + id + \"'></div>\");\n",
       "    if (!fig.cell_info) {\n",
       "        console.error(\"Failed to find cell for figure\", id, fig);\n",
       "        return;\n",
       "    }\n",
       "\n",
       "    var output_index = fig.cell_info[2]\n",
       "    var cell = fig.cell_info[0];\n",
       "\n",
       "};\n",
       "\n",
       "mpl.figure.prototype.handle_close = function(fig, msg) {\n",
       "    var width = fig.canvas.width/mpl.ratio\n",
       "    fig.root.unbind('remove')\n",
       "\n",
       "    // Update the output cell to use the data from the current canvas.\n",
       "    fig.push_to_output();\n",
       "    var dataURL = fig.canvas.toDataURL();\n",
       "    // Re-enable the keyboard manager in IPython - without this line, in FF,\n",
       "    // the notebook keyboard shortcuts fail.\n",
       "    IPython.keyboard_manager.enable()\n",
       "    $(fig.parent_element).html('<img src=\"' + dataURL + '\" width=\"' + width + '\">');\n",
       "    fig.close_ws(fig, msg);\n",
       "}\n",
       "\n",
       "mpl.figure.prototype.close_ws = function(fig, msg){\n",
       "    fig.send_message('closing', msg);\n",
       "    // fig.ws.close()\n",
       "}\n",
       "\n",
       "mpl.figure.prototype.push_to_output = function(remove_interactive) {\n",
       "    // Turn the data on the canvas into data in the output cell.\n",
       "    var width = this.canvas.width/mpl.ratio\n",
       "    var dataURL = this.canvas.toDataURL();\n",
       "    this.cell_info[1]['text/html'] = '<img src=\"' + dataURL + '\" width=\"' + width + '\">';\n",
       "}\n",
       "\n",
       "mpl.figure.prototype.updated_canvas_event = function() {\n",
       "    // Tell IPython that the notebook contents must change.\n",
       "    IPython.notebook.set_dirty(true);\n",
       "    this.send_message(\"ack\", {});\n",
       "    var fig = this;\n",
       "    // Wait a second, then push the new image to the DOM so\n",
       "    // that it is saved nicely (might be nice to debounce this).\n",
       "    setTimeout(function () { fig.push_to_output() }, 1000);\n",
       "}\n",
       "\n",
       "mpl.figure.prototype._init_toolbar = function() {\n",
       "    var fig = this;\n",
       "\n",
       "    var nav_element = $('<div/>')\n",
       "    nav_element.attr('style', 'width: 100%');\n",
       "    this.root.append(nav_element);\n",
       "\n",
       "    // Define a callback function for later on.\n",
       "    function toolbar_event(event) {\n",
       "        return fig.toolbar_button_onclick(event['data']);\n",
       "    }\n",
       "    function toolbar_mouse_event(event) {\n",
       "        return fig.toolbar_button_onmouseover(event['data']);\n",
       "    }\n",
       "\n",
       "    for(var toolbar_ind in mpl.toolbar_items){\n",
       "        var name = mpl.toolbar_items[toolbar_ind][0];\n",
       "        var tooltip = mpl.toolbar_items[toolbar_ind][1];\n",
       "        var image = mpl.toolbar_items[toolbar_ind][2];\n",
       "        var method_name = mpl.toolbar_items[toolbar_ind][3];\n",
       "\n",
       "        if (!name) { continue; };\n",
       "\n",
       "        var button = $('<button class=\"btn btn-default\" href=\"#\" title=\"' + name + '\"><i class=\"fa ' + image + ' fa-lg\"></i></button>');\n",
       "        button.click(method_name, toolbar_event);\n",
       "        button.mouseover(tooltip, toolbar_mouse_event);\n",
       "        nav_element.append(button);\n",
       "    }\n",
       "\n",
       "    // Add the status bar.\n",
       "    var status_bar = $('<span class=\"mpl-message\" style=\"text-align:right; float: right;\"/>');\n",
       "    nav_element.append(status_bar);\n",
       "    this.message = status_bar[0];\n",
       "\n",
       "    // Add the close button to the window.\n",
       "    var buttongrp = $('<div class=\"btn-group inline pull-right\"></div>');\n",
       "    var button = $('<button class=\"btn btn-mini btn-primary\" href=\"#\" title=\"Stop Interaction\"><i class=\"fa fa-power-off icon-remove icon-large\"></i></button>');\n",
       "    button.click(function (evt) { fig.handle_close(fig, {}); } );\n",
       "    button.mouseover('Stop Interaction', toolbar_mouse_event);\n",
       "    buttongrp.append(button);\n",
       "    var titlebar = this.root.find($('.ui-dialog-titlebar'));\n",
       "    titlebar.prepend(buttongrp);\n",
       "}\n",
       "\n",
       "mpl.figure.prototype._root_extra_style = function(el){\n",
       "    var fig = this\n",
       "    el.on(\"remove\", function(){\n",
       "\tfig.close_ws(fig, {});\n",
       "    });\n",
       "}\n",
       "\n",
       "mpl.figure.prototype._canvas_extra_style = function(el){\n",
       "    // this is important to make the div 'focusable\n",
       "    el.attr('tabindex', 0)\n",
       "    // reach out to IPython and tell the keyboard manager to turn it's self\n",
       "    // off when our div gets focus\n",
       "\n",
       "    // location in version 3\n",
       "    if (IPython.notebook.keyboard_manager) {\n",
       "        IPython.notebook.keyboard_manager.register_events(el);\n",
       "    }\n",
       "    else {\n",
       "        // location in version 2\n",
       "        IPython.keyboard_manager.register_events(el);\n",
       "    }\n",
       "\n",
       "}\n",
       "\n",
       "mpl.figure.prototype._key_event_extra = function(event, name) {\n",
       "    var manager = IPython.notebook.keyboard_manager;\n",
       "    if (!manager)\n",
       "        manager = IPython.keyboard_manager;\n",
       "\n",
       "    // Check for shift+enter\n",
       "    if (event.shiftKey && event.which == 13) {\n",
       "        this.canvas_div.blur();\n",
       "        event.shiftKey = false;\n",
       "        // Send a \"J\" for go to next cell\n",
       "        event.which = 74;\n",
       "        event.keyCode = 74;\n",
       "        manager.command_mode();\n",
       "        manager.handle_keydown(event);\n",
       "    }\n",
       "}\n",
       "\n",
       "mpl.figure.prototype.handle_save = function(fig, msg) {\n",
       "    fig.ondownload(fig, null);\n",
       "}\n",
       "\n",
       "\n",
       "mpl.find_output_cell = function(html_output) {\n",
       "    // Return the cell and output element which can be found *uniquely* in the notebook.\n",
       "    // Note - this is a bit hacky, but it is done because the \"notebook_saving.Notebook\"\n",
       "    // IPython event is triggered only after the cells have been serialised, which for\n",
       "    // our purposes (turning an active figure into a static one), is too late.\n",
       "    var cells = IPython.notebook.get_cells();\n",
       "    var ncells = cells.length;\n",
       "    for (var i=0; i<ncells; i++) {\n",
       "        var cell = cells[i];\n",
       "        if (cell.cell_type === 'code'){\n",
       "            for (var j=0; j<cell.output_area.outputs.length; j++) {\n",
       "                var data = cell.output_area.outputs[j];\n",
       "                if (data.data) {\n",
       "                    // IPython >= 3 moved mimebundle to data attribute of output\n",
       "                    data = data.data;\n",
       "                }\n",
       "                if (data['text/html'] == html_output) {\n",
       "                    return [cell, data, j];\n",
       "                }\n",
       "            }\n",
       "        }\n",
       "    }\n",
       "}\n",
       "\n",
       "// Register the function which deals with the matplotlib target/channel.\n",
       "// The kernel may be null if the page has been refreshed.\n",
       "if (IPython.notebook.kernel != null) {\n",
       "    IPython.notebook.kernel.comm_manager.register_target('matplotlib', mpl.mpl_figure_comm);\n",
       "}\n"
      ],
      "text/plain": [
       "<IPython.core.display.Javascript object>"
      ]
     },
     "metadata": {},
     "output_type": "display_data"
    },
    {
     "data": {
      "text/html": [
       "<img src=\"data:image/png;base64,iVBORw0KGgoAAAANSUhEUgAAAbAAAAEgCAYAAADVKCZpAAAAAXNSR0IArs4c6QAAQABJREFUeAHtXQf8FMX1H6VKL/5ApFtBUERRVCwgiti7scT2tya2RKOxG6NRY0w0xhhj1FijiS0ae0NBBaUoVelVEH70XvX/3t2+vbdzs7uzV3fv3nw+73Z25s3Mm+/szZs+SokRBAQBQUAQEAQEAUFAEBAEBAFBQBAQBAQBQUAQEAQEAUFAEBAEBAFBQBAQBAQBQUAQEAQEAUFAEBAEBAFBQBAQBAQBQUAQEAQEAUFAEBAEBAFBQBAQBAQBQUAQEAQEAUFAEBAEBAFBQBAQBAQBQUAQEAQEAUFAEBAEBAFBQBAQBAQBQUAQEAQEAUFAEBAEBAFBQBAQBAQBQUAQEAQEAUFAEBAEBAFBQBAQBAQBQUAQEAQEAUFAEBAEBAFBQBAQBAQBQUAQEAQEAUFAEBAEBAFBQBAQBAQBQUAQEAQEAUFAEBAEBAFBQBAQBAQBQUAQEAQEAUFAEBAEBAFBQBAQBAQBQUAQEAQEAUFAEBAEBAFBQBAQBAQBQUAQEAQEAUFAEBAEBAFBQBAQBAQBQUAQEAQEAUFAEBAEBAFBQBAQBAQBQUAQEAQEAUFAEBAEBAFBQBAQBAQBQUAQEAQEAUFAEBAEBAFBQBAQBAQBQUAQEAQEAUFAEBAEBAFBQBAQBAQBQUAQSAwCHUHSIUDfAE0EugpIN1uBw4NA04DGAe0FJEYQEAQEAUFAECgrAu0gdVJITcE+BWg3TaKj4P1tIFRk+wF9ASRGEBAEBAFBoIoRqBuDvC8AGZDQrALCnlh7oElAZI4Hy9NAPwKNAGoBhIqPwoHVa1q3bv1jly5dvI7yJggIAoKAIBCIwOjRoxcDQ00gU0w846DAOBRd4KU3kN7DQoU2F4jMPLCgm68CQ+U1atQo4penICAICAKCgAUCW2211WwLtliwxEmBNQFEXgb6BdBKDR0cOtQN9sZ0czE4IKna2lrdT94FAUFAEBAEKgiBuCiweoApKq/ngF4x4Is9LlzsQaYDWObTC3s+CnYkVVNTY1JwjFWsgoAgIAgIAklGYOsYCI+9q8eBcO7rTz7yvA7u5wAhLy7iWAHkO3wIfmIEAUFAEBAEKhyBOPTA+gHGZwONB/rawftGeHZy7I/A8y0gXImIy+jXAp0PJEYQEAQEAUGgihGIgwL7FPA3zXHxYsHhwMu4g9gFAUFAEBAEqhuBOAwhVncJSO4FAUFAEBAEckJAFFhOsEkgQUAQEATKi8CyNRvVghXryitEmVOPwxBimSGQ5AUBQUAQSB4Ce935vvoRJldm3XN08oQvkMTSAysQkBKNICAICAKlRACVV7UbUWDV/gVI/gUBQUAQSCgCosASWnAitiAgCAgC1Y6AKLCQL+BH6Kc/OnS6+n7F+hBO8RYEBAFBQBAoJQKiwELQnrF4jbrrrW/Vpc+ODuEUb0FAEBAEBIFSIiAKLATtH35Iz5Su3rA5hFO8BQFBQBAQBEqJgCiwELS3cs4IwaFEMYKAICAICALxQUAUWGhZpDWYqK9QoIRBEBAEBIGSIiAKzBZu0WC2SAmfICAICAIlQUAUWAjM7hBiCJ94xw+BCd+tUB9PXhQ/wUQiQUAQKAgCcpRUCIx0TL7MgYUAFUPvY/6CFx1U91E7MSwWEUkQKBgC0gMLgXIrpwsmI4ghQIm3ICAICAIlRkAUWAjgmR5YCKN4CwKCgCAgCJQUAVFgIXDTHNicpXgRtBhBQBAQBASBuCAgCiwuJVGFcmza8oPaDCRGEBAEBIFcEBAFFoLaVooGEf0ZJ3+/Sn0+bbE/g/gYEeh527vqgHs+MvqJoyAgCAgCYQiIAgtBiIYQg9iOeGCoOvOxL4JYxM+AwIbNP6hFqzYYfPJ3evDDqflHIjEIAkVGABu//xk5t8ipVG70cVBgTwC8uFlngg/MzcH9f0BjgSYCnQ8kRhAIROBP708J9BdPQSAOCGDj97qXx8VBlETKEAcF9iQgNzgAvcvAbxJQL6D+QH8Eqg9UEmPTAyuJIJKIICAICAKCgAeBOCiwoSDRUo9U3hfcgtUUCCejmgAhb8mOhpczfAFtMYKAICAIxBCBOCiwMFgeAobuQPOBxgNdBRTrpWuPfzpTjZixBMQUIwgIAoKAIFAsBJKgwI6AzH8NtD3QnkCo0JoBmczF4DgKqba21uRfVDc6buqONyap0x8dUbC0fvP6RNXl+jcLFp9EJAgIAoJAJSCQBAWGizZeAcKhxGlAM4G6AZnMo+DYB6mmpsbkX1C3jbCKbtmajW6cxRpufPLzWW4aYhEEBAFBQBBII5CEw3zngKgDgYYBtQXaFWgGUElMkFK6/F9j1HuTFrpy/ADMW1vsG3MDVKEFFX6jBnVUg7p1qjD3kmVBQBAoJAJxUGDPQ4b6A20LNA/oNqB6QGgeAboD6EkgnP/ChRy/BirZruEfUx0/SNFguPJC7y2gwOIAqEHU2Dj1vuN9tW/XVuo/l+wfG5lEEEFAEEgmAnGob88IgQ4XbwwK4YmFd1BvLRYCxkSIL2cGLTqNiZAihiAgCMQegTgosFiDFEUpDfl2kXppNHYixQgCgoAgIAgUG4EkLOIoNgaB8ePKEVvzs+fGqA9BiYkpLwK0GlSXYtX6Teq8f36pFqxYp3vJuyAgCCQQAVFgIYX2ixe+cjneGr/AtZfD4lcxl0OWUqW5ePWG1BaCT6faT3v+4NPqeH3sfPXx5FoV9ZzEtRs3q7ve+kat37SlVNmWdKoMgWr8bxeiiEWBhaA4dt4Kl2PKwlWuvRyWKMOZ5ZCvGGkS5lGUjl9lQDcLRMXx75/MUI8OnaGeku0MxShiiRMQiPpNCmhpBESBRfgStvg17UPiWLRqvbrp1fEK77/Kx/h0LPKJMvZh69VJf6K4RcHW+BUTnWsZIapUklTuuO9PjCBQDATsv+5ipJ7cOEWBRSi7TVty+8xue22ieu6LOerDb/KbH/PrWUTIQmJZoyDvt/UB92AEmRdHzVV4DJhuSPH5KUadX94FgagIVPN/OypWnF8UGEcjxM5vD772Rbzdxc6Q4qOK0C5UNlc1VqBhSicbpezhmPnLvYs2/g2KymSufWmcwmPAdLOVU3BReoF6HPIuCAQhEKWBFhRPtfmJAotQ4psdDfLMiNnqxUjL5dOf59Z5ajC/nkWELFQE67qNW9STn81UfkN6+hAh3vq8YfMWpcOPizPGzVuehcknU2phTiJTpWztaFHulhVIHASBPBBgn1sesVRfUFFgAWX+zPBZHt/NP6TnQG757wSPe9gL9ZyoIgzj9/PP9SMfDwtRXv2qcvanPfDhFPWb/01SQyabh2RNPaXNMPxLizgQX1RSe/zmPXXcQ5+plbC8nptzn/hSfTYtc5sANTwyKo1zi10QyB8BaZzmhqFsZA7A7RaYu+IGK8GHPop+VT1VqFQR8jhLYT/2oU9TyZzYu0Mpkit6GktWpw9QXrHOq3goYZOiSbmx8UhUUmRMPTm+ZJ4aHlSOFE6egkChEMi1cVqo9JMaj/TAIpTc1lCT5XIyPO49QkNDWD9Alwz3JNHqNlsRkvSR45AdP6kf88jzixhEMXz4LgwHk6L58JuF6jqY4zIZU8OiTp2MtsvMgZlCixv2YJevzdzKIIgIAqVCQBSYhjTOb50Bd3k98MEUzQdOGAYFthbmX2wN3uH12LDMwflUUb48Zp668vmv1I43vmUbVYrPVDFHioAxvzvx+6JuzL3o6dEKD+7l5vWx37mvh/7xY9ceZCGlz3louCWjYrhv9iIO9L3qBbxSzmxM8aDbmf8YoU57ZHim4RGmOc3RV7xrr9vfU3v+1lvWFZ/pAmewkP/tAosW6+hkCFErnu+WrVPD4TZlJN08NXy27hT6/ucPM0OOpMBWrt8cGs7EEK3PYooh7TZ69lJ1yTOj1Tn7d1a/Pb6nP2MePkNhjgkN9pyoB7Nw5QY3xllL1rr2XC0Urx6e99Z0P9O7X+Xx+fT0N9CiUfpyBNFfJvTMDQYzp7j6IRD128IRDjEKrq8S40GA5js8jnm81GERYs/hZVi9iBubczFRK2a/NFauSyvQ2QVQIpQGrgqcUbuaXt3nRrZ5O+qf1I1Et2iaHG+svuGVzPBg1HRMo5lcOdLq03cmfJ861spv7k0XU94FAVsEtE86NJhpv2JooApkEAWmFSr1kjTnnF95fHVgPOwa2D+GRxPlYqJ+5H5p4FweGr+eB4Xredu76kY4QSTM4AkjuCrw5L99nmL9ZsFKN8j6jT+oZ2FYFld00tCf65mjhXCgoT+cl3z+y8zeLvK3jd7UMKC4MQ6yz1ma7jWaFLVtWtXEh/OcH8CFryZ8qwkHm7xGxWjNhtxGcWxkSRKPKDCttFiHSfPJ7RXja9owPVLbuEF+I7ZRexZ+EqMiRcMXVZh4V8Of5F9wgkiYIUWI/GhO+OtnbhC85PNm2HaAKzpt5Z84f4X690hvulGUEsnjChFiMffAMoHkhoEMFlFsDw2Zpi58elRqy0KUcNXIG+X71vGJqvz08El+z69GTXLOfWTnQ0c+LJGcMb5t6tVRq2DeCyvzvEyewSntrZ1mS5gCI37bJ+2z2sDODLzzzczJFrZ/tKMf/DSV5E/26WRUehSPaYEHBowKc1SFZ4tHtfNNdg6/znXOt5rwi/rN0n8NMcKwfv+FSsdQemBaCRf6Q8DKdtGq9OIF09JxXKk4bVH23JEmVuqVKlpcnj7hu8wp+SbeIDca1oz6p/GLMyieV8ZkVh5+px3p5Bcfd89FZ0cdqiRcebq8guDuYrdH4M1x6euHaAjWPmQVcubyoTsw5RE08UCLAtOKkCp3zTnn18XOpluMwDRUhe64J8zG0Id6Esw1HfOXdC/FJpzOQwtLbHuEn03Lvour/x+GpE7Yx7iDFBhPm89TcfcguyluwsGvsWEKE5TG5+zUjSA+8UsjgI0nPIZLN3zLCPfzKyfOU+32qI0ujheNSHC3arGLAtNKutBzYDz6L2dmL81Hf9sWKn2oMxev4dFGtpOSth1CPOuxLxRfmIEJ4jJ4PGEfTT5/vlQEAT+UZ85CCuqX/x6rFq3MXtFJ/jxMkP26lzMrGIP4KtUPe/RznQUqYXnETcvYeLry+ex9dfe8/a0xuPRmjbB4HKN+s7xRQA06T4RV8hIHBfYEYI2H2gUdMNgf/PEfg2c7fQJUNFPoOTAu6H3vZW+O5v5h9kJ9qNQDMw2d+ckQtHTc7VnaamItEZOSIhbKs98f/H7DhvNcFKq+quum/4avviQZk/488PcfqYPuHWKVjQ2b0ueBfjVnWRY/r1SzPMUhEAH6zgOZfDz9/hs+7BXlHAcF9iQgOjgA1Rbg9zDQcUA9gE4FKpqh3knREjBEbPvHxw917Nzlhhj8nUxH/FwMK8PQ2PbAkDcIF1KEOeov36FVTDfsz2nydxUqRmBpesCWAW4KuUeOxxtH+xrndJmFht6sLm/Qtyo9LR0t+3f6D9mHyHDm0mDLhE62LQ4KbChAuDQAxjPB7xWgOQ6P+QjygAiieBVzCNFPjrA/PlUa+KEez5ao+8XH3fe/+yP3lRaRuItKIjT7SAY3MmYxKRHmHWoNUqSmPycX25R2UI8uVJgqZtCHiYOg4GUQxId+Qd9OWNhq8Td9x7Z5zyesbRpx5YuDAgvDZhdgaAn0MdBooHOAimaChsr8Eu3btZWfV0HcqWeTy4e6blPmyJkd4OxFfiknKbQ5MJ+FqyHfg/MR/QzJoPtPW7RK1Toni+RaUWHrc/HqDak7u/T4QWdnGa6gTC3XXHDKSqQKHWxwIx5eBi5U7COhbwv9mLPLKhYvAqaGmpfD+yaYpvFIggLDvWp7Ax0NdATQLUCo1EzmYnDE8bFRtbXps/hMTEFuuF8rqtmlbdOoQTz8thU/VR4UGCfeF6zw3jZMfqNmLVWjZ2fPU/Cl7FT5j/suPSz52tfzKXjW00/Gw/40VCGhwZ6kaXVaVmSaA/bA+tz5gbrwqfTQJnljJWjQXx43PY+Ix6wl+S1yofSr7UkntATlm74ZEw+vVP83LvMtof21rzPbKd6ZsCCn78SUZsW4mT50y8zp9YJlsIpgS4ICmwdIvwOEtRKu58basheQyTwKjn2QampqTP6hbkF/0NDAOTLwP74pClpYolfnOPHOhwh52FPgFHU62om787ksWkZPbrOXrlFTYPMp9say95mFSakU9vZ2u9U7l8TT9rPjPWtohk3F4s0YLAuS42uY+/sd2xRNXDPYiswl0ItDPM5+PHPXF/HJMxwBm+HzoOFe3sjhIxlvjf/evQ0AhykvfXYMbMEIWrMVLmulcUTWXwxsvV6oNGyC8pMEBfYaZOAgIOyJNQLqC/QNUFEMP0WCEqgb8M/u2b4Z9Agif34UdeATeyD8YsVvv19l5MfeVi6GhnlINU34bqW68ZX06rv/aXvT2P8ll6QCw9z33mTXnw9j4mKMu9nS7H8Mm+nymSzj8tjcbYovyG0VLCe3XXoeFE+c/OiIsSCZqIGX6xdPPXTpJXtRzqcXhf+TajVxUGDPA/jDgXYFwt7WBUCXOgSPlLLCHhhu1sGm9WNARWu+vQSnxeumRaP6upP7HrYAw2UMsPgph1+9NFZ1u+Uddw7h/H+ONMaCvS2qGIwMzJGnRT0w6uEh2yhn2JGfIo/upOTQXmjzXza8dDFc80KGKkt6d58+f9hmzpmTLl+RLIgXnvdou/S8SGIUPFr+HfhF/kN6FX3o6lC/8NTbp8aTH1+1uefTCDbOR1YJgHFQYGcA1u2A6gF1AHoc6BGH4JEyf4Df3YB6Aj2QcinSz8/775gVcz12O2+WJzjk03rC+DA89nj0PzUdw8SVjil9dMOhO30vk4n3r0Omu844dLcRzi00xf/Pz2a5fGixqdw8ASK86PmmoPvf/SFZPU//P3sx1axHBDW9tvLm2QIGGtzMU6PHdWCWsMYcljPtQQyKh0VZNdZ86hCf9lxVYBcHBRYroK8cuHOWPHUDFBhW/vl+QH98f4q6Am5o/veozJUgXIiwioF46TR4P4WAfK9+lelhLlixXu1y89tWvatiqga/ymzZ2k2UNffZ756P1MhZ2YtT0gz5loSbjFh8ELCdAzMFx3LO9MBMHNXrls+Xm4/ySzriosC0EqxfJxuSenB8e7ftzCsNC1mxL4UjffIxJIvv0BtEbhovp0rFJu35cCAvvy7FJkwYDw1LhfGhP66irHUOR7bhTxoP3jWGi2jGGE66KHZebCpRGq6i5wh2c/laZ0O0n5yo/KgHFvSN+oWvZPegRqcp3/RfT/nZFJwpkgpwy66tKyBT+WTBNJyGPbA/nbanOVoIUKgW0B/enaxMN636D5l5RTrxYTzkd5ja5Kzq8/qm30x/FLpexcRPbvQfOQB6QLgisJBGn2/LNe5ClUOu6Rci3CdT0ts/Xne2NKCiuB966KYzHwuRHo/DBj/qLdP3gA0aW8MVGN1ybRtW+PwRsK0f/GNIro8oMK3sTHM9daGG96vksSV0aLc2Wiy5v97xRub+LIrF1GsiP/7E3gmuJHzkk8w8F/dHO1VA3H0JOzGfu3M7tbi5m9gLj4Be1mPmLFd//nBq6ibvwqfmjdGmIgwaQvTGlv1mUlq4mrPvXR/AnsXMSlrsYWNDrpq+OZvGA0eUN7SjhuXxJN0uCsyiBHERh98wW+vG9dXhu7VVtx6Da0yKY6L+kYPOtDN97Ne+FH4au16xFien+cVKvYL8YilvaCpr+t5wkQ0aehZVOgsA3eFeH94gBYe9fxo6pHyOh60PC1duUPe9mznoep/ffaCwIffMiNlFzW6cIrdpPPjJ61MUfuwV5S4KzKI4cdyeKhSd/b5T03uq69UtHpRRlUdQJaLLb/uOFc4HkxbasgtfjghQA4Na2FSWNHeUY7RWwWwqQlcBOTGSnJRAUO8fe2CkACktmnPetMVZn08RwXNGBa70ZNnzWKncPY6WL9QYsGSvKLbi1boVBFN9UE58iXG75g3d3LWEHhgafW4pbOm9G4HBgpWWHp+BzdcpqsLzjYh54LzXhc4p9sw5VtZ8KoG4ZIRa4jRJT0O+JVFgpFUCwCB5iEXHfHbAMV7fw6pXyh+Fr+ssmjIpMOKphqcF9L4w5BPWN9KEeIgCsygoXMbOe2DcTsGppUzv7/3yELJGfu4Ih+6e9nfc252boVZybqHNoe58s2iHn5gTzMG1GPnOQYy8gpBCoHMJqSFTEgVmsSGE5PFr9dfxmywGVI596NOsoVA65WZjwMKjvABNSGA/PG3Ep2/GhrfSeESBWZQoDpNwpWX6j+qVZ4ttcF927oZOxMglBl2Z5hJHEsNUwh+Zes9Dvl2UKgJa+EAVfTHLxQY/OmqNWv36EKLp/jku83rnQkzSlfS/MlXgGDcqzNPgpJmD7v2IR1NxdsLTNmN8b6jeq7WNoxL4RIEZSlE/jSP1R2L/bvrT8aBU0ZCbiYf8iv3Uh3mKnV5c4jdVgsWQbYrPmZSFSIsqo6mLVqei2+JMGhXre+LnOWIlimdvnvHoCDhpJJ2+nifccB9k3p7gfyUPhqOGnk2FjZU0XgH0JZz1OXep/XL9IPni6seql+gi2oAZPdZEhBAFZiim6wZ387jiH4krKNNtvVm9HprE8MRUmhca5ilNavFJhXovxZboupfDV21GlWEq3AKA3xCvyFAh09qGYg0hvsvugMP0/jF0hhoOm5MH/vETYxZsN9vzfPCI+P8I3V2FVsWVMOIQtfHFe77VDJ0oMPx6QkzXbRu7fzQ/VroShPz5oo9tmzRQDYq4SpHSpGeWMiWPCn/+9PEvIuWwfYttIvEXixmvsDn8/qGp/V68IsNypN40zYkFyTALrpbxux/OLxzv2WFFuHSt3WkwpHj84vVzpx4l5TMoHl5J+8Vn637sXz5Vz30x25a95Hz5KCG/xkLJM1GGBEWBhYB+WPc26uZjuocqoLP376wO3GlbNzZeMVx3xK7qmkG7uH7FtgRVCsVOO0nxP3dh31iIu9g5GguvxfnLR9NcmVB5UW/abw4Mh/zoNIz+933sez+cG6lm8fTsoBa1bfy4y+Ej1rzU0KNg1GumoVNNvIK94n6zON9Blo8Squb/uyiwkL/IADhlo0HdOqpz68ZqwK7+l2S2guX0z7IKkbce0X7Cnu1DUiqct20lVLgUkxPTXSfu7grLy8h1LIOF9hDiUnJaJIFiYKVGQ24eRcNk/MULXys83osUHfOysvKeXRQlQpVm1G9N56d4bCrwac68oFXGEsYUBXvMGp+hoMZAwrJcEHFFgYXAyC/5G9xzuxBuvHYkzcJ7YNxOEWxTrw5ZC/6kSq/gEVdAhK2bZO52C7rnrZRZpd6VvpQcK3sacuPfIZfto8np1YproSeWi+FD3VxhhsVFQ5s2iofH9f3K9alXCkdDiaZKmHgo/By4MbxSjZ7XKPkkDKOEqRReUWAhJUkKCdn40tWQYK4iQz7TsvtBPdqGRZGzf0mOHcpZukzAa2FotdSGbzBvXD//RkQhKo96zmbezbRiwwEFlQQ5+fXAGjpzqzZ3wZmw5o0rrERtvx2qcKkHxePGfPjhQvfRUY/DHUKkCFlExMOc1FOfz1K3vhZ8ny32ZH/35iS1LM/bHXi6xbYbsm+dZD5hrROJKaMosJCC4UqLKzO/YNS15+FwCbDe2i/mR5eUHthlA3byg7Fo7qQsMAFeeeeaYCHKke6b00+j+BFOVyIFYTpkGmXO9yQL3rObDItJ+BCmDSbUE+O85zzxJW3z4s4pO+WHPGhIES8IXbx6AzmnniZsb3t9onp6+GwPn/7y3sSF6h/DZqbOU9T94vpuUtZxlTVOcokCi1AafpUIj4J4uLKbABPIeBwVN/ofmfvla7dtReebTj7hbz+uRz7Bcw6LNwuQ4WVEblGfhShHauzo1+CgcqChtTBZaVFFVPn5HBhe57PJOTzYNh7qQXH+z6cv8V0MQgqLlBPH73TYf8aNrtC5X5Cd4iRl7NcbDIqj1H6Eh226/HuIGtY2jSTwZf7NSZC2zDJS7+qYPdr5SvLb43sonN/iLVv62Prt1NoN920RN8Pm+sd3hSuB5Zz9O5cglewk6tdNl2JN0wYwzEslms1n60IKxpYf+bJ6Go6a0hseqcreqZ1wruqVMfPU62Pne5KiypkqbY+nxYt+f2u3dpmLW3FDc5ihuVw6lJf4/eQhBUZ8vPLVF2m8MuY7Yov0pJ41ycDTiBRRQpgzzZyECFxAMUWBRQCT6rugiu+svp3VN3cMhnmvTOVILWx+Tpz+Z40gRihrnBXYqXt3UON+M6ggyiMUCGA4qbd39WdDaFzcc9Lu6r+X9bMJHsoTtXJ8a/wC1efOD9RIWDJPhuLYDN2oDi0ze9NQOVEPB7+hq/8zVl3pcxKGaSiP4g96UmVPPKSQ8B03NIeZlo3SR6b97sSeHlaS2+MIL5hHNJRnUjLohlcTcbMuz4UppjR4/HGyk6y2MvE6KGpY2zSSwBcHBfYEAIVLqYJnZpXaB3hwqdUpQGUxrgKD1Ns2a6CuHLizlRw0agXXipXE6ENRJUlUS+Ron17qvafsoZo1zO+cSC2pwNertf13uBji9H07qaBNzPvt0CowTu4ZtfX71ZxlqeBjZqef+EIVEO6RatKgrht9agjR8aRvz/XULNQT05xDX3UFFnX+dM3G9OrH3bZv5klL72mRpz7UyfmaNMzkHfk7tsoocwpv8ySsSDn6KVObuErFQ7Lmkl4uowC5pBPHMHFQYE8CMINDwMHlYr8HejeEr2DevCVKkVJPCv8gX9x4mLr6cLvNyRRun67eihEvwXz98ug9gbAKNg6rr1BX8xV/LoZUu5BDkZ/60JZeYZ/Zt1OWBFcNtCtXDEjKJysSH4dG9dOVNFX8qTjcmS5vIKzcqXLS5fZy4gZk3cXuXY9X30/25rgFKqhHT5uwt2++jcJN/2T0eMidemD0/qsXx5I1heU77CzFLrD3MsjMgPMa8eYGfTSDeieEXT7KISj9QvqRrLnEmWvjJZe04hYmDgpsKICSGU8xI3QFOL8MlN70YuYpqKupB5GpTiIm5fS8Lj14R3XJITukAmM9/n8HdlV7dGgRMTKlnjx/38AwqzZsDvQvhecyOJIoFi1fB3vKs15h/6RPR/Jyn7u18/YmXA+DJaoCI6XOl8zzOLgdeyu0EMFP71PFN3XRKoN04U76HJg+FHnZv8aoh9jpIHqMeDYijpY3h9sXPvgm8/es1VYUUrhd2qbn2KjSXbw6c3QVKppLnx1NrFmK842xC1w/tLwHF6yikn/+yzkedypjSoNj6mGM0QvJmotI9A3kEjbpYeKgwMIwxEmME4EeCWMstj/9EbQ6MTRZ+kPhvNhpToXZNaR1GRQpzuPE3WDlm8+fslD5I+wpPn0/Va+OLdQbVxxI3uknFHCnVo28bj5vURs11Dvgyp2+K0yCx/fosOnqnre/TaVMvXhdDAo7af5K3cvqneQh5gXL0xuN6R2f/HxF2jtHZ3tuhK5f6sJXNueLYfyWum/nXAa7GBTfh98sRFbXUF7IQV/U8spX3kUdJIPeQ6T/J2Fc+T0wQqz6nklQYA9AsfwayOaogYuBbxRSbW0tPApr6A+m/+nDUjnvgM4uC1WoekvXZTBYcMgQK9okmdT8TQwEJrxJFK2eTTn3bN9c7QAHNudi6JuwDUvy0FwY9nDwokeTeXZEpmfBe2Cm4TnqqZniieI2dt7yLHaex0E9tkv5N3bm6rAHxFfc6oF7d/J+t3QWIiqnC57Cv6q/GTMnWxbiRgxILlJY5EdzztSAMvVQFq1arz52TjGhcOV8Ul5yk8GUw9xiSloo76xpPKXvA2K94Ii2LTyPAsIxsv86bvzxKLwgqZqamsKUqv7vgLgNTpikr+nOhqTozx6lVXjAjtuqMc7kv28iMfPgFUw5RdMVFikQXaYGrFfbTFtMoPPy9yjliOFIEX0xMz1qjnNMZPCDnbN0Lb16nryXgY2DrZ2vkCppvbfiCRzwQuGJxbS9g/+RKL+r1m9KnXSBCoyvuKV46KnjzfNBPPTUZSF30xMxmObcWaY3KKm3GtQDOxUuycRrkWbdc7Qp+jK4cZSjJZ+f8ouWVty4k9AD6wqgdXHoJXj+HMikvMC5CIZ9V8waKSGauMdAVIHpq7GCIsRKWP9Iu22XnksICsf9era3n9fh4XK18x7mfy7ZP9do8g6nV276ECIl0HybdFvusXP6RFriH6UcMS1doVL6+FwHK/rcG4u5B9iXrd3kuqDSQDMN5r1Wrk/Pd/KhR5fRwkKVfBArKS3kIX5c6dr7jvdTJ4X4YYr81GBDO5ogBUZxpzmDf1Gmf32R6aFybvqP0f8VTzTRjelOP52nlO/6/zssbb44ifIZFqYS/eOgwJ4HYIcD7Qo0D+gCoEsdgkd8jNtCjNoFY1mg1iqvFC4POVIJK+FeHZqzWGBC8Kd7e97DXqL+QcLiC/OnShb5cMuBjcE9YoUwTWF4675TeykcvuLL0jFuvUdA6VHlSUu5qRIkf7/ngx9N9fMyulPvwOSJ80l+xv32gIGwPfeJkS57ruVrFY7VkPy7xcRRFl1JuUKBhXpJ5BakOKIoYd5w0MuKGi2EmS4zyYJP4uFu5bAziK2S51hRGT47YrbiPXqriBLOFIchxDMiYHheBN68WPFur5dGz1N8+I8+sqBKKCzR7WES+9z9O6szYcMzmQPghI6Hhkyj16wnVrpXHbYLXPO+Ru3pzIU1MhxEO/Puo1TXG97KCo8O9JEbPYvgSHMdGDWd1xemyAjffMV5DbYm7FDTRJ1iUIg0P6KnQfNKfgpO56f3ITCPcgtsh7A1vLI9zmfuKywu6t3qS9LDwpn8gyp34uflolf4GJ4aZcTPn/oNzksCDtjl3wyPw2T/brl5qBV5qZdLeaOnKR5suATtz8T71nCxCClFUxyFcIv6/+T8lL+b/5veSnv0HnEZFi0EMsFxxKEHFixhmXxPgBMcxtxyuNqd93ycfzKvhKKKh3+E24/vqXblQ4C8hjBEiH9IHKb561l7qYsO3iHNYegFBv3JQpIwpJoZ7jR6hjjin+qEPbdPcdF1IdTL8Qu6q7PE2s/f1j0IB7/eAlUCtKzcAK85+VyAdWIaN2+FJ07qWXkcnReeDCnbgA6bKQqjG+Xb6Elps9pSlxHfSWHwONrAUV37dGnpOnVuHb6qM0i5uRE5lhEz/HfeUCOEemlB311Q/ufCfGS3W96BZfpz9eQL/h4khykxnqclbCuCibeS3USBBZQuXlJpMtaVmymwwY1/jAZvd96M+9GflLsF2fWWcxAv+bF6i5zc5xlwmgWaE7WjmogBT3TAYbyxtw5S1Fvs0zlToREff+oHHnM/spMypHfTU69Q+akbfrjBlE7KBCk/U1pR3aJWVBQ/Lz9cudj/D0NS80/kH/YNEZ/+tFm9yOPmdowL36lRcPZ+nd3oF8Et0x3ZVoQzne/FZcjTwhWpPiJC/08aZuPY8f13KEJQecxcnL5/7O0JC/KUNjx40H/NFJryhn4/ffwLE0tVuIkCi1DM/KOJECyU1W9YiwKaKl36kxKP6dmw3tZqpzZNTF55uT1/0X5qx5r0snO/3ihWMDh02BzOymsKR0e9fdVB6k+n7RmYbtBQFAW0OepIr9AO2hkXr6aNXxrUq6HKmPjDnrxnFMaL/roCsAmDPG+N/95l/WzaEjULVtDx4Tm+OAIr7AufGqk++ta7z8qNgFlsVi/qcbPg6vsV690hRDzI+gLYnE+GLzQIWuhB/FGev3vzG5dd/wapTAhremKAd+GqFW6CFAfFG8TD48rHHrVuKYVM+eSnVGFFgUVAmj4a+rAjBA1k3a9r5pT6/+uXqQAo0PYttiGr+zQpNdfTsUy8fbCilq9pebTOb/uOFeS8ZetS7B9PrjUG4y1kZMC5xG0M83Y8MG2S5W652IPKR++dUfwkb9SKlrfuKa6gZ1CLPyhcmB9XMpgXPBXj/5707rNCHq70ME5SYDjnG2RQGWK8XBkg/6fTFrvfAvZe+X1rdM8Z8tl8r8hnMnh+pm6CF7ykubFsnvh0ptrv7g/d4De+Ot61o4X+0x5H54UaQsUqM0+apHU9jvIShoAosDCEmD99Y/RhM6+8rNgrwJVzaM7ev7P6FTuA9opDd1JH9kxvHuWJBFXSyIdzEFgZD5tqVjA8LrT/6bReupPvO1Zi45wNr3qFSIFIIdC7zXO7Zg2NbPvvkFHwRgbNUceGV1J+CmqXtumeatSDhumb0ETwfd22id2KTN8IfDxe+3q+60OLPFwHx3LdS+PUXrD0fTK7yocUAR1xpofB94++TSvDfwybkbKbeMht4crMSR787jXyt3k+eEZvD1vY0LM+GkEKB8sd7zjjBhdlcIO86DYFLvPUjf4d6f6FfI/6HUVtOBVS1jjFJQosh9Ioyoft/Auxh/Dz/jul7hRD0frv2sa4Akqfq+m/a40nJ78e3C317ldhe5jhpUFd++OpqILQ4+DvuSgwv+E93pLnafjZdWz48IxfT+Duk/ZQODTayVlscNJehVnSr8tIZyHq7oV898Oe7hI74oGhbnJ0gWVQ+dO847xl/iv/KELskZHBvPZ1DrCOUkEf1yu9+Ifisf2GkR+Hgtc4Z4Hid6qH1f+7eFTXL174Wg26f6gbjtIlxcgbQORX6GfUNKLyF1reuMQnCixCSRTzo6GKFZ9YkdMCElRoJqO7o9LjhubVKF7up9txjggV4EUHdXW9LoS5DH43lesBFqwY6CghvFuL7nEaeu0A9dT/7ZtitZmr4nGincv61zP3cr11hYQex8MKR7/rbHBDsJ/haXAeHN7cf8dMTw97vt/CvW6FNjbfEN2xlWvaftibPqVNzpigXtHztOnk/KgjDzgHStes5NpjwK0XfmVGMnKldP8HU9TPnhuT8sKs6f8TzEOX69+koOoZ2Dv1zsT0/CINp7qeDmA2DTY3TI4W3siyiSJKg8AmvqTyiAKLUHL0kfE/TITggaz6H43+8H4Vi6lS5wlQRWnz53vmgr4phcQripthb9O9J2fPPWAaGHcv5xT9fjB38v7Vh6j3f3lwqvdCw4BbaA0zFyrEzjGgXtdh3dsaj+4atNt2vtfZtHMOjKXkCAt898OTeOmJ+OKhyf+6sC85GZ88biOD5mjDr/dAtChCX7fQkkqNk3+3OGyGFTbOi9n2Cnl4LWr3lStJnA+LqvTciBwL3gxgszqVwr3NrmNBN728+TdGYeip549kL4WysPkuSE582vyvOX+l2uOwkTkx2GY+Mv43LYz4pJD0YTSuVHhKYRKQrDUwF4bmYtg/9ujQGTyKLDvJQB4HgHL63+UHqk2gjE56+HNyTv15fnHYzuon+3R0l0pTj5EUj98wlhuJwcLTJ/n1CudYGF4aAL3Fo3ZPzwvipvCnhs/2xEa9Q3KkSgxPPCE7+YU9EQM8BWWstmeLwkWtSGwqQ9r4TWlEffrNgaXxTUuA+5vI4GpVaJbQq+/T74R5vwD1WOFRefrx+rnj96+fpqLz8gVKfBUp5kj///BvTI9Hl9FVaOHQ6FFZvVMjFZmjJqHLapVgBTJJDyxCoVLlR0uuIwQNZSWFxP7zqTD6H9AvIvfP5jDQHwIvZxzYrY3CITE0vDLAiosvddbTRn7cyL1XJ+/+LRyawUqW7/NBXjT1nLHLXBQYT5+G0brAKfE8b9hbwPkpqohwUzjtSUtLkP2L84G4R+mKgd5h1mxOswulZfa1c50OB89ihcUrLb+Q1Ajw8w9z98Oe48vj8Dt/kfPY2vncIX4jlCaNXtjGQ3yIPe0jJDf9OWzqYvUpEGLraVDAu94g1MPyd13x038yV9l53Ca7M3qb8rL5Lngc9P/mbtVoFwUWodTplub1m/3nWCJE52GlSpIUFn2gpDQ9zPBC/ro7vdMfAu9fevy8fVJ7sb64caD67NeHEov6GjYZj/vNIPfd1uKpJLRAVPnqlYHGZnzlee0LKw8fP7cPrMjc1cjLHW87Nvgop5awIf2OE3pGWqjC4+cKlLvb2odOqVUD//iJemXMd6HlhnHSognb+HU+0xwYDhlGUVRnGW6qpnSocUHv/Hlan8ziFxz6I+xAl+RkUAHif0O/lkWPDDfzvgEn+09dtNr1wiR5jww9SCm5TMyiN0zpP5mr7Cxqo5X/jyKnoQW45BnvlgljghXoKEOIEQq1fcv0fqyOLcOPxcFobz66u7Jdlk0tVRKHvk9oxBoN7zkhg/7HNNUXbdkydVywoV+M6ddy1wUg5ai74ztVvrZx8ThIeZPbQJj/sjGYDzxjcj5sqi2G0bHlaVA5cTfdjr0vNOO/W6FsbnvOdfk5patXxOg+f3l63x7x6E89H1SOOh++84aGyZ/cbOfWiN/01L8JEw+5PfLJdLKmnpgnXdag28r9Gl2m/5InoRxfPArMqmmTSUiXSd+gneGsbJtP9VjZmc41d/t0aaWeg0n9q2D+x8ZceNAO6jSYJ7Ix1FLlHzWG8/sDY+sWe090uG9WGvoXzhjwDqSbjs7uteAVGTZGr+x4GJq/yUWBEQY8PrSfvk/62KqUu4+IPs56VDm9+5UBRhakzCkxCo+YrIR7tMJMvhW/6ZDgqEoxaOhtObvaRc8LL4e1sBrU7cXojNo7rmBFo38DugK6hM4C1cLj60TtVuqJ81eoWjjSytbwbxbtlz47OhXUpoxt0+B8/H/E7ZzHzx6V3y+epLuLAotYgrjqjp82EDG4LztVcvRh0rg7uZsCYu/u6sN3Sc1j7cIPBwZmCm8K5+dms3Lwp/t1UkE9IxpC5OP7fumhO1/l55fXwbCRG89VDDK64g/ijep38C7ePXZRw5MywBb+newIJL946tAeCD+GEHd+dxiyYo/sYDg7McjoN34H7QszDVFS3LyynwE9T+q9hpVPHedI+KxvwImA4qF9epRe0BO/QdqoHcRHfnzh7PK1G91TS7hSJt5CPDkm9L+3jTeX/7dt3EniEwUWk9KiPyj/qFE0vQWqi4uV65TfHZk1VBn1D4HxHuFcF6+nwd/vPGH3wGXNtIiDhwmy4yo/MlR5meZYCB/i1Z/L1oT3bPQwtu9h97WFxUPzMLxyDwoTNHwXFM7PD1eRhhlslPFLUv2GrsPi6dw6fUYm8h3Xq71q0Sh9IPamzcFqgPKcPZTuDUd8YXLk4o9K/rS/D0/tE5u/PDMcnct/ySZ93sjz5jI8NA8bzl25HKLAYlK27lCL8yXTn4Za77ZiHrNHuxRr1D8EBuLKxDY9nS9M4er8/J0qzaA/p1++orS0eZo29qhloMdJlfLcpcHzUBSOerH0nu+TD40FxUXfIPLQHqggfpMfH53AfJ93QBd1fj+gA7uY2F03UkyU7iFOr5cfYozM1MhxAxbY8uXM9DUtx7K72vy+uXyT5o1V28YNpUn1A71X61MUWExKHofI8P4kXDXIDbXeuVuQvWnD9Lqccn3g+czfUAVq+jPT3IjJLwiPYvuFHVCM6ZMC5McsBclF84hBPLZ+i1dvUEFDfjweji3hzf0j20GBIT63HdvDM0Lws/47eqIaD3O59WBOFw2lu2Kdt0dN30axFZhHMOeF42Lyz9XtR9YxjqIk//jeZPX+pPTpIbmmXSnhRIHFpCTxGKMXLz3AnV+jD5r+0PZipgfbyjVGThWNvbwZzqDK6ajd26lT4YblG2FlZ5zMHs6JJEEyBeXLFI56Iya/qG542eHncP1KVNPGWbGKqzt1Qz1K3V1/p96U7k5Hj6H7707smdriQRhRD56eFJZ6kaToyD3qkw+TBoXdO+TuuqCw6IeHGp/6yOdqCTQg/Az/j0ZpcP7lo2mp29n94q0md1FgMS1t+qDD5n508UnhUXjdv1TvPds3i5wUVYykvHkEuFT+D9BLbdM0u0LlfEc7Q6jcrRB2v4s7u8JG6zATVSHplXdY/EH++D3QarogPu6HG7/Pggso/3z6nuocGALUTY/tm6uXf3aA7hz6/vWth6vXL+/nmdc9q2/nVDjq5dD3ro880HBbfWexR2hiPgz81A4flpQzyYEvufyXnvhspho5a5n69yj/25y9Q+Wmrz5IQvFDBGQfWIV9B/THy/XvgEdHNXGGIXOF5oOrD1bUgo8SB7XCI26J8SRxADuQ1+OR58uiVZlJfR6VTeVGQ4g8XJBd3+MXxMv9sNcwevYy7hTJTnnBg51R5uP3bK/+CRWxyaSPnzL5ZNyoMUUuuKADaezc5eTkPmlP4s/huC80etjNzhYPPsfmBi6Che8JI+UZJRn6lglTU1ger1eZmbjFzYRAHHpgT4Bgi4AmmAQEt7OAxjmEB/IFr6cGhooypJEsM+X+8YP+OQFx4dFRNr2KgCjgFuimnjmPIF7uRxU9/2Nz/3La8RZkk7GRlXqWpvAmt1x7YCblFSXths6Fo1T5omxfzclWNjj0FbSvDM+rRKMfqpxyhB/TNgFUTLg/8TJHgemKyh1CpJU+TmTN8mxskUz607QZXOcJerf52/JvJ8e/a5AIVeEXBwX2JCA9OABtbAIeAoRHo98B9ChQFZjc+lA075BbaH9Ycejn1Z9HHzbyjzHj8wGcZo8bWamyzUf2qMv4M1LkZrORdfX6zZEiDxpy1O99C4/YpipNx/LwWXupqwburOhyT3Tll1/ytIJWSv75J3uqYdcNUHxJvScsFTR31Oz8zE70OtU5oopOwyH238JZmMUwvEeUi3KhhiQNjZpk5PHy+TATr7iZEYiDAhsKoqXXrpplxF4XjYuMAHvmsDUzf0W43n5cT4Unybd09tHYZirzx7ENYceHixV6a4f62oUM59qpTZPUVSy85R8eyswRVLGaQ+Tpymshn6iuf8V7jT2x4akuJqOvQrz+yG4um0VyLq/JErSIoX2LbdQvYWM8X4hz7RHmsyiDlCz2pE0HPZM8Nj1MvO+NmwvgfrppsN+RLwBB/wbO6kXOWwg79fgwLt5Tso2bGpJcEephebz5liuPm8vO3SvRHgcFFgXXC4D57SgBksqLixFG3nSYuyrRNh901h6e4p40Q8qX/7Gj5qH5NvWiBsmL36YH5pcAr7QePKO3y6YPvW0PioXMNwtWktX4xFV93OidnVd/3o97h9obpK5a8bLdcGR3z0IMr2/4m00j4yDt9BNUqqjY9aFFGnYOTzUaB/8Gc9ljSN8yL2NdAq7c8vmO9HjDrk3S+ZP8nqRFHAMAaFRgBwYAfjH4Iana2toAtsr1wju68Fig7nARYNIMLV7IpwV5KFwdU0rDK7qo6fKweInlUXBk1qwlaxRXWBgnX5G3KORsP86LYZes2YgP11DF6jqEWOieN2LDq3nwOLWww4GJ3/S06YE1hvk4bIz8Ujt3VFd+en5N6eXihhd9kplRu4as1k8auA0aGuTzbEFDjdaJOoxTF62KGiSx/EnpgeH812NAxwOZZ9PTRYDzY32QamryO78uHV3yfrGlmkTlhUhT69r2UGFT6fDhL5N/rm7PX7SfMWhQC9sYgDnqrW7sYeACGLy252S484zMET3aqm2bNEjd6TZot7bkbHzqyuHUR4Z7+KIO09osmf8bzJ1FMUHDjxQPluPY2wap8/p1JafUU5/jnLdsrce/UC/Tc1BanrSdlkLQ9xHk54kr4gtXjBGDJo49CQqsE6D6CtDZQFMSh7AIbI2A3rq2DgiMOI9WTIMbzYffcGhWEroSymIIcPBrdWPl/cfTMottUbGNuvkwdQ3cjYZDjfeejO05swnDUB9SxFiG/Kq/OTLHlW/qdepld5l722YN1JGwyTyKCVrBGBaPPmRIy+/DwuXrv8riFgGeRqYHxl29dt4DL6Qyi9pI8UqVrLc4DCE+D5D1B8JTXecB3QZEExmPgP1WoNZADwOh2QyEvSwxFYaA3rqOkr13f3FwTpPtUdJo1zwzF0XhClnxUJxBT6yw8Yqe617GnSXZJqzy4j20ywbsqFo1bpDTtokW29RPJY43XUc1+krCqOE5fz4NCB5PmP29iQvVyXASjK0hRR+0C9qjwPLZ/KgJpSt5zbuiXuOgwM4IQfRC8EcSU+EI0B8PV8NFNVgx13Ev74gaOnd+v16UTYwHspP4Tfxnwq3I1JI3+etu28HxT0G9m79A740PsZ6yd8eclBemi2cc4r6tXEzj+oWpdm45Zrcg/ZCLaL5huLLxZWIetAoxSMHyRRwWFwaw2IOtxZoXDE61PL6F+ZLKI7ukWoEIPHPBvrAPqWlichZUQYVlQl8ur/PfdeLuulPg+78u6qumLFzty0MbjIkhlw3rtx7Tg4Ln/DStbIwSGS5SwtM8endqoSY5l1ji6ttJISs0o6Sh80btaVMPLCgcb/zk8x3psuZ5nZweXazfRYHFuniqT7iDdk7W4hteCZWytHps3yzrBmI8pslmgUQucuLxYE3hAtW2ziG/ucRBYfLdu0XzeIg9Vfxhc3+Utv7EObyFK/0P3CX+TErkEvyknnNQON4DK+R3xHvZwVIm31cUWPLLUHJQRgSCWtjFFEs/qQLTwqEjPsdVyPRxdWShTL4y0jwfYk+H+5rwsJF33cYtNmwwv2rF5jKNnpM+eyHo++DDkhGjd9MxWUjBm/wqzS0JqxArDXPJTwUhYFOx4SkSusnlNHceh6nCqwMntfsphzeuONANbroixfUsgYUUUK5JUe8GsT8JthtcCcdfXTNol5yiW2l5zBdXNjYJfTw5vQ+VygnvZUPixqPciJEz5Gh/dsQcOMOSDi/KMZKEBJMeWEIKSsSMJwJBQ0QkceMG3r8ZnjnIl6YTX75PHD70G0Ls2b65G/0H1xyibHsebqACWvyUrG0SpABRqeDewavh+Cu/Mxtt40Q+PGF//abMBmYeNtfN9aikpi5cpQ6/f2gqOr7whStFm+8II7AdalywYr3KnO3Cc1JZdumBVVZ5Sm5KjICnFe2XtsbUt2srD2cuqy4P0Y5awghtFUMjWAXYGjZGl8uQAso1fdMCiUIMmwXNv9J1LlFlRsX008e/MAbjnwW3m5h/9uxodeLDn5Vs1aVJhji6iQKLY6mITBWFgD7MyFcffvrrAeqtqw6KnN+fHbJjVhicA9usJwZc+nFQWQFL7GCraP3EuuGo7mpn2Li+B1z9QyZsBG4A3HEWZoKUSD49MB52xbpNrhjeHpjrbLS8PeH71NU2PEzTgKtkpi3yX41qTCChjqLAElpwInY8EOAVip9Ez34x2+PF77Dq0LJR6sw/D4PFC+2Z46zoxitL8su3x0PxFOqZb29pT1hG/z5cwcOHZnk54DFc/744ffQXDtXOuOso9fi5+1iI768G+QWXfhHhfWzvTvze450e8qNZO7jM8Pb31AeTFqZ4Xho9z+UNUp4uE1i4hEENAZsLR3m8SbWLAktqyYncZUegZaN6VkM6y9dmWt0odDGXOfNDaAmgzYXcJUuR5vEsRv55FlFpUBqoOlCxc4X/97P3djdwozIkE6RETA0DCkfPk//2ubrkmdH0mnqa4rzw6VEKzyt8ZkSmYWM7B8YVddCG5QZ163jkqNQXUWCVWrKSr6IjgJWkbcVTDGGwIn7vlwd7ojZVtCvZsJWHuYJeeMXO7TRfxrN6RI/tFF6iesWhO6l/npfpmfHeDedHe5Q5sBm1meE7jNMkwwH3fORJwjDy6/Gnl7UbMsv+uVImf3rm28uleOL+9C6Piru0Ip8gECMEsJKwrXiKITZWxLrBS1DR4JzPEGcpt85Tie9cafkpopd/tr9asjp9vQwOv+HhyGgQqx1rmqjpTPHoGK3ZiEewms0yuLJmLjsV//wnR7qMph4Yen6/cr3Lk7L4MXq51CbW1QzqgflhoEWX+FfpgSW+CCUDpUTg/p/0YslBDywGNcWV0JOgizz7dGml/nPJ/uoxmPP58qaBTNbKtvKDllvDAcUms3fnVmqQQen/8/x91c1wriKe76gbvEjW4OAAABdDSURBVNoGjd8lkXiUVe873lfHPfSZG3TT5sxS/HqwNy8zA+ayZFn8PiNc9LGWKU9+1VDQHFgcvsusTBbBQRRYEUCVKCsXAV4dpYeG/Kqe0mFwNfQk8O4sMvvCMn2s3IJa6MRbzufubG9avnJgzxOHBbtt11RdesgOqlu7pikMLj90Z+uo7zwh++zJ8/p18Q2P81j/Hjkny38+7MEis27TFhV2CSny/mPYDArieeKij35suJErx2o689ADCnuRIUQGhlgFgTAE+HwGDiHGuaUb1EIPy2ex/YddN0C1bJy+kqVQaeGdcO/AtTpkpsPqwygGtxscAPe+fT59iRvspN7t1d8+nm7cIP6Xj6app4ZnFmK4gZjl6RB/Yp27dB1ZU8/1oPhOevjzlH0ZWwT0yZT0CR/oYWqg0BmZthueUwkk+Ed6YAkuPBG9vAhgb4zPvZRXmuzUgyb5s7lL69KxVSOV6/mFxZT0r2fupTq2ylzng0oR5Tz3gC5Zyb49YUGWWyEc3hq/QB187xDj6fq3vT7RTcJUviTnjkW+4NUVoswW6YGVuQAk+eQigL2xWPfAeHcxuTCXVHLsFZ7Yu4N68MOpqXRxpSnCaGqoFGt/3c+fG2OVZ1P6p8Klm3vBNTOFPHzZSpgyMUkPrEzAS7LJRwDqNc/G0rjlKM5DiHHDisuD5YpmYLc2qScqClNDpdxzUCRnSkjnBxVutSgvzLIoMF76YhcEQhDgq8AWw5JsulAxJFhZvE0t9LIIkrBET4B5L1T+Nx3dPSU5znWaemDL1ng3qJc7m4MNKyzLLVOx05chxGIjLPFXFAKbt6SXSOPcCJ43V8xbgPMFjnpgnWC+SYw9AnhTNV8Agg0BkwL7brl34YV9CmZOfoKImcPruoEt18dVqI0N2wC8ISrvTRRY5ZWp5KiICGxydi7jUnWbA1NXsBVkRRTLGDUqMDytgx+XZGQUx0AEcFiuFBvW8RSVNRv8N0zrQs5ZutZ1on2ArkOVWOIwhPgEYL0IaIIP5jjU+yDQNKBxQHsBiREEyoIA9cD87t3Shbrmxa91p5K+42kdbZs1LGmalZZYeruEd78f9pYKfacb3iRww6tYxdkZ6mHbcVcmVxwU2JMA7eAAeI8EP9yNiHQx0N+AxAgCZUFgf9gnhOao3dtZpZ91ZJBVKGGKEwKpIcT0yLEr1lUvfK3w9PlCGjyIWd8PFhQ/KtZqN3FQYEOhEJYGFMTx4Pc0EDaBRgDh8dF2tQcwihEEColAt+2aKbxVd78dWqvT+nRQ7ZoH926iHAJbSDklrsIhYFrE8frY+YVLwIkJ59SizKmaVkYWXKiYRxgHBRYGUXtgmMuY5oEd3cQIAmVFwGYjs+mCybIKLYlHRkCfA9vvrg8jx8ED3HcqP08z4zP4gWHG+9wyHF6bd1DT61ctb0lYxGHqKPuVHQ4xIqna2syRK9VSmJLP0iKA+4DCWsF0vQnuKfr9KXso031dpZVaUouKQLqcM1VOvsPCvdhN0ijLGft2VM9/ydvodhLScVHVPJSYhB4Y9rg6siLtAHa//vuj4NcHqaYm/ApxFqdYBYHICOgtc1MEMxevSTnjKrFtmzSAIcfMMUUmfnGLHwJ8GT0pjXykrFsnU+22hpM/9oEbBHIxpFLxO6xWk0Eyvgi8DqKdA4SlhPeErwAqziFkELEYQcAWAdPqNL+w9Vil5ccj7vFEIK3A0rKF9bhNOejerpnHma9gHQqHGjdrWM/jb/tCslRzDywOQ4jPQ4H1B9oWCHtbtwFRiT4C9reA8FhpXEaPGx/OBxIjCJQdgbA5sKP+PMyVsS7cCyUmmQhgB4c2MtMzSk7OO6Cz6r9rG9XXmTuj5e8Yb2M4KBgpF5NeXFLeS1VzkbuQYXJDrpASwBBwSHTYU74shEe8BYGSI5DqgQWkyleUSQ8sAKiYe2EPjHo70wJubfbLBg7x4V68mXenr3epXbXBw9qwXm4DYfhN4WkcNM/qibRKXuKgwKoEaslmpSGQmgOzPKKBDxtVGg6Vnh9sqCxatV51uf7NSFk9rHtb9cE3CxUqQDQ0V0U9MIqsoXPrM73bPuvXTSswW/5K5BMFVomlKnkqCQK8ZR6WoF5phfGLf3wQwHIeOct+0zLeH9azfTO4R6xOKhP6HFVd7Rj7XBVYWi3CirXOLeMDVoklEQVWYsAlucpBABvWtnMipssHKweJys4J9ZxscokNlQm3H5FiveqFr1JPpwPmBq/jzIeSAoo6hIgrF5es2Zga1hzyq/6qpmkDN+5qs+Q2+FptKEl+BQEDAmFzYDyI6fp37i/2+CKg96CCJN2GDQfS6DINIVI4fTi5Yd10T4388Xlcr+3VnSf0dJ34SsY3rzwo5Y6NJzw5P443W7uCF9kiCqzIAEv0lYsAVkzWPTBqblcuHBWbM70HpWf0iB5tXSeu7Pz2jOnDydsYrkG5Fza9D+zexo332Qv2de0UPkrP0A1cYRZRYBVWoJKd0iGQWsRBu0lDkpUhxBCAYuyt96B0Uf9+Np6dkDZ8k/LJe+OZC3B9RifvHBX1wK4ZtGvK3zQHhm6tGzdIDQ8+fNZeqjVsgh967QD16a8HqJaN6qk2MGx4+3E9UuGr+UfmwKq59CXveSGALXO/VrYecVglqPPLe3wQiNLT4eU8APZ+4cHPusH4TO46H64yHHnTYa5zp9aZi0m/ZO4uQxVapAdWhYUuWS4MAqk5MMseGA37FCZliaWUCPBhwbB0o/CGxSX+4QiIAgvHSDgEASMCUebAwuZRjAmIYywQ+GrOcms5eA/MOhBjxDMzR92c6XUxL7EaEBAFZgBFnAQBGwQizYGJBrOBNLE8vTriNYVKtYIl7vkYvF8OD30WY4eAKDA7nIRLEMhCgBYWmubBPp+22MN/+G6ZlWoeD3mpCAR+eRheGA+37cICi3wMLtgQY4+ALOKwx0o4BQEPAjRchOfk6R2sMx/7wsO7Y00Tz7u8VBYCB+60Ldzr1UldNmDHvDK2g3wnkfATBRYJLmEWBDII0IQ97gXbOnXbT8aP2644dCf+KvYKQgCPjEKDy+fvPmn3CspZMrIiQ4jJKCeRMoYI0N4uOnHBT8Q9OqTnR/z8xT2ZCGzbpL5644r0qRjJzEHypRYFlvwylByUGQF+GseA+z5Wj3860yPR5i0/eN7lJVkI8COdSHI8j/C2Ywu3kfif5++jXrgY7+sVEwUBGUKMgpbwCgIMAZoDY05q5uI16o43JnEn1W9nvKtVTFIRoJMzSP7/XX6g2r1Dc3otyBM3PYuJjoD0wKJjJiEEgRQCfA7MD5IT9tw+5yvj/eIU99IioG9Cb+Rck1JaKSQ1EwLSAzOhIm6CgAUC1AMLmgPbqY2sPrSAMtYsdZ3rT/CCylP2bq9kRWl8ikt6YPEpC5EkYQjQ0nk+B6ZnIco5enpYeY8HAj84U5hNG9ZVg3u2i4dQIkUKAVFg8iEIAjkiQMoJ94H5GVJyfv7iHn8EtjgFTD3u+EtcPRLGRYENBsgnA00Dut4AfydwGwKEV5yOAzoKSIwgUFYEaA6MTuKgJxdKXwDA/cSeDASoXKm8kyF1dUgZBwWG15H+FehIoN2AznCe8HDNzWD7D1BvoNOBHgYSIwiUFQFqkdMcGD25UPVgg6uYZCNA5aov5kh2ripD+jj8u/CqUex5zQDaCPQC0PFA3OAgTXrLu1K4fnU+9xS7IFAOBGh4kObA6MllWbtxC38VewIR2EIaLIGyV7rIcVBg7QHkuQzoeWBHN25+Ay8/BUK/t4CuABIjCJQVAZoDI8VFTy7U08Nn8VexJxCBfnDOIRq6YTmBWahYkeOgwOhQbw6yPi2Ow4pPAnUAwvmvZ4BMsl8M7qOQamtr4SFGECgeAvWd5dWbtqQ/V9NiDmm8Fw//UsXcddvGqRuU9+nSqlRJSjqWCJiUgGXQgrFhr6ojiw2VlD5EeAG44RwYmuFADYFMxxs8Cu59kGpqauAhRhAoHgJ45TuajZvT66xNPbCrBqav2SieFBKzIFC9CMRBgY0E+PFf3hUIb4PDRRqvA3EzB14GOg7d4YkKTLpYDiDyKA8CtEBjk3PW4bCp3jvALjqoqzqrLy6gFSMICALFQCAOCmwzZOxyoHeBvgHCntZEoN8CHQeE5hqgi4DGAj0PdB6QPswITmIEgdIhUN9ZYUg9sLlL13oSx+vhaZ7M4yEvgoAgUBAE6hYklvwjwYUZSNzcyl4mgb0fexerIFB2BGgIcf7ydapn+8Ie7lr2zIkAgkACEIhDDywBMImIgkA2AivWbUo5XvzM6NRTX8RxbK/tswOJiyAgCBQMAVFgBYNSIqo2BPT9QR1abuOBoHPrxp53eREEBIHCIiAKrLB4SmxVhABtZKYsb5Y18wSFPAWBkiAgCqwkMEsilYhA93bpw2Hat0j3vDY4y+krMa+SJ0EgjgiIAotjqYhMiUCg23ZpBdaxVVqB0WrERAgvQgoCFYCAKLAKKETJQnkRGDFjqZrw3QrY0CznHpa3JCT1akMgLsvoqw13yW+FIfC3j6erN8cvqLBcSXYEgXgjID2weJePSJcQBER5JaSgRMyKQkAUWEUVp2SmXAgctLPpaM5ySSPpCgLVgYAosOooZ8llkRFYvQFPRBMjCAgCpURA5sBKibakVbEIfDVnuZu3pg3qqjbNGrjvYhEEBIHiICAKrDi4SqxVjMDY2wZVce4l64JA6RAQBVY6rCWlKkFg661Nd7RWSeYlm4JACRGQObASgi1JCQKCgCAgCBQOAVFghcNSYhIE1HMX9hUUBAFBoEQIiAIrEdCSTHUg0G8nWU5fHSUtuYwDAqLA4lAKIoMgIAgIAoJAZAREgUWGTAIIAoKAICAIxAEBUWBxKAWRIbEI/OOcPq7stx27m2sXiyAgCBQfAVFgxcdYUqhgBLpum7l1+Yge21VwTiVrgkD8EIiLAhsM0EwGmgZ0vQ9Mp4H7JKCJQP/y4RFnQaCkCPA7wOrVicvfqaQQSGKCQNkQiMNG5jqQ+78CHQ40D2gk0OtAqKzI7AyWG4D6AS0DagMkRhAoOwLd2zV1ZagvCszFQiyCQCkQiEOTcV/IKPa8ZgBtBHoB6Hggbi6CF1RyqLzQLEo/5FcQKC8CW22VOXWjbp2MvbxSSeqCQHUgEAcF1h6gnsvgxl4YunGzC7wgfQY0AgiHHMUIArFCQIYQY1UcIkwVIBCHIURTs/VHDXuUE4cR+wN1ABoG1BMocwQ4vIC52CFVW1ubcpAfQaBUCNSTHlipoJZ0BIEUAnHogWGPqyMrD1RQ89k7WpHnNaBNQDOBcMEHKjTdPAoOuK65T01Nje4n74JAURHgw4lFTUgiFwQEgRQCcVBguGgDlVFXoPpApwPhIg5u/gsvAxwHPKsHhxNxzkyMIFB2BB48o7c6eBdpMJW9IESAqkMgDkOImwH1y4HeBcIViU8ATQT6LdAoIFRm6DcICFcmbgG6FmgJkBhBoOwIHNdre4UkRhAQBEqLgGn+qbQSFCm1vffe+8dRo1D/iREEBAFBQBCwRQCGwkcDb+aIGduAZeCLwxBiGbItSQoCgoAgIAgkHQFRYEkvQZFfEBAEBIEqRUAUWJUWvGRbEBAEBIGkIyAKLOklKPILAoKAIFClCIgCq9KCl2wLAoKAIJB0BESBJb0ERX5BQBAQBKoUAVFgVVrwkm1BQBAQBJKOQMXuA4OCwcMQZ8e0gPA0kcUxlS1IrKTKjXkS2YNKtnh+gnvxsA2KOR/cO0PEcrRMELpV7pfUHdZJlRs/N5G9PH86wV1wLxoCMoRYNGglYkFAEBAEBIFiIiAKrJjoStyCgCAgCAgCRUMAD88VUx4E8LyxJJqkyo1Yi+zl+eIEd8G9PAhIqoKAICAICAKCgCAgCAgCgoAgIAgIAoJArBDAO8wWAU1gUrUC+/tAU51nS+bXH+xfA+G9Z58AkRkMFrxtehrQ9eRY5GcU2ZuDLP8DGguEsp8PROZcsGBekdBeCmOS/VRIGGX7AaiPJsQN8I7YIsZHML+44O4n++EgKw7DjXeehzLZ93bcMV8PApVia0xU3FHcTkCrgX6FL44pNe5R5d4D5BwOhN8TYt8QCE3cMa8HMj4FhDJ/A4TfPZlSY07pyjPGCBwMsu0FxBXYvfBOSgifvwdC0wIIL+bEPzSaNulH6jLP6WDfAQhvpkYlsRtQsU0U2W8EYSgfNWBfCoSyorKe4TxRUaOdK2x4LYoxyd4dUtoV6GMgrsAQS8S0AVBXIMQa54CR4oK7n+y9QUa6MbMn2L8DIvMlWPYHQsX1NtCRQMU2UXAnWV4Gy4tApMDKgXsUufGy33FAvYDQtAaiNQNxx/xMkPUFFBpMI6BZQF2AyoE5JFs8I6sQC4PtUIgGK3NujocXbAWhwecJKZtS+HG9AjTHeV/kPPeFJ7aisfLfCIQfIMZRbBNF9h9BmKZAWFk2AcI8bwY6Agh7m/i+zLFjS6/YxiQ7tjixh6UbxBIx3QA0EwixRszjhLuf7F+BnPOB0GBvoCEQKuJ2QM2AhgNh2TwNRN8ZWItmouCOQqBM+F2j7GTKgXsUuQeBoKjAsNGDZgkQ3gafBMzxW2gMhEp4GyCsT1YClQNzSLZ4ZuviRV31MbcFBBY4KOCzjWPfBZ7YO/kYCIeFzgFC0x5obsqW/pnnuDGnkln9ZH8IJMBeAlamODxxFdAPQHGSHcQxGj8Z/dyNkcTA8WSQARUaKmKUHb8TMuX8ZkgG/YkV6a+Bbtc84o47/k9REbwLNAboOiA0ScD8JZBzDRDWO3OA7gPCxmXcMQcRoxnU0GJKiwBivjfQQCBsHWHreQQQ9mp0g3+gOJkjQJivgQ4F2hHofaBhQEmQ3U9GUyMubrgDxCnTA35/DzQo/ZoI3FFx3Q+02pGZHn7lQf7lfuL/9ECgfYDWAn0IhA1O7MnoJm7fC/a0sLe4PRA2lvE/+gFQ3DEHEaMZUWDR8IrCvRCYcbgBW0H4pKHCeWBfDIQtJKShQL2A0L0jEJkOYMGeTjmMn+zngzD3AOEfFofgZgJ1A0LZ+wORQdk/ppeYPIPwjQvuQVAhpq8CYY99usOIeUJ3Mmgv1zdDMujPvuBwCtC9QC2AsMe+HgiVQZxxR2w/AcL/Kpq3gPYCehYo7pjjNMU7QJuAsN75DKgP0FygOGMO4kUzptZntBiE2w+B18HjXMcTn685dnweBFQXqBEQ/sG/ARoJtDNQV6D6QKcDYRzlMH6yzwFhBjoCtYXnrkAzgHCYZRAQtvaQ0I5ucTKYJ8S0ARBijFh/CRQn3EEco8GK/02gG4CwMiKDjaNVQPsBbQWEyo2+M7DGwuC33sWhB+B5FxAORccdd/x+9wDC/yj+Vw8BmgSUBMzxf3ooEH4TjYHw+/gWKO6Yg4hiyoHA85AoftjY4sGW2wVArYE+BJrqPFvBk8y1YME/wwSgX5AjPI8CmgI0HegmoFKYKLLjkMR7QOOBUPafApH5P7BMc+h8cizy0yT7iZAmlsEGIOxJckWKmCK2k4GOBCITF9z9ZL8ZBMXe+teM2jjCY8saywLz9RAQVlrFNlFxJ3l+A5Zf0Qs8S417VLnx+54IhPjeC0SmD1jQLa6YNwHZXgRC2bGewfqGTKkxp3TlKQgIAoKAICAICAKCgCAgCAgCgoAgIAgIAoKAICAICAKCgCAgCAgCgoAgIAgIAoKAICAICAKCgCAgCAgCgoAgIAgIAoKAICAICAKCgCAgCAgCgoAgIAgIAoKAICAICAKCgCAgCAgCgoAgIAgIAoKAICAICAKCgCAgCAgCgoAgIAgIAoKAICAICAKCgCAgCAgCgoAgIAgIAoKAICAICAKCgCAgCAgCgoAgIAgIAoKAICAICAKCgCAgCAgCgoAgIAgIAoKAICAICAKCgCAgCAgCgoAgIAgIAoKAICAICAKCgCAgCAgCgoAgIAgIAoKAICAICAKCgCCgI/D/RY8yF3HdTk0AAAAASUVORK5CYII=\" width=\"432\">"
      ],
      "text/plain": [
       "<IPython.core.display.HTML object>"
      ]
     },
     "metadata": {},
     "output_type": "display_data"
    },
    {
     "data": {
      "text/plain": [
       "[<matplotlib.lines.Line2D at 0x116321320>]"
      ]
     },
     "execution_count": 26,
     "metadata": {},
     "output_type": "execute_result"
    }
   ],
   "source": [
    "X = np.load(way + \"No3.npy\")\n",
    "pylab.figure()\n",
    "pylab.plot(X[0],X[1])"
   ]
  },
  {
   "cell_type": "code",
   "execution_count": 47,
   "metadata": {},
   "outputs": [
    {
     "data": {
      "application/javascript": [
       "/* Put everything inside the global mpl namespace */\n",
       "window.mpl = {};\n",
       "\n",
       "\n",
       "mpl.get_websocket_type = function() {\n",
       "    if (typeof(WebSocket) !== 'undefined') {\n",
       "        return WebSocket;\n",
       "    } else if (typeof(MozWebSocket) !== 'undefined') {\n",
       "        return MozWebSocket;\n",
       "    } else {\n",
       "        alert('Your browser does not have WebSocket support.' +\n",
       "              'Please try Chrome, Safari or Firefox ≥ 6. ' +\n",
       "              'Firefox 4 and 5 are also supported but you ' +\n",
       "              'have to enable WebSockets in about:config.');\n",
       "    };\n",
       "}\n",
       "\n",
       "mpl.figure = function(figure_id, websocket, ondownload, parent_element) {\n",
       "    this.id = figure_id;\n",
       "\n",
       "    this.ws = websocket;\n",
       "\n",
       "    this.supports_binary = (this.ws.binaryType != undefined);\n",
       "\n",
       "    if (!this.supports_binary) {\n",
       "        var warnings = document.getElementById(\"mpl-warnings\");\n",
       "        if (warnings) {\n",
       "            warnings.style.display = 'block';\n",
       "            warnings.textContent = (\n",
       "                \"This browser does not support binary websocket messages. \" +\n",
       "                    \"Performance may be slow.\");\n",
       "        }\n",
       "    }\n",
       "\n",
       "    this.imageObj = new Image();\n",
       "\n",
       "    this.context = undefined;\n",
       "    this.message = undefined;\n",
       "    this.canvas = undefined;\n",
       "    this.rubberband_canvas = undefined;\n",
       "    this.rubberband_context = undefined;\n",
       "    this.format_dropdown = undefined;\n",
       "\n",
       "    this.image_mode = 'full';\n",
       "\n",
       "    this.root = $('<div/>');\n",
       "    this._root_extra_style(this.root)\n",
       "    this.root.attr('style', 'display: inline-block');\n",
       "\n",
       "    $(parent_element).append(this.root);\n",
       "\n",
       "    this._init_header(this);\n",
       "    this._init_canvas(this);\n",
       "    this._init_toolbar(this);\n",
       "\n",
       "    var fig = this;\n",
       "\n",
       "    this.waiting = false;\n",
       "\n",
       "    this.ws.onopen =  function () {\n",
       "            fig.send_message(\"supports_binary\", {value: fig.supports_binary});\n",
       "            fig.send_message(\"send_image_mode\", {});\n",
       "            if (mpl.ratio != 1) {\n",
       "                fig.send_message(\"set_dpi_ratio\", {'dpi_ratio': mpl.ratio});\n",
       "            }\n",
       "            fig.send_message(\"refresh\", {});\n",
       "        }\n",
       "\n",
       "    this.imageObj.onload = function() {\n",
       "            if (fig.image_mode == 'full') {\n",
       "                // Full images could contain transparency (where diff images\n",
       "                // almost always do), so we need to clear the canvas so that\n",
       "                // there is no ghosting.\n",
       "                fig.context.clearRect(0, 0, fig.canvas.width, fig.canvas.height);\n",
       "            }\n",
       "            fig.context.drawImage(fig.imageObj, 0, 0);\n",
       "        };\n",
       "\n",
       "    this.imageObj.onunload = function() {\n",
       "        fig.ws.close();\n",
       "    }\n",
       "\n",
       "    this.ws.onmessage = this._make_on_message_function(this);\n",
       "\n",
       "    this.ondownload = ondownload;\n",
       "}\n",
       "\n",
       "mpl.figure.prototype._init_header = function() {\n",
       "    var titlebar = $(\n",
       "        '<div class=\"ui-dialog-titlebar ui-widget-header ui-corner-all ' +\n",
       "        'ui-helper-clearfix\"/>');\n",
       "    var titletext = $(\n",
       "        '<div class=\"ui-dialog-title\" style=\"width: 100%; ' +\n",
       "        'text-align: center; padding: 3px;\"/>');\n",
       "    titlebar.append(titletext)\n",
       "    this.root.append(titlebar);\n",
       "    this.header = titletext[0];\n",
       "}\n",
       "\n",
       "\n",
       "\n",
       "mpl.figure.prototype._canvas_extra_style = function(canvas_div) {\n",
       "\n",
       "}\n",
       "\n",
       "\n",
       "mpl.figure.prototype._root_extra_style = function(canvas_div) {\n",
       "\n",
       "}\n",
       "\n",
       "mpl.figure.prototype._init_canvas = function() {\n",
       "    var fig = this;\n",
       "\n",
       "    var canvas_div = $('<div/>');\n",
       "\n",
       "    canvas_div.attr('style', 'position: relative; clear: both; outline: 0');\n",
       "\n",
       "    function canvas_keyboard_event(event) {\n",
       "        return fig.key_event(event, event['data']);\n",
       "    }\n",
       "\n",
       "    canvas_div.keydown('key_press', canvas_keyboard_event);\n",
       "    canvas_div.keyup('key_release', canvas_keyboard_event);\n",
       "    this.canvas_div = canvas_div\n",
       "    this._canvas_extra_style(canvas_div)\n",
       "    this.root.append(canvas_div);\n",
       "\n",
       "    var canvas = $('<canvas/>');\n",
       "    canvas.addClass('mpl-canvas');\n",
       "    canvas.attr('style', \"left: 0; top: 0; z-index: 0; outline: 0\")\n",
       "\n",
       "    this.canvas = canvas[0];\n",
       "    this.context = canvas[0].getContext(\"2d\");\n",
       "\n",
       "    var backingStore = this.context.backingStorePixelRatio ||\n",
       "\tthis.context.webkitBackingStorePixelRatio ||\n",
       "\tthis.context.mozBackingStorePixelRatio ||\n",
       "\tthis.context.msBackingStorePixelRatio ||\n",
       "\tthis.context.oBackingStorePixelRatio ||\n",
       "\tthis.context.backingStorePixelRatio || 1;\n",
       "\n",
       "    mpl.ratio = (window.devicePixelRatio || 1) / backingStore;\n",
       "\n",
       "    var rubberband = $('<canvas/>');\n",
       "    rubberband.attr('style', \"position: absolute; left: 0; top: 0; z-index: 1;\")\n",
       "\n",
       "    var pass_mouse_events = true;\n",
       "\n",
       "    canvas_div.resizable({\n",
       "        start: function(event, ui) {\n",
       "            pass_mouse_events = false;\n",
       "        },\n",
       "        resize: function(event, ui) {\n",
       "            fig.request_resize(ui.size.width, ui.size.height);\n",
       "        },\n",
       "        stop: function(event, ui) {\n",
       "            pass_mouse_events = true;\n",
       "            fig.request_resize(ui.size.width, ui.size.height);\n",
       "        },\n",
       "    });\n",
       "\n",
       "    function mouse_event_fn(event) {\n",
       "        if (pass_mouse_events)\n",
       "            return fig.mouse_event(event, event['data']);\n",
       "    }\n",
       "\n",
       "    rubberband.mousedown('button_press', mouse_event_fn);\n",
       "    rubberband.mouseup('button_release', mouse_event_fn);\n",
       "    // Throttle sequential mouse events to 1 every 20ms.\n",
       "    rubberband.mousemove('motion_notify', mouse_event_fn);\n",
       "\n",
       "    rubberband.mouseenter('figure_enter', mouse_event_fn);\n",
       "    rubberband.mouseleave('figure_leave', mouse_event_fn);\n",
       "\n",
       "    canvas_div.on(\"wheel\", function (event) {\n",
       "        event = event.originalEvent;\n",
       "        event['data'] = 'scroll'\n",
       "        if (event.deltaY < 0) {\n",
       "            event.step = 1;\n",
       "        } else {\n",
       "            event.step = -1;\n",
       "        }\n",
       "        mouse_event_fn(event);\n",
       "    });\n",
       "\n",
       "    canvas_div.append(canvas);\n",
       "    canvas_div.append(rubberband);\n",
       "\n",
       "    this.rubberband = rubberband;\n",
       "    this.rubberband_canvas = rubberband[0];\n",
       "    this.rubberband_context = rubberband[0].getContext(\"2d\");\n",
       "    this.rubberband_context.strokeStyle = \"#000000\";\n",
       "\n",
       "    this._resize_canvas = function(width, height) {\n",
       "        // Keep the size of the canvas, canvas container, and rubber band\n",
       "        // canvas in synch.\n",
       "        canvas_div.css('width', width)\n",
       "        canvas_div.css('height', height)\n",
       "\n",
       "        canvas.attr('width', width * mpl.ratio);\n",
       "        canvas.attr('height', height * mpl.ratio);\n",
       "        canvas.attr('style', 'width: ' + width + 'px; height: ' + height + 'px;');\n",
       "\n",
       "        rubberband.attr('width', width);\n",
       "        rubberband.attr('height', height);\n",
       "    }\n",
       "\n",
       "    // Set the figure to an initial 600x600px, this will subsequently be updated\n",
       "    // upon first draw.\n",
       "    this._resize_canvas(600, 600);\n",
       "\n",
       "    // Disable right mouse context menu.\n",
       "    $(this.rubberband_canvas).bind(\"contextmenu\",function(e){\n",
       "        return false;\n",
       "    });\n",
       "\n",
       "    function set_focus () {\n",
       "        canvas.focus();\n",
       "        canvas_div.focus();\n",
       "    }\n",
       "\n",
       "    window.setTimeout(set_focus, 100);\n",
       "}\n",
       "\n",
       "mpl.figure.prototype._init_toolbar = function() {\n",
       "    var fig = this;\n",
       "\n",
       "    var nav_element = $('<div/>')\n",
       "    nav_element.attr('style', 'width: 100%');\n",
       "    this.root.append(nav_element);\n",
       "\n",
       "    // Define a callback function for later on.\n",
       "    function toolbar_event(event) {\n",
       "        return fig.toolbar_button_onclick(event['data']);\n",
       "    }\n",
       "    function toolbar_mouse_event(event) {\n",
       "        return fig.toolbar_button_onmouseover(event['data']);\n",
       "    }\n",
       "\n",
       "    for(var toolbar_ind in mpl.toolbar_items) {\n",
       "        var name = mpl.toolbar_items[toolbar_ind][0];\n",
       "        var tooltip = mpl.toolbar_items[toolbar_ind][1];\n",
       "        var image = mpl.toolbar_items[toolbar_ind][2];\n",
       "        var method_name = mpl.toolbar_items[toolbar_ind][3];\n",
       "\n",
       "        if (!name) {\n",
       "            // put a spacer in here.\n",
       "            continue;\n",
       "        }\n",
       "        var button = $('<button/>');\n",
       "        button.addClass('ui-button ui-widget ui-state-default ui-corner-all ' +\n",
       "                        'ui-button-icon-only');\n",
       "        button.attr('role', 'button');\n",
       "        button.attr('aria-disabled', 'false');\n",
       "        button.click(method_name, toolbar_event);\n",
       "        button.mouseover(tooltip, toolbar_mouse_event);\n",
       "\n",
       "        var icon_img = $('<span/>');\n",
       "        icon_img.addClass('ui-button-icon-primary ui-icon');\n",
       "        icon_img.addClass(image);\n",
       "        icon_img.addClass('ui-corner-all');\n",
       "\n",
       "        var tooltip_span = $('<span/>');\n",
       "        tooltip_span.addClass('ui-button-text');\n",
       "        tooltip_span.html(tooltip);\n",
       "\n",
       "        button.append(icon_img);\n",
       "        button.append(tooltip_span);\n",
       "\n",
       "        nav_element.append(button);\n",
       "    }\n",
       "\n",
       "    var fmt_picker_span = $('<span/>');\n",
       "\n",
       "    var fmt_picker = $('<select/>');\n",
       "    fmt_picker.addClass('mpl-toolbar-option ui-widget ui-widget-content');\n",
       "    fmt_picker_span.append(fmt_picker);\n",
       "    nav_element.append(fmt_picker_span);\n",
       "    this.format_dropdown = fmt_picker[0];\n",
       "\n",
       "    for (var ind in mpl.extensions) {\n",
       "        var fmt = mpl.extensions[ind];\n",
       "        var option = $(\n",
       "            '<option/>', {selected: fmt === mpl.default_extension}).html(fmt);\n",
       "        fmt_picker.append(option)\n",
       "    }\n",
       "\n",
       "    // Add hover states to the ui-buttons\n",
       "    $( \".ui-button\" ).hover(\n",
       "        function() { $(this).addClass(\"ui-state-hover\");},\n",
       "        function() { $(this).removeClass(\"ui-state-hover\");}\n",
       "    );\n",
       "\n",
       "    var status_bar = $('<span class=\"mpl-message\"/>');\n",
       "    nav_element.append(status_bar);\n",
       "    this.message = status_bar[0];\n",
       "}\n",
       "\n",
       "mpl.figure.prototype.request_resize = function(x_pixels, y_pixels) {\n",
       "    // Request matplotlib to resize the figure. Matplotlib will then trigger a resize in the client,\n",
       "    // which will in turn request a refresh of the image.\n",
       "    this.send_message('resize', {'width': x_pixels, 'height': y_pixels});\n",
       "}\n",
       "\n",
       "mpl.figure.prototype.send_message = function(type, properties) {\n",
       "    properties['type'] = type;\n",
       "    properties['figure_id'] = this.id;\n",
       "    this.ws.send(JSON.stringify(properties));\n",
       "}\n",
       "\n",
       "mpl.figure.prototype.send_draw_message = function() {\n",
       "    if (!this.waiting) {\n",
       "        this.waiting = true;\n",
       "        this.ws.send(JSON.stringify({type: \"draw\", figure_id: this.id}));\n",
       "    }\n",
       "}\n",
       "\n",
       "\n",
       "mpl.figure.prototype.handle_save = function(fig, msg) {\n",
       "    var format_dropdown = fig.format_dropdown;\n",
       "    var format = format_dropdown.options[format_dropdown.selectedIndex].value;\n",
       "    fig.ondownload(fig, format);\n",
       "}\n",
       "\n",
       "\n",
       "mpl.figure.prototype.handle_resize = function(fig, msg) {\n",
       "    var size = msg['size'];\n",
       "    if (size[0] != fig.canvas.width || size[1] != fig.canvas.height) {\n",
       "        fig._resize_canvas(size[0], size[1]);\n",
       "        fig.send_message(\"refresh\", {});\n",
       "    };\n",
       "}\n",
       "\n",
       "mpl.figure.prototype.handle_rubberband = function(fig, msg) {\n",
       "    var x0 = msg['x0'] / mpl.ratio;\n",
       "    var y0 = (fig.canvas.height - msg['y0']) / mpl.ratio;\n",
       "    var x1 = msg['x1'] / mpl.ratio;\n",
       "    var y1 = (fig.canvas.height - msg['y1']) / mpl.ratio;\n",
       "    x0 = Math.floor(x0) + 0.5;\n",
       "    y0 = Math.floor(y0) + 0.5;\n",
       "    x1 = Math.floor(x1) + 0.5;\n",
       "    y1 = Math.floor(y1) + 0.5;\n",
       "    var min_x = Math.min(x0, x1);\n",
       "    var min_y = Math.min(y0, y1);\n",
       "    var width = Math.abs(x1 - x0);\n",
       "    var height = Math.abs(y1 - y0);\n",
       "\n",
       "    fig.rubberband_context.clearRect(\n",
       "        0, 0, fig.canvas.width, fig.canvas.height);\n",
       "\n",
       "    fig.rubberband_context.strokeRect(min_x, min_y, width, height);\n",
       "}\n",
       "\n",
       "mpl.figure.prototype.handle_figure_label = function(fig, msg) {\n",
       "    // Updates the figure title.\n",
       "    fig.header.textContent = msg['label'];\n",
       "}\n",
       "\n",
       "mpl.figure.prototype.handle_cursor = function(fig, msg) {\n",
       "    var cursor = msg['cursor'];\n",
       "    switch(cursor)\n",
       "    {\n",
       "    case 0:\n",
       "        cursor = 'pointer';\n",
       "        break;\n",
       "    case 1:\n",
       "        cursor = 'default';\n",
       "        break;\n",
       "    case 2:\n",
       "        cursor = 'crosshair';\n",
       "        break;\n",
       "    case 3:\n",
       "        cursor = 'move';\n",
       "        break;\n",
       "    }\n",
       "    fig.rubberband_canvas.style.cursor = cursor;\n",
       "}\n",
       "\n",
       "mpl.figure.prototype.handle_message = function(fig, msg) {\n",
       "    fig.message.textContent = msg['message'];\n",
       "}\n",
       "\n",
       "mpl.figure.prototype.handle_draw = function(fig, msg) {\n",
       "    // Request the server to send over a new figure.\n",
       "    fig.send_draw_message();\n",
       "}\n",
       "\n",
       "mpl.figure.prototype.handle_image_mode = function(fig, msg) {\n",
       "    fig.image_mode = msg['mode'];\n",
       "}\n",
       "\n",
       "mpl.figure.prototype.updated_canvas_event = function() {\n",
       "    // Called whenever the canvas gets updated.\n",
       "    this.send_message(\"ack\", {});\n",
       "}\n",
       "\n",
       "// A function to construct a web socket function for onmessage handling.\n",
       "// Called in the figure constructor.\n",
       "mpl.figure.prototype._make_on_message_function = function(fig) {\n",
       "    return function socket_on_message(evt) {\n",
       "        if (evt.data instanceof Blob) {\n",
       "            /* FIXME: We get \"Resource interpreted as Image but\n",
       "             * transferred with MIME type text/plain:\" errors on\n",
       "             * Chrome.  But how to set the MIME type?  It doesn't seem\n",
       "             * to be part of the websocket stream */\n",
       "            evt.data.type = \"image/png\";\n",
       "\n",
       "            /* Free the memory for the previous frames */\n",
       "            if (fig.imageObj.src) {\n",
       "                (window.URL || window.webkitURL).revokeObjectURL(\n",
       "                    fig.imageObj.src);\n",
       "            }\n",
       "\n",
       "            fig.imageObj.src = (window.URL || window.webkitURL).createObjectURL(\n",
       "                evt.data);\n",
       "            fig.updated_canvas_event();\n",
       "            fig.waiting = false;\n",
       "            return;\n",
       "        }\n",
       "        else if (typeof evt.data === 'string' && evt.data.slice(0, 21) == \"data:image/png;base64\") {\n",
       "            fig.imageObj.src = evt.data;\n",
       "            fig.updated_canvas_event();\n",
       "            fig.waiting = false;\n",
       "            return;\n",
       "        }\n",
       "\n",
       "        var msg = JSON.parse(evt.data);\n",
       "        var msg_type = msg['type'];\n",
       "\n",
       "        // Call the  \"handle_{type}\" callback, which takes\n",
       "        // the figure and JSON message as its only arguments.\n",
       "        try {\n",
       "            var callback = fig[\"handle_\" + msg_type];\n",
       "        } catch (e) {\n",
       "            console.log(\"No handler for the '\" + msg_type + \"' message type: \", msg);\n",
       "            return;\n",
       "        }\n",
       "\n",
       "        if (callback) {\n",
       "            try {\n",
       "                // console.log(\"Handling '\" + msg_type + \"' message: \", msg);\n",
       "                callback(fig, msg);\n",
       "            } catch (e) {\n",
       "                console.log(\"Exception inside the 'handler_\" + msg_type + \"' callback:\", e, e.stack, msg);\n",
       "            }\n",
       "        }\n",
       "    };\n",
       "}\n",
       "\n",
       "// from http://stackoverflow.com/questions/1114465/getting-mouse-location-in-canvas\n",
       "mpl.findpos = function(e) {\n",
       "    //this section is from http://www.quirksmode.org/js/events_properties.html\n",
       "    var targ;\n",
       "    if (!e)\n",
       "        e = window.event;\n",
       "    if (e.target)\n",
       "        targ = e.target;\n",
       "    else if (e.srcElement)\n",
       "        targ = e.srcElement;\n",
       "    if (targ.nodeType == 3) // defeat Safari bug\n",
       "        targ = targ.parentNode;\n",
       "\n",
       "    // jQuery normalizes the pageX and pageY\n",
       "    // pageX,Y are the mouse positions relative to the document\n",
       "    // offset() returns the position of the element relative to the document\n",
       "    var x = e.pageX - $(targ).offset().left;\n",
       "    var y = e.pageY - $(targ).offset().top;\n",
       "\n",
       "    return {\"x\": x, \"y\": y};\n",
       "};\n",
       "\n",
       "/*\n",
       " * return a copy of an object with only non-object keys\n",
       " * we need this to avoid circular references\n",
       " * http://stackoverflow.com/a/24161582/3208463\n",
       " */\n",
       "function simpleKeys (original) {\n",
       "  return Object.keys(original).reduce(function (obj, key) {\n",
       "    if (typeof original[key] !== 'object')\n",
       "        obj[key] = original[key]\n",
       "    return obj;\n",
       "  }, {});\n",
       "}\n",
       "\n",
       "mpl.figure.prototype.mouse_event = function(event, name) {\n",
       "    var canvas_pos = mpl.findpos(event)\n",
       "\n",
       "    if (name === 'button_press')\n",
       "    {\n",
       "        this.canvas.focus();\n",
       "        this.canvas_div.focus();\n",
       "    }\n",
       "\n",
       "    var x = canvas_pos.x * mpl.ratio;\n",
       "    var y = canvas_pos.y * mpl.ratio;\n",
       "\n",
       "    this.send_message(name, {x: x, y: y, button: event.button,\n",
       "                             step: event.step,\n",
       "                             guiEvent: simpleKeys(event)});\n",
       "\n",
       "    /* This prevents the web browser from automatically changing to\n",
       "     * the text insertion cursor when the button is pressed.  We want\n",
       "     * to control all of the cursor setting manually through the\n",
       "     * 'cursor' event from matplotlib */\n",
       "    event.preventDefault();\n",
       "    return false;\n",
       "}\n",
       "\n",
       "mpl.figure.prototype._key_event_extra = function(event, name) {\n",
       "    // Handle any extra behaviour associated with a key event\n",
       "}\n",
       "\n",
       "mpl.figure.prototype.key_event = function(event, name) {\n",
       "\n",
       "    // Prevent repeat events\n",
       "    if (name == 'key_press')\n",
       "    {\n",
       "        if (event.which === this._key)\n",
       "            return;\n",
       "        else\n",
       "            this._key = event.which;\n",
       "    }\n",
       "    if (name == 'key_release')\n",
       "        this._key = null;\n",
       "\n",
       "    var value = '';\n",
       "    if (event.ctrlKey && event.which != 17)\n",
       "        value += \"ctrl+\";\n",
       "    if (event.altKey && event.which != 18)\n",
       "        value += \"alt+\";\n",
       "    if (event.shiftKey && event.which != 16)\n",
       "        value += \"shift+\";\n",
       "\n",
       "    value += 'k';\n",
       "    value += event.which.toString();\n",
       "\n",
       "    this._key_event_extra(event, name);\n",
       "\n",
       "    this.send_message(name, {key: value,\n",
       "                             guiEvent: simpleKeys(event)});\n",
       "    return false;\n",
       "}\n",
       "\n",
       "mpl.figure.prototype.toolbar_button_onclick = function(name) {\n",
       "    if (name == 'download') {\n",
       "        this.handle_save(this, null);\n",
       "    } else {\n",
       "        this.send_message(\"toolbar_button\", {name: name});\n",
       "    }\n",
       "};\n",
       "\n",
       "mpl.figure.prototype.toolbar_button_onmouseover = function(tooltip) {\n",
       "    this.message.textContent = tooltip;\n",
       "};\n",
       "mpl.toolbar_items = [[\"Home\", \"Reset original view\", \"fa fa-home icon-home\", \"home\"], [\"Back\", \"Back to  previous view\", \"fa fa-arrow-left icon-arrow-left\", \"back\"], [\"Forward\", \"Forward to next view\", \"fa fa-arrow-right icon-arrow-right\", \"forward\"], [\"\", \"\", \"\", \"\"], [\"Pan\", \"Pan axes with left mouse, zoom with right\", \"fa fa-arrows icon-move\", \"pan\"], [\"Zoom\", \"Zoom to rectangle\", \"fa fa-square-o icon-check-empty\", \"zoom\"], [\"\", \"\", \"\", \"\"], [\"Download\", \"Download plot\", \"fa fa-floppy-o icon-save\", \"download\"]];\n",
       "\n",
       "mpl.extensions = [\"eps\", \"jpeg\", \"pdf\", \"png\", \"ps\", \"raw\", \"svg\", \"tif\"];\n",
       "\n",
       "mpl.default_extension = \"png\";var comm_websocket_adapter = function(comm) {\n",
       "    // Create a \"websocket\"-like object which calls the given IPython comm\n",
       "    // object with the appropriate methods. Currently this is a non binary\n",
       "    // socket, so there is still some room for performance tuning.\n",
       "    var ws = {};\n",
       "\n",
       "    ws.close = function() {\n",
       "        comm.close()\n",
       "    };\n",
       "    ws.send = function(m) {\n",
       "        //console.log('sending', m);\n",
       "        comm.send(m);\n",
       "    };\n",
       "    // Register the callback with on_msg.\n",
       "    comm.on_msg(function(msg) {\n",
       "        //console.log('receiving', msg['content']['data'], msg);\n",
       "        // Pass the mpl event to the overriden (by mpl) onmessage function.\n",
       "        ws.onmessage(msg['content']['data'])\n",
       "    });\n",
       "    return ws;\n",
       "}\n",
       "\n",
       "mpl.mpl_figure_comm = function(comm, msg) {\n",
       "    // This is the function which gets called when the mpl process\n",
       "    // starts-up an IPython Comm through the \"matplotlib\" channel.\n",
       "\n",
       "    var id = msg.content.data.id;\n",
       "    // Get hold of the div created by the display call when the Comm\n",
       "    // socket was opened in Python.\n",
       "    var element = $(\"#\" + id);\n",
       "    var ws_proxy = comm_websocket_adapter(comm)\n",
       "\n",
       "    function ondownload(figure, format) {\n",
       "        window.open(figure.imageObj.src);\n",
       "    }\n",
       "\n",
       "    var fig = new mpl.figure(id, ws_proxy,\n",
       "                           ondownload,\n",
       "                           element.get(0));\n",
       "\n",
       "    // Call onopen now - mpl needs it, as it is assuming we've passed it a real\n",
       "    // web socket which is closed, not our websocket->open comm proxy.\n",
       "    ws_proxy.onopen();\n",
       "\n",
       "    fig.parent_element = element.get(0);\n",
       "    fig.cell_info = mpl.find_output_cell(\"<div id='\" + id + \"'></div>\");\n",
       "    if (!fig.cell_info) {\n",
       "        console.error(\"Failed to find cell for figure\", id, fig);\n",
       "        return;\n",
       "    }\n",
       "\n",
       "    var output_index = fig.cell_info[2]\n",
       "    var cell = fig.cell_info[0];\n",
       "\n",
       "};\n",
       "\n",
       "mpl.figure.prototype.handle_close = function(fig, msg) {\n",
       "    var width = fig.canvas.width/mpl.ratio\n",
       "    fig.root.unbind('remove')\n",
       "\n",
       "    // Update the output cell to use the data from the current canvas.\n",
       "    fig.push_to_output();\n",
       "    var dataURL = fig.canvas.toDataURL();\n",
       "    // Re-enable the keyboard manager in IPython - without this line, in FF,\n",
       "    // the notebook keyboard shortcuts fail.\n",
       "    IPython.keyboard_manager.enable()\n",
       "    $(fig.parent_element).html('<img src=\"' + dataURL + '\" width=\"' + width + '\">');\n",
       "    fig.close_ws(fig, msg);\n",
       "}\n",
       "\n",
       "mpl.figure.prototype.close_ws = function(fig, msg){\n",
       "    fig.send_message('closing', msg);\n",
       "    // fig.ws.close()\n",
       "}\n",
       "\n",
       "mpl.figure.prototype.push_to_output = function(remove_interactive) {\n",
       "    // Turn the data on the canvas into data in the output cell.\n",
       "    var width = this.canvas.width/mpl.ratio\n",
       "    var dataURL = this.canvas.toDataURL();\n",
       "    this.cell_info[1]['text/html'] = '<img src=\"' + dataURL + '\" width=\"' + width + '\">';\n",
       "}\n",
       "\n",
       "mpl.figure.prototype.updated_canvas_event = function() {\n",
       "    // Tell IPython that the notebook contents must change.\n",
       "    IPython.notebook.set_dirty(true);\n",
       "    this.send_message(\"ack\", {});\n",
       "    var fig = this;\n",
       "    // Wait a second, then push the new image to the DOM so\n",
       "    // that it is saved nicely (might be nice to debounce this).\n",
       "    setTimeout(function () { fig.push_to_output() }, 1000);\n",
       "}\n",
       "\n",
       "mpl.figure.prototype._init_toolbar = function() {\n",
       "    var fig = this;\n",
       "\n",
       "    var nav_element = $('<div/>')\n",
       "    nav_element.attr('style', 'width: 100%');\n",
       "    this.root.append(nav_element);\n",
       "\n",
       "    // Define a callback function for later on.\n",
       "    function toolbar_event(event) {\n",
       "        return fig.toolbar_button_onclick(event['data']);\n",
       "    }\n",
       "    function toolbar_mouse_event(event) {\n",
       "        return fig.toolbar_button_onmouseover(event['data']);\n",
       "    }\n",
       "\n",
       "    for(var toolbar_ind in mpl.toolbar_items){\n",
       "        var name = mpl.toolbar_items[toolbar_ind][0];\n",
       "        var tooltip = mpl.toolbar_items[toolbar_ind][1];\n",
       "        var image = mpl.toolbar_items[toolbar_ind][2];\n",
       "        var method_name = mpl.toolbar_items[toolbar_ind][3];\n",
       "\n",
       "        if (!name) { continue; };\n",
       "\n",
       "        var button = $('<button class=\"btn btn-default\" href=\"#\" title=\"' + name + '\"><i class=\"fa ' + image + ' fa-lg\"></i></button>');\n",
       "        button.click(method_name, toolbar_event);\n",
       "        button.mouseover(tooltip, toolbar_mouse_event);\n",
       "        nav_element.append(button);\n",
       "    }\n",
       "\n",
       "    // Add the status bar.\n",
       "    var status_bar = $('<span class=\"mpl-message\" style=\"text-align:right; float: right;\"/>');\n",
       "    nav_element.append(status_bar);\n",
       "    this.message = status_bar[0];\n",
       "\n",
       "    // Add the close button to the window.\n",
       "    var buttongrp = $('<div class=\"btn-group inline pull-right\"></div>');\n",
       "    var button = $('<button class=\"btn btn-mini btn-primary\" href=\"#\" title=\"Stop Interaction\"><i class=\"fa fa-power-off icon-remove icon-large\"></i></button>');\n",
       "    button.click(function (evt) { fig.handle_close(fig, {}); } );\n",
       "    button.mouseover('Stop Interaction', toolbar_mouse_event);\n",
       "    buttongrp.append(button);\n",
       "    var titlebar = this.root.find($('.ui-dialog-titlebar'));\n",
       "    titlebar.prepend(buttongrp);\n",
       "}\n",
       "\n",
       "mpl.figure.prototype._root_extra_style = function(el){\n",
       "    var fig = this\n",
       "    el.on(\"remove\", function(){\n",
       "\tfig.close_ws(fig, {});\n",
       "    });\n",
       "}\n",
       "\n",
       "mpl.figure.prototype._canvas_extra_style = function(el){\n",
       "    // this is important to make the div 'focusable\n",
       "    el.attr('tabindex', 0)\n",
       "    // reach out to IPython and tell the keyboard manager to turn it's self\n",
       "    // off when our div gets focus\n",
       "\n",
       "    // location in version 3\n",
       "    if (IPython.notebook.keyboard_manager) {\n",
       "        IPython.notebook.keyboard_manager.register_events(el);\n",
       "    }\n",
       "    else {\n",
       "        // location in version 2\n",
       "        IPython.keyboard_manager.register_events(el);\n",
       "    }\n",
       "\n",
       "}\n",
       "\n",
       "mpl.figure.prototype._key_event_extra = function(event, name) {\n",
       "    var manager = IPython.notebook.keyboard_manager;\n",
       "    if (!manager)\n",
       "        manager = IPython.keyboard_manager;\n",
       "\n",
       "    // Check for shift+enter\n",
       "    if (event.shiftKey && event.which == 13) {\n",
       "        this.canvas_div.blur();\n",
       "        event.shiftKey = false;\n",
       "        // Send a \"J\" for go to next cell\n",
       "        event.which = 74;\n",
       "        event.keyCode = 74;\n",
       "        manager.command_mode();\n",
       "        manager.handle_keydown(event);\n",
       "    }\n",
       "}\n",
       "\n",
       "mpl.figure.prototype.handle_save = function(fig, msg) {\n",
       "    fig.ondownload(fig, null);\n",
       "}\n",
       "\n",
       "\n",
       "mpl.find_output_cell = function(html_output) {\n",
       "    // Return the cell and output element which can be found *uniquely* in the notebook.\n",
       "    // Note - this is a bit hacky, but it is done because the \"notebook_saving.Notebook\"\n",
       "    // IPython event is triggered only after the cells have been serialised, which for\n",
       "    // our purposes (turning an active figure into a static one), is too late.\n",
       "    var cells = IPython.notebook.get_cells();\n",
       "    var ncells = cells.length;\n",
       "    for (var i=0; i<ncells; i++) {\n",
       "        var cell = cells[i];\n",
       "        if (cell.cell_type === 'code'){\n",
       "            for (var j=0; j<cell.output_area.outputs.length; j++) {\n",
       "                var data = cell.output_area.outputs[j];\n",
       "                if (data.data) {\n",
       "                    // IPython >= 3 moved mimebundle to data attribute of output\n",
       "                    data = data.data;\n",
       "                }\n",
       "                if (data['text/html'] == html_output) {\n",
       "                    return [cell, data, j];\n",
       "                }\n",
       "            }\n",
       "        }\n",
       "    }\n",
       "}\n",
       "\n",
       "// Register the function which deals with the matplotlib target/channel.\n",
       "// The kernel may be null if the page has been refreshed.\n",
       "if (IPython.notebook.kernel != null) {\n",
       "    IPython.notebook.kernel.comm_manager.register_target('matplotlib', mpl.mpl_figure_comm);\n",
       "}\n"
      ],
      "text/plain": [
       "<IPython.core.display.Javascript object>"
      ]
     },
     "metadata": {},
     "output_type": "display_data"
    },
    {
     "data": {
      "text/html": [
       "<img src=\"data:image/png;base64,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\" width=\"432\">"
      ],
      "text/plain": [
       "<IPython.core.display.HTML object>"
      ]
     },
     "metadata": {},
     "output_type": "display_data"
    },
    {
     "data": {
      "text/plain": [
       "[<matplotlib.lines.Line2D at 0x117d703c8>]"
      ]
     },
     "execution_count": 47,
     "metadata": {},
     "output_type": "execute_result"
    }
   ],
   "source": [
    "X = np.load(way +\"No4.npy\")\n",
    "pylab.figure()\n",
    "pylab.plot(X[0],X[1])"
   ]
  },
  {
   "cell_type": "code",
   "execution_count": 28,
   "metadata": {},
   "outputs": [
    {
     "data": {
      "application/javascript": [
       "/* Put everything inside the global mpl namespace */\n",
       "window.mpl = {};\n",
       "\n",
       "\n",
       "mpl.get_websocket_type = function() {\n",
       "    if (typeof(WebSocket) !== 'undefined') {\n",
       "        return WebSocket;\n",
       "    } else if (typeof(MozWebSocket) !== 'undefined') {\n",
       "        return MozWebSocket;\n",
       "    } else {\n",
       "        alert('Your browser does not have WebSocket support.' +\n",
       "              'Please try Chrome, Safari or Firefox ≥ 6. ' +\n",
       "              'Firefox 4 and 5 are also supported but you ' +\n",
       "              'have to enable WebSockets in about:config.');\n",
       "    };\n",
       "}\n",
       "\n",
       "mpl.figure = function(figure_id, websocket, ondownload, parent_element) {\n",
       "    this.id = figure_id;\n",
       "\n",
       "    this.ws = websocket;\n",
       "\n",
       "    this.supports_binary = (this.ws.binaryType != undefined);\n",
       "\n",
       "    if (!this.supports_binary) {\n",
       "        var warnings = document.getElementById(\"mpl-warnings\");\n",
       "        if (warnings) {\n",
       "            warnings.style.display = 'block';\n",
       "            warnings.textContent = (\n",
       "                \"This browser does not support binary websocket messages. \" +\n",
       "                    \"Performance may be slow.\");\n",
       "        }\n",
       "    }\n",
       "\n",
       "    this.imageObj = new Image();\n",
       "\n",
       "    this.context = undefined;\n",
       "    this.message = undefined;\n",
       "    this.canvas = undefined;\n",
       "    this.rubberband_canvas = undefined;\n",
       "    this.rubberband_context = undefined;\n",
       "    this.format_dropdown = undefined;\n",
       "\n",
       "    this.image_mode = 'full';\n",
       "\n",
       "    this.root = $('<div/>');\n",
       "    this._root_extra_style(this.root)\n",
       "    this.root.attr('style', 'display: inline-block');\n",
       "\n",
       "    $(parent_element).append(this.root);\n",
       "\n",
       "    this._init_header(this);\n",
       "    this._init_canvas(this);\n",
       "    this._init_toolbar(this);\n",
       "\n",
       "    var fig = this;\n",
       "\n",
       "    this.waiting = false;\n",
       "\n",
       "    this.ws.onopen =  function () {\n",
       "            fig.send_message(\"supports_binary\", {value: fig.supports_binary});\n",
       "            fig.send_message(\"send_image_mode\", {});\n",
       "            if (mpl.ratio != 1) {\n",
       "                fig.send_message(\"set_dpi_ratio\", {'dpi_ratio': mpl.ratio});\n",
       "            }\n",
       "            fig.send_message(\"refresh\", {});\n",
       "        }\n",
       "\n",
       "    this.imageObj.onload = function() {\n",
       "            if (fig.image_mode == 'full') {\n",
       "                // Full images could contain transparency (where diff images\n",
       "                // almost always do), so we need to clear the canvas so that\n",
       "                // there is no ghosting.\n",
       "                fig.context.clearRect(0, 0, fig.canvas.width, fig.canvas.height);\n",
       "            }\n",
       "            fig.context.drawImage(fig.imageObj, 0, 0);\n",
       "        };\n",
       "\n",
       "    this.imageObj.onunload = function() {\n",
       "        fig.ws.close();\n",
       "    }\n",
       "\n",
       "    this.ws.onmessage = this._make_on_message_function(this);\n",
       "\n",
       "    this.ondownload = ondownload;\n",
       "}\n",
       "\n",
       "mpl.figure.prototype._init_header = function() {\n",
       "    var titlebar = $(\n",
       "        '<div class=\"ui-dialog-titlebar ui-widget-header ui-corner-all ' +\n",
       "        'ui-helper-clearfix\"/>');\n",
       "    var titletext = $(\n",
       "        '<div class=\"ui-dialog-title\" style=\"width: 100%; ' +\n",
       "        'text-align: center; padding: 3px;\"/>');\n",
       "    titlebar.append(titletext)\n",
       "    this.root.append(titlebar);\n",
       "    this.header = titletext[0];\n",
       "}\n",
       "\n",
       "\n",
       "\n",
       "mpl.figure.prototype._canvas_extra_style = function(canvas_div) {\n",
       "\n",
       "}\n",
       "\n",
       "\n",
       "mpl.figure.prototype._root_extra_style = function(canvas_div) {\n",
       "\n",
       "}\n",
       "\n",
       "mpl.figure.prototype._init_canvas = function() {\n",
       "    var fig = this;\n",
       "\n",
       "    var canvas_div = $('<div/>');\n",
       "\n",
       "    canvas_div.attr('style', 'position: relative; clear: both; outline: 0');\n",
       "\n",
       "    function canvas_keyboard_event(event) {\n",
       "        return fig.key_event(event, event['data']);\n",
       "    }\n",
       "\n",
       "    canvas_div.keydown('key_press', canvas_keyboard_event);\n",
       "    canvas_div.keyup('key_release', canvas_keyboard_event);\n",
       "    this.canvas_div = canvas_div\n",
       "    this._canvas_extra_style(canvas_div)\n",
       "    this.root.append(canvas_div);\n",
       "\n",
       "    var canvas = $('<canvas/>');\n",
       "    canvas.addClass('mpl-canvas');\n",
       "    canvas.attr('style', \"left: 0; top: 0; z-index: 0; outline: 0\")\n",
       "\n",
       "    this.canvas = canvas[0];\n",
       "    this.context = canvas[0].getContext(\"2d\");\n",
       "\n",
       "    var backingStore = this.context.backingStorePixelRatio ||\n",
       "\tthis.context.webkitBackingStorePixelRatio ||\n",
       "\tthis.context.mozBackingStorePixelRatio ||\n",
       "\tthis.context.msBackingStorePixelRatio ||\n",
       "\tthis.context.oBackingStorePixelRatio ||\n",
       "\tthis.context.backingStorePixelRatio || 1;\n",
       "\n",
       "    mpl.ratio = (window.devicePixelRatio || 1) / backingStore;\n",
       "\n",
       "    var rubberband = $('<canvas/>');\n",
       "    rubberband.attr('style', \"position: absolute; left: 0; top: 0; z-index: 1;\")\n",
       "\n",
       "    var pass_mouse_events = true;\n",
       "\n",
       "    canvas_div.resizable({\n",
       "        start: function(event, ui) {\n",
       "            pass_mouse_events = false;\n",
       "        },\n",
       "        resize: function(event, ui) {\n",
       "            fig.request_resize(ui.size.width, ui.size.height);\n",
       "        },\n",
       "        stop: function(event, ui) {\n",
       "            pass_mouse_events = true;\n",
       "            fig.request_resize(ui.size.width, ui.size.height);\n",
       "        },\n",
       "    });\n",
       "\n",
       "    function mouse_event_fn(event) {\n",
       "        if (pass_mouse_events)\n",
       "            return fig.mouse_event(event, event['data']);\n",
       "    }\n",
       "\n",
       "    rubberband.mousedown('button_press', mouse_event_fn);\n",
       "    rubberband.mouseup('button_release', mouse_event_fn);\n",
       "    // Throttle sequential mouse events to 1 every 20ms.\n",
       "    rubberband.mousemove('motion_notify', mouse_event_fn);\n",
       "\n",
       "    rubberband.mouseenter('figure_enter', mouse_event_fn);\n",
       "    rubberband.mouseleave('figure_leave', mouse_event_fn);\n",
       "\n",
       "    canvas_div.on(\"wheel\", function (event) {\n",
       "        event = event.originalEvent;\n",
       "        event['data'] = 'scroll'\n",
       "        if (event.deltaY < 0) {\n",
       "            event.step = 1;\n",
       "        } else {\n",
       "            event.step = -1;\n",
       "        }\n",
       "        mouse_event_fn(event);\n",
       "    });\n",
       "\n",
       "    canvas_div.append(canvas);\n",
       "    canvas_div.append(rubberband);\n",
       "\n",
       "    this.rubberband = rubberband;\n",
       "    this.rubberband_canvas = rubberband[0];\n",
       "    this.rubberband_context = rubberband[0].getContext(\"2d\");\n",
       "    this.rubberband_context.strokeStyle = \"#000000\";\n",
       "\n",
       "    this._resize_canvas = function(width, height) {\n",
       "        // Keep the size of the canvas, canvas container, and rubber band\n",
       "        // canvas in synch.\n",
       "        canvas_div.css('width', width)\n",
       "        canvas_div.css('height', height)\n",
       "\n",
       "        canvas.attr('width', width * mpl.ratio);\n",
       "        canvas.attr('height', height * mpl.ratio);\n",
       "        canvas.attr('style', 'width: ' + width + 'px; height: ' + height + 'px;');\n",
       "\n",
       "        rubberband.attr('width', width);\n",
       "        rubberband.attr('height', height);\n",
       "    }\n",
       "\n",
       "    // Set the figure to an initial 600x600px, this will subsequently be updated\n",
       "    // upon first draw.\n",
       "    this._resize_canvas(600, 600);\n",
       "\n",
       "    // Disable right mouse context menu.\n",
       "    $(this.rubberband_canvas).bind(\"contextmenu\",function(e){\n",
       "        return false;\n",
       "    });\n",
       "\n",
       "    function set_focus () {\n",
       "        canvas.focus();\n",
       "        canvas_div.focus();\n",
       "    }\n",
       "\n",
       "    window.setTimeout(set_focus, 100);\n",
       "}\n",
       "\n",
       "mpl.figure.prototype._init_toolbar = function() {\n",
       "    var fig = this;\n",
       "\n",
       "    var nav_element = $('<div/>')\n",
       "    nav_element.attr('style', 'width: 100%');\n",
       "    this.root.append(nav_element);\n",
       "\n",
       "    // Define a callback function for later on.\n",
       "    function toolbar_event(event) {\n",
       "        return fig.toolbar_button_onclick(event['data']);\n",
       "    }\n",
       "    function toolbar_mouse_event(event) {\n",
       "        return fig.toolbar_button_onmouseover(event['data']);\n",
       "    }\n",
       "\n",
       "    for(var toolbar_ind in mpl.toolbar_items) {\n",
       "        var name = mpl.toolbar_items[toolbar_ind][0];\n",
       "        var tooltip = mpl.toolbar_items[toolbar_ind][1];\n",
       "        var image = mpl.toolbar_items[toolbar_ind][2];\n",
       "        var method_name = mpl.toolbar_items[toolbar_ind][3];\n",
       "\n",
       "        if (!name) {\n",
       "            // put a spacer in here.\n",
       "            continue;\n",
       "        }\n",
       "        var button = $('<button/>');\n",
       "        button.addClass('ui-button ui-widget ui-state-default ui-corner-all ' +\n",
       "                        'ui-button-icon-only');\n",
       "        button.attr('role', 'button');\n",
       "        button.attr('aria-disabled', 'false');\n",
       "        button.click(method_name, toolbar_event);\n",
       "        button.mouseover(tooltip, toolbar_mouse_event);\n",
       "\n",
       "        var icon_img = $('<span/>');\n",
       "        icon_img.addClass('ui-button-icon-primary ui-icon');\n",
       "        icon_img.addClass(image);\n",
       "        icon_img.addClass('ui-corner-all');\n",
       "\n",
       "        var tooltip_span = $('<span/>');\n",
       "        tooltip_span.addClass('ui-button-text');\n",
       "        tooltip_span.html(tooltip);\n",
       "\n",
       "        button.append(icon_img);\n",
       "        button.append(tooltip_span);\n",
       "\n",
       "        nav_element.append(button);\n",
       "    }\n",
       "\n",
       "    var fmt_picker_span = $('<span/>');\n",
       "\n",
       "    var fmt_picker = $('<select/>');\n",
       "    fmt_picker.addClass('mpl-toolbar-option ui-widget ui-widget-content');\n",
       "    fmt_picker_span.append(fmt_picker);\n",
       "    nav_element.append(fmt_picker_span);\n",
       "    this.format_dropdown = fmt_picker[0];\n",
       "\n",
       "    for (var ind in mpl.extensions) {\n",
       "        var fmt = mpl.extensions[ind];\n",
       "        var option = $(\n",
       "            '<option/>', {selected: fmt === mpl.default_extension}).html(fmt);\n",
       "        fmt_picker.append(option)\n",
       "    }\n",
       "\n",
       "    // Add hover states to the ui-buttons\n",
       "    $( \".ui-button\" ).hover(\n",
       "        function() { $(this).addClass(\"ui-state-hover\");},\n",
       "        function() { $(this).removeClass(\"ui-state-hover\");}\n",
       "    );\n",
       "\n",
       "    var status_bar = $('<span class=\"mpl-message\"/>');\n",
       "    nav_element.append(status_bar);\n",
       "    this.message = status_bar[0];\n",
       "}\n",
       "\n",
       "mpl.figure.prototype.request_resize = function(x_pixels, y_pixels) {\n",
       "    // Request matplotlib to resize the figure. Matplotlib will then trigger a resize in the client,\n",
       "    // which will in turn request a refresh of the image.\n",
       "    this.send_message('resize', {'width': x_pixels, 'height': y_pixels});\n",
       "}\n",
       "\n",
       "mpl.figure.prototype.send_message = function(type, properties) {\n",
       "    properties['type'] = type;\n",
       "    properties['figure_id'] = this.id;\n",
       "    this.ws.send(JSON.stringify(properties));\n",
       "}\n",
       "\n",
       "mpl.figure.prototype.send_draw_message = function() {\n",
       "    if (!this.waiting) {\n",
       "        this.waiting = true;\n",
       "        this.ws.send(JSON.stringify({type: \"draw\", figure_id: this.id}));\n",
       "    }\n",
       "}\n",
       "\n",
       "\n",
       "mpl.figure.prototype.handle_save = function(fig, msg) {\n",
       "    var format_dropdown = fig.format_dropdown;\n",
       "    var format = format_dropdown.options[format_dropdown.selectedIndex].value;\n",
       "    fig.ondownload(fig, format);\n",
       "}\n",
       "\n",
       "\n",
       "mpl.figure.prototype.handle_resize = function(fig, msg) {\n",
       "    var size = msg['size'];\n",
       "    if (size[0] != fig.canvas.width || size[1] != fig.canvas.height) {\n",
       "        fig._resize_canvas(size[0], size[1]);\n",
       "        fig.send_message(\"refresh\", {});\n",
       "    };\n",
       "}\n",
       "\n",
       "mpl.figure.prototype.handle_rubberband = function(fig, msg) {\n",
       "    var x0 = msg['x0'] / mpl.ratio;\n",
       "    var y0 = (fig.canvas.height - msg['y0']) / mpl.ratio;\n",
       "    var x1 = msg['x1'] / mpl.ratio;\n",
       "    var y1 = (fig.canvas.height - msg['y1']) / mpl.ratio;\n",
       "    x0 = Math.floor(x0) + 0.5;\n",
       "    y0 = Math.floor(y0) + 0.5;\n",
       "    x1 = Math.floor(x1) + 0.5;\n",
       "    y1 = Math.floor(y1) + 0.5;\n",
       "    var min_x = Math.min(x0, x1);\n",
       "    var min_y = Math.min(y0, y1);\n",
       "    var width = Math.abs(x1 - x0);\n",
       "    var height = Math.abs(y1 - y0);\n",
       "\n",
       "    fig.rubberband_context.clearRect(\n",
       "        0, 0, fig.canvas.width, fig.canvas.height);\n",
       "\n",
       "    fig.rubberband_context.strokeRect(min_x, min_y, width, height);\n",
       "}\n",
       "\n",
       "mpl.figure.prototype.handle_figure_label = function(fig, msg) {\n",
       "    // Updates the figure title.\n",
       "    fig.header.textContent = msg['label'];\n",
       "}\n",
       "\n",
       "mpl.figure.prototype.handle_cursor = function(fig, msg) {\n",
       "    var cursor = msg['cursor'];\n",
       "    switch(cursor)\n",
       "    {\n",
       "    case 0:\n",
       "        cursor = 'pointer';\n",
       "        break;\n",
       "    case 1:\n",
       "        cursor = 'default';\n",
       "        break;\n",
       "    case 2:\n",
       "        cursor = 'crosshair';\n",
       "        break;\n",
       "    case 3:\n",
       "        cursor = 'move';\n",
       "        break;\n",
       "    }\n",
       "    fig.rubberband_canvas.style.cursor = cursor;\n",
       "}\n",
       "\n",
       "mpl.figure.prototype.handle_message = function(fig, msg) {\n",
       "    fig.message.textContent = msg['message'];\n",
       "}\n",
       "\n",
       "mpl.figure.prototype.handle_draw = function(fig, msg) {\n",
       "    // Request the server to send over a new figure.\n",
       "    fig.send_draw_message();\n",
       "}\n",
       "\n",
       "mpl.figure.prototype.handle_image_mode = function(fig, msg) {\n",
       "    fig.image_mode = msg['mode'];\n",
       "}\n",
       "\n",
       "mpl.figure.prototype.updated_canvas_event = function() {\n",
       "    // Called whenever the canvas gets updated.\n",
       "    this.send_message(\"ack\", {});\n",
       "}\n",
       "\n",
       "// A function to construct a web socket function for onmessage handling.\n",
       "// Called in the figure constructor.\n",
       "mpl.figure.prototype._make_on_message_function = function(fig) {\n",
       "    return function socket_on_message(evt) {\n",
       "        if (evt.data instanceof Blob) {\n",
       "            /* FIXME: We get \"Resource interpreted as Image but\n",
       "             * transferred with MIME type text/plain:\" errors on\n",
       "             * Chrome.  But how to set the MIME type?  It doesn't seem\n",
       "             * to be part of the websocket stream */\n",
       "            evt.data.type = \"image/png\";\n",
       "\n",
       "            /* Free the memory for the previous frames */\n",
       "            if (fig.imageObj.src) {\n",
       "                (window.URL || window.webkitURL).revokeObjectURL(\n",
       "                    fig.imageObj.src);\n",
       "            }\n",
       "\n",
       "            fig.imageObj.src = (window.URL || window.webkitURL).createObjectURL(\n",
       "                evt.data);\n",
       "            fig.updated_canvas_event();\n",
       "            fig.waiting = false;\n",
       "            return;\n",
       "        }\n",
       "        else if (typeof evt.data === 'string' && evt.data.slice(0, 21) == \"data:image/png;base64\") {\n",
       "            fig.imageObj.src = evt.data;\n",
       "            fig.updated_canvas_event();\n",
       "            fig.waiting = false;\n",
       "            return;\n",
       "        }\n",
       "\n",
       "        var msg = JSON.parse(evt.data);\n",
       "        var msg_type = msg['type'];\n",
       "\n",
       "        // Call the  \"handle_{type}\" callback, which takes\n",
       "        // the figure and JSON message as its only arguments.\n",
       "        try {\n",
       "            var callback = fig[\"handle_\" + msg_type];\n",
       "        } catch (e) {\n",
       "            console.log(\"No handler for the '\" + msg_type + \"' message type: \", msg);\n",
       "            return;\n",
       "        }\n",
       "\n",
       "        if (callback) {\n",
       "            try {\n",
       "                // console.log(\"Handling '\" + msg_type + \"' message: \", msg);\n",
       "                callback(fig, msg);\n",
       "            } catch (e) {\n",
       "                console.log(\"Exception inside the 'handler_\" + msg_type + \"' callback:\", e, e.stack, msg);\n",
       "            }\n",
       "        }\n",
       "    };\n",
       "}\n",
       "\n",
       "// from http://stackoverflow.com/questions/1114465/getting-mouse-location-in-canvas\n",
       "mpl.findpos = function(e) {\n",
       "    //this section is from http://www.quirksmode.org/js/events_properties.html\n",
       "    var targ;\n",
       "    if (!e)\n",
       "        e = window.event;\n",
       "    if (e.target)\n",
       "        targ = e.target;\n",
       "    else if (e.srcElement)\n",
       "        targ = e.srcElement;\n",
       "    if (targ.nodeType == 3) // defeat Safari bug\n",
       "        targ = targ.parentNode;\n",
       "\n",
       "    // jQuery normalizes the pageX and pageY\n",
       "    // pageX,Y are the mouse positions relative to the document\n",
       "    // offset() returns the position of the element relative to the document\n",
       "    var x = e.pageX - $(targ).offset().left;\n",
       "    var y = e.pageY - $(targ).offset().top;\n",
       "\n",
       "    return {\"x\": x, \"y\": y};\n",
       "};\n",
       "\n",
       "/*\n",
       " * return a copy of an object with only non-object keys\n",
       " * we need this to avoid circular references\n",
       " * http://stackoverflow.com/a/24161582/3208463\n",
       " */\n",
       "function simpleKeys (original) {\n",
       "  return Object.keys(original).reduce(function (obj, key) {\n",
       "    if (typeof original[key] !== 'object')\n",
       "        obj[key] = original[key]\n",
       "    return obj;\n",
       "  }, {});\n",
       "}\n",
       "\n",
       "mpl.figure.prototype.mouse_event = function(event, name) {\n",
       "    var canvas_pos = mpl.findpos(event)\n",
       "\n",
       "    if (name === 'button_press')\n",
       "    {\n",
       "        this.canvas.focus();\n",
       "        this.canvas_div.focus();\n",
       "    }\n",
       "\n",
       "    var x = canvas_pos.x * mpl.ratio;\n",
       "    var y = canvas_pos.y * mpl.ratio;\n",
       "\n",
       "    this.send_message(name, {x: x, y: y, button: event.button,\n",
       "                             step: event.step,\n",
       "                             guiEvent: simpleKeys(event)});\n",
       "\n",
       "    /* This prevents the web browser from automatically changing to\n",
       "     * the text insertion cursor when the button is pressed.  We want\n",
       "     * to control all of the cursor setting manually through the\n",
       "     * 'cursor' event from matplotlib */\n",
       "    event.preventDefault();\n",
       "    return false;\n",
       "}\n",
       "\n",
       "mpl.figure.prototype._key_event_extra = function(event, name) {\n",
       "    // Handle any extra behaviour associated with a key event\n",
       "}\n",
       "\n",
       "mpl.figure.prototype.key_event = function(event, name) {\n",
       "\n",
       "    // Prevent repeat events\n",
       "    if (name == 'key_press')\n",
       "    {\n",
       "        if (event.which === this._key)\n",
       "            return;\n",
       "        else\n",
       "            this._key = event.which;\n",
       "    }\n",
       "    if (name == 'key_release')\n",
       "        this._key = null;\n",
       "\n",
       "    var value = '';\n",
       "    if (event.ctrlKey && event.which != 17)\n",
       "        value += \"ctrl+\";\n",
       "    if (event.altKey && event.which != 18)\n",
       "        value += \"alt+\";\n",
       "    if (event.shiftKey && event.which != 16)\n",
       "        value += \"shift+\";\n",
       "\n",
       "    value += 'k';\n",
       "    value += event.which.toString();\n",
       "\n",
       "    this._key_event_extra(event, name);\n",
       "\n",
       "    this.send_message(name, {key: value,\n",
       "                             guiEvent: simpleKeys(event)});\n",
       "    return false;\n",
       "}\n",
       "\n",
       "mpl.figure.prototype.toolbar_button_onclick = function(name) {\n",
       "    if (name == 'download') {\n",
       "        this.handle_save(this, null);\n",
       "    } else {\n",
       "        this.send_message(\"toolbar_button\", {name: name});\n",
       "    }\n",
       "};\n",
       "\n",
       "mpl.figure.prototype.toolbar_button_onmouseover = function(tooltip) {\n",
       "    this.message.textContent = tooltip;\n",
       "};\n",
       "mpl.toolbar_items = [[\"Home\", \"Reset original view\", \"fa fa-home icon-home\", \"home\"], [\"Back\", \"Back to  previous view\", \"fa fa-arrow-left icon-arrow-left\", \"back\"], [\"Forward\", \"Forward to next view\", \"fa fa-arrow-right icon-arrow-right\", \"forward\"], [\"\", \"\", \"\", \"\"], [\"Pan\", \"Pan axes with left mouse, zoom with right\", \"fa fa-arrows icon-move\", \"pan\"], [\"Zoom\", \"Zoom to rectangle\", \"fa fa-square-o icon-check-empty\", \"zoom\"], [\"\", \"\", \"\", \"\"], [\"Download\", \"Download plot\", \"fa fa-floppy-o icon-save\", \"download\"]];\n",
       "\n",
       "mpl.extensions = [\"eps\", \"jpeg\", \"pdf\", \"png\", \"ps\", \"raw\", \"svg\", \"tif\"];\n",
       "\n",
       "mpl.default_extension = \"png\";var comm_websocket_adapter = function(comm) {\n",
       "    // Create a \"websocket\"-like object which calls the given IPython comm\n",
       "    // object with the appropriate methods. Currently this is a non binary\n",
       "    // socket, so there is still some room for performance tuning.\n",
       "    var ws = {};\n",
       "\n",
       "    ws.close = function() {\n",
       "        comm.close()\n",
       "    };\n",
       "    ws.send = function(m) {\n",
       "        //console.log('sending', m);\n",
       "        comm.send(m);\n",
       "    };\n",
       "    // Register the callback with on_msg.\n",
       "    comm.on_msg(function(msg) {\n",
       "        //console.log('receiving', msg['content']['data'], msg);\n",
       "        // Pass the mpl event to the overriden (by mpl) onmessage function.\n",
       "        ws.onmessage(msg['content']['data'])\n",
       "    });\n",
       "    return ws;\n",
       "}\n",
       "\n",
       "mpl.mpl_figure_comm = function(comm, msg) {\n",
       "    // This is the function which gets called when the mpl process\n",
       "    // starts-up an IPython Comm through the \"matplotlib\" channel.\n",
       "\n",
       "    var id = msg.content.data.id;\n",
       "    // Get hold of the div created by the display call when the Comm\n",
       "    // socket was opened in Python.\n",
       "    var element = $(\"#\" + id);\n",
       "    var ws_proxy = comm_websocket_adapter(comm)\n",
       "\n",
       "    function ondownload(figure, format) {\n",
       "        window.open(figure.imageObj.src);\n",
       "    }\n",
       "\n",
       "    var fig = new mpl.figure(id, ws_proxy,\n",
       "                           ondownload,\n",
       "                           element.get(0));\n",
       "\n",
       "    // Call onopen now - mpl needs it, as it is assuming we've passed it a real\n",
       "    // web socket which is closed, not our websocket->open comm proxy.\n",
       "    ws_proxy.onopen();\n",
       "\n",
       "    fig.parent_element = element.get(0);\n",
       "    fig.cell_info = mpl.find_output_cell(\"<div id='\" + id + \"'></div>\");\n",
       "    if (!fig.cell_info) {\n",
       "        console.error(\"Failed to find cell for figure\", id, fig);\n",
       "        return;\n",
       "    }\n",
       "\n",
       "    var output_index = fig.cell_info[2]\n",
       "    var cell = fig.cell_info[0];\n",
       "\n",
       "};\n",
       "\n",
       "mpl.figure.prototype.handle_close = function(fig, msg) {\n",
       "    var width = fig.canvas.width/mpl.ratio\n",
       "    fig.root.unbind('remove')\n",
       "\n",
       "    // Update the output cell to use the data from the current canvas.\n",
       "    fig.push_to_output();\n",
       "    var dataURL = fig.canvas.toDataURL();\n",
       "    // Re-enable the keyboard manager in IPython - without this line, in FF,\n",
       "    // the notebook keyboard shortcuts fail.\n",
       "    IPython.keyboard_manager.enable()\n",
       "    $(fig.parent_element).html('<img src=\"' + dataURL + '\" width=\"' + width + '\">');\n",
       "    fig.close_ws(fig, msg);\n",
       "}\n",
       "\n",
       "mpl.figure.prototype.close_ws = function(fig, msg){\n",
       "    fig.send_message('closing', msg);\n",
       "    // fig.ws.close()\n",
       "}\n",
       "\n",
       "mpl.figure.prototype.push_to_output = function(remove_interactive) {\n",
       "    // Turn the data on the canvas into data in the output cell.\n",
       "    var width = this.canvas.width/mpl.ratio\n",
       "    var dataURL = this.canvas.toDataURL();\n",
       "    this.cell_info[1]['text/html'] = '<img src=\"' + dataURL + '\" width=\"' + width + '\">';\n",
       "}\n",
       "\n",
       "mpl.figure.prototype.updated_canvas_event = function() {\n",
       "    // Tell IPython that the notebook contents must change.\n",
       "    IPython.notebook.set_dirty(true);\n",
       "    this.send_message(\"ack\", {});\n",
       "    var fig = this;\n",
       "    // Wait a second, then push the new image to the DOM so\n",
       "    // that it is saved nicely (might be nice to debounce this).\n",
       "    setTimeout(function () { fig.push_to_output() }, 1000);\n",
       "}\n",
       "\n",
       "mpl.figure.prototype._init_toolbar = function() {\n",
       "    var fig = this;\n",
       "\n",
       "    var nav_element = $('<div/>')\n",
       "    nav_element.attr('style', 'width: 100%');\n",
       "    this.root.append(nav_element);\n",
       "\n",
       "    // Define a callback function for later on.\n",
       "    function toolbar_event(event) {\n",
       "        return fig.toolbar_button_onclick(event['data']);\n",
       "    }\n",
       "    function toolbar_mouse_event(event) {\n",
       "        return fig.toolbar_button_onmouseover(event['data']);\n",
       "    }\n",
       "\n",
       "    for(var toolbar_ind in mpl.toolbar_items){\n",
       "        var name = mpl.toolbar_items[toolbar_ind][0];\n",
       "        var tooltip = mpl.toolbar_items[toolbar_ind][1];\n",
       "        var image = mpl.toolbar_items[toolbar_ind][2];\n",
       "        var method_name = mpl.toolbar_items[toolbar_ind][3];\n",
       "\n",
       "        if (!name) { continue; };\n",
       "\n",
       "        var button = $('<button class=\"btn btn-default\" href=\"#\" title=\"' + name + '\"><i class=\"fa ' + image + ' fa-lg\"></i></button>');\n",
       "        button.click(method_name, toolbar_event);\n",
       "        button.mouseover(tooltip, toolbar_mouse_event);\n",
       "        nav_element.append(button);\n",
       "    }\n",
       "\n",
       "    // Add the status bar.\n",
       "    var status_bar = $('<span class=\"mpl-message\" style=\"text-align:right; float: right;\"/>');\n",
       "    nav_element.append(status_bar);\n",
       "    this.message = status_bar[0];\n",
       "\n",
       "    // Add the close button to the window.\n",
       "    var buttongrp = $('<div class=\"btn-group inline pull-right\"></div>');\n",
       "    var button = $('<button class=\"btn btn-mini btn-primary\" href=\"#\" title=\"Stop Interaction\"><i class=\"fa fa-power-off icon-remove icon-large\"></i></button>');\n",
       "    button.click(function (evt) { fig.handle_close(fig, {}); } );\n",
       "    button.mouseover('Stop Interaction', toolbar_mouse_event);\n",
       "    buttongrp.append(button);\n",
       "    var titlebar = this.root.find($('.ui-dialog-titlebar'));\n",
       "    titlebar.prepend(buttongrp);\n",
       "}\n",
       "\n",
       "mpl.figure.prototype._root_extra_style = function(el){\n",
       "    var fig = this\n",
       "    el.on(\"remove\", function(){\n",
       "\tfig.close_ws(fig, {});\n",
       "    });\n",
       "}\n",
       "\n",
       "mpl.figure.prototype._canvas_extra_style = function(el){\n",
       "    // this is important to make the div 'focusable\n",
       "    el.attr('tabindex', 0)\n",
       "    // reach out to IPython and tell the keyboard manager to turn it's self\n",
       "    // off when our div gets focus\n",
       "\n",
       "    // location in version 3\n",
       "    if (IPython.notebook.keyboard_manager) {\n",
       "        IPython.notebook.keyboard_manager.register_events(el);\n",
       "    }\n",
       "    else {\n",
       "        // location in version 2\n",
       "        IPython.keyboard_manager.register_events(el);\n",
       "    }\n",
       "\n",
       "}\n",
       "\n",
       "mpl.figure.prototype._key_event_extra = function(event, name) {\n",
       "    var manager = IPython.notebook.keyboard_manager;\n",
       "    if (!manager)\n",
       "        manager = IPython.keyboard_manager;\n",
       "\n",
       "    // Check for shift+enter\n",
       "    if (event.shiftKey && event.which == 13) {\n",
       "        this.canvas_div.blur();\n",
       "        event.shiftKey = false;\n",
       "        // Send a \"J\" for go to next cell\n",
       "        event.which = 74;\n",
       "        event.keyCode = 74;\n",
       "        manager.command_mode();\n",
       "        manager.handle_keydown(event);\n",
       "    }\n",
       "}\n",
       "\n",
       "mpl.figure.prototype.handle_save = function(fig, msg) {\n",
       "    fig.ondownload(fig, null);\n",
       "}\n",
       "\n",
       "\n",
       "mpl.find_output_cell = function(html_output) {\n",
       "    // Return the cell and output element which can be found *uniquely* in the notebook.\n",
       "    // Note - this is a bit hacky, but it is done because the \"notebook_saving.Notebook\"\n",
       "    // IPython event is triggered only after the cells have been serialised, which for\n",
       "    // our purposes (turning an active figure into a static one), is too late.\n",
       "    var cells = IPython.notebook.get_cells();\n",
       "    var ncells = cells.length;\n",
       "    for (var i=0; i<ncells; i++) {\n",
       "        var cell = cells[i];\n",
       "        if (cell.cell_type === 'code'){\n",
       "            for (var j=0; j<cell.output_area.outputs.length; j++) {\n",
       "                var data = cell.output_area.outputs[j];\n",
       "                if (data.data) {\n",
       "                    // IPython >= 3 moved mimebundle to data attribute of output\n",
       "                    data = data.data;\n",
       "                }\n",
       "                if (data['text/html'] == html_output) {\n",
       "                    return [cell, data, j];\n",
       "                }\n",
       "            }\n",
       "        }\n",
       "    }\n",
       "}\n",
       "\n",
       "// Register the function which deals with the matplotlib target/channel.\n",
       "// The kernel may be null if the page has been refreshed.\n",
       "if (IPython.notebook.kernel != null) {\n",
       "    IPython.notebook.kernel.comm_manager.register_target('matplotlib', mpl.mpl_figure_comm);\n",
       "}\n"
      ],
      "text/plain": [
       "<IPython.core.display.Javascript object>"
      ]
     },
     "metadata": {},
     "output_type": "display_data"
    },
    {
     "data": {
      "text/html": [
       "<img src=\"data:image/png;base64,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\" width=\"432\">"
      ],
      "text/plain": [
       "<IPython.core.display.HTML object>"
      ]
     },
     "metadata": {},
     "output_type": "display_data"
    },
    {
     "data": {
      "text/plain": [
       "[<matplotlib.lines.Line2D at 0x1170063c8>]"
      ]
     },
     "execution_count": 28,
     "metadata": {},
     "output_type": "execute_result"
    }
   ],
   "source": [
    "X = np.load(way + \"No5.npy\")\n",
    "pylab.figure()\n",
    "pylab.plot(X[0],X[1])"
   ]
  },
  {
   "cell_type": "code",
   "execution_count": 29,
   "metadata": {},
   "outputs": [
    {
     "data": {
      "application/javascript": [
       "/* Put everything inside the global mpl namespace */\n",
       "window.mpl = {};\n",
       "\n",
       "\n",
       "mpl.get_websocket_type = function() {\n",
       "    if (typeof(WebSocket) !== 'undefined') {\n",
       "        return WebSocket;\n",
       "    } else if (typeof(MozWebSocket) !== 'undefined') {\n",
       "        return MozWebSocket;\n",
       "    } else {\n",
       "        alert('Your browser does not have WebSocket support.' +\n",
       "              'Please try Chrome, Safari or Firefox ≥ 6. ' +\n",
       "              'Firefox 4 and 5 are also supported but you ' +\n",
       "              'have to enable WebSockets in about:config.');\n",
       "    };\n",
       "}\n",
       "\n",
       "mpl.figure = function(figure_id, websocket, ondownload, parent_element) {\n",
       "    this.id = figure_id;\n",
       "\n",
       "    this.ws = websocket;\n",
       "\n",
       "    this.supports_binary = (this.ws.binaryType != undefined);\n",
       "\n",
       "    if (!this.supports_binary) {\n",
       "        var warnings = document.getElementById(\"mpl-warnings\");\n",
       "        if (warnings) {\n",
       "            warnings.style.display = 'block';\n",
       "            warnings.textContent = (\n",
       "                \"This browser does not support binary websocket messages. \" +\n",
       "                    \"Performance may be slow.\");\n",
       "        }\n",
       "    }\n",
       "\n",
       "    this.imageObj = new Image();\n",
       "\n",
       "    this.context = undefined;\n",
       "    this.message = undefined;\n",
       "    this.canvas = undefined;\n",
       "    this.rubberband_canvas = undefined;\n",
       "    this.rubberband_context = undefined;\n",
       "    this.format_dropdown = undefined;\n",
       "\n",
       "    this.image_mode = 'full';\n",
       "\n",
       "    this.root = $('<div/>');\n",
       "    this._root_extra_style(this.root)\n",
       "    this.root.attr('style', 'display: inline-block');\n",
       "\n",
       "    $(parent_element).append(this.root);\n",
       "\n",
       "    this._init_header(this);\n",
       "    this._init_canvas(this);\n",
       "    this._init_toolbar(this);\n",
       "\n",
       "    var fig = this;\n",
       "\n",
       "    this.waiting = false;\n",
       "\n",
       "    this.ws.onopen =  function () {\n",
       "            fig.send_message(\"supports_binary\", {value: fig.supports_binary});\n",
       "            fig.send_message(\"send_image_mode\", {});\n",
       "            if (mpl.ratio != 1) {\n",
       "                fig.send_message(\"set_dpi_ratio\", {'dpi_ratio': mpl.ratio});\n",
       "            }\n",
       "            fig.send_message(\"refresh\", {});\n",
       "        }\n",
       "\n",
       "    this.imageObj.onload = function() {\n",
       "            if (fig.image_mode == 'full') {\n",
       "                // Full images could contain transparency (where diff images\n",
       "                // almost always do), so we need to clear the canvas so that\n",
       "                // there is no ghosting.\n",
       "                fig.context.clearRect(0, 0, fig.canvas.width, fig.canvas.height);\n",
       "            }\n",
       "            fig.context.drawImage(fig.imageObj, 0, 0);\n",
       "        };\n",
       "\n",
       "    this.imageObj.onunload = function() {\n",
       "        fig.ws.close();\n",
       "    }\n",
       "\n",
       "    this.ws.onmessage = this._make_on_message_function(this);\n",
       "\n",
       "    this.ondownload = ondownload;\n",
       "}\n",
       "\n",
       "mpl.figure.prototype._init_header = function() {\n",
       "    var titlebar = $(\n",
       "        '<div class=\"ui-dialog-titlebar ui-widget-header ui-corner-all ' +\n",
       "        'ui-helper-clearfix\"/>');\n",
       "    var titletext = $(\n",
       "        '<div class=\"ui-dialog-title\" style=\"width: 100%; ' +\n",
       "        'text-align: center; padding: 3px;\"/>');\n",
       "    titlebar.append(titletext)\n",
       "    this.root.append(titlebar);\n",
       "    this.header = titletext[0];\n",
       "}\n",
       "\n",
       "\n",
       "\n",
       "mpl.figure.prototype._canvas_extra_style = function(canvas_div) {\n",
       "\n",
       "}\n",
       "\n",
       "\n",
       "mpl.figure.prototype._root_extra_style = function(canvas_div) {\n",
       "\n",
       "}\n",
       "\n",
       "mpl.figure.prototype._init_canvas = function() {\n",
       "    var fig = this;\n",
       "\n",
       "    var canvas_div = $('<div/>');\n",
       "\n",
       "    canvas_div.attr('style', 'position: relative; clear: both; outline: 0');\n",
       "\n",
       "    function canvas_keyboard_event(event) {\n",
       "        return fig.key_event(event, event['data']);\n",
       "    }\n",
       "\n",
       "    canvas_div.keydown('key_press', canvas_keyboard_event);\n",
       "    canvas_div.keyup('key_release', canvas_keyboard_event);\n",
       "    this.canvas_div = canvas_div\n",
       "    this._canvas_extra_style(canvas_div)\n",
       "    this.root.append(canvas_div);\n",
       "\n",
       "    var canvas = $('<canvas/>');\n",
       "    canvas.addClass('mpl-canvas');\n",
       "    canvas.attr('style', \"left: 0; top: 0; z-index: 0; outline: 0\")\n",
       "\n",
       "    this.canvas = canvas[0];\n",
       "    this.context = canvas[0].getContext(\"2d\");\n",
       "\n",
       "    var backingStore = this.context.backingStorePixelRatio ||\n",
       "\tthis.context.webkitBackingStorePixelRatio ||\n",
       "\tthis.context.mozBackingStorePixelRatio ||\n",
       "\tthis.context.msBackingStorePixelRatio ||\n",
       "\tthis.context.oBackingStorePixelRatio ||\n",
       "\tthis.context.backingStorePixelRatio || 1;\n",
       "\n",
       "    mpl.ratio = (window.devicePixelRatio || 1) / backingStore;\n",
       "\n",
       "    var rubberband = $('<canvas/>');\n",
       "    rubberband.attr('style', \"position: absolute; left: 0; top: 0; z-index: 1;\")\n",
       "\n",
       "    var pass_mouse_events = true;\n",
       "\n",
       "    canvas_div.resizable({\n",
       "        start: function(event, ui) {\n",
       "            pass_mouse_events = false;\n",
       "        },\n",
       "        resize: function(event, ui) {\n",
       "            fig.request_resize(ui.size.width, ui.size.height);\n",
       "        },\n",
       "        stop: function(event, ui) {\n",
       "            pass_mouse_events = true;\n",
       "            fig.request_resize(ui.size.width, ui.size.height);\n",
       "        },\n",
       "    });\n",
       "\n",
       "    function mouse_event_fn(event) {\n",
       "        if (pass_mouse_events)\n",
       "            return fig.mouse_event(event, event['data']);\n",
       "    }\n",
       "\n",
       "    rubberband.mousedown('button_press', mouse_event_fn);\n",
       "    rubberband.mouseup('button_release', mouse_event_fn);\n",
       "    // Throttle sequential mouse events to 1 every 20ms.\n",
       "    rubberband.mousemove('motion_notify', mouse_event_fn);\n",
       "\n",
       "    rubberband.mouseenter('figure_enter', mouse_event_fn);\n",
       "    rubberband.mouseleave('figure_leave', mouse_event_fn);\n",
       "\n",
       "    canvas_div.on(\"wheel\", function (event) {\n",
       "        event = event.originalEvent;\n",
       "        event['data'] = 'scroll'\n",
       "        if (event.deltaY < 0) {\n",
       "            event.step = 1;\n",
       "        } else {\n",
       "            event.step = -1;\n",
       "        }\n",
       "        mouse_event_fn(event);\n",
       "    });\n",
       "\n",
       "    canvas_div.append(canvas);\n",
       "    canvas_div.append(rubberband);\n",
       "\n",
       "    this.rubberband = rubberband;\n",
       "    this.rubberband_canvas = rubberband[0];\n",
       "    this.rubberband_context = rubberband[0].getContext(\"2d\");\n",
       "    this.rubberband_context.strokeStyle = \"#000000\";\n",
       "\n",
       "    this._resize_canvas = function(width, height) {\n",
       "        // Keep the size of the canvas, canvas container, and rubber band\n",
       "        // canvas in synch.\n",
       "        canvas_div.css('width', width)\n",
       "        canvas_div.css('height', height)\n",
       "\n",
       "        canvas.attr('width', width * mpl.ratio);\n",
       "        canvas.attr('height', height * mpl.ratio);\n",
       "        canvas.attr('style', 'width: ' + width + 'px; height: ' + height + 'px;');\n",
       "\n",
       "        rubberband.attr('width', width);\n",
       "        rubberband.attr('height', height);\n",
       "    }\n",
       "\n",
       "    // Set the figure to an initial 600x600px, this will subsequently be updated\n",
       "    // upon first draw.\n",
       "    this._resize_canvas(600, 600);\n",
       "\n",
       "    // Disable right mouse context menu.\n",
       "    $(this.rubberband_canvas).bind(\"contextmenu\",function(e){\n",
       "        return false;\n",
       "    });\n",
       "\n",
       "    function set_focus () {\n",
       "        canvas.focus();\n",
       "        canvas_div.focus();\n",
       "    }\n",
       "\n",
       "    window.setTimeout(set_focus, 100);\n",
       "}\n",
       "\n",
       "mpl.figure.prototype._init_toolbar = function() {\n",
       "    var fig = this;\n",
       "\n",
       "    var nav_element = $('<div/>')\n",
       "    nav_element.attr('style', 'width: 100%');\n",
       "    this.root.append(nav_element);\n",
       "\n",
       "    // Define a callback function for later on.\n",
       "    function toolbar_event(event) {\n",
       "        return fig.toolbar_button_onclick(event['data']);\n",
       "    }\n",
       "    function toolbar_mouse_event(event) {\n",
       "        return fig.toolbar_button_onmouseover(event['data']);\n",
       "    }\n",
       "\n",
       "    for(var toolbar_ind in mpl.toolbar_items) {\n",
       "        var name = mpl.toolbar_items[toolbar_ind][0];\n",
       "        var tooltip = mpl.toolbar_items[toolbar_ind][1];\n",
       "        var image = mpl.toolbar_items[toolbar_ind][2];\n",
       "        var method_name = mpl.toolbar_items[toolbar_ind][3];\n",
       "\n",
       "        if (!name) {\n",
       "            // put a spacer in here.\n",
       "            continue;\n",
       "        }\n",
       "        var button = $('<button/>');\n",
       "        button.addClass('ui-button ui-widget ui-state-default ui-corner-all ' +\n",
       "                        'ui-button-icon-only');\n",
       "        button.attr('role', 'button');\n",
       "        button.attr('aria-disabled', 'false');\n",
       "        button.click(method_name, toolbar_event);\n",
       "        button.mouseover(tooltip, toolbar_mouse_event);\n",
       "\n",
       "        var icon_img = $('<span/>');\n",
       "        icon_img.addClass('ui-button-icon-primary ui-icon');\n",
       "        icon_img.addClass(image);\n",
       "        icon_img.addClass('ui-corner-all');\n",
       "\n",
       "        var tooltip_span = $('<span/>');\n",
       "        tooltip_span.addClass('ui-button-text');\n",
       "        tooltip_span.html(tooltip);\n",
       "\n",
       "        button.append(icon_img);\n",
       "        button.append(tooltip_span);\n",
       "\n",
       "        nav_element.append(button);\n",
       "    }\n",
       "\n",
       "    var fmt_picker_span = $('<span/>');\n",
       "\n",
       "    var fmt_picker = $('<select/>');\n",
       "    fmt_picker.addClass('mpl-toolbar-option ui-widget ui-widget-content');\n",
       "    fmt_picker_span.append(fmt_picker);\n",
       "    nav_element.append(fmt_picker_span);\n",
       "    this.format_dropdown = fmt_picker[0];\n",
       "\n",
       "    for (var ind in mpl.extensions) {\n",
       "        var fmt = mpl.extensions[ind];\n",
       "        var option = $(\n",
       "            '<option/>', {selected: fmt === mpl.default_extension}).html(fmt);\n",
       "        fmt_picker.append(option)\n",
       "    }\n",
       "\n",
       "    // Add hover states to the ui-buttons\n",
       "    $( \".ui-button\" ).hover(\n",
       "        function() { $(this).addClass(\"ui-state-hover\");},\n",
       "        function() { $(this).removeClass(\"ui-state-hover\");}\n",
       "    );\n",
       "\n",
       "    var status_bar = $('<span class=\"mpl-message\"/>');\n",
       "    nav_element.append(status_bar);\n",
       "    this.message = status_bar[0];\n",
       "}\n",
       "\n",
       "mpl.figure.prototype.request_resize = function(x_pixels, y_pixels) {\n",
       "    // Request matplotlib to resize the figure. Matplotlib will then trigger a resize in the client,\n",
       "    // which will in turn request a refresh of the image.\n",
       "    this.send_message('resize', {'width': x_pixels, 'height': y_pixels});\n",
       "}\n",
       "\n",
       "mpl.figure.prototype.send_message = function(type, properties) {\n",
       "    properties['type'] = type;\n",
       "    properties['figure_id'] = this.id;\n",
       "    this.ws.send(JSON.stringify(properties));\n",
       "}\n",
       "\n",
       "mpl.figure.prototype.send_draw_message = function() {\n",
       "    if (!this.waiting) {\n",
       "        this.waiting = true;\n",
       "        this.ws.send(JSON.stringify({type: \"draw\", figure_id: this.id}));\n",
       "    }\n",
       "}\n",
       "\n",
       "\n",
       "mpl.figure.prototype.handle_save = function(fig, msg) {\n",
       "    var format_dropdown = fig.format_dropdown;\n",
       "    var format = format_dropdown.options[format_dropdown.selectedIndex].value;\n",
       "    fig.ondownload(fig, format);\n",
       "}\n",
       "\n",
       "\n",
       "mpl.figure.prototype.handle_resize = function(fig, msg) {\n",
       "    var size = msg['size'];\n",
       "    if (size[0] != fig.canvas.width || size[1] != fig.canvas.height) {\n",
       "        fig._resize_canvas(size[0], size[1]);\n",
       "        fig.send_message(\"refresh\", {});\n",
       "    };\n",
       "}\n",
       "\n",
       "mpl.figure.prototype.handle_rubberband = function(fig, msg) {\n",
       "    var x0 = msg['x0'] / mpl.ratio;\n",
       "    var y0 = (fig.canvas.height - msg['y0']) / mpl.ratio;\n",
       "    var x1 = msg['x1'] / mpl.ratio;\n",
       "    var y1 = (fig.canvas.height - msg['y1']) / mpl.ratio;\n",
       "    x0 = Math.floor(x0) + 0.5;\n",
       "    y0 = Math.floor(y0) + 0.5;\n",
       "    x1 = Math.floor(x1) + 0.5;\n",
       "    y1 = Math.floor(y1) + 0.5;\n",
       "    var min_x = Math.min(x0, x1);\n",
       "    var min_y = Math.min(y0, y1);\n",
       "    var width = Math.abs(x1 - x0);\n",
       "    var height = Math.abs(y1 - y0);\n",
       "\n",
       "    fig.rubberband_context.clearRect(\n",
       "        0, 0, fig.canvas.width, fig.canvas.height);\n",
       "\n",
       "    fig.rubberband_context.strokeRect(min_x, min_y, width, height);\n",
       "}\n",
       "\n",
       "mpl.figure.prototype.handle_figure_label = function(fig, msg) {\n",
       "    // Updates the figure title.\n",
       "    fig.header.textContent = msg['label'];\n",
       "}\n",
       "\n",
       "mpl.figure.prototype.handle_cursor = function(fig, msg) {\n",
       "    var cursor = msg['cursor'];\n",
       "    switch(cursor)\n",
       "    {\n",
       "    case 0:\n",
       "        cursor = 'pointer';\n",
       "        break;\n",
       "    case 1:\n",
       "        cursor = 'default';\n",
       "        break;\n",
       "    case 2:\n",
       "        cursor = 'crosshair';\n",
       "        break;\n",
       "    case 3:\n",
       "        cursor = 'move';\n",
       "        break;\n",
       "    }\n",
       "    fig.rubberband_canvas.style.cursor = cursor;\n",
       "}\n",
       "\n",
       "mpl.figure.prototype.handle_message = function(fig, msg) {\n",
       "    fig.message.textContent = msg['message'];\n",
       "}\n",
       "\n",
       "mpl.figure.prototype.handle_draw = function(fig, msg) {\n",
       "    // Request the server to send over a new figure.\n",
       "    fig.send_draw_message();\n",
       "}\n",
       "\n",
       "mpl.figure.prototype.handle_image_mode = function(fig, msg) {\n",
       "    fig.image_mode = msg['mode'];\n",
       "}\n",
       "\n",
       "mpl.figure.prototype.updated_canvas_event = function() {\n",
       "    // Called whenever the canvas gets updated.\n",
       "    this.send_message(\"ack\", {});\n",
       "}\n",
       "\n",
       "// A function to construct a web socket function for onmessage handling.\n",
       "// Called in the figure constructor.\n",
       "mpl.figure.prototype._make_on_message_function = function(fig) {\n",
       "    return function socket_on_message(evt) {\n",
       "        if (evt.data instanceof Blob) {\n",
       "            /* FIXME: We get \"Resource interpreted as Image but\n",
       "             * transferred with MIME type text/plain:\" errors on\n",
       "             * Chrome.  But how to set the MIME type?  It doesn't seem\n",
       "             * to be part of the websocket stream */\n",
       "            evt.data.type = \"image/png\";\n",
       "\n",
       "            /* Free the memory for the previous frames */\n",
       "            if (fig.imageObj.src) {\n",
       "                (window.URL || window.webkitURL).revokeObjectURL(\n",
       "                    fig.imageObj.src);\n",
       "            }\n",
       "\n",
       "            fig.imageObj.src = (window.URL || window.webkitURL).createObjectURL(\n",
       "                evt.data);\n",
       "            fig.updated_canvas_event();\n",
       "            fig.waiting = false;\n",
       "            return;\n",
       "        }\n",
       "        else if (typeof evt.data === 'string' && evt.data.slice(0, 21) == \"data:image/png;base64\") {\n",
       "            fig.imageObj.src = evt.data;\n",
       "            fig.updated_canvas_event();\n",
       "            fig.waiting = false;\n",
       "            return;\n",
       "        }\n",
       "\n",
       "        var msg = JSON.parse(evt.data);\n",
       "        var msg_type = msg['type'];\n",
       "\n",
       "        // Call the  \"handle_{type}\" callback, which takes\n",
       "        // the figure and JSON message as its only arguments.\n",
       "        try {\n",
       "            var callback = fig[\"handle_\" + msg_type];\n",
       "        } catch (e) {\n",
       "            console.log(\"No handler for the '\" + msg_type + \"' message type: \", msg);\n",
       "            return;\n",
       "        }\n",
       "\n",
       "        if (callback) {\n",
       "            try {\n",
       "                // console.log(\"Handling '\" + msg_type + \"' message: \", msg);\n",
       "                callback(fig, msg);\n",
       "            } catch (e) {\n",
       "                console.log(\"Exception inside the 'handler_\" + msg_type + \"' callback:\", e, e.stack, msg);\n",
       "            }\n",
       "        }\n",
       "    };\n",
       "}\n",
       "\n",
       "// from http://stackoverflow.com/questions/1114465/getting-mouse-location-in-canvas\n",
       "mpl.findpos = function(e) {\n",
       "    //this section is from http://www.quirksmode.org/js/events_properties.html\n",
       "    var targ;\n",
       "    if (!e)\n",
       "        e = window.event;\n",
       "    if (e.target)\n",
       "        targ = e.target;\n",
       "    else if (e.srcElement)\n",
       "        targ = e.srcElement;\n",
       "    if (targ.nodeType == 3) // defeat Safari bug\n",
       "        targ = targ.parentNode;\n",
       "\n",
       "    // jQuery normalizes the pageX and pageY\n",
       "    // pageX,Y are the mouse positions relative to the document\n",
       "    // offset() returns the position of the element relative to the document\n",
       "    var x = e.pageX - $(targ).offset().left;\n",
       "    var y = e.pageY - $(targ).offset().top;\n",
       "\n",
       "    return {\"x\": x, \"y\": y};\n",
       "};\n",
       "\n",
       "/*\n",
       " * return a copy of an object with only non-object keys\n",
       " * we need this to avoid circular references\n",
       " * http://stackoverflow.com/a/24161582/3208463\n",
       " */\n",
       "function simpleKeys (original) {\n",
       "  return Object.keys(original).reduce(function (obj, key) {\n",
       "    if (typeof original[key] !== 'object')\n",
       "        obj[key] = original[key]\n",
       "    return obj;\n",
       "  }, {});\n",
       "}\n",
       "\n",
       "mpl.figure.prototype.mouse_event = function(event, name) {\n",
       "    var canvas_pos = mpl.findpos(event)\n",
       "\n",
       "    if (name === 'button_press')\n",
       "    {\n",
       "        this.canvas.focus();\n",
       "        this.canvas_div.focus();\n",
       "    }\n",
       "\n",
       "    var x = canvas_pos.x * mpl.ratio;\n",
       "    var y = canvas_pos.y * mpl.ratio;\n",
       "\n",
       "    this.send_message(name, {x: x, y: y, button: event.button,\n",
       "                             step: event.step,\n",
       "                             guiEvent: simpleKeys(event)});\n",
       "\n",
       "    /* This prevents the web browser from automatically changing to\n",
       "     * the text insertion cursor when the button is pressed.  We want\n",
       "     * to control all of the cursor setting manually through the\n",
       "     * 'cursor' event from matplotlib */\n",
       "    event.preventDefault();\n",
       "    return false;\n",
       "}\n",
       "\n",
       "mpl.figure.prototype._key_event_extra = function(event, name) {\n",
       "    // Handle any extra behaviour associated with a key event\n",
       "}\n",
       "\n",
       "mpl.figure.prototype.key_event = function(event, name) {\n",
       "\n",
       "    // Prevent repeat events\n",
       "    if (name == 'key_press')\n",
       "    {\n",
       "        if (event.which === this._key)\n",
       "            return;\n",
       "        else\n",
       "            this._key = event.which;\n",
       "    }\n",
       "    if (name == 'key_release')\n",
       "        this._key = null;\n",
       "\n",
       "    var value = '';\n",
       "    if (event.ctrlKey && event.which != 17)\n",
       "        value += \"ctrl+\";\n",
       "    if (event.altKey && event.which != 18)\n",
       "        value += \"alt+\";\n",
       "    if (event.shiftKey && event.which != 16)\n",
       "        value += \"shift+\";\n",
       "\n",
       "    value += 'k';\n",
       "    value += event.which.toString();\n",
       "\n",
       "    this._key_event_extra(event, name);\n",
       "\n",
       "    this.send_message(name, {key: value,\n",
       "                             guiEvent: simpleKeys(event)});\n",
       "    return false;\n",
       "}\n",
       "\n",
       "mpl.figure.prototype.toolbar_button_onclick = function(name) {\n",
       "    if (name == 'download') {\n",
       "        this.handle_save(this, null);\n",
       "    } else {\n",
       "        this.send_message(\"toolbar_button\", {name: name});\n",
       "    }\n",
       "};\n",
       "\n",
       "mpl.figure.prototype.toolbar_button_onmouseover = function(tooltip) {\n",
       "    this.message.textContent = tooltip;\n",
       "};\n",
       "mpl.toolbar_items = [[\"Home\", \"Reset original view\", \"fa fa-home icon-home\", \"home\"], [\"Back\", \"Back to  previous view\", \"fa fa-arrow-left icon-arrow-left\", \"back\"], [\"Forward\", \"Forward to next view\", \"fa fa-arrow-right icon-arrow-right\", \"forward\"], [\"\", \"\", \"\", \"\"], [\"Pan\", \"Pan axes with left mouse, zoom with right\", \"fa fa-arrows icon-move\", \"pan\"], [\"Zoom\", \"Zoom to rectangle\", \"fa fa-square-o icon-check-empty\", \"zoom\"], [\"\", \"\", \"\", \"\"], [\"Download\", \"Download plot\", \"fa fa-floppy-o icon-save\", \"download\"]];\n",
       "\n",
       "mpl.extensions = [\"eps\", \"jpeg\", \"pdf\", \"png\", \"ps\", \"raw\", \"svg\", \"tif\"];\n",
       "\n",
       "mpl.default_extension = \"png\";var comm_websocket_adapter = function(comm) {\n",
       "    // Create a \"websocket\"-like object which calls the given IPython comm\n",
       "    // object with the appropriate methods. Currently this is a non binary\n",
       "    // socket, so there is still some room for performance tuning.\n",
       "    var ws = {};\n",
       "\n",
       "    ws.close = function() {\n",
       "        comm.close()\n",
       "    };\n",
       "    ws.send = function(m) {\n",
       "        //console.log('sending', m);\n",
       "        comm.send(m);\n",
       "    };\n",
       "    // Register the callback with on_msg.\n",
       "    comm.on_msg(function(msg) {\n",
       "        //console.log('receiving', msg['content']['data'], msg);\n",
       "        // Pass the mpl event to the overriden (by mpl) onmessage function.\n",
       "        ws.onmessage(msg['content']['data'])\n",
       "    });\n",
       "    return ws;\n",
       "}\n",
       "\n",
       "mpl.mpl_figure_comm = function(comm, msg) {\n",
       "    // This is the function which gets called when the mpl process\n",
       "    // starts-up an IPython Comm through the \"matplotlib\" channel.\n",
       "\n",
       "    var id = msg.content.data.id;\n",
       "    // Get hold of the div created by the display call when the Comm\n",
       "    // socket was opened in Python.\n",
       "    var element = $(\"#\" + id);\n",
       "    var ws_proxy = comm_websocket_adapter(comm)\n",
       "\n",
       "    function ondownload(figure, format) {\n",
       "        window.open(figure.imageObj.src);\n",
       "    }\n",
       "\n",
       "    var fig = new mpl.figure(id, ws_proxy,\n",
       "                           ondownload,\n",
       "                           element.get(0));\n",
       "\n",
       "    // Call onopen now - mpl needs it, as it is assuming we've passed it a real\n",
       "    // web socket which is closed, not our websocket->open comm proxy.\n",
       "    ws_proxy.onopen();\n",
       "\n",
       "    fig.parent_element = element.get(0);\n",
       "    fig.cell_info = mpl.find_output_cell(\"<div id='\" + id + \"'></div>\");\n",
       "    if (!fig.cell_info) {\n",
       "        console.error(\"Failed to find cell for figure\", id, fig);\n",
       "        return;\n",
       "    }\n",
       "\n",
       "    var output_index = fig.cell_info[2]\n",
       "    var cell = fig.cell_info[0];\n",
       "\n",
       "};\n",
       "\n",
       "mpl.figure.prototype.handle_close = function(fig, msg) {\n",
       "    var width = fig.canvas.width/mpl.ratio\n",
       "    fig.root.unbind('remove')\n",
       "\n",
       "    // Update the output cell to use the data from the current canvas.\n",
       "    fig.push_to_output();\n",
       "    var dataURL = fig.canvas.toDataURL();\n",
       "    // Re-enable the keyboard manager in IPython - without this line, in FF,\n",
       "    // the notebook keyboard shortcuts fail.\n",
       "    IPython.keyboard_manager.enable()\n",
       "    $(fig.parent_element).html('<img src=\"' + dataURL + '\" width=\"' + width + '\">');\n",
       "    fig.close_ws(fig, msg);\n",
       "}\n",
       "\n",
       "mpl.figure.prototype.close_ws = function(fig, msg){\n",
       "    fig.send_message('closing', msg);\n",
       "    // fig.ws.close()\n",
       "}\n",
       "\n",
       "mpl.figure.prototype.push_to_output = function(remove_interactive) {\n",
       "    // Turn the data on the canvas into data in the output cell.\n",
       "    var width = this.canvas.width/mpl.ratio\n",
       "    var dataURL = this.canvas.toDataURL();\n",
       "    this.cell_info[1]['text/html'] = '<img src=\"' + dataURL + '\" width=\"' + width + '\">';\n",
       "}\n",
       "\n",
       "mpl.figure.prototype.updated_canvas_event = function() {\n",
       "    // Tell IPython that the notebook contents must change.\n",
       "    IPython.notebook.set_dirty(true);\n",
       "    this.send_message(\"ack\", {});\n",
       "    var fig = this;\n",
       "    // Wait a second, then push the new image to the DOM so\n",
       "    // that it is saved nicely (might be nice to debounce this).\n",
       "    setTimeout(function () { fig.push_to_output() }, 1000);\n",
       "}\n",
       "\n",
       "mpl.figure.prototype._init_toolbar = function() {\n",
       "    var fig = this;\n",
       "\n",
       "    var nav_element = $('<div/>')\n",
       "    nav_element.attr('style', 'width: 100%');\n",
       "    this.root.append(nav_element);\n",
       "\n",
       "    // Define a callback function for later on.\n",
       "    function toolbar_event(event) {\n",
       "        return fig.toolbar_button_onclick(event['data']);\n",
       "    }\n",
       "    function toolbar_mouse_event(event) {\n",
       "        return fig.toolbar_button_onmouseover(event['data']);\n",
       "    }\n",
       "\n",
       "    for(var toolbar_ind in mpl.toolbar_items){\n",
       "        var name = mpl.toolbar_items[toolbar_ind][0];\n",
       "        var tooltip = mpl.toolbar_items[toolbar_ind][1];\n",
       "        var image = mpl.toolbar_items[toolbar_ind][2];\n",
       "        var method_name = mpl.toolbar_items[toolbar_ind][3];\n",
       "\n",
       "        if (!name) { continue; };\n",
       "\n",
       "        var button = $('<button class=\"btn btn-default\" href=\"#\" title=\"' + name + '\"><i class=\"fa ' + image + ' fa-lg\"></i></button>');\n",
       "        button.click(method_name, toolbar_event);\n",
       "        button.mouseover(tooltip, toolbar_mouse_event);\n",
       "        nav_element.append(button);\n",
       "    }\n",
       "\n",
       "    // Add the status bar.\n",
       "    var status_bar = $('<span class=\"mpl-message\" style=\"text-align:right; float: right;\"/>');\n",
       "    nav_element.append(status_bar);\n",
       "    this.message = status_bar[0];\n",
       "\n",
       "    // Add the close button to the window.\n",
       "    var buttongrp = $('<div class=\"btn-group inline pull-right\"></div>');\n",
       "    var button = $('<button class=\"btn btn-mini btn-primary\" href=\"#\" title=\"Stop Interaction\"><i class=\"fa fa-power-off icon-remove icon-large\"></i></button>');\n",
       "    button.click(function (evt) { fig.handle_close(fig, {}); } );\n",
       "    button.mouseover('Stop Interaction', toolbar_mouse_event);\n",
       "    buttongrp.append(button);\n",
       "    var titlebar = this.root.find($('.ui-dialog-titlebar'));\n",
       "    titlebar.prepend(buttongrp);\n",
       "}\n",
       "\n",
       "mpl.figure.prototype._root_extra_style = function(el){\n",
       "    var fig = this\n",
       "    el.on(\"remove\", function(){\n",
       "\tfig.close_ws(fig, {});\n",
       "    });\n",
       "}\n",
       "\n",
       "mpl.figure.prototype._canvas_extra_style = function(el){\n",
       "    // this is important to make the div 'focusable\n",
       "    el.attr('tabindex', 0)\n",
       "    // reach out to IPython and tell the keyboard manager to turn it's self\n",
       "    // off when our div gets focus\n",
       "\n",
       "    // location in version 3\n",
       "    if (IPython.notebook.keyboard_manager) {\n",
       "        IPython.notebook.keyboard_manager.register_events(el);\n",
       "    }\n",
       "    else {\n",
       "        // location in version 2\n",
       "        IPython.keyboard_manager.register_events(el);\n",
       "    }\n",
       "\n",
       "}\n",
       "\n",
       "mpl.figure.prototype._key_event_extra = function(event, name) {\n",
       "    var manager = IPython.notebook.keyboard_manager;\n",
       "    if (!manager)\n",
       "        manager = IPython.keyboard_manager;\n",
       "\n",
       "    // Check for shift+enter\n",
       "    if (event.shiftKey && event.which == 13) {\n",
       "        this.canvas_div.blur();\n",
       "        event.shiftKey = false;\n",
       "        // Send a \"J\" for go to next cell\n",
       "        event.which = 74;\n",
       "        event.keyCode = 74;\n",
       "        manager.command_mode();\n",
       "        manager.handle_keydown(event);\n",
       "    }\n",
       "}\n",
       "\n",
       "mpl.figure.prototype.handle_save = function(fig, msg) {\n",
       "    fig.ondownload(fig, null);\n",
       "}\n",
       "\n",
       "\n",
       "mpl.find_output_cell = function(html_output) {\n",
       "    // Return the cell and output element which can be found *uniquely* in the notebook.\n",
       "    // Note - this is a bit hacky, but it is done because the \"notebook_saving.Notebook\"\n",
       "    // IPython event is triggered only after the cells have been serialised, which for\n",
       "    // our purposes (turning an active figure into a static one), is too late.\n",
       "    var cells = IPython.notebook.get_cells();\n",
       "    var ncells = cells.length;\n",
       "    for (var i=0; i<ncells; i++) {\n",
       "        var cell = cells[i];\n",
       "        if (cell.cell_type === 'code'){\n",
       "            for (var j=0; j<cell.output_area.outputs.length; j++) {\n",
       "                var data = cell.output_area.outputs[j];\n",
       "                if (data.data) {\n",
       "                    // IPython >= 3 moved mimebundle to data attribute of output\n",
       "                    data = data.data;\n",
       "                }\n",
       "                if (data['text/html'] == html_output) {\n",
       "                    return [cell, data, j];\n",
       "                }\n",
       "            }\n",
       "        }\n",
       "    }\n",
       "}\n",
       "\n",
       "// Register the function which deals with the matplotlib target/channel.\n",
       "// The kernel may be null if the page has been refreshed.\n",
       "if (IPython.notebook.kernel != null) {\n",
       "    IPython.notebook.kernel.comm_manager.register_target('matplotlib', mpl.mpl_figure_comm);\n",
       "}\n"
      ],
      "text/plain": [
       "<IPython.core.display.Javascript object>"
      ]
     },
     "metadata": {},
     "output_type": "display_data"
    },
    {
     "data": {
      "text/html": [
       "<img src=\"data:image/png;base64,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\" width=\"432\">"
      ],
      "text/plain": [
       "<IPython.core.display.HTML object>"
      ]
     },
     "metadata": {},
     "output_type": "display_data"
    },
    {
     "data": {
      "text/plain": [
       "[<matplotlib.lines.Line2D at 0x117070240>]"
      ]
     },
     "execution_count": 29,
     "metadata": {},
     "output_type": "execute_result"
    }
   ],
   "source": [
    "X = np.load(way + \"No6.npy\")\n",
    "pylab.figure()\n",
    "pylab.plot(X[0],X[1])"
   ]
  },
  {
   "cell_type": "code",
   "execution_count": 35,
   "metadata": {},
   "outputs": [
    {
     "data": {
      "application/javascript": [
       "/* Put everything inside the global mpl namespace */\n",
       "window.mpl = {};\n",
       "\n",
       "\n",
       "mpl.get_websocket_type = function() {\n",
       "    if (typeof(WebSocket) !== 'undefined') {\n",
       "        return WebSocket;\n",
       "    } else if (typeof(MozWebSocket) !== 'undefined') {\n",
       "        return MozWebSocket;\n",
       "    } else {\n",
       "        alert('Your browser does not have WebSocket support.' +\n",
       "              'Please try Chrome, Safari or Firefox ≥ 6. ' +\n",
       "              'Firefox 4 and 5 are also supported but you ' +\n",
       "              'have to enable WebSockets in about:config.');\n",
       "    };\n",
       "}\n",
       "\n",
       "mpl.figure = function(figure_id, websocket, ondownload, parent_element) {\n",
       "    this.id = figure_id;\n",
       "\n",
       "    this.ws = websocket;\n",
       "\n",
       "    this.supports_binary = (this.ws.binaryType != undefined);\n",
       "\n",
       "    if (!this.supports_binary) {\n",
       "        var warnings = document.getElementById(\"mpl-warnings\");\n",
       "        if (warnings) {\n",
       "            warnings.style.display = 'block';\n",
       "            warnings.textContent = (\n",
       "                \"This browser does not support binary websocket messages. \" +\n",
       "                    \"Performance may be slow.\");\n",
       "        }\n",
       "    }\n",
       "\n",
       "    this.imageObj = new Image();\n",
       "\n",
       "    this.context = undefined;\n",
       "    this.message = undefined;\n",
       "    this.canvas = undefined;\n",
       "    this.rubberband_canvas = undefined;\n",
       "    this.rubberband_context = undefined;\n",
       "    this.format_dropdown = undefined;\n",
       "\n",
       "    this.image_mode = 'full';\n",
       "\n",
       "    this.root = $('<div/>');\n",
       "    this._root_extra_style(this.root)\n",
       "    this.root.attr('style', 'display: inline-block');\n",
       "\n",
       "    $(parent_element).append(this.root);\n",
       "\n",
       "    this._init_header(this);\n",
       "    this._init_canvas(this);\n",
       "    this._init_toolbar(this);\n",
       "\n",
       "    var fig = this;\n",
       "\n",
       "    this.waiting = false;\n",
       "\n",
       "    this.ws.onopen =  function () {\n",
       "            fig.send_message(\"supports_binary\", {value: fig.supports_binary});\n",
       "            fig.send_message(\"send_image_mode\", {});\n",
       "            if (mpl.ratio != 1) {\n",
       "                fig.send_message(\"set_dpi_ratio\", {'dpi_ratio': mpl.ratio});\n",
       "            }\n",
       "            fig.send_message(\"refresh\", {});\n",
       "        }\n",
       "\n",
       "    this.imageObj.onload = function() {\n",
       "            if (fig.image_mode == 'full') {\n",
       "                // Full images could contain transparency (where diff images\n",
       "                // almost always do), so we need to clear the canvas so that\n",
       "                // there is no ghosting.\n",
       "                fig.context.clearRect(0, 0, fig.canvas.width, fig.canvas.height);\n",
       "            }\n",
       "            fig.context.drawImage(fig.imageObj, 0, 0);\n",
       "        };\n",
       "\n",
       "    this.imageObj.onunload = function() {\n",
       "        fig.ws.close();\n",
       "    }\n",
       "\n",
       "    this.ws.onmessage = this._make_on_message_function(this);\n",
       "\n",
       "    this.ondownload = ondownload;\n",
       "}\n",
       "\n",
       "mpl.figure.prototype._init_header = function() {\n",
       "    var titlebar = $(\n",
       "        '<div class=\"ui-dialog-titlebar ui-widget-header ui-corner-all ' +\n",
       "        'ui-helper-clearfix\"/>');\n",
       "    var titletext = $(\n",
       "        '<div class=\"ui-dialog-title\" style=\"width: 100%; ' +\n",
       "        'text-align: center; padding: 3px;\"/>');\n",
       "    titlebar.append(titletext)\n",
       "    this.root.append(titlebar);\n",
       "    this.header = titletext[0];\n",
       "}\n",
       "\n",
       "\n",
       "\n",
       "mpl.figure.prototype._canvas_extra_style = function(canvas_div) {\n",
       "\n",
       "}\n",
       "\n",
       "\n",
       "mpl.figure.prototype._root_extra_style = function(canvas_div) {\n",
       "\n",
       "}\n",
       "\n",
       "mpl.figure.prototype._init_canvas = function() {\n",
       "    var fig = this;\n",
       "\n",
       "    var canvas_div = $('<div/>');\n",
       "\n",
       "    canvas_div.attr('style', 'position: relative; clear: both; outline: 0');\n",
       "\n",
       "    function canvas_keyboard_event(event) {\n",
       "        return fig.key_event(event, event['data']);\n",
       "    }\n",
       "\n",
       "    canvas_div.keydown('key_press', canvas_keyboard_event);\n",
       "    canvas_div.keyup('key_release', canvas_keyboard_event);\n",
       "    this.canvas_div = canvas_div\n",
       "    this._canvas_extra_style(canvas_div)\n",
       "    this.root.append(canvas_div);\n",
       "\n",
       "    var canvas = $('<canvas/>');\n",
       "    canvas.addClass('mpl-canvas');\n",
       "    canvas.attr('style', \"left: 0; top: 0; z-index: 0; outline: 0\")\n",
       "\n",
       "    this.canvas = canvas[0];\n",
       "    this.context = canvas[0].getContext(\"2d\");\n",
       "\n",
       "    var backingStore = this.context.backingStorePixelRatio ||\n",
       "\tthis.context.webkitBackingStorePixelRatio ||\n",
       "\tthis.context.mozBackingStorePixelRatio ||\n",
       "\tthis.context.msBackingStorePixelRatio ||\n",
       "\tthis.context.oBackingStorePixelRatio ||\n",
       "\tthis.context.backingStorePixelRatio || 1;\n",
       "\n",
       "    mpl.ratio = (window.devicePixelRatio || 1) / backingStore;\n",
       "\n",
       "    var rubberband = $('<canvas/>');\n",
       "    rubberband.attr('style', \"position: absolute; left: 0; top: 0; z-index: 1;\")\n",
       "\n",
       "    var pass_mouse_events = true;\n",
       "\n",
       "    canvas_div.resizable({\n",
       "        start: function(event, ui) {\n",
       "            pass_mouse_events = false;\n",
       "        },\n",
       "        resize: function(event, ui) {\n",
       "            fig.request_resize(ui.size.width, ui.size.height);\n",
       "        },\n",
       "        stop: function(event, ui) {\n",
       "            pass_mouse_events = true;\n",
       "            fig.request_resize(ui.size.width, ui.size.height);\n",
       "        },\n",
       "    });\n",
       "\n",
       "    function mouse_event_fn(event) {\n",
       "        if (pass_mouse_events)\n",
       "            return fig.mouse_event(event, event['data']);\n",
       "    }\n",
       "\n",
       "    rubberband.mousedown('button_press', mouse_event_fn);\n",
       "    rubberband.mouseup('button_release', mouse_event_fn);\n",
       "    // Throttle sequential mouse events to 1 every 20ms.\n",
       "    rubberband.mousemove('motion_notify', mouse_event_fn);\n",
       "\n",
       "    rubberband.mouseenter('figure_enter', mouse_event_fn);\n",
       "    rubberband.mouseleave('figure_leave', mouse_event_fn);\n",
       "\n",
       "    canvas_div.on(\"wheel\", function (event) {\n",
       "        event = event.originalEvent;\n",
       "        event['data'] = 'scroll'\n",
       "        if (event.deltaY < 0) {\n",
       "            event.step = 1;\n",
       "        } else {\n",
       "            event.step = -1;\n",
       "        }\n",
       "        mouse_event_fn(event);\n",
       "    });\n",
       "\n",
       "    canvas_div.append(canvas);\n",
       "    canvas_div.append(rubberband);\n",
       "\n",
       "    this.rubberband = rubberband;\n",
       "    this.rubberband_canvas = rubberband[0];\n",
       "    this.rubberband_context = rubberband[0].getContext(\"2d\");\n",
       "    this.rubberband_context.strokeStyle = \"#000000\";\n",
       "\n",
       "    this._resize_canvas = function(width, height) {\n",
       "        // Keep the size of the canvas, canvas container, and rubber band\n",
       "        // canvas in synch.\n",
       "        canvas_div.css('width', width)\n",
       "        canvas_div.css('height', height)\n",
       "\n",
       "        canvas.attr('width', width * mpl.ratio);\n",
       "        canvas.attr('height', height * mpl.ratio);\n",
       "        canvas.attr('style', 'width: ' + width + 'px; height: ' + height + 'px;');\n",
       "\n",
       "        rubberband.attr('width', width);\n",
       "        rubberband.attr('height', height);\n",
       "    }\n",
       "\n",
       "    // Set the figure to an initial 600x600px, this will subsequently be updated\n",
       "    // upon first draw.\n",
       "    this._resize_canvas(600, 600);\n",
       "\n",
       "    // Disable right mouse context menu.\n",
       "    $(this.rubberband_canvas).bind(\"contextmenu\",function(e){\n",
       "        return false;\n",
       "    });\n",
       "\n",
       "    function set_focus () {\n",
       "        canvas.focus();\n",
       "        canvas_div.focus();\n",
       "    }\n",
       "\n",
       "    window.setTimeout(set_focus, 100);\n",
       "}\n",
       "\n",
       "mpl.figure.prototype._init_toolbar = function() {\n",
       "    var fig = this;\n",
       "\n",
       "    var nav_element = $('<div/>')\n",
       "    nav_element.attr('style', 'width: 100%');\n",
       "    this.root.append(nav_element);\n",
       "\n",
       "    // Define a callback function for later on.\n",
       "    function toolbar_event(event) {\n",
       "        return fig.toolbar_button_onclick(event['data']);\n",
       "    }\n",
       "    function toolbar_mouse_event(event) {\n",
       "        return fig.toolbar_button_onmouseover(event['data']);\n",
       "    }\n",
       "\n",
       "    for(var toolbar_ind in mpl.toolbar_items) {\n",
       "        var name = mpl.toolbar_items[toolbar_ind][0];\n",
       "        var tooltip = mpl.toolbar_items[toolbar_ind][1];\n",
       "        var image = mpl.toolbar_items[toolbar_ind][2];\n",
       "        var method_name = mpl.toolbar_items[toolbar_ind][3];\n",
       "\n",
       "        if (!name) {\n",
       "            // put a spacer in here.\n",
       "            continue;\n",
       "        }\n",
       "        var button = $('<button/>');\n",
       "        button.addClass('ui-button ui-widget ui-state-default ui-corner-all ' +\n",
       "                        'ui-button-icon-only');\n",
       "        button.attr('role', 'button');\n",
       "        button.attr('aria-disabled', 'false');\n",
       "        button.click(method_name, toolbar_event);\n",
       "        button.mouseover(tooltip, toolbar_mouse_event);\n",
       "\n",
       "        var icon_img = $('<span/>');\n",
       "        icon_img.addClass('ui-button-icon-primary ui-icon');\n",
       "        icon_img.addClass(image);\n",
       "        icon_img.addClass('ui-corner-all');\n",
       "\n",
       "        var tooltip_span = $('<span/>');\n",
       "        tooltip_span.addClass('ui-button-text');\n",
       "        tooltip_span.html(tooltip);\n",
       "\n",
       "        button.append(icon_img);\n",
       "        button.append(tooltip_span);\n",
       "\n",
       "        nav_element.append(button);\n",
       "    }\n",
       "\n",
       "    var fmt_picker_span = $('<span/>');\n",
       "\n",
       "    var fmt_picker = $('<select/>');\n",
       "    fmt_picker.addClass('mpl-toolbar-option ui-widget ui-widget-content');\n",
       "    fmt_picker_span.append(fmt_picker);\n",
       "    nav_element.append(fmt_picker_span);\n",
       "    this.format_dropdown = fmt_picker[0];\n",
       "\n",
       "    for (var ind in mpl.extensions) {\n",
       "        var fmt = mpl.extensions[ind];\n",
       "        var option = $(\n",
       "            '<option/>', {selected: fmt === mpl.default_extension}).html(fmt);\n",
       "        fmt_picker.append(option)\n",
       "    }\n",
       "\n",
       "    // Add hover states to the ui-buttons\n",
       "    $( \".ui-button\" ).hover(\n",
       "        function() { $(this).addClass(\"ui-state-hover\");},\n",
       "        function() { $(this).removeClass(\"ui-state-hover\");}\n",
       "    );\n",
       "\n",
       "    var status_bar = $('<span class=\"mpl-message\"/>');\n",
       "    nav_element.append(status_bar);\n",
       "    this.message = status_bar[0];\n",
       "}\n",
       "\n",
       "mpl.figure.prototype.request_resize = function(x_pixels, y_pixels) {\n",
       "    // Request matplotlib to resize the figure. Matplotlib will then trigger a resize in the client,\n",
       "    // which will in turn request a refresh of the image.\n",
       "    this.send_message('resize', {'width': x_pixels, 'height': y_pixels});\n",
       "}\n",
       "\n",
       "mpl.figure.prototype.send_message = function(type, properties) {\n",
       "    properties['type'] = type;\n",
       "    properties['figure_id'] = this.id;\n",
       "    this.ws.send(JSON.stringify(properties));\n",
       "}\n",
       "\n",
       "mpl.figure.prototype.send_draw_message = function() {\n",
       "    if (!this.waiting) {\n",
       "        this.waiting = true;\n",
       "        this.ws.send(JSON.stringify({type: \"draw\", figure_id: this.id}));\n",
       "    }\n",
       "}\n",
       "\n",
       "\n",
       "mpl.figure.prototype.handle_save = function(fig, msg) {\n",
       "    var format_dropdown = fig.format_dropdown;\n",
       "    var format = format_dropdown.options[format_dropdown.selectedIndex].value;\n",
       "    fig.ondownload(fig, format);\n",
       "}\n",
       "\n",
       "\n",
       "mpl.figure.prototype.handle_resize = function(fig, msg) {\n",
       "    var size = msg['size'];\n",
       "    if (size[0] != fig.canvas.width || size[1] != fig.canvas.height) {\n",
       "        fig._resize_canvas(size[0], size[1]);\n",
       "        fig.send_message(\"refresh\", {});\n",
       "    };\n",
       "}\n",
       "\n",
       "mpl.figure.prototype.handle_rubberband = function(fig, msg) {\n",
       "    var x0 = msg['x0'] / mpl.ratio;\n",
       "    var y0 = (fig.canvas.height - msg['y0']) / mpl.ratio;\n",
       "    var x1 = msg['x1'] / mpl.ratio;\n",
       "    var y1 = (fig.canvas.height - msg['y1']) / mpl.ratio;\n",
       "    x0 = Math.floor(x0) + 0.5;\n",
       "    y0 = Math.floor(y0) + 0.5;\n",
       "    x1 = Math.floor(x1) + 0.5;\n",
       "    y1 = Math.floor(y1) + 0.5;\n",
       "    var min_x = Math.min(x0, x1);\n",
       "    var min_y = Math.min(y0, y1);\n",
       "    var width = Math.abs(x1 - x0);\n",
       "    var height = Math.abs(y1 - y0);\n",
       "\n",
       "    fig.rubberband_context.clearRect(\n",
       "        0, 0, fig.canvas.width, fig.canvas.height);\n",
       "\n",
       "    fig.rubberband_context.strokeRect(min_x, min_y, width, height);\n",
       "}\n",
       "\n",
       "mpl.figure.prototype.handle_figure_label = function(fig, msg) {\n",
       "    // Updates the figure title.\n",
       "    fig.header.textContent = msg['label'];\n",
       "}\n",
       "\n",
       "mpl.figure.prototype.handle_cursor = function(fig, msg) {\n",
       "    var cursor = msg['cursor'];\n",
       "    switch(cursor)\n",
       "    {\n",
       "    case 0:\n",
       "        cursor = 'pointer';\n",
       "        break;\n",
       "    case 1:\n",
       "        cursor = 'default';\n",
       "        break;\n",
       "    case 2:\n",
       "        cursor = 'crosshair';\n",
       "        break;\n",
       "    case 3:\n",
       "        cursor = 'move';\n",
       "        break;\n",
       "    }\n",
       "    fig.rubberband_canvas.style.cursor = cursor;\n",
       "}\n",
       "\n",
       "mpl.figure.prototype.handle_message = function(fig, msg) {\n",
       "    fig.message.textContent = msg['message'];\n",
       "}\n",
       "\n",
       "mpl.figure.prototype.handle_draw = function(fig, msg) {\n",
       "    // Request the server to send over a new figure.\n",
       "    fig.send_draw_message();\n",
       "}\n",
       "\n",
       "mpl.figure.prototype.handle_image_mode = function(fig, msg) {\n",
       "    fig.image_mode = msg['mode'];\n",
       "}\n",
       "\n",
       "mpl.figure.prototype.updated_canvas_event = function() {\n",
       "    // Called whenever the canvas gets updated.\n",
       "    this.send_message(\"ack\", {});\n",
       "}\n",
       "\n",
       "// A function to construct a web socket function for onmessage handling.\n",
       "// Called in the figure constructor.\n",
       "mpl.figure.prototype._make_on_message_function = function(fig) {\n",
       "    return function socket_on_message(evt) {\n",
       "        if (evt.data instanceof Blob) {\n",
       "            /* FIXME: We get \"Resource interpreted as Image but\n",
       "             * transferred with MIME type text/plain:\" errors on\n",
       "             * Chrome.  But how to set the MIME type?  It doesn't seem\n",
       "             * to be part of the websocket stream */\n",
       "            evt.data.type = \"image/png\";\n",
       "\n",
       "            /* Free the memory for the previous frames */\n",
       "            if (fig.imageObj.src) {\n",
       "                (window.URL || window.webkitURL).revokeObjectURL(\n",
       "                    fig.imageObj.src);\n",
       "            }\n",
       "\n",
       "            fig.imageObj.src = (window.URL || window.webkitURL).createObjectURL(\n",
       "                evt.data);\n",
       "            fig.updated_canvas_event();\n",
       "            fig.waiting = false;\n",
       "            return;\n",
       "        }\n",
       "        else if (typeof evt.data === 'string' && evt.data.slice(0, 21) == \"data:image/png;base64\") {\n",
       "            fig.imageObj.src = evt.data;\n",
       "            fig.updated_canvas_event();\n",
       "            fig.waiting = false;\n",
       "            return;\n",
       "        }\n",
       "\n",
       "        var msg = JSON.parse(evt.data);\n",
       "        var msg_type = msg['type'];\n",
       "\n",
       "        // Call the  \"handle_{type}\" callback, which takes\n",
       "        // the figure and JSON message as its only arguments.\n",
       "        try {\n",
       "            var callback = fig[\"handle_\" + msg_type];\n",
       "        } catch (e) {\n",
       "            console.log(\"No handler for the '\" + msg_type + \"' message type: \", msg);\n",
       "            return;\n",
       "        }\n",
       "\n",
       "        if (callback) {\n",
       "            try {\n",
       "                // console.log(\"Handling '\" + msg_type + \"' message: \", msg);\n",
       "                callback(fig, msg);\n",
       "            } catch (e) {\n",
       "                console.log(\"Exception inside the 'handler_\" + msg_type + \"' callback:\", e, e.stack, msg);\n",
       "            }\n",
       "        }\n",
       "    };\n",
       "}\n",
       "\n",
       "// from http://stackoverflow.com/questions/1114465/getting-mouse-location-in-canvas\n",
       "mpl.findpos = function(e) {\n",
       "    //this section is from http://www.quirksmode.org/js/events_properties.html\n",
       "    var targ;\n",
       "    if (!e)\n",
       "        e = window.event;\n",
       "    if (e.target)\n",
       "        targ = e.target;\n",
       "    else if (e.srcElement)\n",
       "        targ = e.srcElement;\n",
       "    if (targ.nodeType == 3) // defeat Safari bug\n",
       "        targ = targ.parentNode;\n",
       "\n",
       "    // jQuery normalizes the pageX and pageY\n",
       "    // pageX,Y are the mouse positions relative to the document\n",
       "    // offset() returns the position of the element relative to the document\n",
       "    var x = e.pageX - $(targ).offset().left;\n",
       "    var y = e.pageY - $(targ).offset().top;\n",
       "\n",
       "    return {\"x\": x, \"y\": y};\n",
       "};\n",
       "\n",
       "/*\n",
       " * return a copy of an object with only non-object keys\n",
       " * we need this to avoid circular references\n",
       " * http://stackoverflow.com/a/24161582/3208463\n",
       " */\n",
       "function simpleKeys (original) {\n",
       "  return Object.keys(original).reduce(function (obj, key) {\n",
       "    if (typeof original[key] !== 'object')\n",
       "        obj[key] = original[key]\n",
       "    return obj;\n",
       "  }, {});\n",
       "}\n",
       "\n",
       "mpl.figure.prototype.mouse_event = function(event, name) {\n",
       "    var canvas_pos = mpl.findpos(event)\n",
       "\n",
       "    if (name === 'button_press')\n",
       "    {\n",
       "        this.canvas.focus();\n",
       "        this.canvas_div.focus();\n",
       "    }\n",
       "\n",
       "    var x = canvas_pos.x * mpl.ratio;\n",
       "    var y = canvas_pos.y * mpl.ratio;\n",
       "\n",
       "    this.send_message(name, {x: x, y: y, button: event.button,\n",
       "                             step: event.step,\n",
       "                             guiEvent: simpleKeys(event)});\n",
       "\n",
       "    /* This prevents the web browser from automatically changing to\n",
       "     * the text insertion cursor when the button is pressed.  We want\n",
       "     * to control all of the cursor setting manually through the\n",
       "     * 'cursor' event from matplotlib */\n",
       "    event.preventDefault();\n",
       "    return false;\n",
       "}\n",
       "\n",
       "mpl.figure.prototype._key_event_extra = function(event, name) {\n",
       "    // Handle any extra behaviour associated with a key event\n",
       "}\n",
       "\n",
       "mpl.figure.prototype.key_event = function(event, name) {\n",
       "\n",
       "    // Prevent repeat events\n",
       "    if (name == 'key_press')\n",
       "    {\n",
       "        if (event.which === this._key)\n",
       "            return;\n",
       "        else\n",
       "            this._key = event.which;\n",
       "    }\n",
       "    if (name == 'key_release')\n",
       "        this._key = null;\n",
       "\n",
       "    var value = '';\n",
       "    if (event.ctrlKey && event.which != 17)\n",
       "        value += \"ctrl+\";\n",
       "    if (event.altKey && event.which != 18)\n",
       "        value += \"alt+\";\n",
       "    if (event.shiftKey && event.which != 16)\n",
       "        value += \"shift+\";\n",
       "\n",
       "    value += 'k';\n",
       "    value += event.which.toString();\n",
       "\n",
       "    this._key_event_extra(event, name);\n",
       "\n",
       "    this.send_message(name, {key: value,\n",
       "                             guiEvent: simpleKeys(event)});\n",
       "    return false;\n",
       "}\n",
       "\n",
       "mpl.figure.prototype.toolbar_button_onclick = function(name) {\n",
       "    if (name == 'download') {\n",
       "        this.handle_save(this, null);\n",
       "    } else {\n",
       "        this.send_message(\"toolbar_button\", {name: name});\n",
       "    }\n",
       "};\n",
       "\n",
       "mpl.figure.prototype.toolbar_button_onmouseover = function(tooltip) {\n",
       "    this.message.textContent = tooltip;\n",
       "};\n",
       "mpl.toolbar_items = [[\"Home\", \"Reset original view\", \"fa fa-home icon-home\", \"home\"], [\"Back\", \"Back to  previous view\", \"fa fa-arrow-left icon-arrow-left\", \"back\"], [\"Forward\", \"Forward to next view\", \"fa fa-arrow-right icon-arrow-right\", \"forward\"], [\"\", \"\", \"\", \"\"], [\"Pan\", \"Pan axes with left mouse, zoom with right\", \"fa fa-arrows icon-move\", \"pan\"], [\"Zoom\", \"Zoom to rectangle\", \"fa fa-square-o icon-check-empty\", \"zoom\"], [\"\", \"\", \"\", \"\"], [\"Download\", \"Download plot\", \"fa fa-floppy-o icon-save\", \"download\"]];\n",
       "\n",
       "mpl.extensions = [\"eps\", \"jpeg\", \"pdf\", \"png\", \"ps\", \"raw\", \"svg\", \"tif\"];\n",
       "\n",
       "mpl.default_extension = \"png\";var comm_websocket_adapter = function(comm) {\n",
       "    // Create a \"websocket\"-like object which calls the given IPython comm\n",
       "    // object with the appropriate methods. Currently this is a non binary\n",
       "    // socket, so there is still some room for performance tuning.\n",
       "    var ws = {};\n",
       "\n",
       "    ws.close = function() {\n",
       "        comm.close()\n",
       "    };\n",
       "    ws.send = function(m) {\n",
       "        //console.log('sending', m);\n",
       "        comm.send(m);\n",
       "    };\n",
       "    // Register the callback with on_msg.\n",
       "    comm.on_msg(function(msg) {\n",
       "        //console.log('receiving', msg['content']['data'], msg);\n",
       "        // Pass the mpl event to the overriden (by mpl) onmessage function.\n",
       "        ws.onmessage(msg['content']['data'])\n",
       "    });\n",
       "    return ws;\n",
       "}\n",
       "\n",
       "mpl.mpl_figure_comm = function(comm, msg) {\n",
       "    // This is the function which gets called when the mpl process\n",
       "    // starts-up an IPython Comm through the \"matplotlib\" channel.\n",
       "\n",
       "    var id = msg.content.data.id;\n",
       "    // Get hold of the div created by the display call when the Comm\n",
       "    // socket was opened in Python.\n",
       "    var element = $(\"#\" + id);\n",
       "    var ws_proxy = comm_websocket_adapter(comm)\n",
       "\n",
       "    function ondownload(figure, format) {\n",
       "        window.open(figure.imageObj.src);\n",
       "    }\n",
       "\n",
       "    var fig = new mpl.figure(id, ws_proxy,\n",
       "                           ondownload,\n",
       "                           element.get(0));\n",
       "\n",
       "    // Call onopen now - mpl needs it, as it is assuming we've passed it a real\n",
       "    // web socket which is closed, not our websocket->open comm proxy.\n",
       "    ws_proxy.onopen();\n",
       "\n",
       "    fig.parent_element = element.get(0);\n",
       "    fig.cell_info = mpl.find_output_cell(\"<div id='\" + id + \"'></div>\");\n",
       "    if (!fig.cell_info) {\n",
       "        console.error(\"Failed to find cell for figure\", id, fig);\n",
       "        return;\n",
       "    }\n",
       "\n",
       "    var output_index = fig.cell_info[2]\n",
       "    var cell = fig.cell_info[0];\n",
       "\n",
       "};\n",
       "\n",
       "mpl.figure.prototype.handle_close = function(fig, msg) {\n",
       "    var width = fig.canvas.width/mpl.ratio\n",
       "    fig.root.unbind('remove')\n",
       "\n",
       "    // Update the output cell to use the data from the current canvas.\n",
       "    fig.push_to_output();\n",
       "    var dataURL = fig.canvas.toDataURL();\n",
       "    // Re-enable the keyboard manager in IPython - without this line, in FF,\n",
       "    // the notebook keyboard shortcuts fail.\n",
       "    IPython.keyboard_manager.enable()\n",
       "    $(fig.parent_element).html('<img src=\"' + dataURL + '\" width=\"' + width + '\">');\n",
       "    fig.close_ws(fig, msg);\n",
       "}\n",
       "\n",
       "mpl.figure.prototype.close_ws = function(fig, msg){\n",
       "    fig.send_message('closing', msg);\n",
       "    // fig.ws.close()\n",
       "}\n",
       "\n",
       "mpl.figure.prototype.push_to_output = function(remove_interactive) {\n",
       "    // Turn the data on the canvas into data in the output cell.\n",
       "    var width = this.canvas.width/mpl.ratio\n",
       "    var dataURL = this.canvas.toDataURL();\n",
       "    this.cell_info[1]['text/html'] = '<img src=\"' + dataURL + '\" width=\"' + width + '\">';\n",
       "}\n",
       "\n",
       "mpl.figure.prototype.updated_canvas_event = function() {\n",
       "    // Tell IPython that the notebook contents must change.\n",
       "    IPython.notebook.set_dirty(true);\n",
       "    this.send_message(\"ack\", {});\n",
       "    var fig = this;\n",
       "    // Wait a second, then push the new image to the DOM so\n",
       "    // that it is saved nicely (might be nice to debounce this).\n",
       "    setTimeout(function () { fig.push_to_output() }, 1000);\n",
       "}\n",
       "\n",
       "mpl.figure.prototype._init_toolbar = function() {\n",
       "    var fig = this;\n",
       "\n",
       "    var nav_element = $('<div/>')\n",
       "    nav_element.attr('style', 'width: 100%');\n",
       "    this.root.append(nav_element);\n",
       "\n",
       "    // Define a callback function for later on.\n",
       "    function toolbar_event(event) {\n",
       "        return fig.toolbar_button_onclick(event['data']);\n",
       "    }\n",
       "    function toolbar_mouse_event(event) {\n",
       "        return fig.toolbar_button_onmouseover(event['data']);\n",
       "    }\n",
       "\n",
       "    for(var toolbar_ind in mpl.toolbar_items){\n",
       "        var name = mpl.toolbar_items[toolbar_ind][0];\n",
       "        var tooltip = mpl.toolbar_items[toolbar_ind][1];\n",
       "        var image = mpl.toolbar_items[toolbar_ind][2];\n",
       "        var method_name = mpl.toolbar_items[toolbar_ind][3];\n",
       "\n",
       "        if (!name) { continue; };\n",
       "\n",
       "        var button = $('<button class=\"btn btn-default\" href=\"#\" title=\"' + name + '\"><i class=\"fa ' + image + ' fa-lg\"></i></button>');\n",
       "        button.click(method_name, toolbar_event);\n",
       "        button.mouseover(tooltip, toolbar_mouse_event);\n",
       "        nav_element.append(button);\n",
       "    }\n",
       "\n",
       "    // Add the status bar.\n",
       "    var status_bar = $('<span class=\"mpl-message\" style=\"text-align:right; float: right;\"/>');\n",
       "    nav_element.append(status_bar);\n",
       "    this.message = status_bar[0];\n",
       "\n",
       "    // Add the close button to the window.\n",
       "    var buttongrp = $('<div class=\"btn-group inline pull-right\"></div>');\n",
       "    var button = $('<button class=\"btn btn-mini btn-primary\" href=\"#\" title=\"Stop Interaction\"><i class=\"fa fa-power-off icon-remove icon-large\"></i></button>');\n",
       "    button.click(function (evt) { fig.handle_close(fig, {}); } );\n",
       "    button.mouseover('Stop Interaction', toolbar_mouse_event);\n",
       "    buttongrp.append(button);\n",
       "    var titlebar = this.root.find($('.ui-dialog-titlebar'));\n",
       "    titlebar.prepend(buttongrp);\n",
       "}\n",
       "\n",
       "mpl.figure.prototype._root_extra_style = function(el){\n",
       "    var fig = this\n",
       "    el.on(\"remove\", function(){\n",
       "\tfig.close_ws(fig, {});\n",
       "    });\n",
       "}\n",
       "\n",
       "mpl.figure.prototype._canvas_extra_style = function(el){\n",
       "    // this is important to make the div 'focusable\n",
       "    el.attr('tabindex', 0)\n",
       "    // reach out to IPython and tell the keyboard manager to turn it's self\n",
       "    // off when our div gets focus\n",
       "\n",
       "    // location in version 3\n",
       "    if (IPython.notebook.keyboard_manager) {\n",
       "        IPython.notebook.keyboard_manager.register_events(el);\n",
       "    }\n",
       "    else {\n",
       "        // location in version 2\n",
       "        IPython.keyboard_manager.register_events(el);\n",
       "    }\n",
       "\n",
       "}\n",
       "\n",
       "mpl.figure.prototype._key_event_extra = function(event, name) {\n",
       "    var manager = IPython.notebook.keyboard_manager;\n",
       "    if (!manager)\n",
       "        manager = IPython.keyboard_manager;\n",
       "\n",
       "    // Check for shift+enter\n",
       "    if (event.shiftKey && event.which == 13) {\n",
       "        this.canvas_div.blur();\n",
       "        event.shiftKey = false;\n",
       "        // Send a \"J\" for go to next cell\n",
       "        event.which = 74;\n",
       "        event.keyCode = 74;\n",
       "        manager.command_mode();\n",
       "        manager.handle_keydown(event);\n",
       "    }\n",
       "}\n",
       "\n",
       "mpl.figure.prototype.handle_save = function(fig, msg) {\n",
       "    fig.ondownload(fig, null);\n",
       "}\n",
       "\n",
       "\n",
       "mpl.find_output_cell = function(html_output) {\n",
       "    // Return the cell and output element which can be found *uniquely* in the notebook.\n",
       "    // Note - this is a bit hacky, but it is done because the \"notebook_saving.Notebook\"\n",
       "    // IPython event is triggered only after the cells have been serialised, which for\n",
       "    // our purposes (turning an active figure into a static one), is too late.\n",
       "    var cells = IPython.notebook.get_cells();\n",
       "    var ncells = cells.length;\n",
       "    for (var i=0; i<ncells; i++) {\n",
       "        var cell = cells[i];\n",
       "        if (cell.cell_type === 'code'){\n",
       "            for (var j=0; j<cell.output_area.outputs.length; j++) {\n",
       "                var data = cell.output_area.outputs[j];\n",
       "                if (data.data) {\n",
       "                    // IPython >= 3 moved mimebundle to data attribute of output\n",
       "                    data = data.data;\n",
       "                }\n",
       "                if (data['text/html'] == html_output) {\n",
       "                    return [cell, data, j];\n",
       "                }\n",
       "            }\n",
       "        }\n",
       "    }\n",
       "}\n",
       "\n",
       "// Register the function which deals with the matplotlib target/channel.\n",
       "// The kernel may be null if the page has been refreshed.\n",
       "if (IPython.notebook.kernel != null) {\n",
       "    IPython.notebook.kernel.comm_manager.register_target('matplotlib', mpl.mpl_figure_comm);\n",
       "}\n"
      ],
      "text/plain": [
       "<IPython.core.display.Javascript object>"
      ]
     },
     "metadata": {},
     "output_type": "display_data"
    },
    {
     "data": {
      "text/html": [
       "<img src=\"data:image/png;base64,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\" width=\"432\">"
      ],
      "text/plain": [
       "<IPython.core.display.HTML object>"
      ]
     },
     "metadata": {},
     "output_type": "display_data"
    },
    {
     "data": {
      "text/plain": [
       "[<matplotlib.lines.Line2D at 0x117a8d630>]"
      ]
     },
     "execution_count": 35,
     "metadata": {},
     "output_type": "execute_result"
    }
   ],
   "source": [
    "X = np.load(way + \"No7.npy\")\n",
    "pylab.figure()\n",
    "pylab.plot(X[0],X[1])"
   ]
  },
  {
   "cell_type": "code",
   "execution_count": 10,
   "metadata": {},
   "outputs": [
    {
     "data": {
      "text/plain": [
       "['Record number: ',\n",
       " '15546',\n",
       " 't_hmode: ',\n",
       " '1065.99',\n",
       " '1175.81',\n",
       " '1190.1100000000001',\n",
       " '1195.71',\n",
       " '1201.44']"
      ]
     },
     "execution_count": 10,
     "metadata": {},
     "output_type": "execute_result"
    }
   ],
   "source": [
    "np.load(way + \"No7_res.npy\").tolist()"
   ]
  },
  {
   "cell_type": "code",
   "execution_count": 31,
   "metadata": {},
   "outputs": [
    {
     "data": {
      "application/javascript": [
       "/* Put everything inside the global mpl namespace */\n",
       "window.mpl = {};\n",
       "\n",
       "\n",
       "mpl.get_websocket_type = function() {\n",
       "    if (typeof(WebSocket) !== 'undefined') {\n",
       "        return WebSocket;\n",
       "    } else if (typeof(MozWebSocket) !== 'undefined') {\n",
       "        return MozWebSocket;\n",
       "    } else {\n",
       "        alert('Your browser does not have WebSocket support.' +\n",
       "              'Please try Chrome, Safari or Firefox ≥ 6. ' +\n",
       "              'Firefox 4 and 5 are also supported but you ' +\n",
       "              'have to enable WebSockets in about:config.');\n",
       "    };\n",
       "}\n",
       "\n",
       "mpl.figure = function(figure_id, websocket, ondownload, parent_element) {\n",
       "    this.id = figure_id;\n",
       "\n",
       "    this.ws = websocket;\n",
       "\n",
       "    this.supports_binary = (this.ws.binaryType != undefined);\n",
       "\n",
       "    if (!this.supports_binary) {\n",
       "        var warnings = document.getElementById(\"mpl-warnings\");\n",
       "        if (warnings) {\n",
       "            warnings.style.display = 'block';\n",
       "            warnings.textContent = (\n",
       "                \"This browser does not support binary websocket messages. \" +\n",
       "                    \"Performance may be slow.\");\n",
       "        }\n",
       "    }\n",
       "\n",
       "    this.imageObj = new Image();\n",
       "\n",
       "    this.context = undefined;\n",
       "    this.message = undefined;\n",
       "    this.canvas = undefined;\n",
       "    this.rubberband_canvas = undefined;\n",
       "    this.rubberband_context = undefined;\n",
       "    this.format_dropdown = undefined;\n",
       "\n",
       "    this.image_mode = 'full';\n",
       "\n",
       "    this.root = $('<div/>');\n",
       "    this._root_extra_style(this.root)\n",
       "    this.root.attr('style', 'display: inline-block');\n",
       "\n",
       "    $(parent_element).append(this.root);\n",
       "\n",
       "    this._init_header(this);\n",
       "    this._init_canvas(this);\n",
       "    this._init_toolbar(this);\n",
       "\n",
       "    var fig = this;\n",
       "\n",
       "    this.waiting = false;\n",
       "\n",
       "    this.ws.onopen =  function () {\n",
       "            fig.send_message(\"supports_binary\", {value: fig.supports_binary});\n",
       "            fig.send_message(\"send_image_mode\", {});\n",
       "            if (mpl.ratio != 1) {\n",
       "                fig.send_message(\"set_dpi_ratio\", {'dpi_ratio': mpl.ratio});\n",
       "            }\n",
       "            fig.send_message(\"refresh\", {});\n",
       "        }\n",
       "\n",
       "    this.imageObj.onload = function() {\n",
       "            if (fig.image_mode == 'full') {\n",
       "                // Full images could contain transparency (where diff images\n",
       "                // almost always do), so we need to clear the canvas so that\n",
       "                // there is no ghosting.\n",
       "                fig.context.clearRect(0, 0, fig.canvas.width, fig.canvas.height);\n",
       "            }\n",
       "            fig.context.drawImage(fig.imageObj, 0, 0);\n",
       "        };\n",
       "\n",
       "    this.imageObj.onunload = function() {\n",
       "        fig.ws.close();\n",
       "    }\n",
       "\n",
       "    this.ws.onmessage = this._make_on_message_function(this);\n",
       "\n",
       "    this.ondownload = ondownload;\n",
       "}\n",
       "\n",
       "mpl.figure.prototype._init_header = function() {\n",
       "    var titlebar = $(\n",
       "        '<div class=\"ui-dialog-titlebar ui-widget-header ui-corner-all ' +\n",
       "        'ui-helper-clearfix\"/>');\n",
       "    var titletext = $(\n",
       "        '<div class=\"ui-dialog-title\" style=\"width: 100%; ' +\n",
       "        'text-align: center; padding: 3px;\"/>');\n",
       "    titlebar.append(titletext)\n",
       "    this.root.append(titlebar);\n",
       "    this.header = titletext[0];\n",
       "}\n",
       "\n",
       "\n",
       "\n",
       "mpl.figure.prototype._canvas_extra_style = function(canvas_div) {\n",
       "\n",
       "}\n",
       "\n",
       "\n",
       "mpl.figure.prototype._root_extra_style = function(canvas_div) {\n",
       "\n",
       "}\n",
       "\n",
       "mpl.figure.prototype._init_canvas = function() {\n",
       "    var fig = this;\n",
       "\n",
       "    var canvas_div = $('<div/>');\n",
       "\n",
       "    canvas_div.attr('style', 'position: relative; clear: both; outline: 0');\n",
       "\n",
       "    function canvas_keyboard_event(event) {\n",
       "        return fig.key_event(event, event['data']);\n",
       "    }\n",
       "\n",
       "    canvas_div.keydown('key_press', canvas_keyboard_event);\n",
       "    canvas_div.keyup('key_release', canvas_keyboard_event);\n",
       "    this.canvas_div = canvas_div\n",
       "    this._canvas_extra_style(canvas_div)\n",
       "    this.root.append(canvas_div);\n",
       "\n",
       "    var canvas = $('<canvas/>');\n",
       "    canvas.addClass('mpl-canvas');\n",
       "    canvas.attr('style', \"left: 0; top: 0; z-index: 0; outline: 0\")\n",
       "\n",
       "    this.canvas = canvas[0];\n",
       "    this.context = canvas[0].getContext(\"2d\");\n",
       "\n",
       "    var backingStore = this.context.backingStorePixelRatio ||\n",
       "\tthis.context.webkitBackingStorePixelRatio ||\n",
       "\tthis.context.mozBackingStorePixelRatio ||\n",
       "\tthis.context.msBackingStorePixelRatio ||\n",
       "\tthis.context.oBackingStorePixelRatio ||\n",
       "\tthis.context.backingStorePixelRatio || 1;\n",
       "\n",
       "    mpl.ratio = (window.devicePixelRatio || 1) / backingStore;\n",
       "\n",
       "    var rubberband = $('<canvas/>');\n",
       "    rubberband.attr('style', \"position: absolute; left: 0; top: 0; z-index: 1;\")\n",
       "\n",
       "    var pass_mouse_events = true;\n",
       "\n",
       "    canvas_div.resizable({\n",
       "        start: function(event, ui) {\n",
       "            pass_mouse_events = false;\n",
       "        },\n",
       "        resize: function(event, ui) {\n",
       "            fig.request_resize(ui.size.width, ui.size.height);\n",
       "        },\n",
       "        stop: function(event, ui) {\n",
       "            pass_mouse_events = true;\n",
       "            fig.request_resize(ui.size.width, ui.size.height);\n",
       "        },\n",
       "    });\n",
       "\n",
       "    function mouse_event_fn(event) {\n",
       "        if (pass_mouse_events)\n",
       "            return fig.mouse_event(event, event['data']);\n",
       "    }\n",
       "\n",
       "    rubberband.mousedown('button_press', mouse_event_fn);\n",
       "    rubberband.mouseup('button_release', mouse_event_fn);\n",
       "    // Throttle sequential mouse events to 1 every 20ms.\n",
       "    rubberband.mousemove('motion_notify', mouse_event_fn);\n",
       "\n",
       "    rubberband.mouseenter('figure_enter', mouse_event_fn);\n",
       "    rubberband.mouseleave('figure_leave', mouse_event_fn);\n",
       "\n",
       "    canvas_div.on(\"wheel\", function (event) {\n",
       "        event = event.originalEvent;\n",
       "        event['data'] = 'scroll'\n",
       "        if (event.deltaY < 0) {\n",
       "            event.step = 1;\n",
       "        } else {\n",
       "            event.step = -1;\n",
       "        }\n",
       "        mouse_event_fn(event);\n",
       "    });\n",
       "\n",
       "    canvas_div.append(canvas);\n",
       "    canvas_div.append(rubberband);\n",
       "\n",
       "    this.rubberband = rubberband;\n",
       "    this.rubberband_canvas = rubberband[0];\n",
       "    this.rubberband_context = rubberband[0].getContext(\"2d\");\n",
       "    this.rubberband_context.strokeStyle = \"#000000\";\n",
       "\n",
       "    this._resize_canvas = function(width, height) {\n",
       "        // Keep the size of the canvas, canvas container, and rubber band\n",
       "        // canvas in synch.\n",
       "        canvas_div.css('width', width)\n",
       "        canvas_div.css('height', height)\n",
       "\n",
       "        canvas.attr('width', width * mpl.ratio);\n",
       "        canvas.attr('height', height * mpl.ratio);\n",
       "        canvas.attr('style', 'width: ' + width + 'px; height: ' + height + 'px;');\n",
       "\n",
       "        rubberband.attr('width', width);\n",
       "        rubberband.attr('height', height);\n",
       "    }\n",
       "\n",
       "    // Set the figure to an initial 600x600px, this will subsequently be updated\n",
       "    // upon first draw.\n",
       "    this._resize_canvas(600, 600);\n",
       "\n",
       "    // Disable right mouse context menu.\n",
       "    $(this.rubberband_canvas).bind(\"contextmenu\",function(e){\n",
       "        return false;\n",
       "    });\n",
       "\n",
       "    function set_focus () {\n",
       "        canvas.focus();\n",
       "        canvas_div.focus();\n",
       "    }\n",
       "\n",
       "    window.setTimeout(set_focus, 100);\n",
       "}\n",
       "\n",
       "mpl.figure.prototype._init_toolbar = function() {\n",
       "    var fig = this;\n",
       "\n",
       "    var nav_element = $('<div/>')\n",
       "    nav_element.attr('style', 'width: 100%');\n",
       "    this.root.append(nav_element);\n",
       "\n",
       "    // Define a callback function for later on.\n",
       "    function toolbar_event(event) {\n",
       "        return fig.toolbar_button_onclick(event['data']);\n",
       "    }\n",
       "    function toolbar_mouse_event(event) {\n",
       "        return fig.toolbar_button_onmouseover(event['data']);\n",
       "    }\n",
       "\n",
       "    for(var toolbar_ind in mpl.toolbar_items) {\n",
       "        var name = mpl.toolbar_items[toolbar_ind][0];\n",
       "        var tooltip = mpl.toolbar_items[toolbar_ind][1];\n",
       "        var image = mpl.toolbar_items[toolbar_ind][2];\n",
       "        var method_name = mpl.toolbar_items[toolbar_ind][3];\n",
       "\n",
       "        if (!name) {\n",
       "            // put a spacer in here.\n",
       "            continue;\n",
       "        }\n",
       "        var button = $('<button/>');\n",
       "        button.addClass('ui-button ui-widget ui-state-default ui-corner-all ' +\n",
       "                        'ui-button-icon-only');\n",
       "        button.attr('role', 'button');\n",
       "        button.attr('aria-disabled', 'false');\n",
       "        button.click(method_name, toolbar_event);\n",
       "        button.mouseover(tooltip, toolbar_mouse_event);\n",
       "\n",
       "        var icon_img = $('<span/>');\n",
       "        icon_img.addClass('ui-button-icon-primary ui-icon');\n",
       "        icon_img.addClass(image);\n",
       "        icon_img.addClass('ui-corner-all');\n",
       "\n",
       "        var tooltip_span = $('<span/>');\n",
       "        tooltip_span.addClass('ui-button-text');\n",
       "        tooltip_span.html(tooltip);\n",
       "\n",
       "        button.append(icon_img);\n",
       "        button.append(tooltip_span);\n",
       "\n",
       "        nav_element.append(button);\n",
       "    }\n",
       "\n",
       "    var fmt_picker_span = $('<span/>');\n",
       "\n",
       "    var fmt_picker = $('<select/>');\n",
       "    fmt_picker.addClass('mpl-toolbar-option ui-widget ui-widget-content');\n",
       "    fmt_picker_span.append(fmt_picker);\n",
       "    nav_element.append(fmt_picker_span);\n",
       "    this.format_dropdown = fmt_picker[0];\n",
       "\n",
       "    for (var ind in mpl.extensions) {\n",
       "        var fmt = mpl.extensions[ind];\n",
       "        var option = $(\n",
       "            '<option/>', {selected: fmt === mpl.default_extension}).html(fmt);\n",
       "        fmt_picker.append(option)\n",
       "    }\n",
       "\n",
       "    // Add hover states to the ui-buttons\n",
       "    $( \".ui-button\" ).hover(\n",
       "        function() { $(this).addClass(\"ui-state-hover\");},\n",
       "        function() { $(this).removeClass(\"ui-state-hover\");}\n",
       "    );\n",
       "\n",
       "    var status_bar = $('<span class=\"mpl-message\"/>');\n",
       "    nav_element.append(status_bar);\n",
       "    this.message = status_bar[0];\n",
       "}\n",
       "\n",
       "mpl.figure.prototype.request_resize = function(x_pixels, y_pixels) {\n",
       "    // Request matplotlib to resize the figure. Matplotlib will then trigger a resize in the client,\n",
       "    // which will in turn request a refresh of the image.\n",
       "    this.send_message('resize', {'width': x_pixels, 'height': y_pixels});\n",
       "}\n",
       "\n",
       "mpl.figure.prototype.send_message = function(type, properties) {\n",
       "    properties['type'] = type;\n",
       "    properties['figure_id'] = this.id;\n",
       "    this.ws.send(JSON.stringify(properties));\n",
       "}\n",
       "\n",
       "mpl.figure.prototype.send_draw_message = function() {\n",
       "    if (!this.waiting) {\n",
       "        this.waiting = true;\n",
       "        this.ws.send(JSON.stringify({type: \"draw\", figure_id: this.id}));\n",
       "    }\n",
       "}\n",
       "\n",
       "\n",
       "mpl.figure.prototype.handle_save = function(fig, msg) {\n",
       "    var format_dropdown = fig.format_dropdown;\n",
       "    var format = format_dropdown.options[format_dropdown.selectedIndex].value;\n",
       "    fig.ondownload(fig, format);\n",
       "}\n",
       "\n",
       "\n",
       "mpl.figure.prototype.handle_resize = function(fig, msg) {\n",
       "    var size = msg['size'];\n",
       "    if (size[0] != fig.canvas.width || size[1] != fig.canvas.height) {\n",
       "        fig._resize_canvas(size[0], size[1]);\n",
       "        fig.send_message(\"refresh\", {});\n",
       "    };\n",
       "}\n",
       "\n",
       "mpl.figure.prototype.handle_rubberband = function(fig, msg) {\n",
       "    var x0 = msg['x0'] / mpl.ratio;\n",
       "    var y0 = (fig.canvas.height - msg['y0']) / mpl.ratio;\n",
       "    var x1 = msg['x1'] / mpl.ratio;\n",
       "    var y1 = (fig.canvas.height - msg['y1']) / mpl.ratio;\n",
       "    x0 = Math.floor(x0) + 0.5;\n",
       "    y0 = Math.floor(y0) + 0.5;\n",
       "    x1 = Math.floor(x1) + 0.5;\n",
       "    y1 = Math.floor(y1) + 0.5;\n",
       "    var min_x = Math.min(x0, x1);\n",
       "    var min_y = Math.min(y0, y1);\n",
       "    var width = Math.abs(x1 - x0);\n",
       "    var height = Math.abs(y1 - y0);\n",
       "\n",
       "    fig.rubberband_context.clearRect(\n",
       "        0, 0, fig.canvas.width, fig.canvas.height);\n",
       "\n",
       "    fig.rubberband_context.strokeRect(min_x, min_y, width, height);\n",
       "}\n",
       "\n",
       "mpl.figure.prototype.handle_figure_label = function(fig, msg) {\n",
       "    // Updates the figure title.\n",
       "    fig.header.textContent = msg['label'];\n",
       "}\n",
       "\n",
       "mpl.figure.prototype.handle_cursor = function(fig, msg) {\n",
       "    var cursor = msg['cursor'];\n",
       "    switch(cursor)\n",
       "    {\n",
       "    case 0:\n",
       "        cursor = 'pointer';\n",
       "        break;\n",
       "    case 1:\n",
       "        cursor = 'default';\n",
       "        break;\n",
       "    case 2:\n",
       "        cursor = 'crosshair';\n",
       "        break;\n",
       "    case 3:\n",
       "        cursor = 'move';\n",
       "        break;\n",
       "    }\n",
       "    fig.rubberband_canvas.style.cursor = cursor;\n",
       "}\n",
       "\n",
       "mpl.figure.prototype.handle_message = function(fig, msg) {\n",
       "    fig.message.textContent = msg['message'];\n",
       "}\n",
       "\n",
       "mpl.figure.prototype.handle_draw = function(fig, msg) {\n",
       "    // Request the server to send over a new figure.\n",
       "    fig.send_draw_message();\n",
       "}\n",
       "\n",
       "mpl.figure.prototype.handle_image_mode = function(fig, msg) {\n",
       "    fig.image_mode = msg['mode'];\n",
       "}\n",
       "\n",
       "mpl.figure.prototype.updated_canvas_event = function() {\n",
       "    // Called whenever the canvas gets updated.\n",
       "    this.send_message(\"ack\", {});\n",
       "}\n",
       "\n",
       "// A function to construct a web socket function for onmessage handling.\n",
       "// Called in the figure constructor.\n",
       "mpl.figure.prototype._make_on_message_function = function(fig) {\n",
       "    return function socket_on_message(evt) {\n",
       "        if (evt.data instanceof Blob) {\n",
       "            /* FIXME: We get \"Resource interpreted as Image but\n",
       "             * transferred with MIME type text/plain:\" errors on\n",
       "             * Chrome.  But how to set the MIME type?  It doesn't seem\n",
       "             * to be part of the websocket stream */\n",
       "            evt.data.type = \"image/png\";\n",
       "\n",
       "            /* Free the memory for the previous frames */\n",
       "            if (fig.imageObj.src) {\n",
       "                (window.URL || window.webkitURL).revokeObjectURL(\n",
       "                    fig.imageObj.src);\n",
       "            }\n",
       "\n",
       "            fig.imageObj.src = (window.URL || window.webkitURL).createObjectURL(\n",
       "                evt.data);\n",
       "            fig.updated_canvas_event();\n",
       "            fig.waiting = false;\n",
       "            return;\n",
       "        }\n",
       "        else if (typeof evt.data === 'string' && evt.data.slice(0, 21) == \"data:image/png;base64\") {\n",
       "            fig.imageObj.src = evt.data;\n",
       "            fig.updated_canvas_event();\n",
       "            fig.waiting = false;\n",
       "            return;\n",
       "        }\n",
       "\n",
       "        var msg = JSON.parse(evt.data);\n",
       "        var msg_type = msg['type'];\n",
       "\n",
       "        // Call the  \"handle_{type}\" callback, which takes\n",
       "        // the figure and JSON message as its only arguments.\n",
       "        try {\n",
       "            var callback = fig[\"handle_\" + msg_type];\n",
       "        } catch (e) {\n",
       "            console.log(\"No handler for the '\" + msg_type + \"' message type: \", msg);\n",
       "            return;\n",
       "        }\n",
       "\n",
       "        if (callback) {\n",
       "            try {\n",
       "                // console.log(\"Handling '\" + msg_type + \"' message: \", msg);\n",
       "                callback(fig, msg);\n",
       "            } catch (e) {\n",
       "                console.log(\"Exception inside the 'handler_\" + msg_type + \"' callback:\", e, e.stack, msg);\n",
       "            }\n",
       "        }\n",
       "    };\n",
       "}\n",
       "\n",
       "// from http://stackoverflow.com/questions/1114465/getting-mouse-location-in-canvas\n",
       "mpl.findpos = function(e) {\n",
       "    //this section is from http://www.quirksmode.org/js/events_properties.html\n",
       "    var targ;\n",
       "    if (!e)\n",
       "        e = window.event;\n",
       "    if (e.target)\n",
       "        targ = e.target;\n",
       "    else if (e.srcElement)\n",
       "        targ = e.srcElement;\n",
       "    if (targ.nodeType == 3) // defeat Safari bug\n",
       "        targ = targ.parentNode;\n",
       "\n",
       "    // jQuery normalizes the pageX and pageY\n",
       "    // pageX,Y are the mouse positions relative to the document\n",
       "    // offset() returns the position of the element relative to the document\n",
       "    var x = e.pageX - $(targ).offset().left;\n",
       "    var y = e.pageY - $(targ).offset().top;\n",
       "\n",
       "    return {\"x\": x, \"y\": y};\n",
       "};\n",
       "\n",
       "/*\n",
       " * return a copy of an object with only non-object keys\n",
       " * we need this to avoid circular references\n",
       " * http://stackoverflow.com/a/24161582/3208463\n",
       " */\n",
       "function simpleKeys (original) {\n",
       "  return Object.keys(original).reduce(function (obj, key) {\n",
       "    if (typeof original[key] !== 'object')\n",
       "        obj[key] = original[key]\n",
       "    return obj;\n",
       "  }, {});\n",
       "}\n",
       "\n",
       "mpl.figure.prototype.mouse_event = function(event, name) {\n",
       "    var canvas_pos = mpl.findpos(event)\n",
       "\n",
       "    if (name === 'button_press')\n",
       "    {\n",
       "        this.canvas.focus();\n",
       "        this.canvas_div.focus();\n",
       "    }\n",
       "\n",
       "    var x = canvas_pos.x * mpl.ratio;\n",
       "    var y = canvas_pos.y * mpl.ratio;\n",
       "\n",
       "    this.send_message(name, {x: x, y: y, button: event.button,\n",
       "                             step: event.step,\n",
       "                             guiEvent: simpleKeys(event)});\n",
       "\n",
       "    /* This prevents the web browser from automatically changing to\n",
       "     * the text insertion cursor when the button is pressed.  We want\n",
       "     * to control all of the cursor setting manually through the\n",
       "     * 'cursor' event from matplotlib */\n",
       "    event.preventDefault();\n",
       "    return false;\n",
       "}\n",
       "\n",
       "mpl.figure.prototype._key_event_extra = function(event, name) {\n",
       "    // Handle any extra behaviour associated with a key event\n",
       "}\n",
       "\n",
       "mpl.figure.prototype.key_event = function(event, name) {\n",
       "\n",
       "    // Prevent repeat events\n",
       "    if (name == 'key_press')\n",
       "    {\n",
       "        if (event.which === this._key)\n",
       "            return;\n",
       "        else\n",
       "            this._key = event.which;\n",
       "    }\n",
       "    if (name == 'key_release')\n",
       "        this._key = null;\n",
       "\n",
       "    var value = '';\n",
       "    if (event.ctrlKey && event.which != 17)\n",
       "        value += \"ctrl+\";\n",
       "    if (event.altKey && event.which != 18)\n",
       "        value += \"alt+\";\n",
       "    if (event.shiftKey && event.which != 16)\n",
       "        value += \"shift+\";\n",
       "\n",
       "    value += 'k';\n",
       "    value += event.which.toString();\n",
       "\n",
       "    this._key_event_extra(event, name);\n",
       "\n",
       "    this.send_message(name, {key: value,\n",
       "                             guiEvent: simpleKeys(event)});\n",
       "    return false;\n",
       "}\n",
       "\n",
       "mpl.figure.prototype.toolbar_button_onclick = function(name) {\n",
       "    if (name == 'download') {\n",
       "        this.handle_save(this, null);\n",
       "    } else {\n",
       "        this.send_message(\"toolbar_button\", {name: name});\n",
       "    }\n",
       "};\n",
       "\n",
       "mpl.figure.prototype.toolbar_button_onmouseover = function(tooltip) {\n",
       "    this.message.textContent = tooltip;\n",
       "};\n",
       "mpl.toolbar_items = [[\"Home\", \"Reset original view\", \"fa fa-home icon-home\", \"home\"], [\"Back\", \"Back to  previous view\", \"fa fa-arrow-left icon-arrow-left\", \"back\"], [\"Forward\", \"Forward to next view\", \"fa fa-arrow-right icon-arrow-right\", \"forward\"], [\"\", \"\", \"\", \"\"], [\"Pan\", \"Pan axes with left mouse, zoom with right\", \"fa fa-arrows icon-move\", \"pan\"], [\"Zoom\", \"Zoom to rectangle\", \"fa fa-square-o icon-check-empty\", \"zoom\"], [\"\", \"\", \"\", \"\"], [\"Download\", \"Download plot\", \"fa fa-floppy-o icon-save\", \"download\"]];\n",
       "\n",
       "mpl.extensions = [\"eps\", \"jpeg\", \"pdf\", \"png\", \"ps\", \"raw\", \"svg\", \"tif\"];\n",
       "\n",
       "mpl.default_extension = \"png\";var comm_websocket_adapter = function(comm) {\n",
       "    // Create a \"websocket\"-like object which calls the given IPython comm\n",
       "    // object with the appropriate methods. Currently this is a non binary\n",
       "    // socket, so there is still some room for performance tuning.\n",
       "    var ws = {};\n",
       "\n",
       "    ws.close = function() {\n",
       "        comm.close()\n",
       "    };\n",
       "    ws.send = function(m) {\n",
       "        //console.log('sending', m);\n",
       "        comm.send(m);\n",
       "    };\n",
       "    // Register the callback with on_msg.\n",
       "    comm.on_msg(function(msg) {\n",
       "        //console.log('receiving', msg['content']['data'], msg);\n",
       "        // Pass the mpl event to the overriden (by mpl) onmessage function.\n",
       "        ws.onmessage(msg['content']['data'])\n",
       "    });\n",
       "    return ws;\n",
       "}\n",
       "\n",
       "mpl.mpl_figure_comm = function(comm, msg) {\n",
       "    // This is the function which gets called when the mpl process\n",
       "    // starts-up an IPython Comm through the \"matplotlib\" channel.\n",
       "\n",
       "    var id = msg.content.data.id;\n",
       "    // Get hold of the div created by the display call when the Comm\n",
       "    // socket was opened in Python.\n",
       "    var element = $(\"#\" + id);\n",
       "    var ws_proxy = comm_websocket_adapter(comm)\n",
       "\n",
       "    function ondownload(figure, format) {\n",
       "        window.open(figure.imageObj.src);\n",
       "    }\n",
       "\n",
       "    var fig = new mpl.figure(id, ws_proxy,\n",
       "                           ondownload,\n",
       "                           element.get(0));\n",
       "\n",
       "    // Call onopen now - mpl needs it, as it is assuming we've passed it a real\n",
       "    // web socket which is closed, not our websocket->open comm proxy.\n",
       "    ws_proxy.onopen();\n",
       "\n",
       "    fig.parent_element = element.get(0);\n",
       "    fig.cell_info = mpl.find_output_cell(\"<div id='\" + id + \"'></div>\");\n",
       "    if (!fig.cell_info) {\n",
       "        console.error(\"Failed to find cell for figure\", id, fig);\n",
       "        return;\n",
       "    }\n",
       "\n",
       "    var output_index = fig.cell_info[2]\n",
       "    var cell = fig.cell_info[0];\n",
       "\n",
       "};\n",
       "\n",
       "mpl.figure.prototype.handle_close = function(fig, msg) {\n",
       "    var width = fig.canvas.width/mpl.ratio\n",
       "    fig.root.unbind('remove')\n",
       "\n",
       "    // Update the output cell to use the data from the current canvas.\n",
       "    fig.push_to_output();\n",
       "    var dataURL = fig.canvas.toDataURL();\n",
       "    // Re-enable the keyboard manager in IPython - without this line, in FF,\n",
       "    // the notebook keyboard shortcuts fail.\n",
       "    IPython.keyboard_manager.enable()\n",
       "    $(fig.parent_element).html('<img src=\"' + dataURL + '\" width=\"' + width + '\">');\n",
       "    fig.close_ws(fig, msg);\n",
       "}\n",
       "\n",
       "mpl.figure.prototype.close_ws = function(fig, msg){\n",
       "    fig.send_message('closing', msg);\n",
       "    // fig.ws.close()\n",
       "}\n",
       "\n",
       "mpl.figure.prototype.push_to_output = function(remove_interactive) {\n",
       "    // Turn the data on the canvas into data in the output cell.\n",
       "    var width = this.canvas.width/mpl.ratio\n",
       "    var dataURL = this.canvas.toDataURL();\n",
       "    this.cell_info[1]['text/html'] = '<img src=\"' + dataURL + '\" width=\"' + width + '\">';\n",
       "}\n",
       "\n",
       "mpl.figure.prototype.updated_canvas_event = function() {\n",
       "    // Tell IPython that the notebook contents must change.\n",
       "    IPython.notebook.set_dirty(true);\n",
       "    this.send_message(\"ack\", {});\n",
       "    var fig = this;\n",
       "    // Wait a second, then push the new image to the DOM so\n",
       "    // that it is saved nicely (might be nice to debounce this).\n",
       "    setTimeout(function () { fig.push_to_output() }, 1000);\n",
       "}\n",
       "\n",
       "mpl.figure.prototype._init_toolbar = function() {\n",
       "    var fig = this;\n",
       "\n",
       "    var nav_element = $('<div/>')\n",
       "    nav_element.attr('style', 'width: 100%');\n",
       "    this.root.append(nav_element);\n",
       "\n",
       "    // Define a callback function for later on.\n",
       "    function toolbar_event(event) {\n",
       "        return fig.toolbar_button_onclick(event['data']);\n",
       "    }\n",
       "    function toolbar_mouse_event(event) {\n",
       "        return fig.toolbar_button_onmouseover(event['data']);\n",
       "    }\n",
       "\n",
       "    for(var toolbar_ind in mpl.toolbar_items){\n",
       "        var name = mpl.toolbar_items[toolbar_ind][0];\n",
       "        var tooltip = mpl.toolbar_items[toolbar_ind][1];\n",
       "        var image = mpl.toolbar_items[toolbar_ind][2];\n",
       "        var method_name = mpl.toolbar_items[toolbar_ind][3];\n",
       "\n",
       "        if (!name) { continue; };\n",
       "\n",
       "        var button = $('<button class=\"btn btn-default\" href=\"#\" title=\"' + name + '\"><i class=\"fa ' + image + ' fa-lg\"></i></button>');\n",
       "        button.click(method_name, toolbar_event);\n",
       "        button.mouseover(tooltip, toolbar_mouse_event);\n",
       "        nav_element.append(button);\n",
       "    }\n",
       "\n",
       "    // Add the status bar.\n",
       "    var status_bar = $('<span class=\"mpl-message\" style=\"text-align:right; float: right;\"/>');\n",
       "    nav_element.append(status_bar);\n",
       "    this.message = status_bar[0];\n",
       "\n",
       "    // Add the close button to the window.\n",
       "    var buttongrp = $('<div class=\"btn-group inline pull-right\"></div>');\n",
       "    var button = $('<button class=\"btn btn-mini btn-primary\" href=\"#\" title=\"Stop Interaction\"><i class=\"fa fa-power-off icon-remove icon-large\"></i></button>');\n",
       "    button.click(function (evt) { fig.handle_close(fig, {}); } );\n",
       "    button.mouseover('Stop Interaction', toolbar_mouse_event);\n",
       "    buttongrp.append(button);\n",
       "    var titlebar = this.root.find($('.ui-dialog-titlebar'));\n",
       "    titlebar.prepend(buttongrp);\n",
       "}\n",
       "\n",
       "mpl.figure.prototype._root_extra_style = function(el){\n",
       "    var fig = this\n",
       "    el.on(\"remove\", function(){\n",
       "\tfig.close_ws(fig, {});\n",
       "    });\n",
       "}\n",
       "\n",
       "mpl.figure.prototype._canvas_extra_style = function(el){\n",
       "    // this is important to make the div 'focusable\n",
       "    el.attr('tabindex', 0)\n",
       "    // reach out to IPython and tell the keyboard manager to turn it's self\n",
       "    // off when our div gets focus\n",
       "\n",
       "    // location in version 3\n",
       "    if (IPython.notebook.keyboard_manager) {\n",
       "        IPython.notebook.keyboard_manager.register_events(el);\n",
       "    }\n",
       "    else {\n",
       "        // location in version 2\n",
       "        IPython.keyboard_manager.register_events(el);\n",
       "    }\n",
       "\n",
       "}\n",
       "\n",
       "mpl.figure.prototype._key_event_extra = function(event, name) {\n",
       "    var manager = IPython.notebook.keyboard_manager;\n",
       "    if (!manager)\n",
       "        manager = IPython.keyboard_manager;\n",
       "\n",
       "    // Check for shift+enter\n",
       "    if (event.shiftKey && event.which == 13) {\n",
       "        this.canvas_div.blur();\n",
       "        event.shiftKey = false;\n",
       "        // Send a \"J\" for go to next cell\n",
       "        event.which = 74;\n",
       "        event.keyCode = 74;\n",
       "        manager.command_mode();\n",
       "        manager.handle_keydown(event);\n",
       "    }\n",
       "}\n",
       "\n",
       "mpl.figure.prototype.handle_save = function(fig, msg) {\n",
       "    fig.ondownload(fig, null);\n",
       "}\n",
       "\n",
       "\n",
       "mpl.find_output_cell = function(html_output) {\n",
       "    // Return the cell and output element which can be found *uniquely* in the notebook.\n",
       "    // Note - this is a bit hacky, but it is done because the \"notebook_saving.Notebook\"\n",
       "    // IPython event is triggered only after the cells have been serialised, which for\n",
       "    // our purposes (turning an active figure into a static one), is too late.\n",
       "    var cells = IPython.notebook.get_cells();\n",
       "    var ncells = cells.length;\n",
       "    for (var i=0; i<ncells; i++) {\n",
       "        var cell = cells[i];\n",
       "        if (cell.cell_type === 'code'){\n",
       "            for (var j=0; j<cell.output_area.outputs.length; j++) {\n",
       "                var data = cell.output_area.outputs[j];\n",
       "                if (data.data) {\n",
       "                    // IPython >= 3 moved mimebundle to data attribute of output\n",
       "                    data = data.data;\n",
       "                }\n",
       "                if (data['text/html'] == html_output) {\n",
       "                    return [cell, data, j];\n",
       "                }\n",
       "            }\n",
       "        }\n",
       "    }\n",
       "}\n",
       "\n",
       "// Register the function which deals with the matplotlib target/channel.\n",
       "// The kernel may be null if the page has been refreshed.\n",
       "if (IPython.notebook.kernel != null) {\n",
       "    IPython.notebook.kernel.comm_manager.register_target('matplotlib', mpl.mpl_figure_comm);\n",
       "}\n"
      ],
      "text/plain": [
       "<IPython.core.display.Javascript object>"
      ]
     },
     "metadata": {},
     "output_type": "display_data"
    },
    {
     "data": {
      "text/html": [
       "<img src=\"data:image/png;base64,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\" width=\"432\">"
      ],
      "text/plain": [
       "<IPython.core.display.HTML object>"
      ]
     },
     "metadata": {},
     "output_type": "display_data"
    },
    {
     "data": {
      "text/plain": [
       "[<matplotlib.lines.Line2D at 0x1172bd908>]"
      ]
     },
     "execution_count": 31,
     "metadata": {},
     "output_type": "execute_result"
    }
   ],
   "source": [
    "X = np.load(way + \"No8.npy\")\n",
    "pylab.figure()\n",
    "pylab.plot(X[0],X[1])"
   ]
  },
  {
   "cell_type": "code",
   "execution_count": 32,
   "metadata": {},
   "outputs": [
    {
     "data": {
      "application/javascript": [
       "/* Put everything inside the global mpl namespace */\n",
       "window.mpl = {};\n",
       "\n",
       "\n",
       "mpl.get_websocket_type = function() {\n",
       "    if (typeof(WebSocket) !== 'undefined') {\n",
       "        return WebSocket;\n",
       "    } else if (typeof(MozWebSocket) !== 'undefined') {\n",
       "        return MozWebSocket;\n",
       "    } else {\n",
       "        alert('Your browser does not have WebSocket support.' +\n",
       "              'Please try Chrome, Safari or Firefox ≥ 6. ' +\n",
       "              'Firefox 4 and 5 are also supported but you ' +\n",
       "              'have to enable WebSockets in about:config.');\n",
       "    };\n",
       "}\n",
       "\n",
       "mpl.figure = function(figure_id, websocket, ondownload, parent_element) {\n",
       "    this.id = figure_id;\n",
       "\n",
       "    this.ws = websocket;\n",
       "\n",
       "    this.supports_binary = (this.ws.binaryType != undefined);\n",
       "\n",
       "    if (!this.supports_binary) {\n",
       "        var warnings = document.getElementById(\"mpl-warnings\");\n",
       "        if (warnings) {\n",
       "            warnings.style.display = 'block';\n",
       "            warnings.textContent = (\n",
       "                \"This browser does not support binary websocket messages. \" +\n",
       "                    \"Performance may be slow.\");\n",
       "        }\n",
       "    }\n",
       "\n",
       "    this.imageObj = new Image();\n",
       "\n",
       "    this.context = undefined;\n",
       "    this.message = undefined;\n",
       "    this.canvas = undefined;\n",
       "    this.rubberband_canvas = undefined;\n",
       "    this.rubberband_context = undefined;\n",
       "    this.format_dropdown = undefined;\n",
       "\n",
       "    this.image_mode = 'full';\n",
       "\n",
       "    this.root = $('<div/>');\n",
       "    this._root_extra_style(this.root)\n",
       "    this.root.attr('style', 'display: inline-block');\n",
       "\n",
       "    $(parent_element).append(this.root);\n",
       "\n",
       "    this._init_header(this);\n",
       "    this._init_canvas(this);\n",
       "    this._init_toolbar(this);\n",
       "\n",
       "    var fig = this;\n",
       "\n",
       "    this.waiting = false;\n",
       "\n",
       "    this.ws.onopen =  function () {\n",
       "            fig.send_message(\"supports_binary\", {value: fig.supports_binary});\n",
       "            fig.send_message(\"send_image_mode\", {});\n",
       "            if (mpl.ratio != 1) {\n",
       "                fig.send_message(\"set_dpi_ratio\", {'dpi_ratio': mpl.ratio});\n",
       "            }\n",
       "            fig.send_message(\"refresh\", {});\n",
       "        }\n",
       "\n",
       "    this.imageObj.onload = function() {\n",
       "            if (fig.image_mode == 'full') {\n",
       "                // Full images could contain transparency (where diff images\n",
       "                // almost always do), so we need to clear the canvas so that\n",
       "                // there is no ghosting.\n",
       "                fig.context.clearRect(0, 0, fig.canvas.width, fig.canvas.height);\n",
       "            }\n",
       "            fig.context.drawImage(fig.imageObj, 0, 0);\n",
       "        };\n",
       "\n",
       "    this.imageObj.onunload = function() {\n",
       "        fig.ws.close();\n",
       "    }\n",
       "\n",
       "    this.ws.onmessage = this._make_on_message_function(this);\n",
       "\n",
       "    this.ondownload = ondownload;\n",
       "}\n",
       "\n",
       "mpl.figure.prototype._init_header = function() {\n",
       "    var titlebar = $(\n",
       "        '<div class=\"ui-dialog-titlebar ui-widget-header ui-corner-all ' +\n",
       "        'ui-helper-clearfix\"/>');\n",
       "    var titletext = $(\n",
       "        '<div class=\"ui-dialog-title\" style=\"width: 100%; ' +\n",
       "        'text-align: center; padding: 3px;\"/>');\n",
       "    titlebar.append(titletext)\n",
       "    this.root.append(titlebar);\n",
       "    this.header = titletext[0];\n",
       "}\n",
       "\n",
       "\n",
       "\n",
       "mpl.figure.prototype._canvas_extra_style = function(canvas_div) {\n",
       "\n",
       "}\n",
       "\n",
       "\n",
       "mpl.figure.prototype._root_extra_style = function(canvas_div) {\n",
       "\n",
       "}\n",
       "\n",
       "mpl.figure.prototype._init_canvas = function() {\n",
       "    var fig = this;\n",
       "\n",
       "    var canvas_div = $('<div/>');\n",
       "\n",
       "    canvas_div.attr('style', 'position: relative; clear: both; outline: 0');\n",
       "\n",
       "    function canvas_keyboard_event(event) {\n",
       "        return fig.key_event(event, event['data']);\n",
       "    }\n",
       "\n",
       "    canvas_div.keydown('key_press', canvas_keyboard_event);\n",
       "    canvas_div.keyup('key_release', canvas_keyboard_event);\n",
       "    this.canvas_div = canvas_div\n",
       "    this._canvas_extra_style(canvas_div)\n",
       "    this.root.append(canvas_div);\n",
       "\n",
       "    var canvas = $('<canvas/>');\n",
       "    canvas.addClass('mpl-canvas');\n",
       "    canvas.attr('style', \"left: 0; top: 0; z-index: 0; outline: 0\")\n",
       "\n",
       "    this.canvas = canvas[0];\n",
       "    this.context = canvas[0].getContext(\"2d\");\n",
       "\n",
       "    var backingStore = this.context.backingStorePixelRatio ||\n",
       "\tthis.context.webkitBackingStorePixelRatio ||\n",
       "\tthis.context.mozBackingStorePixelRatio ||\n",
       "\tthis.context.msBackingStorePixelRatio ||\n",
       "\tthis.context.oBackingStorePixelRatio ||\n",
       "\tthis.context.backingStorePixelRatio || 1;\n",
       "\n",
       "    mpl.ratio = (window.devicePixelRatio || 1) / backingStore;\n",
       "\n",
       "    var rubberband = $('<canvas/>');\n",
       "    rubberband.attr('style', \"position: absolute; left: 0; top: 0; z-index: 1;\")\n",
       "\n",
       "    var pass_mouse_events = true;\n",
       "\n",
       "    canvas_div.resizable({\n",
       "        start: function(event, ui) {\n",
       "            pass_mouse_events = false;\n",
       "        },\n",
       "        resize: function(event, ui) {\n",
       "            fig.request_resize(ui.size.width, ui.size.height);\n",
       "        },\n",
       "        stop: function(event, ui) {\n",
       "            pass_mouse_events = true;\n",
       "            fig.request_resize(ui.size.width, ui.size.height);\n",
       "        },\n",
       "    });\n",
       "\n",
       "    function mouse_event_fn(event) {\n",
       "        if (pass_mouse_events)\n",
       "            return fig.mouse_event(event, event['data']);\n",
       "    }\n",
       "\n",
       "    rubberband.mousedown('button_press', mouse_event_fn);\n",
       "    rubberband.mouseup('button_release', mouse_event_fn);\n",
       "    // Throttle sequential mouse events to 1 every 20ms.\n",
       "    rubberband.mousemove('motion_notify', mouse_event_fn);\n",
       "\n",
       "    rubberband.mouseenter('figure_enter', mouse_event_fn);\n",
       "    rubberband.mouseleave('figure_leave', mouse_event_fn);\n",
       "\n",
       "    canvas_div.on(\"wheel\", function (event) {\n",
       "        event = event.originalEvent;\n",
       "        event['data'] = 'scroll'\n",
       "        if (event.deltaY < 0) {\n",
       "            event.step = 1;\n",
       "        } else {\n",
       "            event.step = -1;\n",
       "        }\n",
       "        mouse_event_fn(event);\n",
       "    });\n",
       "\n",
       "    canvas_div.append(canvas);\n",
       "    canvas_div.append(rubberband);\n",
       "\n",
       "    this.rubberband = rubberband;\n",
       "    this.rubberband_canvas = rubberband[0];\n",
       "    this.rubberband_context = rubberband[0].getContext(\"2d\");\n",
       "    this.rubberband_context.strokeStyle = \"#000000\";\n",
       "\n",
       "    this._resize_canvas = function(width, height) {\n",
       "        // Keep the size of the canvas, canvas container, and rubber band\n",
       "        // canvas in synch.\n",
       "        canvas_div.css('width', width)\n",
       "        canvas_div.css('height', height)\n",
       "\n",
       "        canvas.attr('width', width * mpl.ratio);\n",
       "        canvas.attr('height', height * mpl.ratio);\n",
       "        canvas.attr('style', 'width: ' + width + 'px; height: ' + height + 'px;');\n",
       "\n",
       "        rubberband.attr('width', width);\n",
       "        rubberband.attr('height', height);\n",
       "    }\n",
       "\n",
       "    // Set the figure to an initial 600x600px, this will subsequently be updated\n",
       "    // upon first draw.\n",
       "    this._resize_canvas(600, 600);\n",
       "\n",
       "    // Disable right mouse context menu.\n",
       "    $(this.rubberband_canvas).bind(\"contextmenu\",function(e){\n",
       "        return false;\n",
       "    });\n",
       "\n",
       "    function set_focus () {\n",
       "        canvas.focus();\n",
       "        canvas_div.focus();\n",
       "    }\n",
       "\n",
       "    window.setTimeout(set_focus, 100);\n",
       "}\n",
       "\n",
       "mpl.figure.prototype._init_toolbar = function() {\n",
       "    var fig = this;\n",
       "\n",
       "    var nav_element = $('<div/>')\n",
       "    nav_element.attr('style', 'width: 100%');\n",
       "    this.root.append(nav_element);\n",
       "\n",
       "    // Define a callback function for later on.\n",
       "    function toolbar_event(event) {\n",
       "        return fig.toolbar_button_onclick(event['data']);\n",
       "    }\n",
       "    function toolbar_mouse_event(event) {\n",
       "        return fig.toolbar_button_onmouseover(event['data']);\n",
       "    }\n",
       "\n",
       "    for(var toolbar_ind in mpl.toolbar_items) {\n",
       "        var name = mpl.toolbar_items[toolbar_ind][0];\n",
       "        var tooltip = mpl.toolbar_items[toolbar_ind][1];\n",
       "        var image = mpl.toolbar_items[toolbar_ind][2];\n",
       "        var method_name = mpl.toolbar_items[toolbar_ind][3];\n",
       "\n",
       "        if (!name) {\n",
       "            // put a spacer in here.\n",
       "            continue;\n",
       "        }\n",
       "        var button = $('<button/>');\n",
       "        button.addClass('ui-button ui-widget ui-state-default ui-corner-all ' +\n",
       "                        'ui-button-icon-only');\n",
       "        button.attr('role', 'button');\n",
       "        button.attr('aria-disabled', 'false');\n",
       "        button.click(method_name, toolbar_event);\n",
       "        button.mouseover(tooltip, toolbar_mouse_event);\n",
       "\n",
       "        var icon_img = $('<span/>');\n",
       "        icon_img.addClass('ui-button-icon-primary ui-icon');\n",
       "        icon_img.addClass(image);\n",
       "        icon_img.addClass('ui-corner-all');\n",
       "\n",
       "        var tooltip_span = $('<span/>');\n",
       "        tooltip_span.addClass('ui-button-text');\n",
       "        tooltip_span.html(tooltip);\n",
       "\n",
       "        button.append(icon_img);\n",
       "        button.append(tooltip_span);\n",
       "\n",
       "        nav_element.append(button);\n",
       "    }\n",
       "\n",
       "    var fmt_picker_span = $('<span/>');\n",
       "\n",
       "    var fmt_picker = $('<select/>');\n",
       "    fmt_picker.addClass('mpl-toolbar-option ui-widget ui-widget-content');\n",
       "    fmt_picker_span.append(fmt_picker);\n",
       "    nav_element.append(fmt_picker_span);\n",
       "    this.format_dropdown = fmt_picker[0];\n",
       "\n",
       "    for (var ind in mpl.extensions) {\n",
       "        var fmt = mpl.extensions[ind];\n",
       "        var option = $(\n",
       "            '<option/>', {selected: fmt === mpl.default_extension}).html(fmt);\n",
       "        fmt_picker.append(option)\n",
       "    }\n",
       "\n",
       "    // Add hover states to the ui-buttons\n",
       "    $( \".ui-button\" ).hover(\n",
       "        function() { $(this).addClass(\"ui-state-hover\");},\n",
       "        function() { $(this).removeClass(\"ui-state-hover\");}\n",
       "    );\n",
       "\n",
       "    var status_bar = $('<span class=\"mpl-message\"/>');\n",
       "    nav_element.append(status_bar);\n",
       "    this.message = status_bar[0];\n",
       "}\n",
       "\n",
       "mpl.figure.prototype.request_resize = function(x_pixels, y_pixels) {\n",
       "    // Request matplotlib to resize the figure. Matplotlib will then trigger a resize in the client,\n",
       "    // which will in turn request a refresh of the image.\n",
       "    this.send_message('resize', {'width': x_pixels, 'height': y_pixels});\n",
       "}\n",
       "\n",
       "mpl.figure.prototype.send_message = function(type, properties) {\n",
       "    properties['type'] = type;\n",
       "    properties['figure_id'] = this.id;\n",
       "    this.ws.send(JSON.stringify(properties));\n",
       "}\n",
       "\n",
       "mpl.figure.prototype.send_draw_message = function() {\n",
       "    if (!this.waiting) {\n",
       "        this.waiting = true;\n",
       "        this.ws.send(JSON.stringify({type: \"draw\", figure_id: this.id}));\n",
       "    }\n",
       "}\n",
       "\n",
       "\n",
       "mpl.figure.prototype.handle_save = function(fig, msg) {\n",
       "    var format_dropdown = fig.format_dropdown;\n",
       "    var format = format_dropdown.options[format_dropdown.selectedIndex].value;\n",
       "    fig.ondownload(fig, format);\n",
       "}\n",
       "\n",
       "\n",
       "mpl.figure.prototype.handle_resize = function(fig, msg) {\n",
       "    var size = msg['size'];\n",
       "    if (size[0] != fig.canvas.width || size[1] != fig.canvas.height) {\n",
       "        fig._resize_canvas(size[0], size[1]);\n",
       "        fig.send_message(\"refresh\", {});\n",
       "    };\n",
       "}\n",
       "\n",
       "mpl.figure.prototype.handle_rubberband = function(fig, msg) {\n",
       "    var x0 = msg['x0'] / mpl.ratio;\n",
       "    var y0 = (fig.canvas.height - msg['y0']) / mpl.ratio;\n",
       "    var x1 = msg['x1'] / mpl.ratio;\n",
       "    var y1 = (fig.canvas.height - msg['y1']) / mpl.ratio;\n",
       "    x0 = Math.floor(x0) + 0.5;\n",
       "    y0 = Math.floor(y0) + 0.5;\n",
       "    x1 = Math.floor(x1) + 0.5;\n",
       "    y1 = Math.floor(y1) + 0.5;\n",
       "    var min_x = Math.min(x0, x1);\n",
       "    var min_y = Math.min(y0, y1);\n",
       "    var width = Math.abs(x1 - x0);\n",
       "    var height = Math.abs(y1 - y0);\n",
       "\n",
       "    fig.rubberband_context.clearRect(\n",
       "        0, 0, fig.canvas.width, fig.canvas.height);\n",
       "\n",
       "    fig.rubberband_context.strokeRect(min_x, min_y, width, height);\n",
       "}\n",
       "\n",
       "mpl.figure.prototype.handle_figure_label = function(fig, msg) {\n",
       "    // Updates the figure title.\n",
       "    fig.header.textContent = msg['label'];\n",
       "}\n",
       "\n",
       "mpl.figure.prototype.handle_cursor = function(fig, msg) {\n",
       "    var cursor = msg['cursor'];\n",
       "    switch(cursor)\n",
       "    {\n",
       "    case 0:\n",
       "        cursor = 'pointer';\n",
       "        break;\n",
       "    case 1:\n",
       "        cursor = 'default';\n",
       "        break;\n",
       "    case 2:\n",
       "        cursor = 'crosshair';\n",
       "        break;\n",
       "    case 3:\n",
       "        cursor = 'move';\n",
       "        break;\n",
       "    }\n",
       "    fig.rubberband_canvas.style.cursor = cursor;\n",
       "}\n",
       "\n",
       "mpl.figure.prototype.handle_message = function(fig, msg) {\n",
       "    fig.message.textContent = msg['message'];\n",
       "}\n",
       "\n",
       "mpl.figure.prototype.handle_draw = function(fig, msg) {\n",
       "    // Request the server to send over a new figure.\n",
       "    fig.send_draw_message();\n",
       "}\n",
       "\n",
       "mpl.figure.prototype.handle_image_mode = function(fig, msg) {\n",
       "    fig.image_mode = msg['mode'];\n",
       "}\n",
       "\n",
       "mpl.figure.prototype.updated_canvas_event = function() {\n",
       "    // Called whenever the canvas gets updated.\n",
       "    this.send_message(\"ack\", {});\n",
       "}\n",
       "\n",
       "// A function to construct a web socket function for onmessage handling.\n",
       "// Called in the figure constructor.\n",
       "mpl.figure.prototype._make_on_message_function = function(fig) {\n",
       "    return function socket_on_message(evt) {\n",
       "        if (evt.data instanceof Blob) {\n",
       "            /* FIXME: We get \"Resource interpreted as Image but\n",
       "             * transferred with MIME type text/plain:\" errors on\n",
       "             * Chrome.  But how to set the MIME type?  It doesn't seem\n",
       "             * to be part of the websocket stream */\n",
       "            evt.data.type = \"image/png\";\n",
       "\n",
       "            /* Free the memory for the previous frames */\n",
       "            if (fig.imageObj.src) {\n",
       "                (window.URL || window.webkitURL).revokeObjectURL(\n",
       "                    fig.imageObj.src);\n",
       "            }\n",
       "\n",
       "            fig.imageObj.src = (window.URL || window.webkitURL).createObjectURL(\n",
       "                evt.data);\n",
       "            fig.updated_canvas_event();\n",
       "            fig.waiting = false;\n",
       "            return;\n",
       "        }\n",
       "        else if (typeof evt.data === 'string' && evt.data.slice(0, 21) == \"data:image/png;base64\") {\n",
       "            fig.imageObj.src = evt.data;\n",
       "            fig.updated_canvas_event();\n",
       "            fig.waiting = false;\n",
       "            return;\n",
       "        }\n",
       "\n",
       "        var msg = JSON.parse(evt.data);\n",
       "        var msg_type = msg['type'];\n",
       "\n",
       "        // Call the  \"handle_{type}\" callback, which takes\n",
       "        // the figure and JSON message as its only arguments.\n",
       "        try {\n",
       "            var callback = fig[\"handle_\" + msg_type];\n",
       "        } catch (e) {\n",
       "            console.log(\"No handler for the '\" + msg_type + \"' message type: \", msg);\n",
       "            return;\n",
       "        }\n",
       "\n",
       "        if (callback) {\n",
       "            try {\n",
       "                // console.log(\"Handling '\" + msg_type + \"' message: \", msg);\n",
       "                callback(fig, msg);\n",
       "            } catch (e) {\n",
       "                console.log(\"Exception inside the 'handler_\" + msg_type + \"' callback:\", e, e.stack, msg);\n",
       "            }\n",
       "        }\n",
       "    };\n",
       "}\n",
       "\n",
       "// from http://stackoverflow.com/questions/1114465/getting-mouse-location-in-canvas\n",
       "mpl.findpos = function(e) {\n",
       "    //this section is from http://www.quirksmode.org/js/events_properties.html\n",
       "    var targ;\n",
       "    if (!e)\n",
       "        e = window.event;\n",
       "    if (e.target)\n",
       "        targ = e.target;\n",
       "    else if (e.srcElement)\n",
       "        targ = e.srcElement;\n",
       "    if (targ.nodeType == 3) // defeat Safari bug\n",
       "        targ = targ.parentNode;\n",
       "\n",
       "    // jQuery normalizes the pageX and pageY\n",
       "    // pageX,Y are the mouse positions relative to the document\n",
       "    // offset() returns the position of the element relative to the document\n",
       "    var x = e.pageX - $(targ).offset().left;\n",
       "    var y = e.pageY - $(targ).offset().top;\n",
       "\n",
       "    return {\"x\": x, \"y\": y};\n",
       "};\n",
       "\n",
       "/*\n",
       " * return a copy of an object with only non-object keys\n",
       " * we need this to avoid circular references\n",
       " * http://stackoverflow.com/a/24161582/3208463\n",
       " */\n",
       "function simpleKeys (original) {\n",
       "  return Object.keys(original).reduce(function (obj, key) {\n",
       "    if (typeof original[key] !== 'object')\n",
       "        obj[key] = original[key]\n",
       "    return obj;\n",
       "  }, {});\n",
       "}\n",
       "\n",
       "mpl.figure.prototype.mouse_event = function(event, name) {\n",
       "    var canvas_pos = mpl.findpos(event)\n",
       "\n",
       "    if (name === 'button_press')\n",
       "    {\n",
       "        this.canvas.focus();\n",
       "        this.canvas_div.focus();\n",
       "    }\n",
       "\n",
       "    var x = canvas_pos.x * mpl.ratio;\n",
       "    var y = canvas_pos.y * mpl.ratio;\n",
       "\n",
       "    this.send_message(name, {x: x, y: y, button: event.button,\n",
       "                             step: event.step,\n",
       "                             guiEvent: simpleKeys(event)});\n",
       "\n",
       "    /* This prevents the web browser from automatically changing to\n",
       "     * the text insertion cursor when the button is pressed.  We want\n",
       "     * to control all of the cursor setting manually through the\n",
       "     * 'cursor' event from matplotlib */\n",
       "    event.preventDefault();\n",
       "    return false;\n",
       "}\n",
       "\n",
       "mpl.figure.prototype._key_event_extra = function(event, name) {\n",
       "    // Handle any extra behaviour associated with a key event\n",
       "}\n",
       "\n",
       "mpl.figure.prototype.key_event = function(event, name) {\n",
       "\n",
       "    // Prevent repeat events\n",
       "    if (name == 'key_press')\n",
       "    {\n",
       "        if (event.which === this._key)\n",
       "            return;\n",
       "        else\n",
       "            this._key = event.which;\n",
       "    }\n",
       "    if (name == 'key_release')\n",
       "        this._key = null;\n",
       "\n",
       "    var value = '';\n",
       "    if (event.ctrlKey && event.which != 17)\n",
       "        value += \"ctrl+\";\n",
       "    if (event.altKey && event.which != 18)\n",
       "        value += \"alt+\";\n",
       "    if (event.shiftKey && event.which != 16)\n",
       "        value += \"shift+\";\n",
       "\n",
       "    value += 'k';\n",
       "    value += event.which.toString();\n",
       "\n",
       "    this._key_event_extra(event, name);\n",
       "\n",
       "    this.send_message(name, {key: value,\n",
       "                             guiEvent: simpleKeys(event)});\n",
       "    return false;\n",
       "}\n",
       "\n",
       "mpl.figure.prototype.toolbar_button_onclick = function(name) {\n",
       "    if (name == 'download') {\n",
       "        this.handle_save(this, null);\n",
       "    } else {\n",
       "        this.send_message(\"toolbar_button\", {name: name});\n",
       "    }\n",
       "};\n",
       "\n",
       "mpl.figure.prototype.toolbar_button_onmouseover = function(tooltip) {\n",
       "    this.message.textContent = tooltip;\n",
       "};\n",
       "mpl.toolbar_items = [[\"Home\", \"Reset original view\", \"fa fa-home icon-home\", \"home\"], [\"Back\", \"Back to  previous view\", \"fa fa-arrow-left icon-arrow-left\", \"back\"], [\"Forward\", \"Forward to next view\", \"fa fa-arrow-right icon-arrow-right\", \"forward\"], [\"\", \"\", \"\", \"\"], [\"Pan\", \"Pan axes with left mouse, zoom with right\", \"fa fa-arrows icon-move\", \"pan\"], [\"Zoom\", \"Zoom to rectangle\", \"fa fa-square-o icon-check-empty\", \"zoom\"], [\"\", \"\", \"\", \"\"], [\"Download\", \"Download plot\", \"fa fa-floppy-o icon-save\", \"download\"]];\n",
       "\n",
       "mpl.extensions = [\"eps\", \"jpeg\", \"pdf\", \"png\", \"ps\", \"raw\", \"svg\", \"tif\"];\n",
       "\n",
       "mpl.default_extension = \"png\";var comm_websocket_adapter = function(comm) {\n",
       "    // Create a \"websocket\"-like object which calls the given IPython comm\n",
       "    // object with the appropriate methods. Currently this is a non binary\n",
       "    // socket, so there is still some room for performance tuning.\n",
       "    var ws = {};\n",
       "\n",
       "    ws.close = function() {\n",
       "        comm.close()\n",
       "    };\n",
       "    ws.send = function(m) {\n",
       "        //console.log('sending', m);\n",
       "        comm.send(m);\n",
       "    };\n",
       "    // Register the callback with on_msg.\n",
       "    comm.on_msg(function(msg) {\n",
       "        //console.log('receiving', msg['content']['data'], msg);\n",
       "        // Pass the mpl event to the overriden (by mpl) onmessage function.\n",
       "        ws.onmessage(msg['content']['data'])\n",
       "    });\n",
       "    return ws;\n",
       "}\n",
       "\n",
       "mpl.mpl_figure_comm = function(comm, msg) {\n",
       "    // This is the function which gets called when the mpl process\n",
       "    // starts-up an IPython Comm through the \"matplotlib\" channel.\n",
       "\n",
       "    var id = msg.content.data.id;\n",
       "    // Get hold of the div created by the display call when the Comm\n",
       "    // socket was opened in Python.\n",
       "    var element = $(\"#\" + id);\n",
       "    var ws_proxy = comm_websocket_adapter(comm)\n",
       "\n",
       "    function ondownload(figure, format) {\n",
       "        window.open(figure.imageObj.src);\n",
       "    }\n",
       "\n",
       "    var fig = new mpl.figure(id, ws_proxy,\n",
       "                           ondownload,\n",
       "                           element.get(0));\n",
       "\n",
       "    // Call onopen now - mpl needs it, as it is assuming we've passed it a real\n",
       "    // web socket which is closed, not our websocket->open comm proxy.\n",
       "    ws_proxy.onopen();\n",
       "\n",
       "    fig.parent_element = element.get(0);\n",
       "    fig.cell_info = mpl.find_output_cell(\"<div id='\" + id + \"'></div>\");\n",
       "    if (!fig.cell_info) {\n",
       "        console.error(\"Failed to find cell for figure\", id, fig);\n",
       "        return;\n",
       "    }\n",
       "\n",
       "    var output_index = fig.cell_info[2]\n",
       "    var cell = fig.cell_info[0];\n",
       "\n",
       "};\n",
       "\n",
       "mpl.figure.prototype.handle_close = function(fig, msg) {\n",
       "    var width = fig.canvas.width/mpl.ratio\n",
       "    fig.root.unbind('remove')\n",
       "\n",
       "    // Update the output cell to use the data from the current canvas.\n",
       "    fig.push_to_output();\n",
       "    var dataURL = fig.canvas.toDataURL();\n",
       "    // Re-enable the keyboard manager in IPython - without this line, in FF,\n",
       "    // the notebook keyboard shortcuts fail.\n",
       "    IPython.keyboard_manager.enable()\n",
       "    $(fig.parent_element).html('<img src=\"' + dataURL + '\" width=\"' + width + '\">');\n",
       "    fig.close_ws(fig, msg);\n",
       "}\n",
       "\n",
       "mpl.figure.prototype.close_ws = function(fig, msg){\n",
       "    fig.send_message('closing', msg);\n",
       "    // fig.ws.close()\n",
       "}\n",
       "\n",
       "mpl.figure.prototype.push_to_output = function(remove_interactive) {\n",
       "    // Turn the data on the canvas into data in the output cell.\n",
       "    var width = this.canvas.width/mpl.ratio\n",
       "    var dataURL = this.canvas.toDataURL();\n",
       "    this.cell_info[1]['text/html'] = '<img src=\"' + dataURL + '\" width=\"' + width + '\">';\n",
       "}\n",
       "\n",
       "mpl.figure.prototype.updated_canvas_event = function() {\n",
       "    // Tell IPython that the notebook contents must change.\n",
       "    IPython.notebook.set_dirty(true);\n",
       "    this.send_message(\"ack\", {});\n",
       "    var fig = this;\n",
       "    // Wait a second, then push the new image to the DOM so\n",
       "    // that it is saved nicely (might be nice to debounce this).\n",
       "    setTimeout(function () { fig.push_to_output() }, 1000);\n",
       "}\n",
       "\n",
       "mpl.figure.prototype._init_toolbar = function() {\n",
       "    var fig = this;\n",
       "\n",
       "    var nav_element = $('<div/>')\n",
       "    nav_element.attr('style', 'width: 100%');\n",
       "    this.root.append(nav_element);\n",
       "\n",
       "    // Define a callback function for later on.\n",
       "    function toolbar_event(event) {\n",
       "        return fig.toolbar_button_onclick(event['data']);\n",
       "    }\n",
       "    function toolbar_mouse_event(event) {\n",
       "        return fig.toolbar_button_onmouseover(event['data']);\n",
       "    }\n",
       "\n",
       "    for(var toolbar_ind in mpl.toolbar_items){\n",
       "        var name = mpl.toolbar_items[toolbar_ind][0];\n",
       "        var tooltip = mpl.toolbar_items[toolbar_ind][1];\n",
       "        var image = mpl.toolbar_items[toolbar_ind][2];\n",
       "        var method_name = mpl.toolbar_items[toolbar_ind][3];\n",
       "\n",
       "        if (!name) { continue; };\n",
       "\n",
       "        var button = $('<button class=\"btn btn-default\" href=\"#\" title=\"' + name + '\"><i class=\"fa ' + image + ' fa-lg\"></i></button>');\n",
       "        button.click(method_name, toolbar_event);\n",
       "        button.mouseover(tooltip, toolbar_mouse_event);\n",
       "        nav_element.append(button);\n",
       "    }\n",
       "\n",
       "    // Add the status bar.\n",
       "    var status_bar = $('<span class=\"mpl-message\" style=\"text-align:right; float: right;\"/>');\n",
       "    nav_element.append(status_bar);\n",
       "    this.message = status_bar[0];\n",
       "\n",
       "    // Add the close button to the window.\n",
       "    var buttongrp = $('<div class=\"btn-group inline pull-right\"></div>');\n",
       "    var button = $('<button class=\"btn btn-mini btn-primary\" href=\"#\" title=\"Stop Interaction\"><i class=\"fa fa-power-off icon-remove icon-large\"></i></button>');\n",
       "    button.click(function (evt) { fig.handle_close(fig, {}); } );\n",
       "    button.mouseover('Stop Interaction', toolbar_mouse_event);\n",
       "    buttongrp.append(button);\n",
       "    var titlebar = this.root.find($('.ui-dialog-titlebar'));\n",
       "    titlebar.prepend(buttongrp);\n",
       "}\n",
       "\n",
       "mpl.figure.prototype._root_extra_style = function(el){\n",
       "    var fig = this\n",
       "    el.on(\"remove\", function(){\n",
       "\tfig.close_ws(fig, {});\n",
       "    });\n",
       "}\n",
       "\n",
       "mpl.figure.prototype._canvas_extra_style = function(el){\n",
       "    // this is important to make the div 'focusable\n",
       "    el.attr('tabindex', 0)\n",
       "    // reach out to IPython and tell the keyboard manager to turn it's self\n",
       "    // off when our div gets focus\n",
       "\n",
       "    // location in version 3\n",
       "    if (IPython.notebook.keyboard_manager) {\n",
       "        IPython.notebook.keyboard_manager.register_events(el);\n",
       "    }\n",
       "    else {\n",
       "        // location in version 2\n",
       "        IPython.keyboard_manager.register_events(el);\n",
       "    }\n",
       "\n",
       "}\n",
       "\n",
       "mpl.figure.prototype._key_event_extra = function(event, name) {\n",
       "    var manager = IPython.notebook.keyboard_manager;\n",
       "    if (!manager)\n",
       "        manager = IPython.keyboard_manager;\n",
       "\n",
       "    // Check for shift+enter\n",
       "    if (event.shiftKey && event.which == 13) {\n",
       "        this.canvas_div.blur();\n",
       "        event.shiftKey = false;\n",
       "        // Send a \"J\" for go to next cell\n",
       "        event.which = 74;\n",
       "        event.keyCode = 74;\n",
       "        manager.command_mode();\n",
       "        manager.handle_keydown(event);\n",
       "    }\n",
       "}\n",
       "\n",
       "mpl.figure.prototype.handle_save = function(fig, msg) {\n",
       "    fig.ondownload(fig, null);\n",
       "}\n",
       "\n",
       "\n",
       "mpl.find_output_cell = function(html_output) {\n",
       "    // Return the cell and output element which can be found *uniquely* in the notebook.\n",
       "    // Note - this is a bit hacky, but it is done because the \"notebook_saving.Notebook\"\n",
       "    // IPython event is triggered only after the cells have been serialised, which for\n",
       "    // our purposes (turning an active figure into a static one), is too late.\n",
       "    var cells = IPython.notebook.get_cells();\n",
       "    var ncells = cells.length;\n",
       "    for (var i=0; i<ncells; i++) {\n",
       "        var cell = cells[i];\n",
       "        if (cell.cell_type === 'code'){\n",
       "            for (var j=0; j<cell.output_area.outputs.length; j++) {\n",
       "                var data = cell.output_area.outputs[j];\n",
       "                if (data.data) {\n",
       "                    // IPython >= 3 moved mimebundle to data attribute of output\n",
       "                    data = data.data;\n",
       "                }\n",
       "                if (data['text/html'] == html_output) {\n",
       "                    return [cell, data, j];\n",
       "                }\n",
       "            }\n",
       "        }\n",
       "    }\n",
       "}\n",
       "\n",
       "// Register the function which deals with the matplotlib target/channel.\n",
       "// The kernel may be null if the page has been refreshed.\n",
       "if (IPython.notebook.kernel != null) {\n",
       "    IPython.notebook.kernel.comm_manager.register_target('matplotlib', mpl.mpl_figure_comm);\n",
       "}\n"
      ],
      "text/plain": [
       "<IPython.core.display.Javascript object>"
      ]
     },
     "metadata": {},
     "output_type": "display_data"
    },
    {
     "data": {
      "text/html": [
       "<img src=\"data:image/png;base64,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\" width=\"432\">"
      ],
      "text/plain": [
       "<IPython.core.display.HTML object>"
      ]
     },
     "metadata": {},
     "output_type": "display_data"
    },
    {
     "data": {
      "text/plain": [
       "[<matplotlib.lines.Line2D at 0x11749fac8>]"
      ]
     },
     "execution_count": 32,
     "metadata": {},
     "output_type": "execute_result"
    }
   ],
   "source": [
    "X = np.load(way + \"No9.npy\")\n",
    "pylab.figure()\n",
    "pylab.plot(X[0],X[1])"
   ]
  },
  {
   "cell_type": "code",
   "execution_count": 33,
   "metadata": {},
   "outputs": [
    {
     "data": {
      "application/javascript": [
       "/* Put everything inside the global mpl namespace */\n",
       "window.mpl = {};\n",
       "\n",
       "\n",
       "mpl.get_websocket_type = function() {\n",
       "    if (typeof(WebSocket) !== 'undefined') {\n",
       "        return WebSocket;\n",
       "    } else if (typeof(MozWebSocket) !== 'undefined') {\n",
       "        return MozWebSocket;\n",
       "    } else {\n",
       "        alert('Your browser does not have WebSocket support.' +\n",
       "              'Please try Chrome, Safari or Firefox ≥ 6. ' +\n",
       "              'Firefox 4 and 5 are also supported but you ' +\n",
       "              'have to enable WebSockets in about:config.');\n",
       "    };\n",
       "}\n",
       "\n",
       "mpl.figure = function(figure_id, websocket, ondownload, parent_element) {\n",
       "    this.id = figure_id;\n",
       "\n",
       "    this.ws = websocket;\n",
       "\n",
       "    this.supports_binary = (this.ws.binaryType != undefined);\n",
       "\n",
       "    if (!this.supports_binary) {\n",
       "        var warnings = document.getElementById(\"mpl-warnings\");\n",
       "        if (warnings) {\n",
       "            warnings.style.display = 'block';\n",
       "            warnings.textContent = (\n",
       "                \"This browser does not support binary websocket messages. \" +\n",
       "                    \"Performance may be slow.\");\n",
       "        }\n",
       "    }\n",
       "\n",
       "    this.imageObj = new Image();\n",
       "\n",
       "    this.context = undefined;\n",
       "    this.message = undefined;\n",
       "    this.canvas = undefined;\n",
       "    this.rubberband_canvas = undefined;\n",
       "    this.rubberband_context = undefined;\n",
       "    this.format_dropdown = undefined;\n",
       "\n",
       "    this.image_mode = 'full';\n",
       "\n",
       "    this.root = $('<div/>');\n",
       "    this._root_extra_style(this.root)\n",
       "    this.root.attr('style', 'display: inline-block');\n",
       "\n",
       "    $(parent_element).append(this.root);\n",
       "\n",
       "    this._init_header(this);\n",
       "    this._init_canvas(this);\n",
       "    this._init_toolbar(this);\n",
       "\n",
       "    var fig = this;\n",
       "\n",
       "    this.waiting = false;\n",
       "\n",
       "    this.ws.onopen =  function () {\n",
       "            fig.send_message(\"supports_binary\", {value: fig.supports_binary});\n",
       "            fig.send_message(\"send_image_mode\", {});\n",
       "            if (mpl.ratio != 1) {\n",
       "                fig.send_message(\"set_dpi_ratio\", {'dpi_ratio': mpl.ratio});\n",
       "            }\n",
       "            fig.send_message(\"refresh\", {});\n",
       "        }\n",
       "\n",
       "    this.imageObj.onload = function() {\n",
       "            if (fig.image_mode == 'full') {\n",
       "                // Full images could contain transparency (where diff images\n",
       "                // almost always do), so we need to clear the canvas so that\n",
       "                // there is no ghosting.\n",
       "                fig.context.clearRect(0, 0, fig.canvas.width, fig.canvas.height);\n",
       "            }\n",
       "            fig.context.drawImage(fig.imageObj, 0, 0);\n",
       "        };\n",
       "\n",
       "    this.imageObj.onunload = function() {\n",
       "        fig.ws.close();\n",
       "    }\n",
       "\n",
       "    this.ws.onmessage = this._make_on_message_function(this);\n",
       "\n",
       "    this.ondownload = ondownload;\n",
       "}\n",
       "\n",
       "mpl.figure.prototype._init_header = function() {\n",
       "    var titlebar = $(\n",
       "        '<div class=\"ui-dialog-titlebar ui-widget-header ui-corner-all ' +\n",
       "        'ui-helper-clearfix\"/>');\n",
       "    var titletext = $(\n",
       "        '<div class=\"ui-dialog-title\" style=\"width: 100%; ' +\n",
       "        'text-align: center; padding: 3px;\"/>');\n",
       "    titlebar.append(titletext)\n",
       "    this.root.append(titlebar);\n",
       "    this.header = titletext[0];\n",
       "}\n",
       "\n",
       "\n",
       "\n",
       "mpl.figure.prototype._canvas_extra_style = function(canvas_div) {\n",
       "\n",
       "}\n",
       "\n",
       "\n",
       "mpl.figure.prototype._root_extra_style = function(canvas_div) {\n",
       "\n",
       "}\n",
       "\n",
       "mpl.figure.prototype._init_canvas = function() {\n",
       "    var fig = this;\n",
       "\n",
       "    var canvas_div = $('<div/>');\n",
       "\n",
       "    canvas_div.attr('style', 'position: relative; clear: both; outline: 0');\n",
       "\n",
       "    function canvas_keyboard_event(event) {\n",
       "        return fig.key_event(event, event['data']);\n",
       "    }\n",
       "\n",
       "    canvas_div.keydown('key_press', canvas_keyboard_event);\n",
       "    canvas_div.keyup('key_release', canvas_keyboard_event);\n",
       "    this.canvas_div = canvas_div\n",
       "    this._canvas_extra_style(canvas_div)\n",
       "    this.root.append(canvas_div);\n",
       "\n",
       "    var canvas = $('<canvas/>');\n",
       "    canvas.addClass('mpl-canvas');\n",
       "    canvas.attr('style', \"left: 0; top: 0; z-index: 0; outline: 0\")\n",
       "\n",
       "    this.canvas = canvas[0];\n",
       "    this.context = canvas[0].getContext(\"2d\");\n",
       "\n",
       "    var backingStore = this.context.backingStorePixelRatio ||\n",
       "\tthis.context.webkitBackingStorePixelRatio ||\n",
       "\tthis.context.mozBackingStorePixelRatio ||\n",
       "\tthis.context.msBackingStorePixelRatio ||\n",
       "\tthis.context.oBackingStorePixelRatio ||\n",
       "\tthis.context.backingStorePixelRatio || 1;\n",
       "\n",
       "    mpl.ratio = (window.devicePixelRatio || 1) / backingStore;\n",
       "\n",
       "    var rubberband = $('<canvas/>');\n",
       "    rubberband.attr('style', \"position: absolute; left: 0; top: 0; z-index: 1;\")\n",
       "\n",
       "    var pass_mouse_events = true;\n",
       "\n",
       "    canvas_div.resizable({\n",
       "        start: function(event, ui) {\n",
       "            pass_mouse_events = false;\n",
       "        },\n",
       "        resize: function(event, ui) {\n",
       "            fig.request_resize(ui.size.width, ui.size.height);\n",
       "        },\n",
       "        stop: function(event, ui) {\n",
       "            pass_mouse_events = true;\n",
       "            fig.request_resize(ui.size.width, ui.size.height);\n",
       "        },\n",
       "    });\n",
       "\n",
       "    function mouse_event_fn(event) {\n",
       "        if (pass_mouse_events)\n",
       "            return fig.mouse_event(event, event['data']);\n",
       "    }\n",
       "\n",
       "    rubberband.mousedown('button_press', mouse_event_fn);\n",
       "    rubberband.mouseup('button_release', mouse_event_fn);\n",
       "    // Throttle sequential mouse events to 1 every 20ms.\n",
       "    rubberband.mousemove('motion_notify', mouse_event_fn);\n",
       "\n",
       "    rubberband.mouseenter('figure_enter', mouse_event_fn);\n",
       "    rubberband.mouseleave('figure_leave', mouse_event_fn);\n",
       "\n",
       "    canvas_div.on(\"wheel\", function (event) {\n",
       "        event = event.originalEvent;\n",
       "        event['data'] = 'scroll'\n",
       "        if (event.deltaY < 0) {\n",
       "            event.step = 1;\n",
       "        } else {\n",
       "            event.step = -1;\n",
       "        }\n",
       "        mouse_event_fn(event);\n",
       "    });\n",
       "\n",
       "    canvas_div.append(canvas);\n",
       "    canvas_div.append(rubberband);\n",
       "\n",
       "    this.rubberband = rubberband;\n",
       "    this.rubberband_canvas = rubberband[0];\n",
       "    this.rubberband_context = rubberband[0].getContext(\"2d\");\n",
       "    this.rubberband_context.strokeStyle = \"#000000\";\n",
       "\n",
       "    this._resize_canvas = function(width, height) {\n",
       "        // Keep the size of the canvas, canvas container, and rubber band\n",
       "        // canvas in synch.\n",
       "        canvas_div.css('width', width)\n",
       "        canvas_div.css('height', height)\n",
       "\n",
       "        canvas.attr('width', width * mpl.ratio);\n",
       "        canvas.attr('height', height * mpl.ratio);\n",
       "        canvas.attr('style', 'width: ' + width + 'px; height: ' + height + 'px;');\n",
       "\n",
       "        rubberband.attr('width', width);\n",
       "        rubberband.attr('height', height);\n",
       "    }\n",
       "\n",
       "    // Set the figure to an initial 600x600px, this will subsequently be updated\n",
       "    // upon first draw.\n",
       "    this._resize_canvas(600, 600);\n",
       "\n",
       "    // Disable right mouse context menu.\n",
       "    $(this.rubberband_canvas).bind(\"contextmenu\",function(e){\n",
       "        return false;\n",
       "    });\n",
       "\n",
       "    function set_focus () {\n",
       "        canvas.focus();\n",
       "        canvas_div.focus();\n",
       "    }\n",
       "\n",
       "    window.setTimeout(set_focus, 100);\n",
       "}\n",
       "\n",
       "mpl.figure.prototype._init_toolbar = function() {\n",
       "    var fig = this;\n",
       "\n",
       "    var nav_element = $('<div/>')\n",
       "    nav_element.attr('style', 'width: 100%');\n",
       "    this.root.append(nav_element);\n",
       "\n",
       "    // Define a callback function for later on.\n",
       "    function toolbar_event(event) {\n",
       "        return fig.toolbar_button_onclick(event['data']);\n",
       "    }\n",
       "    function toolbar_mouse_event(event) {\n",
       "        return fig.toolbar_button_onmouseover(event['data']);\n",
       "    }\n",
       "\n",
       "    for(var toolbar_ind in mpl.toolbar_items) {\n",
       "        var name = mpl.toolbar_items[toolbar_ind][0];\n",
       "        var tooltip = mpl.toolbar_items[toolbar_ind][1];\n",
       "        var image = mpl.toolbar_items[toolbar_ind][2];\n",
       "        var method_name = mpl.toolbar_items[toolbar_ind][3];\n",
       "\n",
       "        if (!name) {\n",
       "            // put a spacer in here.\n",
       "            continue;\n",
       "        }\n",
       "        var button = $('<button/>');\n",
       "        button.addClass('ui-button ui-widget ui-state-default ui-corner-all ' +\n",
       "                        'ui-button-icon-only');\n",
       "        button.attr('role', 'button');\n",
       "        button.attr('aria-disabled', 'false');\n",
       "        button.click(method_name, toolbar_event);\n",
       "        button.mouseover(tooltip, toolbar_mouse_event);\n",
       "\n",
       "        var icon_img = $('<span/>');\n",
       "        icon_img.addClass('ui-button-icon-primary ui-icon');\n",
       "        icon_img.addClass(image);\n",
       "        icon_img.addClass('ui-corner-all');\n",
       "\n",
       "        var tooltip_span = $('<span/>');\n",
       "        tooltip_span.addClass('ui-button-text');\n",
       "        tooltip_span.html(tooltip);\n",
       "\n",
       "        button.append(icon_img);\n",
       "        button.append(tooltip_span);\n",
       "\n",
       "        nav_element.append(button);\n",
       "    }\n",
       "\n",
       "    var fmt_picker_span = $('<span/>');\n",
       "\n",
       "    var fmt_picker = $('<select/>');\n",
       "    fmt_picker.addClass('mpl-toolbar-option ui-widget ui-widget-content');\n",
       "    fmt_picker_span.append(fmt_picker);\n",
       "    nav_element.append(fmt_picker_span);\n",
       "    this.format_dropdown = fmt_picker[0];\n",
       "\n",
       "    for (var ind in mpl.extensions) {\n",
       "        var fmt = mpl.extensions[ind];\n",
       "        var option = $(\n",
       "            '<option/>', {selected: fmt === mpl.default_extension}).html(fmt);\n",
       "        fmt_picker.append(option)\n",
       "    }\n",
       "\n",
       "    // Add hover states to the ui-buttons\n",
       "    $( \".ui-button\" ).hover(\n",
       "        function() { $(this).addClass(\"ui-state-hover\");},\n",
       "        function() { $(this).removeClass(\"ui-state-hover\");}\n",
       "    );\n",
       "\n",
       "    var status_bar = $('<span class=\"mpl-message\"/>');\n",
       "    nav_element.append(status_bar);\n",
       "    this.message = status_bar[0];\n",
       "}\n",
       "\n",
       "mpl.figure.prototype.request_resize = function(x_pixels, y_pixels) {\n",
       "    // Request matplotlib to resize the figure. Matplotlib will then trigger a resize in the client,\n",
       "    // which will in turn request a refresh of the image.\n",
       "    this.send_message('resize', {'width': x_pixels, 'height': y_pixels});\n",
       "}\n",
       "\n",
       "mpl.figure.prototype.send_message = function(type, properties) {\n",
       "    properties['type'] = type;\n",
       "    properties['figure_id'] = this.id;\n",
       "    this.ws.send(JSON.stringify(properties));\n",
       "}\n",
       "\n",
       "mpl.figure.prototype.send_draw_message = function() {\n",
       "    if (!this.waiting) {\n",
       "        this.waiting = true;\n",
       "        this.ws.send(JSON.stringify({type: \"draw\", figure_id: this.id}));\n",
       "    }\n",
       "}\n",
       "\n",
       "\n",
       "mpl.figure.prototype.handle_save = function(fig, msg) {\n",
       "    var format_dropdown = fig.format_dropdown;\n",
       "    var format = format_dropdown.options[format_dropdown.selectedIndex].value;\n",
       "    fig.ondownload(fig, format);\n",
       "}\n",
       "\n",
       "\n",
       "mpl.figure.prototype.handle_resize = function(fig, msg) {\n",
       "    var size = msg['size'];\n",
       "    if (size[0] != fig.canvas.width || size[1] != fig.canvas.height) {\n",
       "        fig._resize_canvas(size[0], size[1]);\n",
       "        fig.send_message(\"refresh\", {});\n",
       "    };\n",
       "}\n",
       "\n",
       "mpl.figure.prototype.handle_rubberband = function(fig, msg) {\n",
       "    var x0 = msg['x0'] / mpl.ratio;\n",
       "    var y0 = (fig.canvas.height - msg['y0']) / mpl.ratio;\n",
       "    var x1 = msg['x1'] / mpl.ratio;\n",
       "    var y1 = (fig.canvas.height - msg['y1']) / mpl.ratio;\n",
       "    x0 = Math.floor(x0) + 0.5;\n",
       "    y0 = Math.floor(y0) + 0.5;\n",
       "    x1 = Math.floor(x1) + 0.5;\n",
       "    y1 = Math.floor(y1) + 0.5;\n",
       "    var min_x = Math.min(x0, x1);\n",
       "    var min_y = Math.min(y0, y1);\n",
       "    var width = Math.abs(x1 - x0);\n",
       "    var height = Math.abs(y1 - y0);\n",
       "\n",
       "    fig.rubberband_context.clearRect(\n",
       "        0, 0, fig.canvas.width, fig.canvas.height);\n",
       "\n",
       "    fig.rubberband_context.strokeRect(min_x, min_y, width, height);\n",
       "}\n",
       "\n",
       "mpl.figure.prototype.handle_figure_label = function(fig, msg) {\n",
       "    // Updates the figure title.\n",
       "    fig.header.textContent = msg['label'];\n",
       "}\n",
       "\n",
       "mpl.figure.prototype.handle_cursor = function(fig, msg) {\n",
       "    var cursor = msg['cursor'];\n",
       "    switch(cursor)\n",
       "    {\n",
       "    case 0:\n",
       "        cursor = 'pointer';\n",
       "        break;\n",
       "    case 1:\n",
       "        cursor = 'default';\n",
       "        break;\n",
       "    case 2:\n",
       "        cursor = 'crosshair';\n",
       "        break;\n",
       "    case 3:\n",
       "        cursor = 'move';\n",
       "        break;\n",
       "    }\n",
       "    fig.rubberband_canvas.style.cursor = cursor;\n",
       "}\n",
       "\n",
       "mpl.figure.prototype.handle_message = function(fig, msg) {\n",
       "    fig.message.textContent = msg['message'];\n",
       "}\n",
       "\n",
       "mpl.figure.prototype.handle_draw = function(fig, msg) {\n",
       "    // Request the server to send over a new figure.\n",
       "    fig.send_draw_message();\n",
       "}\n",
       "\n",
       "mpl.figure.prototype.handle_image_mode = function(fig, msg) {\n",
       "    fig.image_mode = msg['mode'];\n",
       "}\n",
       "\n",
       "mpl.figure.prototype.updated_canvas_event = function() {\n",
       "    // Called whenever the canvas gets updated.\n",
       "    this.send_message(\"ack\", {});\n",
       "}\n",
       "\n",
       "// A function to construct a web socket function for onmessage handling.\n",
       "// Called in the figure constructor.\n",
       "mpl.figure.prototype._make_on_message_function = function(fig) {\n",
       "    return function socket_on_message(evt) {\n",
       "        if (evt.data instanceof Blob) {\n",
       "            /* FIXME: We get \"Resource interpreted as Image but\n",
       "             * transferred with MIME type text/plain:\" errors on\n",
       "             * Chrome.  But how to set the MIME type?  It doesn't seem\n",
       "             * to be part of the websocket stream */\n",
       "            evt.data.type = \"image/png\";\n",
       "\n",
       "            /* Free the memory for the previous frames */\n",
       "            if (fig.imageObj.src) {\n",
       "                (window.URL || window.webkitURL).revokeObjectURL(\n",
       "                    fig.imageObj.src);\n",
       "            }\n",
       "\n",
       "            fig.imageObj.src = (window.URL || window.webkitURL).createObjectURL(\n",
       "                evt.data);\n",
       "            fig.updated_canvas_event();\n",
       "            fig.waiting = false;\n",
       "            return;\n",
       "        }\n",
       "        else if (typeof evt.data === 'string' && evt.data.slice(0, 21) == \"data:image/png;base64\") {\n",
       "            fig.imageObj.src = evt.data;\n",
       "            fig.updated_canvas_event();\n",
       "            fig.waiting = false;\n",
       "            return;\n",
       "        }\n",
       "\n",
       "        var msg = JSON.parse(evt.data);\n",
       "        var msg_type = msg['type'];\n",
       "\n",
       "        // Call the  \"handle_{type}\" callback, which takes\n",
       "        // the figure and JSON message as its only arguments.\n",
       "        try {\n",
       "            var callback = fig[\"handle_\" + msg_type];\n",
       "        } catch (e) {\n",
       "            console.log(\"No handler for the '\" + msg_type + \"' message type: \", msg);\n",
       "            return;\n",
       "        }\n",
       "\n",
       "        if (callback) {\n",
       "            try {\n",
       "                // console.log(\"Handling '\" + msg_type + \"' message: \", msg);\n",
       "                callback(fig, msg);\n",
       "            } catch (e) {\n",
       "                console.log(\"Exception inside the 'handler_\" + msg_type + \"' callback:\", e, e.stack, msg);\n",
       "            }\n",
       "        }\n",
       "    };\n",
       "}\n",
       "\n",
       "// from http://stackoverflow.com/questions/1114465/getting-mouse-location-in-canvas\n",
       "mpl.findpos = function(e) {\n",
       "    //this section is from http://www.quirksmode.org/js/events_properties.html\n",
       "    var targ;\n",
       "    if (!e)\n",
       "        e = window.event;\n",
       "    if (e.target)\n",
       "        targ = e.target;\n",
       "    else if (e.srcElement)\n",
       "        targ = e.srcElement;\n",
       "    if (targ.nodeType == 3) // defeat Safari bug\n",
       "        targ = targ.parentNode;\n",
       "\n",
       "    // jQuery normalizes the pageX and pageY\n",
       "    // pageX,Y are the mouse positions relative to the document\n",
       "    // offset() returns the position of the element relative to the document\n",
       "    var x = e.pageX - $(targ).offset().left;\n",
       "    var y = e.pageY - $(targ).offset().top;\n",
       "\n",
       "    return {\"x\": x, \"y\": y};\n",
       "};\n",
       "\n",
       "/*\n",
       " * return a copy of an object with only non-object keys\n",
       " * we need this to avoid circular references\n",
       " * http://stackoverflow.com/a/24161582/3208463\n",
       " */\n",
       "function simpleKeys (original) {\n",
       "  return Object.keys(original).reduce(function (obj, key) {\n",
       "    if (typeof original[key] !== 'object')\n",
       "        obj[key] = original[key]\n",
       "    return obj;\n",
       "  }, {});\n",
       "}\n",
       "\n",
       "mpl.figure.prototype.mouse_event = function(event, name) {\n",
       "    var canvas_pos = mpl.findpos(event)\n",
       "\n",
       "    if (name === 'button_press')\n",
       "    {\n",
       "        this.canvas.focus();\n",
       "        this.canvas_div.focus();\n",
       "    }\n",
       "\n",
       "    var x = canvas_pos.x * mpl.ratio;\n",
       "    var y = canvas_pos.y * mpl.ratio;\n",
       "\n",
       "    this.send_message(name, {x: x, y: y, button: event.button,\n",
       "                             step: event.step,\n",
       "                             guiEvent: simpleKeys(event)});\n",
       "\n",
       "    /* This prevents the web browser from automatically changing to\n",
       "     * the text insertion cursor when the button is pressed.  We want\n",
       "     * to control all of the cursor setting manually through the\n",
       "     * 'cursor' event from matplotlib */\n",
       "    event.preventDefault();\n",
       "    return false;\n",
       "}\n",
       "\n",
       "mpl.figure.prototype._key_event_extra = function(event, name) {\n",
       "    // Handle any extra behaviour associated with a key event\n",
       "}\n",
       "\n",
       "mpl.figure.prototype.key_event = function(event, name) {\n",
       "\n",
       "    // Prevent repeat events\n",
       "    if (name == 'key_press')\n",
       "    {\n",
       "        if (event.which === this._key)\n",
       "            return;\n",
       "        else\n",
       "            this._key = event.which;\n",
       "    }\n",
       "    if (name == 'key_release')\n",
       "        this._key = null;\n",
       "\n",
       "    var value = '';\n",
       "    if (event.ctrlKey && event.which != 17)\n",
       "        value += \"ctrl+\";\n",
       "    if (event.altKey && event.which != 18)\n",
       "        value += \"alt+\";\n",
       "    if (event.shiftKey && event.which != 16)\n",
       "        value += \"shift+\";\n",
       "\n",
       "    value += 'k';\n",
       "    value += event.which.toString();\n",
       "\n",
       "    this._key_event_extra(event, name);\n",
       "\n",
       "    this.send_message(name, {key: value,\n",
       "                             guiEvent: simpleKeys(event)});\n",
       "    return false;\n",
       "}\n",
       "\n",
       "mpl.figure.prototype.toolbar_button_onclick = function(name) {\n",
       "    if (name == 'download') {\n",
       "        this.handle_save(this, null);\n",
       "    } else {\n",
       "        this.send_message(\"toolbar_button\", {name: name});\n",
       "    }\n",
       "};\n",
       "\n",
       "mpl.figure.prototype.toolbar_button_onmouseover = function(tooltip) {\n",
       "    this.message.textContent = tooltip;\n",
       "};\n",
       "mpl.toolbar_items = [[\"Home\", \"Reset original view\", \"fa fa-home icon-home\", \"home\"], [\"Back\", \"Back to  previous view\", \"fa fa-arrow-left icon-arrow-left\", \"back\"], [\"Forward\", \"Forward to next view\", \"fa fa-arrow-right icon-arrow-right\", \"forward\"], [\"\", \"\", \"\", \"\"], [\"Pan\", \"Pan axes with left mouse, zoom with right\", \"fa fa-arrows icon-move\", \"pan\"], [\"Zoom\", \"Zoom to rectangle\", \"fa fa-square-o icon-check-empty\", \"zoom\"], [\"\", \"\", \"\", \"\"], [\"Download\", \"Download plot\", \"fa fa-floppy-o icon-save\", \"download\"]];\n",
       "\n",
       "mpl.extensions = [\"eps\", \"jpeg\", \"pdf\", \"png\", \"ps\", \"raw\", \"svg\", \"tif\"];\n",
       "\n",
       "mpl.default_extension = \"png\";var comm_websocket_adapter = function(comm) {\n",
       "    // Create a \"websocket\"-like object which calls the given IPython comm\n",
       "    // object with the appropriate methods. Currently this is a non binary\n",
       "    // socket, so there is still some room for performance tuning.\n",
       "    var ws = {};\n",
       "\n",
       "    ws.close = function() {\n",
       "        comm.close()\n",
       "    };\n",
       "    ws.send = function(m) {\n",
       "        //console.log('sending', m);\n",
       "        comm.send(m);\n",
       "    };\n",
       "    // Register the callback with on_msg.\n",
       "    comm.on_msg(function(msg) {\n",
       "        //console.log('receiving', msg['content']['data'], msg);\n",
       "        // Pass the mpl event to the overriden (by mpl) onmessage function.\n",
       "        ws.onmessage(msg['content']['data'])\n",
       "    });\n",
       "    return ws;\n",
       "}\n",
       "\n",
       "mpl.mpl_figure_comm = function(comm, msg) {\n",
       "    // This is the function which gets called when the mpl process\n",
       "    // starts-up an IPython Comm through the \"matplotlib\" channel.\n",
       "\n",
       "    var id = msg.content.data.id;\n",
       "    // Get hold of the div created by the display call when the Comm\n",
       "    // socket was opened in Python.\n",
       "    var element = $(\"#\" + id);\n",
       "    var ws_proxy = comm_websocket_adapter(comm)\n",
       "\n",
       "    function ondownload(figure, format) {\n",
       "        window.open(figure.imageObj.src);\n",
       "    }\n",
       "\n",
       "    var fig = new mpl.figure(id, ws_proxy,\n",
       "                           ondownload,\n",
       "                           element.get(0));\n",
       "\n",
       "    // Call onopen now - mpl needs it, as it is assuming we've passed it a real\n",
       "    // web socket which is closed, not our websocket->open comm proxy.\n",
       "    ws_proxy.onopen();\n",
       "\n",
       "    fig.parent_element = element.get(0);\n",
       "    fig.cell_info = mpl.find_output_cell(\"<div id='\" + id + \"'></div>\");\n",
       "    if (!fig.cell_info) {\n",
       "        console.error(\"Failed to find cell for figure\", id, fig);\n",
       "        return;\n",
       "    }\n",
       "\n",
       "    var output_index = fig.cell_info[2]\n",
       "    var cell = fig.cell_info[0];\n",
       "\n",
       "};\n",
       "\n",
       "mpl.figure.prototype.handle_close = function(fig, msg) {\n",
       "    var width = fig.canvas.width/mpl.ratio\n",
       "    fig.root.unbind('remove')\n",
       "\n",
       "    // Update the output cell to use the data from the current canvas.\n",
       "    fig.push_to_output();\n",
       "    var dataURL = fig.canvas.toDataURL();\n",
       "    // Re-enable the keyboard manager in IPython - without this line, in FF,\n",
       "    // the notebook keyboard shortcuts fail.\n",
       "    IPython.keyboard_manager.enable()\n",
       "    $(fig.parent_element).html('<img src=\"' + dataURL + '\" width=\"' + width + '\">');\n",
       "    fig.close_ws(fig, msg);\n",
       "}\n",
       "\n",
       "mpl.figure.prototype.close_ws = function(fig, msg){\n",
       "    fig.send_message('closing', msg);\n",
       "    // fig.ws.close()\n",
       "}\n",
       "\n",
       "mpl.figure.prototype.push_to_output = function(remove_interactive) {\n",
       "    // Turn the data on the canvas into data in the output cell.\n",
       "    var width = this.canvas.width/mpl.ratio\n",
       "    var dataURL = this.canvas.toDataURL();\n",
       "    this.cell_info[1]['text/html'] = '<img src=\"' + dataURL + '\" width=\"' + width + '\">';\n",
       "}\n",
       "\n",
       "mpl.figure.prototype.updated_canvas_event = function() {\n",
       "    // Tell IPython that the notebook contents must change.\n",
       "    IPython.notebook.set_dirty(true);\n",
       "    this.send_message(\"ack\", {});\n",
       "    var fig = this;\n",
       "    // Wait a second, then push the new image to the DOM so\n",
       "    // that it is saved nicely (might be nice to debounce this).\n",
       "    setTimeout(function () { fig.push_to_output() }, 1000);\n",
       "}\n",
       "\n",
       "mpl.figure.prototype._init_toolbar = function() {\n",
       "    var fig = this;\n",
       "\n",
       "    var nav_element = $('<div/>')\n",
       "    nav_element.attr('style', 'width: 100%');\n",
       "    this.root.append(nav_element);\n",
       "\n",
       "    // Define a callback function for later on.\n",
       "    function toolbar_event(event) {\n",
       "        return fig.toolbar_button_onclick(event['data']);\n",
       "    }\n",
       "    function toolbar_mouse_event(event) {\n",
       "        return fig.toolbar_button_onmouseover(event['data']);\n",
       "    }\n",
       "\n",
       "    for(var toolbar_ind in mpl.toolbar_items){\n",
       "        var name = mpl.toolbar_items[toolbar_ind][0];\n",
       "        var tooltip = mpl.toolbar_items[toolbar_ind][1];\n",
       "        var image = mpl.toolbar_items[toolbar_ind][2];\n",
       "        var method_name = mpl.toolbar_items[toolbar_ind][3];\n",
       "\n",
       "        if (!name) { continue; };\n",
       "\n",
       "        var button = $('<button class=\"btn btn-default\" href=\"#\" title=\"' + name + '\"><i class=\"fa ' + image + ' fa-lg\"></i></button>');\n",
       "        button.click(method_name, toolbar_event);\n",
       "        button.mouseover(tooltip, toolbar_mouse_event);\n",
       "        nav_element.append(button);\n",
       "    }\n",
       "\n",
       "    // Add the status bar.\n",
       "    var status_bar = $('<span class=\"mpl-message\" style=\"text-align:right; float: right;\"/>');\n",
       "    nav_element.append(status_bar);\n",
       "    this.message = status_bar[0];\n",
       "\n",
       "    // Add the close button to the window.\n",
       "    var buttongrp = $('<div class=\"btn-group inline pull-right\"></div>');\n",
       "    var button = $('<button class=\"btn btn-mini btn-primary\" href=\"#\" title=\"Stop Interaction\"><i class=\"fa fa-power-off icon-remove icon-large\"></i></button>');\n",
       "    button.click(function (evt) { fig.handle_close(fig, {}); } );\n",
       "    button.mouseover('Stop Interaction', toolbar_mouse_event);\n",
       "    buttongrp.append(button);\n",
       "    var titlebar = this.root.find($('.ui-dialog-titlebar'));\n",
       "    titlebar.prepend(buttongrp);\n",
       "}\n",
       "\n",
       "mpl.figure.prototype._root_extra_style = function(el){\n",
       "    var fig = this\n",
       "    el.on(\"remove\", function(){\n",
       "\tfig.close_ws(fig, {});\n",
       "    });\n",
       "}\n",
       "\n",
       "mpl.figure.prototype._canvas_extra_style = function(el){\n",
       "    // this is important to make the div 'focusable\n",
       "    el.attr('tabindex', 0)\n",
       "    // reach out to IPython and tell the keyboard manager to turn it's self\n",
       "    // off when our div gets focus\n",
       "\n",
       "    // location in version 3\n",
       "    if (IPython.notebook.keyboard_manager) {\n",
       "        IPython.notebook.keyboard_manager.register_events(el);\n",
       "    }\n",
       "    else {\n",
       "        // location in version 2\n",
       "        IPython.keyboard_manager.register_events(el);\n",
       "    }\n",
       "\n",
       "}\n",
       "\n",
       "mpl.figure.prototype._key_event_extra = function(event, name) {\n",
       "    var manager = IPython.notebook.keyboard_manager;\n",
       "    if (!manager)\n",
       "        manager = IPython.keyboard_manager;\n",
       "\n",
       "    // Check for shift+enter\n",
       "    if (event.shiftKey && event.which == 13) {\n",
       "        this.canvas_div.blur();\n",
       "        event.shiftKey = false;\n",
       "        // Send a \"J\" for go to next cell\n",
       "        event.which = 74;\n",
       "        event.keyCode = 74;\n",
       "        manager.command_mode();\n",
       "        manager.handle_keydown(event);\n",
       "    }\n",
       "}\n",
       "\n",
       "mpl.figure.prototype.handle_save = function(fig, msg) {\n",
       "    fig.ondownload(fig, null);\n",
       "}\n",
       "\n",
       "\n",
       "mpl.find_output_cell = function(html_output) {\n",
       "    // Return the cell and output element which can be found *uniquely* in the notebook.\n",
       "    // Note - this is a bit hacky, but it is done because the \"notebook_saving.Notebook\"\n",
       "    // IPython event is triggered only after the cells have been serialised, which for\n",
       "    // our purposes (turning an active figure into a static one), is too late.\n",
       "    var cells = IPython.notebook.get_cells();\n",
       "    var ncells = cells.length;\n",
       "    for (var i=0; i<ncells; i++) {\n",
       "        var cell = cells[i];\n",
       "        if (cell.cell_type === 'code'){\n",
       "            for (var j=0; j<cell.output_area.outputs.length; j++) {\n",
       "                var data = cell.output_area.outputs[j];\n",
       "                if (data.data) {\n",
       "                    // IPython >= 3 moved mimebundle to data attribute of output\n",
       "                    data = data.data;\n",
       "                }\n",
       "                if (data['text/html'] == html_output) {\n",
       "                    return [cell, data, j];\n",
       "                }\n",
       "            }\n",
       "        }\n",
       "    }\n",
       "}\n",
       "\n",
       "// Register the function which deals with the matplotlib target/channel.\n",
       "// The kernel may be null if the page has been refreshed.\n",
       "if (IPython.notebook.kernel != null) {\n",
       "    IPython.notebook.kernel.comm_manager.register_target('matplotlib', mpl.mpl_figure_comm);\n",
       "}\n"
      ],
      "text/plain": [
       "<IPython.core.display.Javascript object>"
      ]
     },
     "metadata": {},
     "output_type": "display_data"
    },
    {
     "data": {
      "text/html": [
       "<img src=\"data:image/png;base64,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\" width=\"432\">"
      ],
      "text/plain": [
       "<IPython.core.display.HTML object>"
      ]
     },
     "metadata": {},
     "output_type": "display_data"
    },
    {
     "data": {
      "text/plain": [
       "[<matplotlib.lines.Line2D at 0x1176d54e0>]"
      ]
     },
     "execution_count": 33,
     "metadata": {},
     "output_type": "execute_result"
    }
   ],
   "source": [
    "X = np.load(way + \"No10.npy\")\n",
    "pylab.figure()\n",
    "pylab.plot(X[0],X[1])"
   ]
  },
  {
   "cell_type": "code",
   "execution_count": 34,
   "metadata": {},
   "outputs": [
    {
     "data": {
      "application/javascript": [
       "/* Put everything inside the global mpl namespace */\n",
       "window.mpl = {};\n",
       "\n",
       "\n",
       "mpl.get_websocket_type = function() {\n",
       "    if (typeof(WebSocket) !== 'undefined') {\n",
       "        return WebSocket;\n",
       "    } else if (typeof(MozWebSocket) !== 'undefined') {\n",
       "        return MozWebSocket;\n",
       "    } else {\n",
       "        alert('Your browser does not have WebSocket support.' +\n",
       "              'Please try Chrome, Safari or Firefox ≥ 6. ' +\n",
       "              'Firefox 4 and 5 are also supported but you ' +\n",
       "              'have to enable WebSockets in about:config.');\n",
       "    };\n",
       "}\n",
       "\n",
       "mpl.figure = function(figure_id, websocket, ondownload, parent_element) {\n",
       "    this.id = figure_id;\n",
       "\n",
       "    this.ws = websocket;\n",
       "\n",
       "    this.supports_binary = (this.ws.binaryType != undefined);\n",
       "\n",
       "    if (!this.supports_binary) {\n",
       "        var warnings = document.getElementById(\"mpl-warnings\");\n",
       "        if (warnings) {\n",
       "            warnings.style.display = 'block';\n",
       "            warnings.textContent = (\n",
       "                \"This browser does not support binary websocket messages. \" +\n",
       "                    \"Performance may be slow.\");\n",
       "        }\n",
       "    }\n",
       "\n",
       "    this.imageObj = new Image();\n",
       "\n",
       "    this.context = undefined;\n",
       "    this.message = undefined;\n",
       "    this.canvas = undefined;\n",
       "    this.rubberband_canvas = undefined;\n",
       "    this.rubberband_context = undefined;\n",
       "    this.format_dropdown = undefined;\n",
       "\n",
       "    this.image_mode = 'full';\n",
       "\n",
       "    this.root = $('<div/>');\n",
       "    this._root_extra_style(this.root)\n",
       "    this.root.attr('style', 'display: inline-block');\n",
       "\n",
       "    $(parent_element).append(this.root);\n",
       "\n",
       "    this._init_header(this);\n",
       "    this._init_canvas(this);\n",
       "    this._init_toolbar(this);\n",
       "\n",
       "    var fig = this;\n",
       "\n",
       "    this.waiting = false;\n",
       "\n",
       "    this.ws.onopen =  function () {\n",
       "            fig.send_message(\"supports_binary\", {value: fig.supports_binary});\n",
       "            fig.send_message(\"send_image_mode\", {});\n",
       "            if (mpl.ratio != 1) {\n",
       "                fig.send_message(\"set_dpi_ratio\", {'dpi_ratio': mpl.ratio});\n",
       "            }\n",
       "            fig.send_message(\"refresh\", {});\n",
       "        }\n",
       "\n",
       "    this.imageObj.onload = function() {\n",
       "            if (fig.image_mode == 'full') {\n",
       "                // Full images could contain transparency (where diff images\n",
       "                // almost always do), so we need to clear the canvas so that\n",
       "                // there is no ghosting.\n",
       "                fig.context.clearRect(0, 0, fig.canvas.width, fig.canvas.height);\n",
       "            }\n",
       "            fig.context.drawImage(fig.imageObj, 0, 0);\n",
       "        };\n",
       "\n",
       "    this.imageObj.onunload = function() {\n",
       "        fig.ws.close();\n",
       "    }\n",
       "\n",
       "    this.ws.onmessage = this._make_on_message_function(this);\n",
       "\n",
       "    this.ondownload = ondownload;\n",
       "}\n",
       "\n",
       "mpl.figure.prototype._init_header = function() {\n",
       "    var titlebar = $(\n",
       "        '<div class=\"ui-dialog-titlebar ui-widget-header ui-corner-all ' +\n",
       "        'ui-helper-clearfix\"/>');\n",
       "    var titletext = $(\n",
       "        '<div class=\"ui-dialog-title\" style=\"width: 100%; ' +\n",
       "        'text-align: center; padding: 3px;\"/>');\n",
       "    titlebar.append(titletext)\n",
       "    this.root.append(titlebar);\n",
       "    this.header = titletext[0];\n",
       "}\n",
       "\n",
       "\n",
       "\n",
       "mpl.figure.prototype._canvas_extra_style = function(canvas_div) {\n",
       "\n",
       "}\n",
       "\n",
       "\n",
       "mpl.figure.prototype._root_extra_style = function(canvas_div) {\n",
       "\n",
       "}\n",
       "\n",
       "mpl.figure.prototype._init_canvas = function() {\n",
       "    var fig = this;\n",
       "\n",
       "    var canvas_div = $('<div/>');\n",
       "\n",
       "    canvas_div.attr('style', 'position: relative; clear: both; outline: 0');\n",
       "\n",
       "    function canvas_keyboard_event(event) {\n",
       "        return fig.key_event(event, event['data']);\n",
       "    }\n",
       "\n",
       "    canvas_div.keydown('key_press', canvas_keyboard_event);\n",
       "    canvas_div.keyup('key_release', canvas_keyboard_event);\n",
       "    this.canvas_div = canvas_div\n",
       "    this._canvas_extra_style(canvas_div)\n",
       "    this.root.append(canvas_div);\n",
       "\n",
       "    var canvas = $('<canvas/>');\n",
       "    canvas.addClass('mpl-canvas');\n",
       "    canvas.attr('style', \"left: 0; top: 0; z-index: 0; outline: 0\")\n",
       "\n",
       "    this.canvas = canvas[0];\n",
       "    this.context = canvas[0].getContext(\"2d\");\n",
       "\n",
       "    var backingStore = this.context.backingStorePixelRatio ||\n",
       "\tthis.context.webkitBackingStorePixelRatio ||\n",
       "\tthis.context.mozBackingStorePixelRatio ||\n",
       "\tthis.context.msBackingStorePixelRatio ||\n",
       "\tthis.context.oBackingStorePixelRatio ||\n",
       "\tthis.context.backingStorePixelRatio || 1;\n",
       "\n",
       "    mpl.ratio = (window.devicePixelRatio || 1) / backingStore;\n",
       "\n",
       "    var rubberband = $('<canvas/>');\n",
       "    rubberband.attr('style', \"position: absolute; left: 0; top: 0; z-index: 1;\")\n",
       "\n",
       "    var pass_mouse_events = true;\n",
       "\n",
       "    canvas_div.resizable({\n",
       "        start: function(event, ui) {\n",
       "            pass_mouse_events = false;\n",
       "        },\n",
       "        resize: function(event, ui) {\n",
       "            fig.request_resize(ui.size.width, ui.size.height);\n",
       "        },\n",
       "        stop: function(event, ui) {\n",
       "            pass_mouse_events = true;\n",
       "            fig.request_resize(ui.size.width, ui.size.height);\n",
       "        },\n",
       "    });\n",
       "\n",
       "    function mouse_event_fn(event) {\n",
       "        if (pass_mouse_events)\n",
       "            return fig.mouse_event(event, event['data']);\n",
       "    }\n",
       "\n",
       "    rubberband.mousedown('button_press', mouse_event_fn);\n",
       "    rubberband.mouseup('button_release', mouse_event_fn);\n",
       "    // Throttle sequential mouse events to 1 every 20ms.\n",
       "    rubberband.mousemove('motion_notify', mouse_event_fn);\n",
       "\n",
       "    rubberband.mouseenter('figure_enter', mouse_event_fn);\n",
       "    rubberband.mouseleave('figure_leave', mouse_event_fn);\n",
       "\n",
       "    canvas_div.on(\"wheel\", function (event) {\n",
       "        event = event.originalEvent;\n",
       "        event['data'] = 'scroll'\n",
       "        if (event.deltaY < 0) {\n",
       "            event.step = 1;\n",
       "        } else {\n",
       "            event.step = -1;\n",
       "        }\n",
       "        mouse_event_fn(event);\n",
       "    });\n",
       "\n",
       "    canvas_div.append(canvas);\n",
       "    canvas_div.append(rubberband);\n",
       "\n",
       "    this.rubberband = rubberband;\n",
       "    this.rubberband_canvas = rubberband[0];\n",
       "    this.rubberband_context = rubberband[0].getContext(\"2d\");\n",
       "    this.rubberband_context.strokeStyle = \"#000000\";\n",
       "\n",
       "    this._resize_canvas = function(width, height) {\n",
       "        // Keep the size of the canvas, canvas container, and rubber band\n",
       "        // canvas in synch.\n",
       "        canvas_div.css('width', width)\n",
       "        canvas_div.css('height', height)\n",
       "\n",
       "        canvas.attr('width', width * mpl.ratio);\n",
       "        canvas.attr('height', height * mpl.ratio);\n",
       "        canvas.attr('style', 'width: ' + width + 'px; height: ' + height + 'px;');\n",
       "\n",
       "        rubberband.attr('width', width);\n",
       "        rubberband.attr('height', height);\n",
       "    }\n",
       "\n",
       "    // Set the figure to an initial 600x600px, this will subsequently be updated\n",
       "    // upon first draw.\n",
       "    this._resize_canvas(600, 600);\n",
       "\n",
       "    // Disable right mouse context menu.\n",
       "    $(this.rubberband_canvas).bind(\"contextmenu\",function(e){\n",
       "        return false;\n",
       "    });\n",
       "\n",
       "    function set_focus () {\n",
       "        canvas.focus();\n",
       "        canvas_div.focus();\n",
       "    }\n",
       "\n",
       "    window.setTimeout(set_focus, 100);\n",
       "}\n",
       "\n",
       "mpl.figure.prototype._init_toolbar = function() {\n",
       "    var fig = this;\n",
       "\n",
       "    var nav_element = $('<div/>')\n",
       "    nav_element.attr('style', 'width: 100%');\n",
       "    this.root.append(nav_element);\n",
       "\n",
       "    // Define a callback function for later on.\n",
       "    function toolbar_event(event) {\n",
       "        return fig.toolbar_button_onclick(event['data']);\n",
       "    }\n",
       "    function toolbar_mouse_event(event) {\n",
       "        return fig.toolbar_button_onmouseover(event['data']);\n",
       "    }\n",
       "\n",
       "    for(var toolbar_ind in mpl.toolbar_items) {\n",
       "        var name = mpl.toolbar_items[toolbar_ind][0];\n",
       "        var tooltip = mpl.toolbar_items[toolbar_ind][1];\n",
       "        var image = mpl.toolbar_items[toolbar_ind][2];\n",
       "        var method_name = mpl.toolbar_items[toolbar_ind][3];\n",
       "\n",
       "        if (!name) {\n",
       "            // put a spacer in here.\n",
       "            continue;\n",
       "        }\n",
       "        var button = $('<button/>');\n",
       "        button.addClass('ui-button ui-widget ui-state-default ui-corner-all ' +\n",
       "                        'ui-button-icon-only');\n",
       "        button.attr('role', 'button');\n",
       "        button.attr('aria-disabled', 'false');\n",
       "        button.click(method_name, toolbar_event);\n",
       "        button.mouseover(tooltip, toolbar_mouse_event);\n",
       "\n",
       "        var icon_img = $('<span/>');\n",
       "        icon_img.addClass('ui-button-icon-primary ui-icon');\n",
       "        icon_img.addClass(image);\n",
       "        icon_img.addClass('ui-corner-all');\n",
       "\n",
       "        var tooltip_span = $('<span/>');\n",
       "        tooltip_span.addClass('ui-button-text');\n",
       "        tooltip_span.html(tooltip);\n",
       "\n",
       "        button.append(icon_img);\n",
       "        button.append(tooltip_span);\n",
       "\n",
       "        nav_element.append(button);\n",
       "    }\n",
       "\n",
       "    var fmt_picker_span = $('<span/>');\n",
       "\n",
       "    var fmt_picker = $('<select/>');\n",
       "    fmt_picker.addClass('mpl-toolbar-option ui-widget ui-widget-content');\n",
       "    fmt_picker_span.append(fmt_picker);\n",
       "    nav_element.append(fmt_picker_span);\n",
       "    this.format_dropdown = fmt_picker[0];\n",
       "\n",
       "    for (var ind in mpl.extensions) {\n",
       "        var fmt = mpl.extensions[ind];\n",
       "        var option = $(\n",
       "            '<option/>', {selected: fmt === mpl.default_extension}).html(fmt);\n",
       "        fmt_picker.append(option)\n",
       "    }\n",
       "\n",
       "    // Add hover states to the ui-buttons\n",
       "    $( \".ui-button\" ).hover(\n",
       "        function() { $(this).addClass(\"ui-state-hover\");},\n",
       "        function() { $(this).removeClass(\"ui-state-hover\");}\n",
       "    );\n",
       "\n",
       "    var status_bar = $('<span class=\"mpl-message\"/>');\n",
       "    nav_element.append(status_bar);\n",
       "    this.message = status_bar[0];\n",
       "}\n",
       "\n",
       "mpl.figure.prototype.request_resize = function(x_pixels, y_pixels) {\n",
       "    // Request matplotlib to resize the figure. Matplotlib will then trigger a resize in the client,\n",
       "    // which will in turn request a refresh of the image.\n",
       "    this.send_message('resize', {'width': x_pixels, 'height': y_pixels});\n",
       "}\n",
       "\n",
       "mpl.figure.prototype.send_message = function(type, properties) {\n",
       "    properties['type'] = type;\n",
       "    properties['figure_id'] = this.id;\n",
       "    this.ws.send(JSON.stringify(properties));\n",
       "}\n",
       "\n",
       "mpl.figure.prototype.send_draw_message = function() {\n",
       "    if (!this.waiting) {\n",
       "        this.waiting = true;\n",
       "        this.ws.send(JSON.stringify({type: \"draw\", figure_id: this.id}));\n",
       "    }\n",
       "}\n",
       "\n",
       "\n",
       "mpl.figure.prototype.handle_save = function(fig, msg) {\n",
       "    var format_dropdown = fig.format_dropdown;\n",
       "    var format = format_dropdown.options[format_dropdown.selectedIndex].value;\n",
       "    fig.ondownload(fig, format);\n",
       "}\n",
       "\n",
       "\n",
       "mpl.figure.prototype.handle_resize = function(fig, msg) {\n",
       "    var size = msg['size'];\n",
       "    if (size[0] != fig.canvas.width || size[1] != fig.canvas.height) {\n",
       "        fig._resize_canvas(size[0], size[1]);\n",
       "        fig.send_message(\"refresh\", {});\n",
       "    };\n",
       "}\n",
       "\n",
       "mpl.figure.prototype.handle_rubberband = function(fig, msg) {\n",
       "    var x0 = msg['x0'] / mpl.ratio;\n",
       "    var y0 = (fig.canvas.height - msg['y0']) / mpl.ratio;\n",
       "    var x1 = msg['x1'] / mpl.ratio;\n",
       "    var y1 = (fig.canvas.height - msg['y1']) / mpl.ratio;\n",
       "    x0 = Math.floor(x0) + 0.5;\n",
       "    y0 = Math.floor(y0) + 0.5;\n",
       "    x1 = Math.floor(x1) + 0.5;\n",
       "    y1 = Math.floor(y1) + 0.5;\n",
       "    var min_x = Math.min(x0, x1);\n",
       "    var min_y = Math.min(y0, y1);\n",
       "    var width = Math.abs(x1 - x0);\n",
       "    var height = Math.abs(y1 - y0);\n",
       "\n",
       "    fig.rubberband_context.clearRect(\n",
       "        0, 0, fig.canvas.width, fig.canvas.height);\n",
       "\n",
       "    fig.rubberband_context.strokeRect(min_x, min_y, width, height);\n",
       "}\n",
       "\n",
       "mpl.figure.prototype.handle_figure_label = function(fig, msg) {\n",
       "    // Updates the figure title.\n",
       "    fig.header.textContent = msg['label'];\n",
       "}\n",
       "\n",
       "mpl.figure.prototype.handle_cursor = function(fig, msg) {\n",
       "    var cursor = msg['cursor'];\n",
       "    switch(cursor)\n",
       "    {\n",
       "    case 0:\n",
       "        cursor = 'pointer';\n",
       "        break;\n",
       "    case 1:\n",
       "        cursor = 'default';\n",
       "        break;\n",
       "    case 2:\n",
       "        cursor = 'crosshair';\n",
       "        break;\n",
       "    case 3:\n",
       "        cursor = 'move';\n",
       "        break;\n",
       "    }\n",
       "    fig.rubberband_canvas.style.cursor = cursor;\n",
       "}\n",
       "\n",
       "mpl.figure.prototype.handle_message = function(fig, msg) {\n",
       "    fig.message.textContent = msg['message'];\n",
       "}\n",
       "\n",
       "mpl.figure.prototype.handle_draw = function(fig, msg) {\n",
       "    // Request the server to send over a new figure.\n",
       "    fig.send_draw_message();\n",
       "}\n",
       "\n",
       "mpl.figure.prototype.handle_image_mode = function(fig, msg) {\n",
       "    fig.image_mode = msg['mode'];\n",
       "}\n",
       "\n",
       "mpl.figure.prototype.updated_canvas_event = function() {\n",
       "    // Called whenever the canvas gets updated.\n",
       "    this.send_message(\"ack\", {});\n",
       "}\n",
       "\n",
       "// A function to construct a web socket function for onmessage handling.\n",
       "// Called in the figure constructor.\n",
       "mpl.figure.prototype._make_on_message_function = function(fig) {\n",
       "    return function socket_on_message(evt) {\n",
       "        if (evt.data instanceof Blob) {\n",
       "            /* FIXME: We get \"Resource interpreted as Image but\n",
       "             * transferred with MIME type text/plain:\" errors on\n",
       "             * Chrome.  But how to set the MIME type?  It doesn't seem\n",
       "             * to be part of the websocket stream */\n",
       "            evt.data.type = \"image/png\";\n",
       "\n",
       "            /* Free the memory for the previous frames */\n",
       "            if (fig.imageObj.src) {\n",
       "                (window.URL || window.webkitURL).revokeObjectURL(\n",
       "                    fig.imageObj.src);\n",
       "            }\n",
       "\n",
       "            fig.imageObj.src = (window.URL || window.webkitURL).createObjectURL(\n",
       "                evt.data);\n",
       "            fig.updated_canvas_event();\n",
       "            fig.waiting = false;\n",
       "            return;\n",
       "        }\n",
       "        else if (typeof evt.data === 'string' && evt.data.slice(0, 21) == \"data:image/png;base64\") {\n",
       "            fig.imageObj.src = evt.data;\n",
       "            fig.updated_canvas_event();\n",
       "            fig.waiting = false;\n",
       "            return;\n",
       "        }\n",
       "\n",
       "        var msg = JSON.parse(evt.data);\n",
       "        var msg_type = msg['type'];\n",
       "\n",
       "        // Call the  \"handle_{type}\" callback, which takes\n",
       "        // the figure and JSON message as its only arguments.\n",
       "        try {\n",
       "            var callback = fig[\"handle_\" + msg_type];\n",
       "        } catch (e) {\n",
       "            console.log(\"No handler for the '\" + msg_type + \"' message type: \", msg);\n",
       "            return;\n",
       "        }\n",
       "\n",
       "        if (callback) {\n",
       "            try {\n",
       "                // console.log(\"Handling '\" + msg_type + \"' message: \", msg);\n",
       "                callback(fig, msg);\n",
       "            } catch (e) {\n",
       "                console.log(\"Exception inside the 'handler_\" + msg_type + \"' callback:\", e, e.stack, msg);\n",
       "            }\n",
       "        }\n",
       "    };\n",
       "}\n",
       "\n",
       "// from http://stackoverflow.com/questions/1114465/getting-mouse-location-in-canvas\n",
       "mpl.findpos = function(e) {\n",
       "    //this section is from http://www.quirksmode.org/js/events_properties.html\n",
       "    var targ;\n",
       "    if (!e)\n",
       "        e = window.event;\n",
       "    if (e.target)\n",
       "        targ = e.target;\n",
       "    else if (e.srcElement)\n",
       "        targ = e.srcElement;\n",
       "    if (targ.nodeType == 3) // defeat Safari bug\n",
       "        targ = targ.parentNode;\n",
       "\n",
       "    // jQuery normalizes the pageX and pageY\n",
       "    // pageX,Y are the mouse positions relative to the document\n",
       "    // offset() returns the position of the element relative to the document\n",
       "    var x = e.pageX - $(targ).offset().left;\n",
       "    var y = e.pageY - $(targ).offset().top;\n",
       "\n",
       "    return {\"x\": x, \"y\": y};\n",
       "};\n",
       "\n",
       "/*\n",
       " * return a copy of an object with only non-object keys\n",
       " * we need this to avoid circular references\n",
       " * http://stackoverflow.com/a/24161582/3208463\n",
       " */\n",
       "function simpleKeys (original) {\n",
       "  return Object.keys(original).reduce(function (obj, key) {\n",
       "    if (typeof original[key] !== 'object')\n",
       "        obj[key] = original[key]\n",
       "    return obj;\n",
       "  }, {});\n",
       "}\n",
       "\n",
       "mpl.figure.prototype.mouse_event = function(event, name) {\n",
       "    var canvas_pos = mpl.findpos(event)\n",
       "\n",
       "    if (name === 'button_press')\n",
       "    {\n",
       "        this.canvas.focus();\n",
       "        this.canvas_div.focus();\n",
       "    }\n",
       "\n",
       "    var x = canvas_pos.x * mpl.ratio;\n",
       "    var y = canvas_pos.y * mpl.ratio;\n",
       "\n",
       "    this.send_message(name, {x: x, y: y, button: event.button,\n",
       "                             step: event.step,\n",
       "                             guiEvent: simpleKeys(event)});\n",
       "\n",
       "    /* This prevents the web browser from automatically changing to\n",
       "     * the text insertion cursor when the button is pressed.  We want\n",
       "     * to control all of the cursor setting manually through the\n",
       "     * 'cursor' event from matplotlib */\n",
       "    event.preventDefault();\n",
       "    return false;\n",
       "}\n",
       "\n",
       "mpl.figure.prototype._key_event_extra = function(event, name) {\n",
       "    // Handle any extra behaviour associated with a key event\n",
       "}\n",
       "\n",
       "mpl.figure.prototype.key_event = function(event, name) {\n",
       "\n",
       "    // Prevent repeat events\n",
       "    if (name == 'key_press')\n",
       "    {\n",
       "        if (event.which === this._key)\n",
       "            return;\n",
       "        else\n",
       "            this._key = event.which;\n",
       "    }\n",
       "    if (name == 'key_release')\n",
       "        this._key = null;\n",
       "\n",
       "    var value = '';\n",
       "    if (event.ctrlKey && event.which != 17)\n",
       "        value += \"ctrl+\";\n",
       "    if (event.altKey && event.which != 18)\n",
       "        value += \"alt+\";\n",
       "    if (event.shiftKey && event.which != 16)\n",
       "        value += \"shift+\";\n",
       "\n",
       "    value += 'k';\n",
       "    value += event.which.toString();\n",
       "\n",
       "    this._key_event_extra(event, name);\n",
       "\n",
       "    this.send_message(name, {key: value,\n",
       "                             guiEvent: simpleKeys(event)});\n",
       "    return false;\n",
       "}\n",
       "\n",
       "mpl.figure.prototype.toolbar_button_onclick = function(name) {\n",
       "    if (name == 'download') {\n",
       "        this.handle_save(this, null);\n",
       "    } else {\n",
       "        this.send_message(\"toolbar_button\", {name: name});\n",
       "    }\n",
       "};\n",
       "\n",
       "mpl.figure.prototype.toolbar_button_onmouseover = function(tooltip) {\n",
       "    this.message.textContent = tooltip;\n",
       "};\n",
       "mpl.toolbar_items = [[\"Home\", \"Reset original view\", \"fa fa-home icon-home\", \"home\"], [\"Back\", \"Back to  previous view\", \"fa fa-arrow-left icon-arrow-left\", \"back\"], [\"Forward\", \"Forward to next view\", \"fa fa-arrow-right icon-arrow-right\", \"forward\"], [\"\", \"\", \"\", \"\"], [\"Pan\", \"Pan axes with left mouse, zoom with right\", \"fa fa-arrows icon-move\", \"pan\"], [\"Zoom\", \"Zoom to rectangle\", \"fa fa-square-o icon-check-empty\", \"zoom\"], [\"\", \"\", \"\", \"\"], [\"Download\", \"Download plot\", \"fa fa-floppy-o icon-save\", \"download\"]];\n",
       "\n",
       "mpl.extensions = [\"eps\", \"jpeg\", \"pdf\", \"png\", \"ps\", \"raw\", \"svg\", \"tif\"];\n",
       "\n",
       "mpl.default_extension = \"png\";var comm_websocket_adapter = function(comm) {\n",
       "    // Create a \"websocket\"-like object which calls the given IPython comm\n",
       "    // object with the appropriate methods. Currently this is a non binary\n",
       "    // socket, so there is still some room for performance tuning.\n",
       "    var ws = {};\n",
       "\n",
       "    ws.close = function() {\n",
       "        comm.close()\n",
       "    };\n",
       "    ws.send = function(m) {\n",
       "        //console.log('sending', m);\n",
       "        comm.send(m);\n",
       "    };\n",
       "    // Register the callback with on_msg.\n",
       "    comm.on_msg(function(msg) {\n",
       "        //console.log('receiving', msg['content']['data'], msg);\n",
       "        // Pass the mpl event to the overriden (by mpl) onmessage function.\n",
       "        ws.onmessage(msg['content']['data'])\n",
       "    });\n",
       "    return ws;\n",
       "}\n",
       "\n",
       "mpl.mpl_figure_comm = function(comm, msg) {\n",
       "    // This is the function which gets called when the mpl process\n",
       "    // starts-up an IPython Comm through the \"matplotlib\" channel.\n",
       "\n",
       "    var id = msg.content.data.id;\n",
       "    // Get hold of the div created by the display call when the Comm\n",
       "    // socket was opened in Python.\n",
       "    var element = $(\"#\" + id);\n",
       "    var ws_proxy = comm_websocket_adapter(comm)\n",
       "\n",
       "    function ondownload(figure, format) {\n",
       "        window.open(figure.imageObj.src);\n",
       "    }\n",
       "\n",
       "    var fig = new mpl.figure(id, ws_proxy,\n",
       "                           ondownload,\n",
       "                           element.get(0));\n",
       "\n",
       "    // Call onopen now - mpl needs it, as it is assuming we've passed it a real\n",
       "    // web socket which is closed, not our websocket->open comm proxy.\n",
       "    ws_proxy.onopen();\n",
       "\n",
       "    fig.parent_element = element.get(0);\n",
       "    fig.cell_info = mpl.find_output_cell(\"<div id='\" + id + \"'></div>\");\n",
       "    if (!fig.cell_info) {\n",
       "        console.error(\"Failed to find cell for figure\", id, fig);\n",
       "        return;\n",
       "    }\n",
       "\n",
       "    var output_index = fig.cell_info[2]\n",
       "    var cell = fig.cell_info[0];\n",
       "\n",
       "};\n",
       "\n",
       "mpl.figure.prototype.handle_close = function(fig, msg) {\n",
       "    var width = fig.canvas.width/mpl.ratio\n",
       "    fig.root.unbind('remove')\n",
       "\n",
       "    // Update the output cell to use the data from the current canvas.\n",
       "    fig.push_to_output();\n",
       "    var dataURL = fig.canvas.toDataURL();\n",
       "    // Re-enable the keyboard manager in IPython - without this line, in FF,\n",
       "    // the notebook keyboard shortcuts fail.\n",
       "    IPython.keyboard_manager.enable()\n",
       "    $(fig.parent_element).html('<img src=\"' + dataURL + '\" width=\"' + width + '\">');\n",
       "    fig.close_ws(fig, msg);\n",
       "}\n",
       "\n",
       "mpl.figure.prototype.close_ws = function(fig, msg){\n",
       "    fig.send_message('closing', msg);\n",
       "    // fig.ws.close()\n",
       "}\n",
       "\n",
       "mpl.figure.prototype.push_to_output = function(remove_interactive) {\n",
       "    // Turn the data on the canvas into data in the output cell.\n",
       "    var width = this.canvas.width/mpl.ratio\n",
       "    var dataURL = this.canvas.toDataURL();\n",
       "    this.cell_info[1]['text/html'] = '<img src=\"' + dataURL + '\" width=\"' + width + '\">';\n",
       "}\n",
       "\n",
       "mpl.figure.prototype.updated_canvas_event = function() {\n",
       "    // Tell IPython that the notebook contents must change.\n",
       "    IPython.notebook.set_dirty(true);\n",
       "    this.send_message(\"ack\", {});\n",
       "    var fig = this;\n",
       "    // Wait a second, then push the new image to the DOM so\n",
       "    // that it is saved nicely (might be nice to debounce this).\n",
       "    setTimeout(function () { fig.push_to_output() }, 1000);\n",
       "}\n",
       "\n",
       "mpl.figure.prototype._init_toolbar = function() {\n",
       "    var fig = this;\n",
       "\n",
       "    var nav_element = $('<div/>')\n",
       "    nav_element.attr('style', 'width: 100%');\n",
       "    this.root.append(nav_element);\n",
       "\n",
       "    // Define a callback function for later on.\n",
       "    function toolbar_event(event) {\n",
       "        return fig.toolbar_button_onclick(event['data']);\n",
       "    }\n",
       "    function toolbar_mouse_event(event) {\n",
       "        return fig.toolbar_button_onmouseover(event['data']);\n",
       "    }\n",
       "\n",
       "    for(var toolbar_ind in mpl.toolbar_items){\n",
       "        var name = mpl.toolbar_items[toolbar_ind][0];\n",
       "        var tooltip = mpl.toolbar_items[toolbar_ind][1];\n",
       "        var image = mpl.toolbar_items[toolbar_ind][2];\n",
       "        var method_name = mpl.toolbar_items[toolbar_ind][3];\n",
       "\n",
       "        if (!name) { continue; };\n",
       "\n",
       "        var button = $('<button class=\"btn btn-default\" href=\"#\" title=\"' + name + '\"><i class=\"fa ' + image + ' fa-lg\"></i></button>');\n",
       "        button.click(method_name, toolbar_event);\n",
       "        button.mouseover(tooltip, toolbar_mouse_event);\n",
       "        nav_element.append(button);\n",
       "    }\n",
       "\n",
       "    // Add the status bar.\n",
       "    var status_bar = $('<span class=\"mpl-message\" style=\"text-align:right; float: right;\"/>');\n",
       "    nav_element.append(status_bar);\n",
       "    this.message = status_bar[0];\n",
       "\n",
       "    // Add the close button to the window.\n",
       "    var buttongrp = $('<div class=\"btn-group inline pull-right\"></div>');\n",
       "    var button = $('<button class=\"btn btn-mini btn-primary\" href=\"#\" title=\"Stop Interaction\"><i class=\"fa fa-power-off icon-remove icon-large\"></i></button>');\n",
       "    button.click(function (evt) { fig.handle_close(fig, {}); } );\n",
       "    button.mouseover('Stop Interaction', toolbar_mouse_event);\n",
       "    buttongrp.append(button);\n",
       "    var titlebar = this.root.find($('.ui-dialog-titlebar'));\n",
       "    titlebar.prepend(buttongrp);\n",
       "}\n",
       "\n",
       "mpl.figure.prototype._root_extra_style = function(el){\n",
       "    var fig = this\n",
       "    el.on(\"remove\", function(){\n",
       "\tfig.close_ws(fig, {});\n",
       "    });\n",
       "}\n",
       "\n",
       "mpl.figure.prototype._canvas_extra_style = function(el){\n",
       "    // this is important to make the div 'focusable\n",
       "    el.attr('tabindex', 0)\n",
       "    // reach out to IPython and tell the keyboard manager to turn it's self\n",
       "    // off when our div gets focus\n",
       "\n",
       "    // location in version 3\n",
       "    if (IPython.notebook.keyboard_manager) {\n",
       "        IPython.notebook.keyboard_manager.register_events(el);\n",
       "    }\n",
       "    else {\n",
       "        // location in version 2\n",
       "        IPython.keyboard_manager.register_events(el);\n",
       "    }\n",
       "\n",
       "}\n",
       "\n",
       "mpl.figure.prototype._key_event_extra = function(event, name) {\n",
       "    var manager = IPython.notebook.keyboard_manager;\n",
       "    if (!manager)\n",
       "        manager = IPython.keyboard_manager;\n",
       "\n",
       "    // Check for shift+enter\n",
       "    if (event.shiftKey && event.which == 13) {\n",
       "        this.canvas_div.blur();\n",
       "        event.shiftKey = false;\n",
       "        // Send a \"J\" for go to next cell\n",
       "        event.which = 74;\n",
       "        event.keyCode = 74;\n",
       "        manager.command_mode();\n",
       "        manager.handle_keydown(event);\n",
       "    }\n",
       "}\n",
       "\n",
       "mpl.figure.prototype.handle_save = function(fig, msg) {\n",
       "    fig.ondownload(fig, null);\n",
       "}\n",
       "\n",
       "\n",
       "mpl.find_output_cell = function(html_output) {\n",
       "    // Return the cell and output element which can be found *uniquely* in the notebook.\n",
       "    // Note - this is a bit hacky, but it is done because the \"notebook_saving.Notebook\"\n",
       "    // IPython event is triggered only after the cells have been serialised, which for\n",
       "    // our purposes (turning an active figure into a static one), is too late.\n",
       "    var cells = IPython.notebook.get_cells();\n",
       "    var ncells = cells.length;\n",
       "    for (var i=0; i<ncells; i++) {\n",
       "        var cell = cells[i];\n",
       "        if (cell.cell_type === 'code'){\n",
       "            for (var j=0; j<cell.output_area.outputs.length; j++) {\n",
       "                var data = cell.output_area.outputs[j];\n",
       "                if (data.data) {\n",
       "                    // IPython >= 3 moved mimebundle to data attribute of output\n",
       "                    data = data.data;\n",
       "                }\n",
       "                if (data['text/html'] == html_output) {\n",
       "                    return [cell, data, j];\n",
       "                }\n",
       "            }\n",
       "        }\n",
       "    }\n",
       "}\n",
       "\n",
       "// Register the function which deals with the matplotlib target/channel.\n",
       "// The kernel may be null if the page has been refreshed.\n",
       "if (IPython.notebook.kernel != null) {\n",
       "    IPython.notebook.kernel.comm_manager.register_target('matplotlib', mpl.mpl_figure_comm);\n",
       "}\n"
      ],
      "text/plain": [
       "<IPython.core.display.Javascript object>"
      ]
     },
     "metadata": {},
     "output_type": "display_data"
    },
    {
     "data": {
      "text/html": [
       "<img src=\"data:image/png;base64,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\" width=\"432\">"
      ],
      "text/plain": [
       "<IPython.core.display.HTML object>"
      ]
     },
     "metadata": {},
     "output_type": "display_data"
    },
    {
     "data": {
      "text/plain": [
       "[<matplotlib.lines.Line2D at 0x1178f9b70>]"
      ]
     },
     "execution_count": 34,
     "metadata": {},
     "output_type": "execute_result"
    }
   ],
   "source": [
    "X = np.load(way + \"No11.npy\")\n",
    "pylab.figure()\n",
    "pylab.plot(X[0],X[1])"
   ]
  },
  {
   "cell_type": "markdown",
   "metadata": {
    "collapsed": true
   },
   "source": [
    "# Labelování "
   ]
  },
  {
   "cell_type": "code",
   "execution_count": 456,
   "metadata": {},
   "outputs": [
    {
     "data": {
      "application/javascript": [
       "/* Put everything inside the global mpl namespace */\n",
       "window.mpl = {};\n",
       "\n",
       "\n",
       "mpl.get_websocket_type = function() {\n",
       "    if (typeof(WebSocket) !== 'undefined') {\n",
       "        return WebSocket;\n",
       "    } else if (typeof(MozWebSocket) !== 'undefined') {\n",
       "        return MozWebSocket;\n",
       "    } else {\n",
       "        alert('Your browser does not have WebSocket support.' +\n",
       "              'Please try Chrome, Safari or Firefox ≥ 6. ' +\n",
       "              'Firefox 4 and 5 are also supported but you ' +\n",
       "              'have to enable WebSockets in about:config.');\n",
       "    };\n",
       "}\n",
       "\n",
       "mpl.figure = function(figure_id, websocket, ondownload, parent_element) {\n",
       "    this.id = figure_id;\n",
       "\n",
       "    this.ws = websocket;\n",
       "\n",
       "    this.supports_binary = (this.ws.binaryType != undefined);\n",
       "\n",
       "    if (!this.supports_binary) {\n",
       "        var warnings = document.getElementById(\"mpl-warnings\");\n",
       "        if (warnings) {\n",
       "            warnings.style.display = 'block';\n",
       "            warnings.textContent = (\n",
       "                \"This browser does not support binary websocket messages. \" +\n",
       "                    \"Performance may be slow.\");\n",
       "        }\n",
       "    }\n",
       "\n",
       "    this.imageObj = new Image();\n",
       "\n",
       "    this.context = undefined;\n",
       "    this.message = undefined;\n",
       "    this.canvas = undefined;\n",
       "    this.rubberband_canvas = undefined;\n",
       "    this.rubberband_context = undefined;\n",
       "    this.format_dropdown = undefined;\n",
       "\n",
       "    this.image_mode = 'full';\n",
       "\n",
       "    this.root = $('<div/>');\n",
       "    this._root_extra_style(this.root)\n",
       "    this.root.attr('style', 'display: inline-block');\n",
       "\n",
       "    $(parent_element).append(this.root);\n",
       "\n",
       "    this._init_header(this);\n",
       "    this._init_canvas(this);\n",
       "    this._init_toolbar(this);\n",
       "\n",
       "    var fig = this;\n",
       "\n",
       "    this.waiting = false;\n",
       "\n",
       "    this.ws.onopen =  function () {\n",
       "            fig.send_message(\"supports_binary\", {value: fig.supports_binary});\n",
       "            fig.send_message(\"send_image_mode\", {});\n",
       "            if (mpl.ratio != 1) {\n",
       "                fig.send_message(\"set_dpi_ratio\", {'dpi_ratio': mpl.ratio});\n",
       "            }\n",
       "            fig.send_message(\"refresh\", {});\n",
       "        }\n",
       "\n",
       "    this.imageObj.onload = function() {\n",
       "            if (fig.image_mode == 'full') {\n",
       "                // Full images could contain transparency (where diff images\n",
       "                // almost always do), so we need to clear the canvas so that\n",
       "                // there is no ghosting.\n",
       "                fig.context.clearRect(0, 0, fig.canvas.width, fig.canvas.height);\n",
       "            }\n",
       "            fig.context.drawImage(fig.imageObj, 0, 0);\n",
       "        };\n",
       "\n",
       "    this.imageObj.onunload = function() {\n",
       "        fig.ws.close();\n",
       "    }\n",
       "\n",
       "    this.ws.onmessage = this._make_on_message_function(this);\n",
       "\n",
       "    this.ondownload = ondownload;\n",
       "}\n",
       "\n",
       "mpl.figure.prototype._init_header = function() {\n",
       "    var titlebar = $(\n",
       "        '<div class=\"ui-dialog-titlebar ui-widget-header ui-corner-all ' +\n",
       "        'ui-helper-clearfix\"/>');\n",
       "    var titletext = $(\n",
       "        '<div class=\"ui-dialog-title\" style=\"width: 100%; ' +\n",
       "        'text-align: center; padding: 3px;\"/>');\n",
       "    titlebar.append(titletext)\n",
       "    this.root.append(titlebar);\n",
       "    this.header = titletext[0];\n",
       "}\n",
       "\n",
       "\n",
       "\n",
       "mpl.figure.prototype._canvas_extra_style = function(canvas_div) {\n",
       "\n",
       "}\n",
       "\n",
       "\n",
       "mpl.figure.prototype._root_extra_style = function(canvas_div) {\n",
       "\n",
       "}\n",
       "\n",
       "mpl.figure.prototype._init_canvas = function() {\n",
       "    var fig = this;\n",
       "\n",
       "    var canvas_div = $('<div/>');\n",
       "\n",
       "    canvas_div.attr('style', 'position: relative; clear: both; outline: 0');\n",
       "\n",
       "    function canvas_keyboard_event(event) {\n",
       "        return fig.key_event(event, event['data']);\n",
       "    }\n",
       "\n",
       "    canvas_div.keydown('key_press', canvas_keyboard_event);\n",
       "    canvas_div.keyup('key_release', canvas_keyboard_event);\n",
       "    this.canvas_div = canvas_div\n",
       "    this._canvas_extra_style(canvas_div)\n",
       "    this.root.append(canvas_div);\n",
       "\n",
       "    var canvas = $('<canvas/>');\n",
       "    canvas.addClass('mpl-canvas');\n",
       "    canvas.attr('style', \"left: 0; top: 0; z-index: 0; outline: 0\")\n",
       "\n",
       "    this.canvas = canvas[0];\n",
       "    this.context = canvas[0].getContext(\"2d\");\n",
       "\n",
       "    var backingStore = this.context.backingStorePixelRatio ||\n",
       "\tthis.context.webkitBackingStorePixelRatio ||\n",
       "\tthis.context.mozBackingStorePixelRatio ||\n",
       "\tthis.context.msBackingStorePixelRatio ||\n",
       "\tthis.context.oBackingStorePixelRatio ||\n",
       "\tthis.context.backingStorePixelRatio || 1;\n",
       "\n",
       "    mpl.ratio = (window.devicePixelRatio || 1) / backingStore;\n",
       "\n",
       "    var rubberband = $('<canvas/>');\n",
       "    rubberband.attr('style', \"position: absolute; left: 0; top: 0; z-index: 1;\")\n",
       "\n",
       "    var pass_mouse_events = true;\n",
       "\n",
       "    canvas_div.resizable({\n",
       "        start: function(event, ui) {\n",
       "            pass_mouse_events = false;\n",
       "        },\n",
       "        resize: function(event, ui) {\n",
       "            fig.request_resize(ui.size.width, ui.size.height);\n",
       "        },\n",
       "        stop: function(event, ui) {\n",
       "            pass_mouse_events = true;\n",
       "            fig.request_resize(ui.size.width, ui.size.height);\n",
       "        },\n",
       "    });\n",
       "\n",
       "    function mouse_event_fn(event) {\n",
       "        if (pass_mouse_events)\n",
       "            return fig.mouse_event(event, event['data']);\n",
       "    }\n",
       "\n",
       "    rubberband.mousedown('button_press', mouse_event_fn);\n",
       "    rubberband.mouseup('button_release', mouse_event_fn);\n",
       "    // Throttle sequential mouse events to 1 every 20ms.\n",
       "    rubberband.mousemove('motion_notify', mouse_event_fn);\n",
       "\n",
       "    rubberband.mouseenter('figure_enter', mouse_event_fn);\n",
       "    rubberband.mouseleave('figure_leave', mouse_event_fn);\n",
       "\n",
       "    canvas_div.on(\"wheel\", function (event) {\n",
       "        event = event.originalEvent;\n",
       "        event['data'] = 'scroll'\n",
       "        if (event.deltaY < 0) {\n",
       "            event.step = 1;\n",
       "        } else {\n",
       "            event.step = -1;\n",
       "        }\n",
       "        mouse_event_fn(event);\n",
       "    });\n",
       "\n",
       "    canvas_div.append(canvas);\n",
       "    canvas_div.append(rubberband);\n",
       "\n",
       "    this.rubberband = rubberband;\n",
       "    this.rubberband_canvas = rubberband[0];\n",
       "    this.rubberband_context = rubberband[0].getContext(\"2d\");\n",
       "    this.rubberband_context.strokeStyle = \"#000000\";\n",
       "\n",
       "    this._resize_canvas = function(width, height) {\n",
       "        // Keep the size of the canvas, canvas container, and rubber band\n",
       "        // canvas in synch.\n",
       "        canvas_div.css('width', width)\n",
       "        canvas_div.css('height', height)\n",
       "\n",
       "        canvas.attr('width', width * mpl.ratio);\n",
       "        canvas.attr('height', height * mpl.ratio);\n",
       "        canvas.attr('style', 'width: ' + width + 'px; height: ' + height + 'px;');\n",
       "\n",
       "        rubberband.attr('width', width);\n",
       "        rubberband.attr('height', height);\n",
       "    }\n",
       "\n",
       "    // Set the figure to an initial 600x600px, this will subsequently be updated\n",
       "    // upon first draw.\n",
       "    this._resize_canvas(600, 600);\n",
       "\n",
       "    // Disable right mouse context menu.\n",
       "    $(this.rubberband_canvas).bind(\"contextmenu\",function(e){\n",
       "        return false;\n",
       "    });\n",
       "\n",
       "    function set_focus () {\n",
       "        canvas.focus();\n",
       "        canvas_div.focus();\n",
       "    }\n",
       "\n",
       "    window.setTimeout(set_focus, 100);\n",
       "}\n",
       "\n",
       "mpl.figure.prototype._init_toolbar = function() {\n",
       "    var fig = this;\n",
       "\n",
       "    var nav_element = $('<div/>')\n",
       "    nav_element.attr('style', 'width: 100%');\n",
       "    this.root.append(nav_element);\n",
       "\n",
       "    // Define a callback function for later on.\n",
       "    function toolbar_event(event) {\n",
       "        return fig.toolbar_button_onclick(event['data']);\n",
       "    }\n",
       "    function toolbar_mouse_event(event) {\n",
       "        return fig.toolbar_button_onmouseover(event['data']);\n",
       "    }\n",
       "\n",
       "    for(var toolbar_ind in mpl.toolbar_items) {\n",
       "        var name = mpl.toolbar_items[toolbar_ind][0];\n",
       "        var tooltip = mpl.toolbar_items[toolbar_ind][1];\n",
       "        var image = mpl.toolbar_items[toolbar_ind][2];\n",
       "        var method_name = mpl.toolbar_items[toolbar_ind][3];\n",
       "\n",
       "        if (!name) {\n",
       "            // put a spacer in here.\n",
       "            continue;\n",
       "        }\n",
       "        var button = $('<button/>');\n",
       "        button.addClass('ui-button ui-widget ui-state-default ui-corner-all ' +\n",
       "                        'ui-button-icon-only');\n",
       "        button.attr('role', 'button');\n",
       "        button.attr('aria-disabled', 'false');\n",
       "        button.click(method_name, toolbar_event);\n",
       "        button.mouseover(tooltip, toolbar_mouse_event);\n",
       "\n",
       "        var icon_img = $('<span/>');\n",
       "        icon_img.addClass('ui-button-icon-primary ui-icon');\n",
       "        icon_img.addClass(image);\n",
       "        icon_img.addClass('ui-corner-all');\n",
       "\n",
       "        var tooltip_span = $('<span/>');\n",
       "        tooltip_span.addClass('ui-button-text');\n",
       "        tooltip_span.html(tooltip);\n",
       "\n",
       "        button.append(icon_img);\n",
       "        button.append(tooltip_span);\n",
       "\n",
       "        nav_element.append(button);\n",
       "    }\n",
       "\n",
       "    var fmt_picker_span = $('<span/>');\n",
       "\n",
       "    var fmt_picker = $('<select/>');\n",
       "    fmt_picker.addClass('mpl-toolbar-option ui-widget ui-widget-content');\n",
       "    fmt_picker_span.append(fmt_picker);\n",
       "    nav_element.append(fmt_picker_span);\n",
       "    this.format_dropdown = fmt_picker[0];\n",
       "\n",
       "    for (var ind in mpl.extensions) {\n",
       "        var fmt = mpl.extensions[ind];\n",
       "        var option = $(\n",
       "            '<option/>', {selected: fmt === mpl.default_extension}).html(fmt);\n",
       "        fmt_picker.append(option)\n",
       "    }\n",
       "\n",
       "    // Add hover states to the ui-buttons\n",
       "    $( \".ui-button\" ).hover(\n",
       "        function() { $(this).addClass(\"ui-state-hover\");},\n",
       "        function() { $(this).removeClass(\"ui-state-hover\");}\n",
       "    );\n",
       "\n",
       "    var status_bar = $('<span class=\"mpl-message\"/>');\n",
       "    nav_element.append(status_bar);\n",
       "    this.message = status_bar[0];\n",
       "}\n",
       "\n",
       "mpl.figure.prototype.request_resize = function(x_pixels, y_pixels) {\n",
       "    // Request matplotlib to resize the figure. Matplotlib will then trigger a resize in the client,\n",
       "    // which will in turn request a refresh of the image.\n",
       "    this.send_message('resize', {'width': x_pixels, 'height': y_pixels});\n",
       "}\n",
       "\n",
       "mpl.figure.prototype.send_message = function(type, properties) {\n",
       "    properties['type'] = type;\n",
       "    properties['figure_id'] = this.id;\n",
       "    this.ws.send(JSON.stringify(properties));\n",
       "}\n",
       "\n",
       "mpl.figure.prototype.send_draw_message = function() {\n",
       "    if (!this.waiting) {\n",
       "        this.waiting = true;\n",
       "        this.ws.send(JSON.stringify({type: \"draw\", figure_id: this.id}));\n",
       "    }\n",
       "}\n",
       "\n",
       "\n",
       "mpl.figure.prototype.handle_save = function(fig, msg) {\n",
       "    var format_dropdown = fig.format_dropdown;\n",
       "    var format = format_dropdown.options[format_dropdown.selectedIndex].value;\n",
       "    fig.ondownload(fig, format);\n",
       "}\n",
       "\n",
       "\n",
       "mpl.figure.prototype.handle_resize = function(fig, msg) {\n",
       "    var size = msg['size'];\n",
       "    if (size[0] != fig.canvas.width || size[1] != fig.canvas.height) {\n",
       "        fig._resize_canvas(size[0], size[1]);\n",
       "        fig.send_message(\"refresh\", {});\n",
       "    };\n",
       "}\n",
       "\n",
       "mpl.figure.prototype.handle_rubberband = function(fig, msg) {\n",
       "    var x0 = msg['x0'] / mpl.ratio;\n",
       "    var y0 = (fig.canvas.height - msg['y0']) / mpl.ratio;\n",
       "    var x1 = msg['x1'] / mpl.ratio;\n",
       "    var y1 = (fig.canvas.height - msg['y1']) / mpl.ratio;\n",
       "    x0 = Math.floor(x0) + 0.5;\n",
       "    y0 = Math.floor(y0) + 0.5;\n",
       "    x1 = Math.floor(x1) + 0.5;\n",
       "    y1 = Math.floor(y1) + 0.5;\n",
       "    var min_x = Math.min(x0, x1);\n",
       "    var min_y = Math.min(y0, y1);\n",
       "    var width = Math.abs(x1 - x0);\n",
       "    var height = Math.abs(y1 - y0);\n",
       "\n",
       "    fig.rubberband_context.clearRect(\n",
       "        0, 0, fig.canvas.width, fig.canvas.height);\n",
       "\n",
       "    fig.rubberband_context.strokeRect(min_x, min_y, width, height);\n",
       "}\n",
       "\n",
       "mpl.figure.prototype.handle_figure_label = function(fig, msg) {\n",
       "    // Updates the figure title.\n",
       "    fig.header.textContent = msg['label'];\n",
       "}\n",
       "\n",
       "mpl.figure.prototype.handle_cursor = function(fig, msg) {\n",
       "    var cursor = msg['cursor'];\n",
       "    switch(cursor)\n",
       "    {\n",
       "    case 0:\n",
       "        cursor = 'pointer';\n",
       "        break;\n",
       "    case 1:\n",
       "        cursor = 'default';\n",
       "        break;\n",
       "    case 2:\n",
       "        cursor = 'crosshair';\n",
       "        break;\n",
       "    case 3:\n",
       "        cursor = 'move';\n",
       "        break;\n",
       "    }\n",
       "    fig.rubberband_canvas.style.cursor = cursor;\n",
       "}\n",
       "\n",
       "mpl.figure.prototype.handle_message = function(fig, msg) {\n",
       "    fig.message.textContent = msg['message'];\n",
       "}\n",
       "\n",
       "mpl.figure.prototype.handle_draw = function(fig, msg) {\n",
       "    // Request the server to send over a new figure.\n",
       "    fig.send_draw_message();\n",
       "}\n",
       "\n",
       "mpl.figure.prototype.handle_image_mode = function(fig, msg) {\n",
       "    fig.image_mode = msg['mode'];\n",
       "}\n",
       "\n",
       "mpl.figure.prototype.updated_canvas_event = function() {\n",
       "    // Called whenever the canvas gets updated.\n",
       "    this.send_message(\"ack\", {});\n",
       "}\n",
       "\n",
       "// A function to construct a web socket function for onmessage handling.\n",
       "// Called in the figure constructor.\n",
       "mpl.figure.prototype._make_on_message_function = function(fig) {\n",
       "    return function socket_on_message(evt) {\n",
       "        if (evt.data instanceof Blob) {\n",
       "            /* FIXME: We get \"Resource interpreted as Image but\n",
       "             * transferred with MIME type text/plain:\" errors on\n",
       "             * Chrome.  But how to set the MIME type?  It doesn't seem\n",
       "             * to be part of the websocket stream */\n",
       "            evt.data.type = \"image/png\";\n",
       "\n",
       "            /* Free the memory for the previous frames */\n",
       "            if (fig.imageObj.src) {\n",
       "                (window.URL || window.webkitURL).revokeObjectURL(\n",
       "                    fig.imageObj.src);\n",
       "            }\n",
       "\n",
       "            fig.imageObj.src = (window.URL || window.webkitURL).createObjectURL(\n",
       "                evt.data);\n",
       "            fig.updated_canvas_event();\n",
       "            fig.waiting = false;\n",
       "            return;\n",
       "        }\n",
       "        else if (typeof evt.data === 'string' && evt.data.slice(0, 21) == \"data:image/png;base64\") {\n",
       "            fig.imageObj.src = evt.data;\n",
       "            fig.updated_canvas_event();\n",
       "            fig.waiting = false;\n",
       "            return;\n",
       "        }\n",
       "\n",
       "        var msg = JSON.parse(evt.data);\n",
       "        var msg_type = msg['type'];\n",
       "\n",
       "        // Call the  \"handle_{type}\" callback, which takes\n",
       "        // the figure and JSON message as its only arguments.\n",
       "        try {\n",
       "            var callback = fig[\"handle_\" + msg_type];\n",
       "        } catch (e) {\n",
       "            console.log(\"No handler for the '\" + msg_type + \"' message type: \", msg);\n",
       "            return;\n",
       "        }\n",
       "\n",
       "        if (callback) {\n",
       "            try {\n",
       "                // console.log(\"Handling '\" + msg_type + \"' message: \", msg);\n",
       "                callback(fig, msg);\n",
       "            } catch (e) {\n",
       "                console.log(\"Exception inside the 'handler_\" + msg_type + \"' callback:\", e, e.stack, msg);\n",
       "            }\n",
       "        }\n",
       "    };\n",
       "}\n",
       "\n",
       "// from http://stackoverflow.com/questions/1114465/getting-mouse-location-in-canvas\n",
       "mpl.findpos = function(e) {\n",
       "    //this section is from http://www.quirksmode.org/js/events_properties.html\n",
       "    var targ;\n",
       "    if (!e)\n",
       "        e = window.event;\n",
       "    if (e.target)\n",
       "        targ = e.target;\n",
       "    else if (e.srcElement)\n",
       "        targ = e.srcElement;\n",
       "    if (targ.nodeType == 3) // defeat Safari bug\n",
       "        targ = targ.parentNode;\n",
       "\n",
       "    // jQuery normalizes the pageX and pageY\n",
       "    // pageX,Y are the mouse positions relative to the document\n",
       "    // offset() returns the position of the element relative to the document\n",
       "    var x = e.pageX - $(targ).offset().left;\n",
       "    var y = e.pageY - $(targ).offset().top;\n",
       "\n",
       "    return {\"x\": x, \"y\": y};\n",
       "};\n",
       "\n",
       "/*\n",
       " * return a copy of an object with only non-object keys\n",
       " * we need this to avoid circular references\n",
       " * http://stackoverflow.com/a/24161582/3208463\n",
       " */\n",
       "function simpleKeys (original) {\n",
       "  return Object.keys(original).reduce(function (obj, key) {\n",
       "    if (typeof original[key] !== 'object')\n",
       "        obj[key] = original[key]\n",
       "    return obj;\n",
       "  }, {});\n",
       "}\n",
       "\n",
       "mpl.figure.prototype.mouse_event = function(event, name) {\n",
       "    var canvas_pos = mpl.findpos(event)\n",
       "\n",
       "    if (name === 'button_press')\n",
       "    {\n",
       "        this.canvas.focus();\n",
       "        this.canvas_div.focus();\n",
       "    }\n",
       "\n",
       "    var x = canvas_pos.x * mpl.ratio;\n",
       "    var y = canvas_pos.y * mpl.ratio;\n",
       "\n",
       "    this.send_message(name, {x: x, y: y, button: event.button,\n",
       "                             step: event.step,\n",
       "                             guiEvent: simpleKeys(event)});\n",
       "\n",
       "    /* This prevents the web browser from automatically changing to\n",
       "     * the text insertion cursor when the button is pressed.  We want\n",
       "     * to control all of the cursor setting manually through the\n",
       "     * 'cursor' event from matplotlib */\n",
       "    event.preventDefault();\n",
       "    return false;\n",
       "}\n",
       "\n",
       "mpl.figure.prototype._key_event_extra = function(event, name) {\n",
       "    // Handle any extra behaviour associated with a key event\n",
       "}\n",
       "\n",
       "mpl.figure.prototype.key_event = function(event, name) {\n",
       "\n",
       "    // Prevent repeat events\n",
       "    if (name == 'key_press')\n",
       "    {\n",
       "        if (event.which === this._key)\n",
       "            return;\n",
       "        else\n",
       "            this._key = event.which;\n",
       "    }\n",
       "    if (name == 'key_release')\n",
       "        this._key = null;\n",
       "\n",
       "    var value = '';\n",
       "    if (event.ctrlKey && event.which != 17)\n",
       "        value += \"ctrl+\";\n",
       "    if (event.altKey && event.which != 18)\n",
       "        value += \"alt+\";\n",
       "    if (event.shiftKey && event.which != 16)\n",
       "        value += \"shift+\";\n",
       "\n",
       "    value += 'k';\n",
       "    value += event.which.toString();\n",
       "\n",
       "    this._key_event_extra(event, name);\n",
       "\n",
       "    this.send_message(name, {key: value,\n",
       "                             guiEvent: simpleKeys(event)});\n",
       "    return false;\n",
       "}\n",
       "\n",
       "mpl.figure.prototype.toolbar_button_onclick = function(name) {\n",
       "    if (name == 'download') {\n",
       "        this.handle_save(this, null);\n",
       "    } else {\n",
       "        this.send_message(\"toolbar_button\", {name: name});\n",
       "    }\n",
       "};\n",
       "\n",
       "mpl.figure.prototype.toolbar_button_onmouseover = function(tooltip) {\n",
       "    this.message.textContent = tooltip;\n",
       "};\n",
       "mpl.toolbar_items = [[\"Home\", \"Reset original view\", \"fa fa-home icon-home\", \"home\"], [\"Back\", \"Back to  previous view\", \"fa fa-arrow-left icon-arrow-left\", \"back\"], [\"Forward\", \"Forward to next view\", \"fa fa-arrow-right icon-arrow-right\", \"forward\"], [\"\", \"\", \"\", \"\"], [\"Pan\", \"Pan axes with left mouse, zoom with right\", \"fa fa-arrows icon-move\", \"pan\"], [\"Zoom\", \"Zoom to rectangle\", \"fa fa-square-o icon-check-empty\", \"zoom\"], [\"\", \"\", \"\", \"\"], [\"Download\", \"Download plot\", \"fa fa-floppy-o icon-save\", \"download\"]];\n",
       "\n",
       "mpl.extensions = [\"eps\", \"jpeg\", \"pdf\", \"png\", \"ps\", \"raw\", \"svg\", \"tif\"];\n",
       "\n",
       "mpl.default_extension = \"png\";var comm_websocket_adapter = function(comm) {\n",
       "    // Create a \"websocket\"-like object which calls the given IPython comm\n",
       "    // object with the appropriate methods. Currently this is a non binary\n",
       "    // socket, so there is still some room for performance tuning.\n",
       "    var ws = {};\n",
       "\n",
       "    ws.close = function() {\n",
       "        comm.close()\n",
       "    };\n",
       "    ws.send = function(m) {\n",
       "        //console.log('sending', m);\n",
       "        comm.send(m);\n",
       "    };\n",
       "    // Register the callback with on_msg.\n",
       "    comm.on_msg(function(msg) {\n",
       "        //console.log('receiving', msg['content']['data'], msg);\n",
       "        // Pass the mpl event to the overriden (by mpl) onmessage function.\n",
       "        ws.onmessage(msg['content']['data'])\n",
       "    });\n",
       "    return ws;\n",
       "}\n",
       "\n",
       "mpl.mpl_figure_comm = function(comm, msg) {\n",
       "    // This is the function which gets called when the mpl process\n",
       "    // starts-up an IPython Comm through the \"matplotlib\" channel.\n",
       "\n",
       "    var id = msg.content.data.id;\n",
       "    // Get hold of the div created by the display call when the Comm\n",
       "    // socket was opened in Python.\n",
       "    var element = $(\"#\" + id);\n",
       "    var ws_proxy = comm_websocket_adapter(comm)\n",
       "\n",
       "    function ondownload(figure, format) {\n",
       "        window.open(figure.imageObj.src);\n",
       "    }\n",
       "\n",
       "    var fig = new mpl.figure(id, ws_proxy,\n",
       "                           ondownload,\n",
       "                           element.get(0));\n",
       "\n",
       "    // Call onopen now - mpl needs it, as it is assuming we've passed it a real\n",
       "    // web socket which is closed, not our websocket->open comm proxy.\n",
       "    ws_proxy.onopen();\n",
       "\n",
       "    fig.parent_element = element.get(0);\n",
       "    fig.cell_info = mpl.find_output_cell(\"<div id='\" + id + \"'></div>\");\n",
       "    if (!fig.cell_info) {\n",
       "        console.error(\"Failed to find cell for figure\", id, fig);\n",
       "        return;\n",
       "    }\n",
       "\n",
       "    var output_index = fig.cell_info[2]\n",
       "    var cell = fig.cell_info[0];\n",
       "\n",
       "};\n",
       "\n",
       "mpl.figure.prototype.handle_close = function(fig, msg) {\n",
       "    var width = fig.canvas.width/mpl.ratio\n",
       "    fig.root.unbind('remove')\n",
       "\n",
       "    // Update the output cell to use the data from the current canvas.\n",
       "    fig.push_to_output();\n",
       "    var dataURL = fig.canvas.toDataURL();\n",
       "    // Re-enable the keyboard manager in IPython - without this line, in FF,\n",
       "    // the notebook keyboard shortcuts fail.\n",
       "    IPython.keyboard_manager.enable()\n",
       "    $(fig.parent_element).html('<img src=\"' + dataURL + '\" width=\"' + width + '\">');\n",
       "    fig.close_ws(fig, msg);\n",
       "}\n",
       "\n",
       "mpl.figure.prototype.close_ws = function(fig, msg){\n",
       "    fig.send_message('closing', msg);\n",
       "    // fig.ws.close()\n",
       "}\n",
       "\n",
       "mpl.figure.prototype.push_to_output = function(remove_interactive) {\n",
       "    // Turn the data on the canvas into data in the output cell.\n",
       "    var width = this.canvas.width/mpl.ratio\n",
       "    var dataURL = this.canvas.toDataURL();\n",
       "    this.cell_info[1]['text/html'] = '<img src=\"' + dataURL + '\" width=\"' + width + '\">';\n",
       "}\n",
       "\n",
       "mpl.figure.prototype.updated_canvas_event = function() {\n",
       "    // Tell IPython that the notebook contents must change.\n",
       "    IPython.notebook.set_dirty(true);\n",
       "    this.send_message(\"ack\", {});\n",
       "    var fig = this;\n",
       "    // Wait a second, then push the new image to the DOM so\n",
       "    // that it is saved nicely (might be nice to debounce this).\n",
       "    setTimeout(function () { fig.push_to_output() }, 1000);\n",
       "}\n",
       "\n",
       "mpl.figure.prototype._init_toolbar = function() {\n",
       "    var fig = this;\n",
       "\n",
       "    var nav_element = $('<div/>')\n",
       "    nav_element.attr('style', 'width: 100%');\n",
       "    this.root.append(nav_element);\n",
       "\n",
       "    // Define a callback function for later on.\n",
       "    function toolbar_event(event) {\n",
       "        return fig.toolbar_button_onclick(event['data']);\n",
       "    }\n",
       "    function toolbar_mouse_event(event) {\n",
       "        return fig.toolbar_button_onmouseover(event['data']);\n",
       "    }\n",
       "\n",
       "    for(var toolbar_ind in mpl.toolbar_items){\n",
       "        var name = mpl.toolbar_items[toolbar_ind][0];\n",
       "        var tooltip = mpl.toolbar_items[toolbar_ind][1];\n",
       "        var image = mpl.toolbar_items[toolbar_ind][2];\n",
       "        var method_name = mpl.toolbar_items[toolbar_ind][3];\n",
       "\n",
       "        if (!name) { continue; };\n",
       "\n",
       "        var button = $('<button class=\"btn btn-default\" href=\"#\" title=\"' + name + '\"><i class=\"fa ' + image + ' fa-lg\"></i></button>');\n",
       "        button.click(method_name, toolbar_event);\n",
       "        button.mouseover(tooltip, toolbar_mouse_event);\n",
       "        nav_element.append(button);\n",
       "    }\n",
       "\n",
       "    // Add the status bar.\n",
       "    var status_bar = $('<span class=\"mpl-message\" style=\"text-align:right; float: right;\"/>');\n",
       "    nav_element.append(status_bar);\n",
       "    this.message = status_bar[0];\n",
       "\n",
       "    // Add the close button to the window.\n",
       "    var buttongrp = $('<div class=\"btn-group inline pull-right\"></div>');\n",
       "    var button = $('<button class=\"btn btn-mini btn-primary\" href=\"#\" title=\"Stop Interaction\"><i class=\"fa fa-power-off icon-remove icon-large\"></i></button>');\n",
       "    button.click(function (evt) { fig.handle_close(fig, {}); } );\n",
       "    button.mouseover('Stop Interaction', toolbar_mouse_event);\n",
       "    buttongrp.append(button);\n",
       "    var titlebar = this.root.find($('.ui-dialog-titlebar'));\n",
       "    titlebar.prepend(buttongrp);\n",
       "}\n",
       "\n",
       "mpl.figure.prototype._root_extra_style = function(el){\n",
       "    var fig = this\n",
       "    el.on(\"remove\", function(){\n",
       "\tfig.close_ws(fig, {});\n",
       "    });\n",
       "}\n",
       "\n",
       "mpl.figure.prototype._canvas_extra_style = function(el){\n",
       "    // this is important to make the div 'focusable\n",
       "    el.attr('tabindex', 0)\n",
       "    // reach out to IPython and tell the keyboard manager to turn it's self\n",
       "    // off when our div gets focus\n",
       "\n",
       "    // location in version 3\n",
       "    if (IPython.notebook.keyboard_manager) {\n",
       "        IPython.notebook.keyboard_manager.register_events(el);\n",
       "    }\n",
       "    else {\n",
       "        // location in version 2\n",
       "        IPython.keyboard_manager.register_events(el);\n",
       "    }\n",
       "\n",
       "}\n",
       "\n",
       "mpl.figure.prototype._key_event_extra = function(event, name) {\n",
       "    var manager = IPython.notebook.keyboard_manager;\n",
       "    if (!manager)\n",
       "        manager = IPython.keyboard_manager;\n",
       "\n",
       "    // Check for shift+enter\n",
       "    if (event.shiftKey && event.which == 13) {\n",
       "        this.canvas_div.blur();\n",
       "        event.shiftKey = false;\n",
       "        // Send a \"J\" for go to next cell\n",
       "        event.which = 74;\n",
       "        event.keyCode = 74;\n",
       "        manager.command_mode();\n",
       "        manager.handle_keydown(event);\n",
       "    }\n",
       "}\n",
       "\n",
       "mpl.figure.prototype.handle_save = function(fig, msg) {\n",
       "    fig.ondownload(fig, null);\n",
       "}\n",
       "\n",
       "\n",
       "mpl.find_output_cell = function(html_output) {\n",
       "    // Return the cell and output element which can be found *uniquely* in the notebook.\n",
       "    // Note - this is a bit hacky, but it is done because the \"notebook_saving.Notebook\"\n",
       "    // IPython event is triggered only after the cells have been serialised, which for\n",
       "    // our purposes (turning an active figure into a static one), is too late.\n",
       "    var cells = IPython.notebook.get_cells();\n",
       "    var ncells = cells.length;\n",
       "    for (var i=0; i<ncells; i++) {\n",
       "        var cell = cells[i];\n",
       "        if (cell.cell_type === 'code'){\n",
       "            for (var j=0; j<cell.output_area.outputs.length; j++) {\n",
       "                var data = cell.output_area.outputs[j];\n",
       "                if (data.data) {\n",
       "                    // IPython >= 3 moved mimebundle to data attribute of output\n",
       "                    data = data.data;\n",
       "                }\n",
       "                if (data['text/html'] == html_output) {\n",
       "                    return [cell, data, j];\n",
       "                }\n",
       "            }\n",
       "        }\n",
       "    }\n",
       "}\n",
       "\n",
       "// Register the function which deals with the matplotlib target/channel.\n",
       "// The kernel may be null if the page has been refreshed.\n",
       "if (IPython.notebook.kernel != null) {\n",
       "    IPython.notebook.kernel.comm_manager.register_target('matplotlib', mpl.mpl_figure_comm);\n",
       "}\n"
      ],
      "text/plain": [
       "<IPython.core.display.Javascript object>"
      ]
     },
     "metadata": {},
     "output_type": "display_data"
    },
    {
     "data": {
      "text/html": [
       "<img src=\"data:image/png;base64,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\" width=\"952\">"
      ],
      "text/plain": [
       "<IPython.core.display.HTML object>"
      ]
     },
     "metadata": {},
     "output_type": "display_data"
    },
    {
     "data": {
      "text/plain": [
       "[<matplotlib.lines.Line2D at 0x118a48128>]"
      ]
     },
     "execution_count": 456,
     "metadata": {},
     "output_type": "execute_result"
    }
   ],
   "source": [
    "X = np.load(way +\"No4.npy\")\n",
    "pylab.figure()\n",
    "pylab.plot(X[0],X[1])\n",
    "pylab.plot(X[0],label+)"
   ]
  },
  {
   "cell_type": "code",
   "execution_count": 69,
   "metadata": {},
   "outputs": [
    {
     "name": "stdout",
     "output_type": "stream",
     "text": [
      "['Record number: ' '15332' 't_hmode: ' '1061.9183467741937'\n",
      " '1062.304435483871' '1063.4627016129032']\n",
      "1419.99\n"
     ]
    },
    {
     "data": {
      "text/plain": [
       "[<matplotlib.lines.Line2D at 0x118a4feb8>]"
      ]
     },
     "execution_count": 69,
     "metadata": {},
     "output_type": "execute_result"
    }
   ],
   "source": [
    "info = np.load(way+\"No4_res.npy\")\n",
    "print(info)\n",
    "print((1061-X[0][0])/0.05)\n",
    "Lmod1 = np.ones(1420)\n",
    "other = np.zeros(len(X[1])-len(Lmod))\n",
    "pylab.plot(X[0],np.hstack((Lmod,other)))"
   ]
  },
  {
   "cell_type": "code",
   "execution_count": 68,
   "metadata": {},
   "outputs": [
    {
     "data": {
      "text/plain": [
       "1061.0005000000001"
      ]
     },
     "execution_count": 68,
     "metadata": {},
     "output_type": "execute_result"
    }
   ],
   "source": [
    "1420*0.05+X[0][0]"
   ]
  },
  {
   "cell_type": "code",
   "execution_count": 67,
   "metadata": {},
   "outputs": [
    {
     "name": "stdout",
     "output_type": "stream",
     "text": [
      "64.80000000000018\n"
     ]
    }
   ],
   "source": [
    "o = abs(1064.24-1061)/0.05\n",
    "print(o)"
   ]
  },
  {
   "cell_type": "code",
   "execution_count": 72,
   "metadata": {},
   "outputs": [
    {
     "data": {
      "text/plain": [
       "[<matplotlib.lines.Line2D at 0x118bee390>]"
      ]
     },
     "execution_count": 72,
     "metadata": {},
     "output_type": "execute_result"
    }
   ],
   "source": [
    "Hmod1 = np.zeros(66)\n",
    "other = 2*np.ones(len(X[1])-len(Lmod1)-len(Hmod1))\n",
    "pylab.plot(X[0],np.hstack((Lmod1,Hmod1,other)))"
   ]
  },
  {
   "cell_type": "code",
   "execution_count": 73,
   "metadata": {
    "collapsed": true
   },
   "outputs": [],
   "source": [
    "#label = np.hstack((Lmod1,Hmod1))"
   ]
  },
  {
   "cell_type": "code",
   "execution_count": 79,
   "metadata": {},
   "outputs": [
    {
     "name": "stdout",
     "output_type": "stream",
     "text": [
      "1064.3005\n"
     ]
    },
    {
     "data": {
      "text/plain": [
       "10.189999999997781"
      ]
     },
     "execution_count": 79,
     "metadata": {},
     "output_type": "execute_result"
    }
   ],
   "source": [
    "o = (1420+66)*0.05+X[0][0]\n",
    "print(o)\n",
    "(1064.81-o)/0.05"
   ]
  },
  {
   "cell_type": "code",
   "execution_count": 86,
   "metadata": {},
   "outputs": [
    {
     "data": {
      "text/plain": [
       "[<matplotlib.lines.Line2D at 0x11886d278>]"
      ]
     },
     "execution_count": 86,
     "metadata": {},
     "output_type": "execute_result"
    }
   ],
   "source": [
    "elm1 = 2*np.ones(10)\n",
    "other = np.zeros(len(X[1])-(1420+66+10))\n",
    "pylab.plot(X[0], np.hstack((label,elm1,other)))"
   ]
  },
  {
   "cell_type": "code",
   "execution_count": 87,
   "metadata": {
    "collapsed": true
   },
   "outputs": [],
   "source": [
    "#label = np.hstack((label,elm1))"
   ]
  },
  {
   "cell_type": "code",
   "execution_count": 88,
   "metadata": {},
   "outputs": [
    {
     "name": "stdout",
     "output_type": "stream",
     "text": [
      "1064.8005\n"
     ]
    },
    {
     "data": {
      "text/plain": [
       "51.189999999996871"
      ]
     },
     "execution_count": 88,
     "metadata": {},
     "output_type": "execute_result"
    }
   ],
   "source": [
    "o = len(label)*0.05+X[0][0]\n",
    "print(o)\n",
    "(1067.36-o)/0.05\n"
   ]
  },
  {
   "cell_type": "code",
   "execution_count": 92,
   "metadata": {},
   "outputs": [
    {
     "data": {
      "text/plain": [
       "[<matplotlib.lines.Line2D at 0x118b5ad68>]"
      ]
     },
     "execution_count": 92,
     "metadata": {},
     "output_type": "execute_result"
    }
   ],
   "source": [
    "Hmod2 = np.zeros(51)\n",
    "other = 2*np.ones(len(X[1])-len(label))\n",
    "pylab.plot(X[0], np.hstack((label,other)))"
   ]
  },
  {
   "cell_type": "code",
   "execution_count": 91,
   "metadata": {
    "collapsed": true
   },
   "outputs": [],
   "source": [
    "#label = np.hstack((label,Hmod2))"
   ]
  },
  {
   "cell_type": "code",
   "execution_count": 93,
   "metadata": {},
   "outputs": [
    {
     "name": "stdout",
     "output_type": "stream",
     "text": [
      "1067.3505\n"
     ]
    },
    {
     "data": {
      "text/plain": [
       "9.7899999999981446"
      ]
     },
     "execution_count": 93,
     "metadata": {},
     "output_type": "execute_result"
    }
   ],
   "source": [
    "o = len(label)*0.05+X[0][0]\n",
    "print(o)\n",
    "(1067.84-o)/0.05"
   ]
  },
  {
   "cell_type": "code",
   "execution_count": 95,
   "metadata": {},
   "outputs": [
    {
     "data": {
      "text/plain": [
       "[<matplotlib.lines.Line2D at 0x118b6ac50>]"
      ]
     },
     "execution_count": 95,
     "metadata": {},
     "output_type": "execute_result"
    }
   ],
   "source": [
    "elm2 = 2*ones(10)\n",
    "other = np.zeros(len(X[1])-len(label)-10)\n",
    "pylab.plot(X[0], np.hstack((label,elm2,other)))"
   ]
  },
  {
   "cell_type": "code",
   "execution_count": 97,
   "metadata": {},
   "outputs": [],
   "source": [
    "#label = np.hstack((label, elm2))"
   ]
  },
  {
   "cell_type": "code",
   "execution_count": 101,
   "metadata": {},
   "outputs": [
    {
     "name": "stdout",
     "output_type": "stream",
     "text": [
      "1067.8505\n"
     ]
    },
    {
     "data": {
      "text/plain": [
       "42.989999999999782"
      ]
     },
     "execution_count": 101,
     "metadata": {},
     "output_type": "execute_result"
    }
   ],
   "source": [
    "o = len(label)*0.05+X[0][0]\n",
    "print(o)\n",
    "(1070-o)/0.05"
   ]
  },
  {
   "cell_type": "code",
   "execution_count": 102,
   "metadata": {},
   "outputs": [
    {
     "data": {
      "text/plain": [
       "[<matplotlib.lines.Line2D at 0x118a81518>]"
      ]
     },
     "execution_count": 102,
     "metadata": {},
     "output_type": "execute_result"
    }
   ],
   "source": [
    "Hmod3 = np.zeros(43)\n",
    "other = 2*np.ones(len(X[1])-len(label)-43)\n",
    "pylab.plot(X[0], np.hstack((label,Hmod3,other)))"
   ]
  },
  {
   "cell_type": "code",
   "execution_count": 103,
   "metadata": {
    "collapsed": true
   },
   "outputs": [],
   "source": [
    "#label = np.hstack((label, Hmod3))"
   ]
  },
  {
   "cell_type": "code",
   "execution_count": 108,
   "metadata": {},
   "outputs": [
    {
     "data": {
      "text/plain": [
       "[<matplotlib.lines.Line2D at 0x1190ed4e0>]"
      ]
     },
     "execution_count": 108,
     "metadata": {},
     "output_type": "execute_result"
    }
   ],
   "source": [
    "elm3 = 2*ones(7)\n",
    "other = np.zeros(len(X[1])-len(label)-len(elm3))\n",
    "pylab.plot(X[0], np.hstack((label,elm3,other)))"
   ]
  },
  {
   "cell_type": "code",
   "execution_count": 109,
   "metadata": {
    "collapsed": true
   },
   "outputs": [],
   "source": [
    "#label = np.hstack((label,elm3))"
   ]
  },
  {
   "cell_type": "code",
   "execution_count": 110,
   "metadata": {},
   "outputs": [
    {
     "name": "stdout",
     "output_type": "stream",
     "text": [
      "1070.3505\n"
     ]
    },
    {
     "data": {
      "text/plain": [
       "38.989999999998872"
      ]
     },
     "execution_count": 110,
     "metadata": {},
     "output_type": "execute_result"
    }
   ],
   "source": [
    "o = len(label)*0.05+X[0][0]\n",
    "print(o)\n",
    "(1072.3-o)/0.05"
   ]
  },
  {
   "cell_type": "code",
   "execution_count": 111,
   "metadata": {},
   "outputs": [
    {
     "data": {
      "text/plain": [
       "[<matplotlib.lines.Line2D at 0x118ddf438>]"
      ]
     },
     "execution_count": 111,
     "metadata": {},
     "output_type": "execute_result"
    }
   ],
   "source": [
    "Hmod4 = np.zeros(39)\n",
    "other = 2*np.ones(len(X[1])-len(label)-39)\n",
    "pylab.plot(X[0], np.hstack((label,Hmod4,other)))"
   ]
  },
  {
   "cell_type": "code",
   "execution_count": 112,
   "metadata": {
    "collapsed": true
   },
   "outputs": [],
   "source": [
    "#label = np.hstack((label,Hmod4))"
   ]
  },
  {
   "cell_type": "code",
   "execution_count": 115,
   "metadata": {},
   "outputs": [
    {
     "name": "stdout",
     "output_type": "stream",
     "text": [
      "1072.3005\n"
     ]
    },
    {
     "data": {
      "text/plain": [
       "10.589999999997417"
      ]
     },
     "execution_count": 115,
     "metadata": {},
     "output_type": "execute_result"
    }
   ],
   "source": [
    "o = len(label)*0.05+X[0][0]\n",
    "print(o)\n",
    "(1072.83-o)/0.05"
   ]
  },
  {
   "cell_type": "code",
   "execution_count": 117,
   "metadata": {},
   "outputs": [
    {
     "data": {
      "text/plain": [
       "[<matplotlib.lines.Line2D at 0x11a50a0f0>]"
      ]
     },
     "execution_count": 117,
     "metadata": {},
     "output_type": "execute_result"
    }
   ],
   "source": [
    "elm4 = 2*ones(11)\n",
    "other = np.zeros(len(X[1])-len(label)-len(elm4))\n",
    "pylab.plot(X[0], np.hstack((label,elm4,other)))"
   ]
  },
  {
   "cell_type": "code",
   "execution_count": 118,
   "metadata": {
    "collapsed": true
   },
   "outputs": [],
   "source": [
    "#label = np.hstack((label,elm4))"
   ]
  },
  {
   "cell_type": "code",
   "execution_count": 119,
   "metadata": {},
   "outputs": [
    {
     "name": "stdout",
     "output_type": "stream",
     "text": [
      "1072.8505\n"
     ]
    },
    {
     "data": {
      "text/plain": [
       "41.390000000001237"
      ]
     },
     "execution_count": 119,
     "metadata": {},
     "output_type": "execute_result"
    }
   ],
   "source": [
    "o = len(label)*0.05+X[0][0]\n",
    "print(o)\n",
    "(1074.92-o)/0.05"
   ]
  },
  {
   "cell_type": "code",
   "execution_count": 123,
   "metadata": {},
   "outputs": [
    {
     "data": {
      "text/plain": [
       "[<matplotlib.lines.Line2D at 0x11a4f6630>]"
      ]
     },
     "execution_count": 123,
     "metadata": {},
     "output_type": "execute_result"
    }
   ],
   "source": [
    "Hmod5 = np.zeros(42)\n",
    "other = 2*np.ones(len(X[1])-len(label)-42)\n",
    "pylab.plot(X[0], np.hstack((label,Hmod5,other)))"
   ]
  },
  {
   "cell_type": "code",
   "execution_count": 124,
   "metadata": {
    "collapsed": true
   },
   "outputs": [],
   "source": [
    "#label = np.hstack((label, Hmod5))"
   ]
  },
  {
   "cell_type": "code",
   "execution_count": 125,
   "metadata": {},
   "outputs": [
    {
     "name": "stdout",
     "output_type": "stream",
     "text": [
      "1074.9505\n"
     ]
    },
    {
     "data": {
      "text/plain": [
       "9.9900000000025102"
      ]
     },
     "execution_count": 125,
     "metadata": {},
     "output_type": "execute_result"
    }
   ],
   "source": [
    "o = len(label)*0.05+X[0][0]\n",
    "print(o)\n",
    "(1075.45-o)/0.05"
   ]
  },
  {
   "cell_type": "code",
   "execution_count": 126,
   "metadata": {},
   "outputs": [
    {
     "data": {
      "text/plain": [
       "[<matplotlib.lines.Line2D at 0x119957390>]"
      ]
     },
     "execution_count": 126,
     "metadata": {},
     "output_type": "execute_result"
    }
   ],
   "source": [
    "elm5 = 2*ones(10)\n",
    "other = np.zeros(len(X[1])-len(label)-len(elm5))\n",
    "pylab.plot(X[0], np.hstack((label,elm5,other)))"
   ]
  },
  {
   "cell_type": "code",
   "execution_count": 127,
   "metadata": {
    "collapsed": true
   },
   "outputs": [],
   "source": [
    "#label = np.hstack((label,elm5))"
   ]
  },
  {
   "cell_type": "code",
   "execution_count": 128,
   "metadata": {},
   "outputs": [
    {
     "name": "stdout",
     "output_type": "stream",
     "text": [
      "1075.4505\n"
     ]
    },
    {
     "data": {
      "text/plain": [
       "50.990000000001601"
      ]
     },
     "execution_count": 128,
     "metadata": {},
     "output_type": "execute_result"
    }
   ],
   "source": [
    "o = len(label)*0.05+X[0][0]\n",
    "print(o)\n",
    "(1078-o)/0.05"
   ]
  },
  {
   "cell_type": "code",
   "execution_count": 129,
   "metadata": {},
   "outputs": [
    {
     "data": {
      "text/plain": [
       "[<matplotlib.lines.Line2D at 0x11a4deef0>]"
      ]
     },
     "execution_count": 129,
     "metadata": {},
     "output_type": "execute_result"
    }
   ],
   "source": [
    "Hmod6 = np.zeros(51)\n",
    "other = 2*np.ones(len(X[1])-len(label)-51)\n",
    "pylab.plot(X[0], np.hstack((label,Hmod6,other)))"
   ]
  },
  {
   "cell_type": "code",
   "execution_count": 130,
   "metadata": {
    "collapsed": true
   },
   "outputs": [],
   "source": [
    "#label = np.hstack((label, Hmod6))"
   ]
  },
  {
   "cell_type": "code",
   "execution_count": 131,
   "metadata": {},
   "outputs": [
    {
     "name": "stdout",
     "output_type": "stream",
     "text": [
      "1078.0005\n"
     ]
    },
    {
     "data": {
      "text/plain": [
       "9.9899999999979627"
      ]
     },
     "execution_count": 131,
     "metadata": {},
     "output_type": "execute_result"
    }
   ],
   "source": [
    "o = len(label)*0.05+X[0][0]\n",
    "print(o)\n",
    "(1078.5-o)/0.05"
   ]
  },
  {
   "cell_type": "code",
   "execution_count": 132,
   "metadata": {},
   "outputs": [
    {
     "data": {
      "text/plain": [
       "[<matplotlib.lines.Line2D at 0x119b5f358>]"
      ]
     },
     "execution_count": 132,
     "metadata": {},
     "output_type": "execute_result"
    }
   ],
   "source": [
    "elm6 = 2*ones(10)\n",
    "other = np.zeros(len(X[1])-len(label)-len(elm6))\n",
    "pylab.plot(X[0], np.hstack((label,elm6,other)))"
   ]
  },
  {
   "cell_type": "code",
   "execution_count": 133,
   "metadata": {
    "collapsed": true
   },
   "outputs": [],
   "source": [
    "#label = np.hstack((label,elm6))"
   ]
  },
  {
   "cell_type": "code",
   "execution_count": 134,
   "metadata": {},
   "outputs": [
    {
     "name": "stdout",
     "output_type": "stream",
     "text": [
      "1078.5005\n"
     ]
    },
    {
     "data": {
      "text/plain": [
       "42.989999999999782"
      ]
     },
     "execution_count": 134,
     "metadata": {},
     "output_type": "execute_result"
    }
   ],
   "source": [
    "o = len(label)*0.05+X[0][0]\n",
    "print(o)\n",
    "(1080.65-o)/0.05"
   ]
  },
  {
   "cell_type": "code",
   "execution_count": 139,
   "metadata": {},
   "outputs": [
    {
     "data": {
      "text/plain": [
       "[<matplotlib.lines.Line2D at 0x1199c9780>]"
      ]
     },
     "execution_count": 139,
     "metadata": {},
     "output_type": "execute_result"
    }
   ],
   "source": [
    "Hmod7 = np.zeros(45)\n",
    "other = 2*np.ones(len(X[1])-len(label)-len(Hmod7))\n",
    "pylab.plot(X[0], np.hstack((label,Hmod7,other)))"
   ]
  },
  {
   "cell_type": "code",
   "execution_count": 140,
   "metadata": {
    "collapsed": true
   },
   "outputs": [],
   "source": [
    "#label = np.hstack((label,Hmod7))"
   ]
  },
  {
   "cell_type": "code",
   "execution_count": 141,
   "metadata": {},
   "outputs": [
    {
     "name": "stdout",
     "output_type": "stream",
     "text": [
      "1080.7505\n"
     ]
    },
    {
     "data": {
      "text/plain": [
       "10.989999999997053"
      ]
     },
     "execution_count": 141,
     "metadata": {},
     "output_type": "execute_result"
    }
   ],
   "source": [
    "o = len(label)*0.05+X[0][0]\n",
    "print(o)\n",
    "(1081.3-o)/0.05"
   ]
  },
  {
   "cell_type": "code",
   "execution_count": 142,
   "metadata": {},
   "outputs": [
    {
     "data": {
      "text/plain": [
       "[<matplotlib.lines.Line2D at 0x1199d7160>]"
      ]
     },
     "execution_count": 142,
     "metadata": {},
     "output_type": "execute_result"
    }
   ],
   "source": [
    "elm7 = 2*ones(11)\n",
    "other = np.zeros(len(X[1])-len(label)-len(elm7))\n",
    "pylab.plot(X[0], np.hstack((label,elm7,other)))"
   ]
  },
  {
   "cell_type": "code",
   "execution_count": 143,
   "metadata": {
    "collapsed": true
   },
   "outputs": [],
   "source": [
    "#label = np.hstack((label, elm7))"
   ]
  },
  {
   "cell_type": "code",
   "execution_count": 144,
   "metadata": {},
   "outputs": [
    {
     "name": "stdout",
     "output_type": "stream",
     "text": [
      "1081.3005\n"
     ]
    },
    {
     "data": {
      "text/plain": [
       "60.989999999997053"
      ]
     },
     "execution_count": 144,
     "metadata": {},
     "output_type": "execute_result"
    }
   ],
   "source": [
    "o = len(label)*0.05+X[0][0]\n",
    "print(o)\n",
    "(1084.35-o)/0.05"
   ]
  },
  {
   "cell_type": "code",
   "execution_count": 146,
   "metadata": {},
   "outputs": [
    {
     "data": {
      "text/plain": [
       "[<matplotlib.lines.Line2D at 0x1199571d0>]"
      ]
     },
     "execution_count": 146,
     "metadata": {},
     "output_type": "execute_result"
    }
   ],
   "source": [
    "Hmod = np.zeros(62)\n",
    "other = 2*np.ones(len(X[1])-len(label)-len(Hmod))\n",
    "pylab.plot(X[0], np.hstack((label,Hmod,other)))"
   ]
  },
  {
   "cell_type": "code",
   "execution_count": 147,
   "metadata": {
    "collapsed": true
   },
   "outputs": [],
   "source": [
    "#label = np.hstack((label,Hmod))"
   ]
  },
  {
   "cell_type": "code",
   "execution_count": 148,
   "metadata": {},
   "outputs": [
    {
     "name": "stdout",
     "output_type": "stream",
     "text": [
      "1084.4005\n"
     ]
    },
    {
     "data": {
      "text/plain": [
       "12.390000000000327"
      ]
     },
     "execution_count": 148,
     "metadata": {},
     "output_type": "execute_result"
    }
   ],
   "source": [
    "o = len(label)*0.05+X[0][0]\n",
    "print(o)\n",
    "(1085.02-o)/0.05"
   ]
  },
  {
   "cell_type": "code",
   "execution_count": 149,
   "metadata": {},
   "outputs": [
    {
     "data": {
      "text/plain": [
       "[<matplotlib.lines.Line2D at 0x1199d7d30>]"
      ]
     },
     "execution_count": 149,
     "metadata": {},
     "output_type": "execute_result"
    }
   ],
   "source": [
    "elm = 2*ones(13)\n",
    "other = np.zeros(len(X[1])-len(label)-len(elm))\n",
    "pylab.plot(X[0], np.hstack((label,elm,other)))"
   ]
  },
  {
   "cell_type": "code",
   "execution_count": 150,
   "metadata": {
    "collapsed": true
   },
   "outputs": [],
   "source": [
    "#label = np.hstack((label,elm))"
   ]
  },
  {
   "cell_type": "code",
   "execution_count": 151,
   "metadata": {},
   "outputs": [
    {
     "name": "stdout",
     "output_type": "stream",
     "text": [
      "1085.0505\n"
     ]
    },
    {
     "data": {
      "text/plain": [
       "81.189999999996871"
      ]
     },
     "execution_count": 151,
     "metadata": {},
     "output_type": "execute_result"
    }
   ],
   "source": [
    "o = len(label)*0.05+X[0][0]\n",
    "print(o)\n",
    "(1089.11-o)/0.05"
   ]
  },
  {
   "cell_type": "code",
   "execution_count": 152,
   "metadata": {},
   "outputs": [
    {
     "data": {
      "text/plain": [
       "[<matplotlib.lines.Line2D at 0x119b13f98>]"
      ]
     },
     "execution_count": 152,
     "metadata": {},
     "output_type": "execute_result"
    }
   ],
   "source": [
    "Hmod = np.zeros(82)\n",
    "other = 2*np.ones(len(X[1])-len(label)-len(Hmod))\n",
    "pylab.plot(X[0], np.hstack((label,Hmod,other)))"
   ]
  },
  {
   "cell_type": "code",
   "execution_count": 154,
   "metadata": {
    "collapsed": true
   },
   "outputs": [],
   "source": [
    "#label = np.hstack((label,Hmod))"
   ]
  },
  {
   "cell_type": "code",
   "execution_count": 155,
   "metadata": {},
   "outputs": [
    {
     "name": "stdout",
     "output_type": "stream",
     "text": [
      "1089.1505\n"
     ]
    },
    {
     "data": {
      "text/plain": [
       "12.989999999999782"
      ]
     },
     "execution_count": 155,
     "metadata": {},
     "output_type": "execute_result"
    }
   ],
   "source": [
    "o = len(label)*0.05+X[0][0]\n",
    "print(o)\n",
    "(1089.8-o)/0.05"
   ]
  },
  {
   "cell_type": "code",
   "execution_count": 156,
   "metadata": {},
   "outputs": [
    {
     "data": {
      "text/plain": [
       "[<matplotlib.lines.Line2D at 0x1199d78d0>]"
      ]
     },
     "execution_count": 156,
     "metadata": {},
     "output_type": "execute_result"
    }
   ],
   "source": [
    "elm = 2*ones(13)\n",
    "other = np.zeros(len(X[1])-len(label)-len(elm))\n",
    "pylab.plot(X[0], np.hstack((label,elm,other)))"
   ]
  },
  {
   "cell_type": "code",
   "execution_count": 157,
   "metadata": {
    "collapsed": true
   },
   "outputs": [],
   "source": [
    "h = np.hstack"
   ]
  },
  {
   "cell_type": "code",
   "execution_count": 158,
   "metadata": {
    "collapsed": true
   },
   "outputs": [],
   "source": [
    "#label = h((label,elm))"
   ]
  },
  {
   "cell_type": "code",
   "execution_count": 159,
   "metadata": {},
   "outputs": [
    {
     "name": "stdout",
     "output_type": "stream",
     "text": [
      "1089.8005\n"
     ]
    },
    {
     "data": {
      "text/plain": [
       "62.190000000000509"
      ]
     },
     "execution_count": 159,
     "metadata": {},
     "output_type": "execute_result"
    }
   ],
   "source": [
    "o = len(label)*0.05+X[0][0]\n",
    "print(o)\n",
    "(1092.91-o)/0.05"
   ]
  },
  {
   "cell_type": "code",
   "execution_count": 161,
   "metadata": {},
   "outputs": [
    {
     "data": {
      "text/plain": [
       "[<matplotlib.lines.Line2D at 0x119bafd30>]"
      ]
     },
     "execution_count": 161,
     "metadata": {},
     "output_type": "execute_result"
    }
   ],
   "source": [
    "Hmod = np.zeros(63)\n",
    "other = 2*np.ones(len(X[1])-len(label)-len(Hmod))\n",
    "pylab.plot(X[0], np.hstack((label,Hmod,other)))"
   ]
  },
  {
   "cell_type": "code",
   "execution_count": 162,
   "metadata": {
    "collapsed": true
   },
   "outputs": [],
   "source": [
    "#label = h((label, Hmod))"
   ]
  },
  {
   "cell_type": "code",
   "execution_count": 163,
   "metadata": {},
   "outputs": [
    {
     "name": "stdout",
     "output_type": "stream",
     "text": [
      "1092.9505\n"
     ]
    },
    {
     "data": {
      "text/plain": [
       "12.789999999999964"
      ]
     },
     "execution_count": 163,
     "metadata": {},
     "output_type": "execute_result"
    }
   ],
   "source": [
    "o = len(label)*0.05+X[0][0]\n",
    "print(o)\n",
    "(1093.59-o)/0.05"
   ]
  },
  {
   "cell_type": "code",
   "execution_count": 164,
   "metadata": {},
   "outputs": [
    {
     "data": {
      "text/plain": [
       "[<matplotlib.lines.Line2D at 0x119bcc7b8>]"
      ]
     },
     "execution_count": 164,
     "metadata": {},
     "output_type": "execute_result"
    }
   ],
   "source": [
    "elm = 2*ones(13)\n",
    "other = np.zeros(len(X[1])-len(label)-len(elm))\n",
    "pylab.plot(X[0], np.hstack((label,elm,other)))"
   ]
  },
  {
   "cell_type": "code",
   "execution_count": 165,
   "metadata": {
    "collapsed": true
   },
   "outputs": [],
   "source": [
    "#label = h((label,elm))"
   ]
  },
  {
   "cell_type": "code",
   "execution_count": 166,
   "metadata": {},
   "outputs": [
    {
     "name": "stdout",
     "output_type": "stream",
     "text": [
      "1093.6005\n"
     ]
    },
    {
     "data": {
      "text/plain": [
       "64.389999999998508"
      ]
     },
     "execution_count": 166,
     "metadata": {},
     "output_type": "execute_result"
    }
   ],
   "source": [
    "o = len(label)*0.05+X[0][0]\n",
    "print(o)\n",
    "(1096.82-o)/0.05"
   ]
  },
  {
   "cell_type": "code",
   "execution_count": 168,
   "metadata": {},
   "outputs": [
    {
     "data": {
      "text/plain": [
       "[<matplotlib.lines.Line2D at 0x117916e10>]"
      ]
     },
     "execution_count": 168,
     "metadata": {},
     "output_type": "execute_result"
    }
   ],
   "source": [
    "Hmod = np.zeros(65)\n",
    "other = 2*np.ones(len(X[1])-len(label)-len(Hmod))\n",
    "pylab.plot(X[0], np.hstack((label,Hmod,other)))"
   ]
  },
  {
   "cell_type": "code",
   "execution_count": 169,
   "metadata": {
    "collapsed": true
   },
   "outputs": [],
   "source": [
    "#label =h((label,Hmod))"
   ]
  },
  {
   "cell_type": "code",
   "execution_count": 173,
   "metadata": {},
   "outputs": [
    {
     "name": "stdout",
     "output_type": "stream",
     "text": [
      "1097.6005\n"
     ]
    },
    {
     "data": {
      "text/plain": [
       "48.789999999999054"
      ]
     },
     "execution_count": 173,
     "metadata": {},
     "output_type": "execute_result"
    }
   ],
   "source": [
    "o = len(label)*0.05+X[0][0]\n",
    "print(o)\n",
    "(1097.82-o)/0.05"
   ]
  },
  {
   "cell_type": "code",
   "execution_count": 171,
   "metadata": {},
   "outputs": [
    {
     "data": {
      "text/plain": [
       "[<matplotlib.lines.Line2D at 0x119bd64e0>]"
      ]
     },
     "execution_count": 171,
     "metadata": {},
     "output_type": "execute_result"
    }
   ],
   "source": [
    "elm = 2*ones(15)\n",
    "other = np.zeros(len(X[1])-len(label)-len(elm))\n",
    "pylab.plot(X[0], np.hstack((label,elm,other)))"
   ]
  },
  {
   "cell_type": "code",
   "execution_count": 172,
   "metadata": {
    "collapsed": true
   },
   "outputs": [],
   "source": [
    "#label = h((label,elm))"
   ]
  },
  {
   "cell_type": "code",
   "execution_count": 174,
   "metadata": {},
   "outputs": [
    {
     "name": "stdout",
     "output_type": "stream",
     "text": [
      "1097.6005\n"
     ]
    },
    {
     "data": {
      "text/plain": [
       "48.789999999999054"
      ]
     },
     "execution_count": 174,
     "metadata": {},
     "output_type": "execute_result"
    }
   ],
   "source": [
    "o = len(label)*0.05+X[0][0]\n",
    "print(o)\n",
    "(1100.04-o)/0.05"
   ]
  },
  {
   "cell_type": "code",
   "execution_count": 176,
   "metadata": {},
   "outputs": [
    {
     "data": {
      "text/plain": [
       "[<matplotlib.lines.Line2D at 0x1174e2978>]"
      ]
     },
     "execution_count": 176,
     "metadata": {},
     "output_type": "execute_result"
    }
   ],
   "source": [
    "Hmod = np.zeros(50)\n",
    "other = 2*np.ones(len(X[1])-len(label)-len(Hmod))\n",
    "pylab.plot(X[0], np.hstack((label,Hmod,other)))"
   ]
  },
  {
   "cell_type": "code",
   "execution_count": 180,
   "metadata": {
    "collapsed": true
   },
   "outputs": [],
   "source": [
    "#label =h((label,Hmod))"
   ]
  },
  {
   "cell_type": "code",
   "execution_count": 178,
   "metadata": {},
   "outputs": [],
   "source": [
    "def o(data, label):\n",
    "    o = len(label)*0.05+X[0][0]\n",
    "    print(o)\n",
    "    print((data-o)/0.05)"
   ]
  },
  {
   "cell_type": "code",
   "execution_count": 183,
   "metadata": {},
   "outputs": [
    {
     "name": "stdout",
     "output_type": "stream",
     "text": [
      "1100.1005\n",
      "16.39\n"
     ]
    }
   ],
   "source": [
    "o(1100.92,label)"
   ]
  },
  {
   "cell_type": "code",
   "execution_count": 185,
   "metadata": {},
   "outputs": [
    {
     "data": {
      "text/plain": [
       "[<matplotlib.lines.Line2D at 0x119c11358>]"
      ]
     },
     "execution_count": 185,
     "metadata": {},
     "output_type": "execute_result"
    }
   ],
   "source": [
    "elm = 2*ones(16)\n",
    "other = np.zeros(len(X[1])-len(label)-len(elm))\n",
    "pylab.plot(X[0], np.hstack((label,elm,other)))"
   ]
  },
  {
   "cell_type": "code",
   "execution_count": 186,
   "metadata": {
    "collapsed": true
   },
   "outputs": [],
   "source": [
    "#label = h((label,elm))"
   ]
  },
  {
   "cell_type": "code",
   "execution_count": 189,
   "metadata": {},
   "outputs": [
    {
     "name": "stdout",
     "output_type": "stream",
     "text": [
      "1100.9005\n",
      "48.19\n"
     ]
    }
   ],
   "source": [
    "o(1103.31,label)"
   ]
  },
  {
   "cell_type": "code",
   "execution_count": 191,
   "metadata": {},
   "outputs": [
    {
     "data": {
      "text/plain": [
       "[<matplotlib.lines.Line2D at 0x119c06f28>]"
      ]
     },
     "execution_count": 191,
     "metadata": {},
     "output_type": "execute_result"
    }
   ],
   "source": [
    "Hmod = np.zeros(49)\n",
    "other = 2*np.ones(len(X[1])-len(label)-len(Hmod))\n",
    "pylab.plot(X[0], np.hstack((label,Hmod,other)))"
   ]
  },
  {
   "cell_type": "code",
   "execution_count": 192,
   "metadata": {
    "collapsed": true
   },
   "outputs": [],
   "source": [
    "#label = h((label,Hmod))"
   ]
  },
  {
   "cell_type": "code",
   "execution_count": 193,
   "metadata": {},
   "outputs": [
    {
     "name": "stdout",
     "output_type": "stream",
     "text": [
      "1103.3505\n",
      "10.39\n"
     ]
    }
   ],
   "source": [
    "o(1103.87,label)"
   ]
  },
  {
   "cell_type": "code",
   "execution_count": 194,
   "metadata": {},
   "outputs": [
    {
     "data": {
      "text/plain": [
       "[<matplotlib.lines.Line2D at 0x119baf208>]"
      ]
     },
     "execution_count": 194,
     "metadata": {},
     "output_type": "execute_result"
    }
   ],
   "source": [
    "elm = 2*ones(11)\n",
    "other = np.zeros(len(X[1])-len(label)-len(elm))\n",
    "pylab.plot(X[0], np.hstack((label,elm,other)))"
   ]
  },
  {
   "cell_type": "code",
   "execution_count": 195,
   "metadata": {
    "collapsed": true
   },
   "outputs": [],
   "source": [
    "#label = h((label,elm))"
   ]
  },
  {
   "cell_type": "code",
   "execution_count": 196,
   "metadata": {},
   "outputs": [
    {
     "name": "stdout",
     "output_type": "stream",
     "text": [
      "1103.9005\n",
      "63.19\n"
     ]
    }
   ],
   "source": [
    "o(1107.06,label)"
   ]
  },
  {
   "cell_type": "code",
   "execution_count": 198,
   "metadata": {},
   "outputs": [
    {
     "data": {
      "text/plain": [
       "[<matplotlib.lines.Line2D at 0x11a4f69e8>]"
      ]
     },
     "execution_count": 198,
     "metadata": {},
     "output_type": "execute_result"
    }
   ],
   "source": [
    "Hmod = np.zeros(65)\n",
    "other = 2*np.ones(len(X[1])-len(label)-len(Hmod))\n",
    "pylab.plot(X[0], np.hstack((label,Hmod,other)))"
   ]
  },
  {
   "cell_type": "code",
   "execution_count": 199,
   "metadata": {
    "collapsed": true
   },
   "outputs": [],
   "source": [
    "#label = h((label,Hmod))"
   ]
  },
  {
   "cell_type": "code",
   "execution_count": 200,
   "metadata": {},
   "outputs": [
    {
     "name": "stdout",
     "output_type": "stream",
     "text": [
      "1107.1505\n",
      "15.59\n"
     ]
    }
   ],
   "source": [
    "o(1107.93,label)"
   ]
  },
  {
   "cell_type": "code",
   "execution_count": 201,
   "metadata": {},
   "outputs": [
    {
     "data": {
      "text/plain": [
       "[<matplotlib.lines.Line2D at 0x119c11470>]"
      ]
     },
     "execution_count": 201,
     "metadata": {},
     "output_type": "execute_result"
    }
   ],
   "source": [
    "elm = 2*ones(16)\n",
    "other = np.zeros(len(X[1])-len(label)-len(elm))\n",
    "pylab.plot(X[0], np.hstack((label,elm,other)))"
   ]
  },
  {
   "cell_type": "code",
   "execution_count": 202,
   "metadata": {
    "collapsed": true
   },
   "outputs": [],
   "source": [
    "#label = h((label,elm))"
   ]
  },
  {
   "cell_type": "code",
   "execution_count": 203,
   "metadata": {},
   "outputs": [
    {
     "name": "stdout",
     "output_type": "stream",
     "text": [
      "1107.9505\n",
      "82.39\n"
     ]
    }
   ],
   "source": [
    "o(1112.07,label)"
   ]
  },
  {
   "cell_type": "code",
   "execution_count": 206,
   "metadata": {},
   "outputs": [
    {
     "data": {
      "text/plain": [
       "[<matplotlib.lines.Line2D at 0x117903470>]"
      ]
     },
     "execution_count": 206,
     "metadata": {},
     "output_type": "execute_result"
    }
   ],
   "source": [
    "Hmod = np.zeros(84)\n",
    "other = 2*np.ones(len(X[1])-len(label)-len(Hmod))\n",
    "pylab.plot(X[0], np.hstack((label,Hmod,other)))"
   ]
  },
  {
   "cell_type": "code",
   "execution_count": 207,
   "metadata": {
    "collapsed": true
   },
   "outputs": [],
   "source": [
    "#label =h((label,Hmod))"
   ]
  },
  {
   "cell_type": "code",
   "execution_count": 208,
   "metadata": {},
   "outputs": [
    {
     "name": "stdout",
     "output_type": "stream",
     "text": [
      "1112.1505\n",
      "15.79\n"
     ]
    }
   ],
   "source": [
    "o(1112.94,label)"
   ]
  },
  {
   "cell_type": "code",
   "execution_count": 209,
   "metadata": {},
   "outputs": [
    {
     "data": {
      "text/plain": [
       "[<matplotlib.lines.Line2D at 0x11b299940>]"
      ]
     },
     "execution_count": 209,
     "metadata": {},
     "output_type": "execute_result"
    }
   ],
   "source": [
    "elm = 2*ones(16)\n",
    "other = np.zeros(len(X[1])-len(label)-len(elm))\n",
    "pylab.plot(X[0], np.hstack((label,elm,other)))"
   ]
  },
  {
   "cell_type": "code",
   "execution_count": 210,
   "metadata": {
    "collapsed": true
   },
   "outputs": [],
   "source": [
    "#label =h((label,elm))"
   ]
  },
  {
   "cell_type": "code",
   "execution_count": 211,
   "metadata": {},
   "outputs": [
    {
     "name": "stdout",
     "output_type": "stream",
     "text": [
      "1112.9505\n",
      "77.59\n"
     ]
    }
   ],
   "source": [
    "o(1116.83,label)"
   ]
  },
  {
   "cell_type": "code",
   "execution_count": 213,
   "metadata": {},
   "outputs": [
    {
     "data": {
      "text/plain": [
       "[<matplotlib.lines.Line2D at 0x119bbc828>]"
      ]
     },
     "execution_count": 213,
     "metadata": {},
     "output_type": "execute_result"
    }
   ],
   "source": [
    "Hmod = np.zeros(79)\n",
    "other = 2*np.ones(len(X[1])-len(label)-len(Hmod))\n",
    "pylab.plot(X[0], np.hstack((label,Hmod,other)))"
   ]
  },
  {
   "cell_type": "code",
   "execution_count": 214,
   "metadata": {
    "collapsed": true
   },
   "outputs": [],
   "source": [
    "#label = h((label,Hmod))"
   ]
  },
  {
   "cell_type": "code",
   "execution_count": 215,
   "metadata": {},
   "outputs": [
    {
     "name": "stdout",
     "output_type": "stream",
     "text": [
      "1116.9005\n",
      "11.19\n"
     ]
    }
   ],
   "source": [
    "o(1117.46,label)"
   ]
  },
  {
   "cell_type": "code",
   "execution_count": 217,
   "metadata": {},
   "outputs": [
    {
     "data": {
      "text/plain": [
       "[<matplotlib.lines.Line2D at 0x11b3042e8>]"
      ]
     },
     "execution_count": 217,
     "metadata": {},
     "output_type": "execute_result"
    }
   ],
   "source": [
    "elm = 2*ones(15)\n",
    "other = np.zeros(len(X[1])-len(label)-len(elm))\n",
    "pylab.plot(X[0], np.hstack((label,elm,other)))"
   ]
  },
  {
   "cell_type": "code",
   "execution_count": 218,
   "metadata": {
    "collapsed": true
   },
   "outputs": [],
   "source": [
    "#label = h((label,elm))"
   ]
  },
  {
   "cell_type": "code",
   "execution_count": 219,
   "metadata": {},
   "outputs": [
    {
     "name": "stdout",
     "output_type": "stream",
     "text": [
      "1117.6505\n",
      "94.19\n"
     ]
    }
   ],
   "source": [
    "o(1122.36,label)"
   ]
  },
  {
   "cell_type": "code",
   "execution_count": 221,
   "metadata": {},
   "outputs": [
    {
     "data": {
      "text/plain": [
       "[<matplotlib.lines.Line2D at 0x119bbc6d8>]"
      ]
     },
     "execution_count": 221,
     "metadata": {},
     "output_type": "execute_result"
    }
   ],
   "source": [
    "Hmod = np.zeros(95)\n",
    "other = 2*np.ones(len(X[1])-len(label)-len(Hmod))\n",
    "pylab.plot(X[0], np.hstack((label,Hmod,other)))"
   ]
  },
  {
   "cell_type": "code",
   "execution_count": 222,
   "metadata": {
    "collapsed": true
   },
   "outputs": [],
   "source": [
    "#label = h((label,Hmod))"
   ]
  },
  {
   "cell_type": "code",
   "execution_count": 223,
   "metadata": {},
   "outputs": [
    {
     "name": "stdout",
     "output_type": "stream",
     "text": [
      "1122.4005\n",
      "11.99\n"
     ]
    }
   ],
   "source": [
    "o(1123,label)"
   ]
  },
  {
   "cell_type": "code",
   "execution_count": 225,
   "metadata": {},
   "outputs": [
    {
     "data": {
      "text/plain": [
       "[<matplotlib.lines.Line2D at 0x11b30ee80>]"
      ]
     },
     "execution_count": 225,
     "metadata": {},
     "output_type": "execute_result"
    }
   ],
   "source": [
    "elm = 2*ones(13)\n",
    "other = np.zeros(len(X[1])-len(label)-len(elm))\n",
    "pylab.plot(X[0], np.hstack((label,elm,other)))"
   ]
  },
  {
   "cell_type": "code",
   "execution_count": 226,
   "metadata": {
    "collapsed": true
   },
   "outputs": [],
   "source": [
    "#label =h((label,elm))"
   ]
  },
  {
   "cell_type": "code",
   "execution_count": 227,
   "metadata": {},
   "outputs": [
    {
     "name": "stdout",
     "output_type": "stream",
     "text": [
      "1123.0505\n",
      "83.79\n"
     ]
    }
   ],
   "source": [
    "o(1127.24,label)"
   ]
  },
  {
   "cell_type": "code",
   "execution_count": 229,
   "metadata": {},
   "outputs": [
    {
     "data": {
      "text/plain": [
       "[<matplotlib.lines.Line2D at 0x11b304940>]"
      ]
     },
     "execution_count": 229,
     "metadata": {},
     "output_type": "execute_result"
    }
   ],
   "source": [
    "Hmod = np.zeros(85)\n",
    "other = 2*np.ones(len(X[1])-len(label)-len(Hmod))\n",
    "pylab.plot(X[0], np.hstack((label,Hmod,other)))"
   ]
  },
  {
   "cell_type": "code",
   "execution_count": 230,
   "metadata": {
    "collapsed": true
   },
   "outputs": [],
   "source": [
    "#label = h((label,Hmod))"
   ]
  },
  {
   "cell_type": "code",
   "execution_count": 231,
   "metadata": {},
   "outputs": [
    {
     "name": "stdout",
     "output_type": "stream",
     "text": [
      "1127.3005\n",
      "14.59\n"
     ]
    }
   ],
   "source": [
    "o(1128.03,label)"
   ]
  },
  {
   "cell_type": "code",
   "execution_count": 234,
   "metadata": {},
   "outputs": [
    {
     "data": {
      "text/plain": [
       "[<matplotlib.lines.Line2D at 0x11b335e10>]"
      ]
     },
     "execution_count": 234,
     "metadata": {},
     "output_type": "execute_result"
    }
   ],
   "source": [
    "elm = 2*ones(15)\n",
    "other = np.zeros(len(X[1])-len(label)-len(elm))\n",
    "pylab.plot(X[0], np.hstack((label,elm,other)))"
   ]
  },
  {
   "cell_type": "code",
   "execution_count": 235,
   "metadata": {
    "collapsed": true
   },
   "outputs": [],
   "source": [
    "#label = h((label,elm))"
   ]
  },
  {
   "cell_type": "code",
   "execution_count": 236,
   "metadata": {},
   "outputs": [
    {
     "name": "stdout",
     "output_type": "stream",
     "text": [
      "1128.0505\n",
      "55.99\n"
     ]
    }
   ],
   "source": [
    "o(1130.85,label)"
   ]
  },
  {
   "cell_type": "code",
   "execution_count": 239,
   "metadata": {},
   "outputs": [
    {
     "data": {
      "text/plain": [
       "[<matplotlib.lines.Line2D at 0x11b342c50>]"
      ]
     },
     "execution_count": 239,
     "metadata": {},
     "output_type": "execute_result"
    }
   ],
   "source": [
    "Hmod = np.zeros(58)\n",
    "other = 2*np.ones(len(X[1])-len(label)-len(Hmod))\n",
    "pylab.plot(X[0], np.hstack((label,Hmod,other)))"
   ]
  },
  {
   "cell_type": "code",
   "execution_count": 240,
   "metadata": {
    "collapsed": true
   },
   "outputs": [],
   "source": [
    "#label =h((label,Hmod))"
   ]
  },
  {
   "cell_type": "code",
   "execution_count": 241,
   "metadata": {},
   "outputs": [
    {
     "name": "stdout",
     "output_type": "stream",
     "text": [
      "1130.9505\n",
      "14.79\n"
     ]
    }
   ],
   "source": [
    "o(1131.69,label)"
   ]
  },
  {
   "cell_type": "code",
   "execution_count": 242,
   "metadata": {},
   "outputs": [
    {
     "data": {
      "text/plain": [
       "[<matplotlib.lines.Line2D at 0x11b34b550>]"
      ]
     },
     "execution_count": 242,
     "metadata": {},
     "output_type": "execute_result"
    }
   ],
   "source": [
    "elm = 2*ones(15)\n",
    "other = np.zeros(len(X[1])-len(label)-len(elm))\n",
    "pylab.plot(X[0], np.hstack((label,elm,other)))"
   ]
  },
  {
   "cell_type": "code",
   "execution_count": 243,
   "metadata": {
    "collapsed": true
   },
   "outputs": [],
   "source": [
    "#label = h((label,elm))"
   ]
  },
  {
   "cell_type": "code",
   "execution_count": 244,
   "metadata": {},
   "outputs": [
    {
     "name": "stdout",
     "output_type": "stream",
     "text": [
      "1131.7005\n",
      "67.99\n"
     ]
    }
   ],
   "source": [
    "o(1135.1,label)"
   ]
  },
  {
   "cell_type": "code",
   "execution_count": 247,
   "metadata": {},
   "outputs": [
    {
     "data": {
      "text/plain": [
       "[<matplotlib.lines.Line2D at 0x11b367320>]"
      ]
     },
     "execution_count": 247,
     "metadata": {},
     "output_type": "execute_result"
    }
   ],
   "source": [
    "Hmod = np.zeros(70)\n",
    "other = 2*np.ones(len(X[1])-len(label)-len(Hmod))\n",
    "pylab.plot(X[0], np.hstack((label,Hmod,other)))"
   ]
  },
  {
   "cell_type": "code",
   "execution_count": 248,
   "metadata": {
    "collapsed": true
   },
   "outputs": [],
   "source": [
    "#label =h((label,Hmod))"
   ]
  },
  {
   "cell_type": "code",
   "execution_count": 249,
   "metadata": {},
   "outputs": [
    {
     "name": "stdout",
     "output_type": "stream",
     "text": [
      "1135.2005\n",
      "13.99\n"
     ]
    }
   ],
   "source": [
    "o(1135.9,label)"
   ]
  },
  {
   "cell_type": "code",
   "execution_count": 250,
   "metadata": {},
   "outputs": [
    {
     "data": {
      "text/plain": [
       "[<matplotlib.lines.Line2D at 0x11b399748>]"
      ]
     },
     "execution_count": 250,
     "metadata": {},
     "output_type": "execute_result"
    }
   ],
   "source": [
    "elm = 2*ones(14)\n",
    "other = np.zeros(len(X[1])-len(label)-len(elm))\n",
    "pylab.plot(X[0], np.hstack((label,elm,other)))"
   ]
  },
  {
   "cell_type": "code",
   "execution_count": 251,
   "metadata": {
    "collapsed": true
   },
   "outputs": [],
   "source": [
    "#label = h((label,elm))"
   ]
  },
  {
   "cell_type": "code",
   "execution_count": 252,
   "metadata": {},
   "outputs": [
    {
     "name": "stdout",
     "output_type": "stream",
     "text": [
      "1135.9005\n",
      "71.99\n"
     ]
    }
   ],
   "source": [
    "o(1139.5,label)"
   ]
  },
  {
   "cell_type": "code",
   "execution_count": 254,
   "metadata": {},
   "outputs": [
    {
     "data": {
      "text/plain": [
       "[<matplotlib.lines.Line2D at 0x11b2e70b8>]"
      ]
     },
     "execution_count": 254,
     "metadata": {},
     "output_type": "execute_result"
    }
   ],
   "source": [
    "Hmod = np.zeros(73)\n",
    "other = 2*np.ones(len(X[1])-len(label)-len(Hmod))\n",
    "pylab.plot(X[0], np.hstack((label,Hmod,other)))"
   ]
  },
  {
   "cell_type": "code",
   "execution_count": 255,
   "metadata": {
    "collapsed": true
   },
   "outputs": [],
   "source": [
    "#label =h((label,Hmod))"
   ]
  },
  {
   "cell_type": "code",
   "execution_count": 256,
   "metadata": {},
   "outputs": [
    {
     "name": "stdout",
     "output_type": "stream",
     "text": [
      "1139.5505\n",
      "10.99\n"
     ]
    }
   ],
   "source": [
    "o(1140.1,label)"
   ]
  },
  {
   "cell_type": "code",
   "execution_count": 257,
   "metadata": {},
   "outputs": [
    {
     "data": {
      "text/plain": [
       "[<matplotlib.lines.Line2D at 0x11b3b27b8>]"
      ]
     },
     "execution_count": 257,
     "metadata": {},
     "output_type": "execute_result"
    }
   ],
   "source": [
    "elm = 2*ones(11)\n",
    "other = np.zeros(len(X[1])-len(label)-len(elm))\n",
    "pylab.plot(X[0], np.hstack((label,elm,other)))"
   ]
  },
  {
   "cell_type": "code",
   "execution_count": 258,
   "metadata": {
    "collapsed": true
   },
   "outputs": [],
   "source": [
    "#label =h((label,elm))"
   ]
  },
  {
   "cell_type": "code",
   "execution_count": 259,
   "metadata": {},
   "outputs": [
    {
     "name": "stdout",
     "output_type": "stream",
     "text": [
      "1140.1005\n",
      "91.99\n"
     ]
    }
   ],
   "source": [
    "o(1144.7,label)"
   ]
  },
  {
   "cell_type": "code",
   "execution_count": 261,
   "metadata": {},
   "outputs": [
    {
     "data": {
      "text/plain": [
       "[<matplotlib.lines.Line2D at 0x11b3c5940>]"
      ]
     },
     "execution_count": 261,
     "metadata": {},
     "output_type": "execute_result"
    }
   ],
   "source": [
    "Hmod = np.zeros(93)\n",
    "other = 2*np.ones(len(X[1])-len(label)-len(Hmod))\n",
    "pylab.plot(X[0], np.hstack((label,Hmod,other)))"
   ]
  },
  {
   "cell_type": "code",
   "execution_count": 262,
   "metadata": {
    "collapsed": true
   },
   "outputs": [],
   "source": [
    "#label =h((label,Hmod))"
   ]
  },
  {
   "cell_type": "code",
   "execution_count": 263,
   "metadata": {},
   "outputs": [
    {
     "name": "stdout",
     "output_type": "stream",
     "text": [
      "1144.7505\n",
      "10.99\n"
     ]
    }
   ],
   "source": [
    "o(1145.3,label)"
   ]
  },
  {
   "cell_type": "code",
   "execution_count": 265,
   "metadata": {},
   "outputs": [
    {
     "data": {
      "text/plain": [
       "[<matplotlib.lines.Line2D at 0x11b27efd0>]"
      ]
     },
     "execution_count": 265,
     "metadata": {},
     "output_type": "execute_result"
    }
   ],
   "source": [
    "elm = 2*ones(12)\n",
    "other = np.zeros(len(X[1])-len(label)-len(elm))\n",
    "pylab.plot(X[0], np.hstack((label,elm,other)))"
   ]
  },
  {
   "cell_type": "code",
   "execution_count": 266,
   "metadata": {
    "collapsed": true
   },
   "outputs": [],
   "source": [
    "#label =h((label,elm))"
   ]
  },
  {
   "cell_type": "code",
   "execution_count": 267,
   "metadata": {},
   "outputs": [
    {
     "name": "stdout",
     "output_type": "stream",
     "text": [
      "1145.3505\n",
      "99.99\n"
     ]
    }
   ],
   "source": [
    "o(1150.35,label)"
   ]
  },
  {
   "cell_type": "code",
   "execution_count": 269,
   "metadata": {},
   "outputs": [
    {
     "data": {
      "text/plain": [
       "[<matplotlib.lines.Line2D at 0x11b399be0>]"
      ]
     },
     "execution_count": 269,
     "metadata": {},
     "output_type": "execute_result"
    }
   ],
   "source": [
    "Hmod = np.zeros(101)\n",
    "other = 2*np.ones(len(X[1])-len(label)-len(Hmod))\n",
    "pylab.plot(X[0], np.hstack((label,Hmod,other)))"
   ]
  },
  {
   "cell_type": "code",
   "execution_count": 270,
   "metadata": {
    "collapsed": true
   },
   "outputs": [],
   "source": [
    "#label = h((label,Hmod))"
   ]
  },
  {
   "cell_type": "code",
   "execution_count": 271,
   "metadata": {},
   "outputs": [
    {
     "name": "stdout",
     "output_type": "stream",
     "text": [
      "1150.4005\n",
      "13.99\n"
     ]
    }
   ],
   "source": [
    "o(1151.1,label)"
   ]
  },
  {
   "cell_type": "code",
   "execution_count": 273,
   "metadata": {},
   "outputs": [
    {
     "data": {
      "text/plain": [
       "[<matplotlib.lines.Line2D at 0x119bccc18>]"
      ]
     },
     "execution_count": 273,
     "metadata": {},
     "output_type": "execute_result"
    }
   ],
   "source": [
    "elm = 2*ones(15)\n",
    "other = np.zeros(len(X[1])-len(label)-len(elm))\n",
    "pylab.plot(X[0], np.hstack((label,elm,other)))"
   ]
  },
  {
   "cell_type": "code",
   "execution_count": 274,
   "metadata": {
    "collapsed": true
   },
   "outputs": [],
   "source": [
    "#label = h((label,elm))"
   ]
  },
  {
   "cell_type": "code",
   "execution_count": 275,
   "metadata": {},
   "outputs": [
    {
     "name": "stdout",
     "output_type": "stream",
     "text": [
      "1151.1505\n",
      "94.99\n"
     ]
    }
   ],
   "source": [
    "o(1155.9,label)"
   ]
  },
  {
   "cell_type": "code",
   "execution_count": 277,
   "metadata": {},
   "outputs": [
    {
     "data": {
      "text/plain": [
       "[<matplotlib.lines.Line2D at 0x11b34ba58>]"
      ]
     },
     "execution_count": 277,
     "metadata": {},
     "output_type": "execute_result"
    }
   ],
   "source": [
    "Hmod = np.zeros(96)\n",
    "other = 2*np.ones(len(X[1])-len(label)-len(Hmod))\n",
    "pylab.plot(X[0], np.hstack((label,Hmod,other)))"
   ]
  },
  {
   "cell_type": "code",
   "execution_count": 278,
   "metadata": {
    "collapsed": true
   },
   "outputs": [],
   "source": [
    "#label =h((label,Hmod))"
   ]
  },
  {
   "cell_type": "code",
   "execution_count": 279,
   "metadata": {},
   "outputs": [
    {
     "name": "stdout",
     "output_type": "stream",
     "text": [
      "1155.9505\n",
      "12.99\n"
     ]
    }
   ],
   "source": [
    "o(1156.6,label)"
   ]
  },
  {
   "cell_type": "code",
   "execution_count": 280,
   "metadata": {},
   "outputs": [
    {
     "data": {
      "text/plain": [
       "[<matplotlib.lines.Line2D at 0x1190c4f98>]"
      ]
     },
     "execution_count": 280,
     "metadata": {},
     "output_type": "execute_result"
    }
   ],
   "source": [
    "elm = 2*ones(13)\n",
    "other = np.zeros(len(X[1])-len(label)-len(elm))\n",
    "pylab.plot(X[0], np.hstack((label,elm,other)))"
   ]
  },
  {
   "cell_type": "code",
   "execution_count": 281,
   "metadata": {
    "collapsed": true
   },
   "outputs": [],
   "source": [
    "#label =h((label,elm))"
   ]
  },
  {
   "cell_type": "code",
   "execution_count": 282,
   "metadata": {},
   "outputs": [
    {
     "name": "stdout",
     "output_type": "stream",
     "text": [
      "1156.6005\n",
      "105.79\n"
     ]
    }
   ],
   "source": [
    "o(1161.89,label)"
   ]
  },
  {
   "cell_type": "code",
   "execution_count": 284,
   "metadata": {},
   "outputs": [
    {
     "data": {
      "text/plain": [
       "[<matplotlib.lines.Line2D at 0x11b41fb00>]"
      ]
     },
     "execution_count": 284,
     "metadata": {},
     "output_type": "execute_result"
    }
   ],
   "source": [
    "Hmod = np.zeros(107)\n",
    "other = 2*np.ones(len(X[1])-len(label)-len(Hmod))\n",
    "pylab.plot(X[0], np.hstack((label,Hmod,other)))"
   ]
  },
  {
   "cell_type": "code",
   "execution_count": 286,
   "metadata": {
    "collapsed": true
   },
   "outputs": [],
   "source": [
    "#label =h((label,Hmod))"
   ]
  },
  {
   "cell_type": "code",
   "execution_count": 287,
   "metadata": {},
   "outputs": [
    {
     "name": "stdout",
     "output_type": "stream",
     "text": [
      "1161.9505\n",
      "18.79\n"
     ]
    }
   ],
   "source": [
    "o(1162.89,label)"
   ]
  },
  {
   "cell_type": "code",
   "execution_count": 288,
   "metadata": {},
   "outputs": [
    {
     "data": {
      "text/plain": [
       "[<matplotlib.lines.Line2D at 0x11b41f908>]"
      ]
     },
     "execution_count": 288,
     "metadata": {},
     "output_type": "execute_result"
    }
   ],
   "source": [
    "elm = 2*ones(19)\n",
    "other = np.zeros(len(X[1])-len(label)-len(elm))\n",
    "pylab.plot(X[0], np.hstack((label,elm,other)))"
   ]
  },
  {
   "cell_type": "code",
   "execution_count": 289,
   "metadata": {
    "collapsed": true
   },
   "outputs": [],
   "source": [
    "#label = h((label,elm))"
   ]
  },
  {
   "cell_type": "code",
   "execution_count": 290,
   "metadata": {},
   "outputs": [
    {
     "name": "stdout",
     "output_type": "stream",
     "text": [
      "1162.9005\n",
      "92.99\n"
     ]
    }
   ],
   "source": [
    "o(1167.55,label)"
   ]
  },
  {
   "cell_type": "code",
   "execution_count": 292,
   "metadata": {},
   "outputs": [
    {
     "data": {
      "text/plain": [
       "[<matplotlib.lines.Line2D at 0x11b43aa90>]"
      ]
     },
     "execution_count": 292,
     "metadata": {},
     "output_type": "execute_result"
    }
   ],
   "source": [
    "Hmod = np.zeros(94)\n",
    "other = 2*np.ones(len(X[1])-len(label)-len(Hmod))\n",
    "pylab.plot(X[0], np.hstack((label,Hmod,other)))"
   ]
  },
  {
   "cell_type": "code",
   "execution_count": 293,
   "metadata": {
    "collapsed": true
   },
   "outputs": [],
   "source": [
    "#label = h((label,Hmod))"
   ]
  },
  {
   "cell_type": "code",
   "execution_count": 294,
   "metadata": {},
   "outputs": [
    {
     "name": "stdout",
     "output_type": "stream",
     "text": [
      "1167.6005\n",
      "10.79\n"
     ]
    }
   ],
   "source": [
    "o(1168.14,label)"
   ]
  },
  {
   "cell_type": "code",
   "execution_count": 295,
   "metadata": {},
   "outputs": [
    {
     "data": {
      "text/plain": [
       "[<matplotlib.lines.Line2D at 0x11b4482e8>]"
      ]
     },
     "execution_count": 295,
     "metadata": {},
     "output_type": "execute_result"
    }
   ],
   "source": [
    "elm = 2*ones(11)\n",
    "other = np.zeros(len(X[1])-len(label)-len(elm))\n",
    "pylab.plot(X[0], np.hstack((label,elm,other)))"
   ]
  },
  {
   "cell_type": "code",
   "execution_count": 296,
   "metadata": {
    "collapsed": true
   },
   "outputs": [],
   "source": [
    "#72.1\n",
    "#label = h((label,elm))"
   ]
  },
  {
   "cell_type": "code",
   "execution_count": 297,
   "metadata": {},
   "outputs": [
    {
     "name": "stdout",
     "output_type": "stream",
     "text": [
      "1168.1505\n",
      "78.99\n"
     ]
    }
   ],
   "source": [
    "o(1172.1,label)"
   ]
  },
  {
   "cell_type": "code",
   "execution_count": 299,
   "metadata": {},
   "outputs": [
    {
     "data": {
      "text/plain": [
       "[<matplotlib.lines.Line2D at 0x11b448be0>]"
      ]
     },
     "execution_count": 299,
     "metadata": {},
     "output_type": "execute_result"
    }
   ],
   "source": [
    "Hmod = np.zeros(80)\n",
    "other = 2*np.ones(len(X[1])-len(label)-len(Hmod))\n",
    "pylab.plot(X[0], np.hstack((label,Hmod,other)))"
   ]
  },
  {
   "cell_type": "code",
   "execution_count": 300,
   "metadata": {
    "collapsed": true
   },
   "outputs": [],
   "source": [
    "#label = h((label,Hmod))"
   ]
  },
  {
   "cell_type": "code",
   "execution_count": 301,
   "metadata": {},
   "outputs": [
    {
     "name": "stdout",
     "output_type": "stream",
     "text": [
      "1172.1505\n",
      "13.59\n"
     ]
    }
   ],
   "source": [
    "o(1172.83,label)"
   ]
  },
  {
   "cell_type": "code",
   "execution_count": 302,
   "metadata": {},
   "outputs": [
    {
     "data": {
      "text/plain": [
       "[<matplotlib.lines.Line2D at 0x11b453550>]"
      ]
     },
     "execution_count": 302,
     "metadata": {},
     "output_type": "execute_result"
    }
   ],
   "source": [
    "elm = 2*ones(14)\n",
    "other = np.zeros(len(X[1])-len(label)-len(elm))\n",
    "pylab.plot(X[0], np.hstack((label,elm,other)))"
   ]
  },
  {
   "cell_type": "code",
   "execution_count": 303,
   "metadata": {
    "collapsed": true
   },
   "outputs": [],
   "source": [
    "#label = h((label,elm))"
   ]
  },
  {
   "cell_type": "code",
   "execution_count": 304,
   "metadata": {},
   "outputs": [
    {
     "name": "stdout",
     "output_type": "stream",
     "text": [
      "1172.8505\n",
      "80.99\n"
     ]
    }
   ],
   "source": [
    "o(1176.9,label)"
   ]
  },
  {
   "cell_type": "code",
   "execution_count": 306,
   "metadata": {},
   "outputs": [
    {
     "data": {
      "text/plain": [
       "[<matplotlib.lines.Line2D at 0x11b4682e8>]"
      ]
     },
     "execution_count": 306,
     "metadata": {},
     "output_type": "execute_result"
    }
   ],
   "source": [
    "Hmod = np.zeros(82)\n",
    "other = 2*np.ones(len(X[1])-len(label)-len(Hmod))\n",
    "pylab.plot(X[0], np.hstack((label,Hmod,other)))"
   ]
  },
  {
   "cell_type": "code",
   "execution_count": 307,
   "metadata": {
    "collapsed": true
   },
   "outputs": [],
   "source": [
    "#label = h((label,Hmod))"
   ]
  },
  {
   "cell_type": "code",
   "execution_count": 308,
   "metadata": {},
   "outputs": [
    {
     "name": "stdout",
     "output_type": "stream",
     "text": [
      "1176.9505\n",
      "15.79\n"
     ]
    }
   ],
   "source": [
    "o(1177.74,label)"
   ]
  },
  {
   "cell_type": "code",
   "execution_count": 309,
   "metadata": {},
   "outputs": [
    {
     "data": {
      "text/plain": [
       "[<matplotlib.lines.Line2D at 0x11b43aef0>]"
      ]
     },
     "execution_count": 309,
     "metadata": {},
     "output_type": "execute_result"
    }
   ],
   "source": [
    "elm = 2*ones(16)\n",
    "other = np.zeros(len(X[1])-len(label)-len(elm))\n",
    "pylab.plot(X[0], np.hstack((label,elm,other)))"
   ]
  },
  {
   "cell_type": "code",
   "execution_count": 310,
   "metadata": {
    "collapsed": true
   },
   "outputs": [],
   "source": [
    "#label = h((label,elm))"
   ]
  },
  {
   "cell_type": "code",
   "execution_count": 311,
   "metadata": {},
   "outputs": [
    {
     "name": "stdout",
     "output_type": "stream",
     "text": [
      "1177.7505\n",
      "94.99\n"
     ]
    }
   ],
   "source": [
    "o(1182.5,label)"
   ]
  },
  {
   "cell_type": "code",
   "execution_count": 313,
   "metadata": {},
   "outputs": [
    {
     "data": {
      "text/plain": [
       "[<matplotlib.lines.Line2D at 0x11b47c2b0>]"
      ]
     },
     "execution_count": 313,
     "metadata": {},
     "output_type": "execute_result"
    }
   ],
   "source": [
    "Hmod = np.zeros(96)\n",
    "other = 2*np.ones(len(X[1])-len(label)-len(Hmod))\n",
    "pylab.plot(X[0], np.hstack((label,Hmod,other)))"
   ]
  },
  {
   "cell_type": "code",
   "execution_count": 314,
   "metadata": {
    "collapsed": true
   },
   "outputs": [],
   "source": [
    "#label = h((label,Hmod))"
   ]
  },
  {
   "cell_type": "code",
   "execution_count": 315,
   "metadata": {},
   "outputs": [
    {
     "name": "stdout",
     "output_type": "stream",
     "text": [
      "1182.5505\n",
      "13.59\n"
     ]
    }
   ],
   "source": [
    "o(1183.23,label)"
   ]
  },
  {
   "cell_type": "code",
   "execution_count": 316,
   "metadata": {},
   "outputs": [
    {
     "data": {
      "text/plain": [
       "[<matplotlib.lines.Line2D at 0x11b47cbe0>]"
      ]
     },
     "execution_count": 316,
     "metadata": {},
     "output_type": "execute_result"
    }
   ],
   "source": [
    "elm = 2*ones(14)\n",
    "other = np.zeros(len(X[1])-len(label)-len(elm))\n",
    "pylab.plot(X[0], np.hstack((label,elm,other)))"
   ]
  },
  {
   "cell_type": "code",
   "execution_count": 317,
   "metadata": {
    "collapsed": true
   },
   "outputs": [],
   "source": [
    "#label = h((label,elm))"
   ]
  },
  {
   "cell_type": "code",
   "execution_count": 318,
   "metadata": {},
   "outputs": [
    {
     "name": "stdout",
     "output_type": "stream",
     "text": [
      "1183.2505\n",
      "79.79\n"
     ]
    }
   ],
   "source": [
    "o(1187.24,label)"
   ]
  },
  {
   "cell_type": "code",
   "execution_count": 320,
   "metadata": {},
   "outputs": [
    {
     "data": {
      "text/plain": [
       "[<matplotlib.lines.Line2D at 0x11b484c18>]"
      ]
     },
     "execution_count": 320,
     "metadata": {},
     "output_type": "execute_result"
    }
   ],
   "source": [
    "Hmod = np.zeros(81)\n",
    "other = 2*np.ones(len(X[1])-len(label)-len(Hmod))\n",
    "pylab.plot(X[0], np.hstack((label,Hmod,other)))"
   ]
  },
  {
   "cell_type": "code",
   "execution_count": 321,
   "metadata": {
    "collapsed": true
   },
   "outputs": [],
   "source": [
    "#label =h((label,Hmod))"
   ]
  },
  {
   "cell_type": "code",
   "execution_count": 322,
   "metadata": {},
   "outputs": [
    {
     "name": "stdout",
     "output_type": "stream",
     "text": [
      "1187.3005\n",
      "17.99\n"
     ]
    }
   ],
   "source": [
    "o(1188.2,label)"
   ]
  },
  {
   "cell_type": "code",
   "execution_count": 323,
   "metadata": {},
   "outputs": [
    {
     "data": {
      "text/plain": [
       "[<matplotlib.lines.Line2D at 0x11b484128>]"
      ]
     },
     "execution_count": 323,
     "metadata": {},
     "output_type": "execute_result"
    }
   ],
   "source": [
    "elm = 2*ones(18)\n",
    "other = np.zeros(len(X[1])-len(label)-len(elm))\n",
    "pylab.plot(X[0], np.hstack((label,elm,other)))"
   ]
  },
  {
   "cell_type": "code",
   "execution_count": 324,
   "metadata": {
    "collapsed": true
   },
   "outputs": [],
   "source": [
    "#label =h((label,elm))"
   ]
  },
  {
   "cell_type": "code",
   "execution_count": 325,
   "metadata": {},
   "outputs": [
    {
     "name": "stdout",
     "output_type": "stream",
     "text": [
      "1188.2005\n",
      "65.99\n"
     ]
    }
   ],
   "source": [
    "o(1191.5,label)"
   ]
  },
  {
   "cell_type": "code",
   "execution_count": 327,
   "metadata": {},
   "outputs": [
    {
     "data": {
      "text/plain": [
       "[<matplotlib.lines.Line2D at 0x11a50a550>]"
      ]
     },
     "execution_count": 327,
     "metadata": {},
     "output_type": "execute_result"
    }
   ],
   "source": [
    "Hmod = np.zeros(68)\n",
    "other = 2*np.ones(len(X[1])-len(label)-len(Hmod))\n",
    "pylab.plot(X[0], np.hstack((label,Hmod,other)))"
   ]
  },
  {
   "cell_type": "code",
   "execution_count": 328,
   "metadata": {
    "collapsed": true
   },
   "outputs": [],
   "source": [
    "#label = h((label,Hmod))"
   ]
  },
  {
   "cell_type": "code",
   "execution_count": 329,
   "metadata": {},
   "outputs": [
    {
     "data": {
      "text/plain": [
       "4032"
      ]
     },
     "execution_count": 329,
     "metadata": {},
     "output_type": "execute_result"
    }
   ],
   "source": [
    "len(label)"
   ]
  },
  {
   "cell_type": "code",
   "execution_count": 330,
   "metadata": {},
   "outputs": [
    {
     "name": "stdout",
     "output_type": "stream",
     "text": [
      "1191.6005\n",
      "12.99\n"
     ]
    }
   ],
   "source": [
    "o(1192.25,label)"
   ]
  },
  {
   "cell_type": "code",
   "execution_count": 331,
   "metadata": {},
   "outputs": [
    {
     "data": {
      "text/plain": [
       "[<matplotlib.lines.Line2D at 0x11b4b0e80>]"
      ]
     },
     "execution_count": 331,
     "metadata": {},
     "output_type": "execute_result"
    }
   ],
   "source": [
    "elm = 2*ones(13)\n",
    "other = np.zeros(len(X[1])-len(label)-len(elm))\n",
    "pylab.plot(X[0], np.hstack((label,elm,other)))"
   ]
  },
  {
   "cell_type": "code",
   "execution_count": 332,
   "metadata": {
    "collapsed": true
   },
   "outputs": [],
   "source": [
    "#label =h((label,elm))"
   ]
  },
  {
   "cell_type": "code",
   "execution_count": 334,
   "metadata": {},
   "outputs": [
    {
     "name": "stdout",
     "output_type": "stream",
     "text": [
      "1192.2505\n",
      "45.79\n"
     ]
    }
   ],
   "source": [
    "o(1194.54,label)"
   ]
  },
  {
   "cell_type": "code",
   "execution_count": 336,
   "metadata": {},
   "outputs": [
    {
     "data": {
      "text/plain": [
       "[<matplotlib.lines.Line2D at 0x11b4bc1d0>]"
      ]
     },
     "execution_count": 336,
     "metadata": {},
     "output_type": "execute_result"
    }
   ],
   "source": [
    "Hmod = np.zeros(47)\n",
    "other = 2*np.ones(len(X[1])-len(label)-len(Hmod))\n",
    "pylab.plot(X[0], np.hstack((label,Hmod,other)))"
   ]
  },
  {
   "cell_type": "code",
   "execution_count": 337,
   "metadata": {
    "collapsed": true
   },
   "outputs": [],
   "source": [
    "#label =h((label,Hmod))"
   ]
  },
  {
   "cell_type": "code",
   "execution_count": 338,
   "metadata": {},
   "outputs": [
    {
     "name": "stdout",
     "output_type": "stream",
     "text": [
      "1194.6005\n",
      "13.99\n"
     ]
    }
   ],
   "source": [
    "o(1195.3,label)"
   ]
  },
  {
   "cell_type": "code",
   "execution_count": 339,
   "metadata": {},
   "outputs": [
    {
     "data": {
      "text/plain": [
       "[<matplotlib.lines.Line2D at 0x11b4bce10>]"
      ]
     },
     "execution_count": 339,
     "metadata": {},
     "output_type": "execute_result"
    }
   ],
   "source": [
    "elm = 2*ones(14)\n",
    "other = np.zeros(len(X[1])-len(label)-len(elm))\n",
    "pylab.plot(X[0], np.hstack((label,elm,other)))"
   ]
  },
  {
   "cell_type": "code",
   "execution_count": 340,
   "metadata": {
    "collapsed": true
   },
   "outputs": [],
   "source": [
    "#label = h((label,elm))"
   ]
  },
  {
   "cell_type": "code",
   "execution_count": 341,
   "metadata": {},
   "outputs": [
    {
     "name": "stdout",
     "output_type": "stream",
     "text": [
      "1195.3005\n",
      "37.79\n"
     ]
    }
   ],
   "source": [
    "o(1197.19,label)"
   ]
  },
  {
   "cell_type": "code",
   "execution_count": 343,
   "metadata": {},
   "outputs": [
    {
     "data": {
      "text/plain": [
       "[<matplotlib.lines.Line2D at 0x11b4c8e80>]"
      ]
     },
     "execution_count": 343,
     "metadata": {},
     "output_type": "execute_result"
    }
   ],
   "source": [
    "Hmod = np.zeros(39)\n",
    "other = 2*np.ones(len(X[1])-len(label)-len(Hmod))\n",
    "pylab.plot(X[0], np.hstack((label,Hmod,other)))"
   ]
  },
  {
   "cell_type": "code",
   "execution_count": 344,
   "metadata": {
    "collapsed": true
   },
   "outputs": [],
   "source": [
    "#label =h((label,Hmod))"
   ]
  },
  {
   "cell_type": "code",
   "execution_count": 345,
   "metadata": {},
   "outputs": [
    {
     "name": "stdout",
     "output_type": "stream",
     "text": [
      "1197.2505\n",
      "8.79\n"
     ]
    }
   ],
   "source": [
    "o(1197.69,label)"
   ]
  },
  {
   "cell_type": "code",
   "execution_count": 346,
   "metadata": {},
   "outputs": [
    {
     "data": {
      "text/plain": [
       "[<matplotlib.lines.Line2D at 0x11b4bcb70>]"
      ]
     },
     "execution_count": 346,
     "metadata": {},
     "output_type": "execute_result"
    }
   ],
   "source": [
    "elm = 2*ones(9)\n",
    "other = np.zeros(len(X[1])-len(label)-len(elm))\n",
    "pylab.plot(X[0], np.hstack((label,elm,other)))"
   ]
  },
  {
   "cell_type": "code",
   "execution_count": 347,
   "metadata": {
    "collapsed": true
   },
   "outputs": [],
   "source": [
    "#label = h((label,elm))"
   ]
  },
  {
   "cell_type": "code",
   "execution_count": 348,
   "metadata": {},
   "outputs": [
    {
     "name": "stdout",
     "output_type": "stream",
     "text": [
      "1197.7005\n",
      "36.79\n"
     ]
    }
   ],
   "source": [
    "o(1199.54,label)"
   ]
  },
  {
   "cell_type": "code",
   "execution_count": 350,
   "metadata": {},
   "outputs": [
    {
     "data": {
      "text/plain": [
       "[<matplotlib.lines.Line2D at 0x11b292048>]"
      ]
     },
     "execution_count": 350,
     "metadata": {},
     "output_type": "execute_result"
    }
   ],
   "source": [
    "Hmod = np.zeros(38)\n",
    "other = 2*np.ones(len(X[1])-len(label)-len(Hmod))\n",
    "pylab.plot(X[0], np.hstack((label,Hmod,other)))"
   ]
  },
  {
   "cell_type": "code",
   "execution_count": 351,
   "metadata": {
    "collapsed": true
   },
   "outputs": [],
   "source": [
    "#label= h((label,Hmod))"
   ]
  },
  {
   "cell_type": "code",
   "execution_count": 352,
   "metadata": {},
   "outputs": [
    {
     "name": "stdout",
     "output_type": "stream",
     "text": [
      "1199.6005\n",
      "14.59\n"
     ]
    }
   ],
   "source": [
    "o(1200.33,label)"
   ]
  },
  {
   "cell_type": "code",
   "execution_count": 353,
   "metadata": {},
   "outputs": [
    {
     "data": {
      "text/plain": [
       "[<matplotlib.lines.Line2D at 0x11b292860>]"
      ]
     },
     "execution_count": 353,
     "metadata": {},
     "output_type": "execute_result"
    }
   ],
   "source": [
    "elm = 2*ones(15)\n",
    "other = np.zeros(len(X[1])-len(label)-len(elm))\n",
    "pylab.plot(X[0], np.hstack((label,elm,other)))"
   ]
  },
  {
   "cell_type": "code",
   "execution_count": 354,
   "metadata": {
    "collapsed": true
   },
   "outputs": [],
   "source": [
    "#label = h((label,elm))"
   ]
  },
  {
   "cell_type": "code",
   "execution_count": 357,
   "metadata": {},
   "outputs": [
    {
     "name": "stdout",
     "output_type": "stream",
     "text": [
      "1200.3505\n",
      "30.19\n"
     ]
    }
   ],
   "source": [
    "o(1201.86,label)"
   ]
  },
  {
   "cell_type": "code",
   "execution_count": 358,
   "metadata": {},
   "outputs": [
    {
     "data": {
      "text/plain": [
       "[<matplotlib.lines.Line2D at 0x119bbc2b0>]"
      ]
     },
     "execution_count": 358,
     "metadata": {},
     "output_type": "execute_result"
    }
   ],
   "source": [
    "Hmod = np.zeros(31)\n",
    "other = 2*np.ones(len(X[1])-len(label)-len(Hmod))\n",
    "pylab.plot(X[0], np.hstack((label,Hmod,other)))"
   ]
  },
  {
   "cell_type": "code",
   "execution_count": 359,
   "metadata": {
    "collapsed": true
   },
   "outputs": [],
   "source": [
    "#label = h((label,Hmod))"
   ]
  },
  {
   "cell_type": "code",
   "execution_count": 360,
   "metadata": {},
   "outputs": [
    {
     "name": "stdout",
     "output_type": "stream",
     "text": [
      "1201.9005\n",
      "13.79\n"
     ]
    }
   ],
   "source": [
    "o(1202.59,label)"
   ]
  },
  {
   "cell_type": "code",
   "execution_count": 361,
   "metadata": {},
   "outputs": [
    {
     "data": {
      "text/plain": [
       "[<matplotlib.lines.Line2D at 0x11b4c8ac8>]"
      ]
     },
     "execution_count": 361,
     "metadata": {},
     "output_type": "execute_result"
    }
   ],
   "source": [
    "elm = 2*ones(14)\n",
    "other = np.zeros(len(X[1])-len(label)-len(elm))\n",
    "pylab.plot(X[0], np.hstack((label,elm,other)))"
   ]
  },
  {
   "cell_type": "code",
   "execution_count": 362,
   "metadata": {
    "collapsed": true
   },
   "outputs": [],
   "source": [
    "#label = h((label,elm))"
   ]
  },
  {
   "cell_type": "code",
   "execution_count": 363,
   "metadata": {},
   "outputs": [
    {
     "name": "stdout",
     "output_type": "stream",
     "text": [
      "1202.6005\n",
      "28.99\n"
     ]
    }
   ],
   "source": [
    "o(1204.05,label)"
   ]
  },
  {
   "cell_type": "code",
   "execution_count": 365,
   "metadata": {},
   "outputs": [
    {
     "data": {
      "text/plain": [
       "[<matplotlib.lines.Line2D at 0x11b4c82b0>]"
      ]
     },
     "execution_count": 365,
     "metadata": {},
     "output_type": "execute_result"
    }
   ],
   "source": [
    "Hmod = np.zeros(30)\n",
    "other = 2*np.ones(len(X[1])-len(label)-len(Hmod))\n",
    "pylab.plot(X[0], np.hstack((label,Hmod,other)))"
   ]
  },
  {
   "cell_type": "code",
   "execution_count": 366,
   "metadata": {
    "collapsed": true
   },
   "outputs": [],
   "source": [
    "#label = h((label,Hmod))"
   ]
  },
  {
   "cell_type": "code",
   "execution_count": 368,
   "metadata": {},
   "outputs": [
    {
     "name": "stdout",
     "output_type": "stream",
     "text": [
      "1204.1005\n",
      "10.99\n"
     ]
    }
   ],
   "source": [
    "o(1204.65,label)"
   ]
  },
  {
   "cell_type": "code",
   "execution_count": 369,
   "metadata": {},
   "outputs": [
    {
     "data": {
      "text/plain": [
       "[<matplotlib.lines.Line2D at 0x11b4099e8>]"
      ]
     },
     "execution_count": 369,
     "metadata": {},
     "output_type": "execute_result"
    }
   ],
   "source": [
    "elm = 2*ones(11)\n",
    "other = np.zeros(len(X[1])-len(label)-len(elm))\n",
    "pylab.plot(X[0], np.hstack((label,elm,other)))"
   ]
  },
  {
   "cell_type": "code",
   "execution_count": 370,
   "metadata": {
    "collapsed": true
   },
   "outputs": [],
   "source": [
    "#label =h((label,elm))"
   ]
  },
  {
   "cell_type": "code",
   "execution_count": 371,
   "metadata": {},
   "outputs": [
    {
     "name": "stdout",
     "output_type": "stream",
     "text": [
      "1204.6505\n",
      "19.99\n"
     ]
    }
   ],
   "source": [
    "o(1205.65,label)"
   ]
  },
  {
   "cell_type": "code",
   "execution_count": 373,
   "metadata": {},
   "outputs": [
    {
     "data": {
      "text/plain": [
       "[<matplotlib.lines.Line2D at 0x11b5174e0>]"
      ]
     },
     "execution_count": 373,
     "metadata": {},
     "output_type": "execute_result"
    }
   ],
   "source": [
    "Hmod = np.zeros(21)\n",
    "other = 2*np.ones(len(X[1])-len(label)-len(Hmod))\n",
    "pylab.plot(X[0], np.hstack((label,Hmod,other)))"
   ]
  },
  {
   "cell_type": "code",
   "execution_count": 374,
   "metadata": {
    "collapsed": true
   },
   "outputs": [],
   "source": [
    "#label =h((label,Hmod))"
   ]
  },
  {
   "cell_type": "code",
   "execution_count": 375,
   "metadata": {},
   "outputs": [
    {
     "name": "stdout",
     "output_type": "stream",
     "text": [
      "1205.7005\n",
      "12.59\n"
     ]
    }
   ],
   "source": [
    "o(1206.33,label)"
   ]
  },
  {
   "cell_type": "code",
   "execution_count": 376,
   "metadata": {},
   "outputs": [
    {
     "data": {
      "text/plain": [
       "[<matplotlib.lines.Line2D at 0x11b4c8a90>]"
      ]
     },
     "execution_count": 376,
     "metadata": {},
     "output_type": "execute_result"
    }
   ],
   "source": [
    "elm = 2*ones(13)\n",
    "other = np.zeros(len(X[1])-len(label)-len(elm))\n",
    "pylab.plot(X[0], np.hstack((label,elm,other)))"
   ]
  },
  {
   "cell_type": "code",
   "execution_count": 377,
   "metadata": {
    "collapsed": true
   },
   "outputs": [],
   "source": [
    "#label = h((label,elm))"
   ]
  },
  {
   "cell_type": "code",
   "execution_count": 378,
   "metadata": {},
   "outputs": [
    {
     "name": "stdout",
     "output_type": "stream",
     "text": [
      "1206.3505\n",
      "28.39\n"
     ]
    }
   ],
   "source": [
    "o(1207.77,label)"
   ]
  },
  {
   "cell_type": "code",
   "execution_count": 380,
   "metadata": {},
   "outputs": [
    {
     "data": {
      "text/plain": [
       "[<matplotlib.lines.Line2D at 0x11b53d160>]"
      ]
     },
     "execution_count": 380,
     "metadata": {},
     "output_type": "execute_result"
    }
   ],
   "source": [
    "Hmod = np.zeros(30)\n",
    "other = 2*np.ones(len(X[1])-len(label)-len(Hmod))\n",
    "pylab.plot(X[0], np.hstack((label,Hmod,other)))"
   ]
  },
  {
   "cell_type": "code",
   "execution_count": 381,
   "metadata": {
    "collapsed": true
   },
   "outputs": [],
   "source": [
    "#label = h((label,Hmod))"
   ]
  },
  {
   "cell_type": "code",
   "execution_count": 382,
   "metadata": {},
   "outputs": [
    {
     "name": "stdout",
     "output_type": "stream",
     "text": [
      "1207.8505\n",
      "11.99\n"
     ]
    }
   ],
   "source": [
    "o(1208.45,label)"
   ]
  },
  {
   "cell_type": "code",
   "execution_count": 383,
   "metadata": {},
   "outputs": [
    {
     "data": {
      "text/plain": [
       "[<matplotlib.lines.Line2D at 0x11b53da90>]"
      ]
     },
     "execution_count": 383,
     "metadata": {},
     "output_type": "execute_result"
    }
   ],
   "source": [
    "elm = 2*ones(12)\n",
    "other = np.zeros(len(X[1])-len(label)-len(elm))\n",
    "pylab.plot(X[0], np.hstack((label,elm,other)))"
   ]
  },
  {
   "cell_type": "code",
   "execution_count": 384,
   "metadata": {
    "collapsed": true
   },
   "outputs": [],
   "source": [
    "#label = h((label,elm))"
   ]
  },
  {
   "cell_type": "code",
   "execution_count": 385,
   "metadata": {},
   "outputs": [
    {
     "name": "stdout",
     "output_type": "stream",
     "text": [
      "1208.4505\n",
      "27.99\n"
     ]
    }
   ],
   "source": [
    "o(1209.85,label)"
   ]
  },
  {
   "cell_type": "code",
   "execution_count": 387,
   "metadata": {},
   "outputs": [
    {
     "data": {
      "text/plain": [
       "[<matplotlib.lines.Line2D at 0x11b5554e0>]"
      ]
     },
     "execution_count": 387,
     "metadata": {},
     "output_type": "execute_result"
    }
   ],
   "source": [
    "Hmod = np.zeros(29)\n",
    "other = 2*np.ones(len(X[1])-len(label)-len(Hmod))\n",
    "pylab.plot(X[0], np.hstack((label,Hmod,other)))"
   ]
  },
  {
   "cell_type": "code",
   "execution_count": 388,
   "metadata": {
    "collapsed": true
   },
   "outputs": [],
   "source": [
    "#label = h((label,Hmod))"
   ]
  },
  {
   "cell_type": "code",
   "execution_count": 389,
   "metadata": {},
   "outputs": [
    {
     "name": "stdout",
     "output_type": "stream",
     "text": [
      "1209.9005\n",
      "9.99\n"
     ]
    }
   ],
   "source": [
    "o(1210.4,label)"
   ]
  },
  {
   "cell_type": "code",
   "execution_count": 390,
   "metadata": {},
   "outputs": [
    {
     "data": {
      "text/plain": [
       "[<matplotlib.lines.Line2D at 0x11b555eb8>]"
      ]
     },
     "execution_count": 390,
     "metadata": {},
     "output_type": "execute_result"
    }
   ],
   "source": [
    "elm = 2*ones(10)\n",
    "other = np.zeros(len(X[1])-len(label)-len(elm))\n",
    "pylab.plot(X[0], np.hstack((label,elm,other)))"
   ]
  },
  {
   "cell_type": "code",
   "execution_count": 391,
   "metadata": {
    "collapsed": true
   },
   "outputs": [],
   "source": [
    "#label = h((label,elm))"
   ]
  },
  {
   "cell_type": "code",
   "execution_count": 392,
   "metadata": {},
   "outputs": [
    {
     "name": "stdout",
     "output_type": "stream",
     "text": [
      "1210.4005\n",
      "37.79\n"
     ]
    }
   ],
   "source": [
    "o(1212.29,label)"
   ]
  },
  {
   "cell_type": "code",
   "execution_count": 394,
   "metadata": {},
   "outputs": [
    {
     "data": {
      "text/plain": [
       "[<matplotlib.lines.Line2D at 0x11b55f390>]"
      ]
     },
     "execution_count": 394,
     "metadata": {},
     "output_type": "execute_result"
    }
   ],
   "source": [
    "Hmod = np.zeros(39)\n",
    "other = 2*np.ones(len(X[1])-len(label)-len(Hmod))\n",
    "pylab.plot(X[0], np.hstack((label,Hmod,other)))"
   ]
  },
  {
   "cell_type": "code",
   "execution_count": 395,
   "metadata": {
    "collapsed": true
   },
   "outputs": [],
   "source": [
    "#label = h((label,Hmod))"
   ]
  },
  {
   "cell_type": "code",
   "execution_count": 396,
   "metadata": {},
   "outputs": [
    {
     "name": "stdout",
     "output_type": "stream",
     "text": [
      "1212.3505\n",
      "12.99\n"
     ]
    }
   ],
   "source": [
    "o(1213,label)"
   ]
  },
  {
   "cell_type": "code",
   "execution_count": 397,
   "metadata": {},
   "outputs": [
    {
     "data": {
      "text/plain": [
       "[<matplotlib.lines.Line2D at 0x11b4c8dd8>]"
      ]
     },
     "execution_count": 397,
     "metadata": {},
     "output_type": "execute_result"
    }
   ],
   "source": [
    "elm = 2*ones(13)\n",
    "other = np.zeros(len(X[1])-len(label)-len(elm))\n",
    "pylab.plot(X[0], np.hstack((label,elm,other)))"
   ]
  },
  {
   "cell_type": "code",
   "execution_count": 398,
   "metadata": {
    "collapsed": true
   },
   "outputs": [],
   "source": [
    "#label = h((label,elm))"
   ]
  },
  {
   "cell_type": "code",
   "execution_count": 400,
   "metadata": {},
   "outputs": [
    {
     "name": "stdout",
     "output_type": "stream",
     "text": [
      "1213.0005\n",
      "24.79\n"
     ]
    }
   ],
   "source": [
    "o(1214.24,label)"
   ]
  },
  {
   "cell_type": "code",
   "execution_count": 403,
   "metadata": {},
   "outputs": [
    {
     "data": {
      "text/plain": [
       "[<matplotlib.lines.Line2D at 0x11b574e48>]"
      ]
     },
     "execution_count": 403,
     "metadata": {},
     "output_type": "execute_result"
    }
   ],
   "source": [
    "Hmod = np.zeros(28)\n",
    "other = 2*np.ones(len(X[1])-len(label)-len(Hmod))\n",
    "pylab.plot(X[0], np.hstack((label,Hmod,other)))"
   ]
  },
  {
   "cell_type": "code",
   "execution_count": 404,
   "metadata": {
    "collapsed": true
   },
   "outputs": [],
   "source": [
    "#label =h((label,Hmod))"
   ]
  },
  {
   "cell_type": "code",
   "execution_count": 405,
   "metadata": {},
   "outputs": [
    {
     "name": "stdout",
     "output_type": "stream",
     "text": [
      "1214.4005\n",
      "7.99\n"
     ]
    }
   ],
   "source": [
    "o(1214.8,label)"
   ]
  },
  {
   "cell_type": "code",
   "execution_count": 406,
   "metadata": {},
   "outputs": [
    {
     "data": {
      "text/plain": [
       "[<matplotlib.lines.Line2D at 0x11b579780>]"
      ]
     },
     "execution_count": 406,
     "metadata": {},
     "output_type": "execute_result"
    }
   ],
   "source": [
    "elm = 2*ones(8)\n",
    "other = np.zeros(len(X[1])-len(label)-len(elm))\n",
    "pylab.plot(X[0], np.hstack((label,elm,other)))"
   ]
  },
  {
   "cell_type": "code",
   "execution_count": 407,
   "metadata": {
    "collapsed": true
   },
   "outputs": [],
   "source": [
    "#label = h((label,elm))"
   ]
  },
  {
   "cell_type": "code",
   "execution_count": 408,
   "metadata": {},
   "outputs": [
    {
     "name": "stdout",
     "output_type": "stream",
     "text": [
      "1214.8005\n",
      "18.79\n"
     ]
    }
   ],
   "source": [
    "o(1215.74,label)"
   ]
  },
  {
   "cell_type": "code",
   "execution_count": 410,
   "metadata": {},
   "outputs": [
    {
     "data": {
      "text/plain": [
       "[<matplotlib.lines.Line2D at 0x11b5a2668>]"
      ]
     },
     "execution_count": 410,
     "metadata": {},
     "output_type": "execute_result"
    }
   ],
   "source": [
    "Hmod = np.zeros(20)\n",
    "other = 2*np.ones(len(X[1])-len(label)-len(Hmod))\n",
    "pylab.plot(X[0], np.hstack((label,Hmod,other)))"
   ]
  },
  {
   "cell_type": "code",
   "execution_count": 411,
   "metadata": {
    "collapsed": true
   },
   "outputs": [],
   "source": [
    "#label =h((label,Hmod))"
   ]
  },
  {
   "cell_type": "code",
   "execution_count": 412,
   "metadata": {},
   "outputs": [
    {
     "name": "stdout",
     "output_type": "stream",
     "text": [
      "1215.8005\n",
      "15.99\n"
     ]
    }
   ],
   "source": [
    "o(1216.6,label)"
   ]
  },
  {
   "cell_type": "code",
   "execution_count": 413,
   "metadata": {},
   "outputs": [
    {
     "data": {
      "text/plain": [
       "[<matplotlib.lines.Line2D at 0x11b574278>]"
      ]
     },
     "execution_count": 413,
     "metadata": {},
     "output_type": "execute_result"
    }
   ],
   "source": [
    "elm = 2*ones(16)\n",
    "other = np.zeros(len(X[1])-len(label)-len(elm))\n",
    "pylab.plot(X[0], np.hstack((label,elm,other)))"
   ]
  },
  {
   "cell_type": "code",
   "execution_count": 414,
   "metadata": {
    "collapsed": true
   },
   "outputs": [],
   "source": [
    "#label =h((label,elm))"
   ]
  },
  {
   "cell_type": "code",
   "execution_count": 415,
   "metadata": {},
   "outputs": [
    {
     "name": "stdout",
     "output_type": "stream",
     "text": [
      "1216.6005\n",
      "28.79\n"
     ]
    }
   ],
   "source": [
    "o(1218.04,label)"
   ]
  },
  {
   "cell_type": "code",
   "execution_count": 417,
   "metadata": {},
   "outputs": [
    {
     "data": {
      "text/plain": [
       "[<matplotlib.lines.Line2D at 0x11b5b02b0>]"
      ]
     },
     "execution_count": 417,
     "metadata": {},
     "output_type": "execute_result"
    }
   ],
   "source": [
    "Hmod = np.zeros(30)\n",
    "other = 2*np.ones(len(X[1])-len(label)-len(Hmod))\n",
    "pylab.plot(X[0], np.hstack((label,Hmod,other)))"
   ]
  },
  {
   "cell_type": "code",
   "execution_count": 418,
   "metadata": {
    "collapsed": true
   },
   "outputs": [],
   "source": [
    "#label = h((label,Hmod))"
   ]
  },
  {
   "cell_type": "code",
   "execution_count": 419,
   "metadata": {},
   "outputs": [
    {
     "name": "stdout",
     "output_type": "stream",
     "text": [
      "1218.1005\n",
      "9.99\n"
     ]
    }
   ],
   "source": [
    "o(1218.6,label)"
   ]
  },
  {
   "cell_type": "code",
   "execution_count": 420,
   "metadata": {},
   "outputs": [
    {
     "data": {
      "text/plain": [
       "[<matplotlib.lines.Line2D at 0x11b5b0ac8>]"
      ]
     },
     "execution_count": 420,
     "metadata": {},
     "output_type": "execute_result"
    }
   ],
   "source": [
    "elm = 2*ones(10)\n",
    "other = np.zeros(len(X[1])-len(label)-len(elm))\n",
    "pylab.plot(X[0], np.hstack((label,elm,other)))"
   ]
  },
  {
   "cell_type": "code",
   "execution_count": 421,
   "metadata": {
    "collapsed": true
   },
   "outputs": [],
   "source": [
    "#label =h((label,elm))"
   ]
  },
  {
   "cell_type": "code",
   "execution_count": 422,
   "metadata": {},
   "outputs": [
    {
     "name": "stdout",
     "output_type": "stream",
     "text": [
      "1218.6005\n",
      "25.99\n"
     ]
    }
   ],
   "source": [
    "o(1219.9,label)"
   ]
  },
  {
   "cell_type": "code",
   "execution_count": 425,
   "metadata": {},
   "outputs": [
    {
     "data": {
      "text/plain": [
       "[<matplotlib.lines.Line2D at 0x11b5c3978>]"
      ]
     },
     "execution_count": 425,
     "metadata": {},
     "output_type": "execute_result"
    }
   ],
   "source": [
    "Hmod = np.zeros(27)\n",
    "other = 2*np.ones(len(X[1])-len(label)-len(Hmod))\n",
    "pylab.plot(X[0], np.hstack((label,Hmod,other)))"
   ]
  },
  {
   "cell_type": "code",
   "execution_count": 426,
   "metadata": {
    "collapsed": true
   },
   "outputs": [],
   "source": [
    "#label = h((label,Hmod))"
   ]
  },
  {
   "cell_type": "code",
   "execution_count": 427,
   "metadata": {},
   "outputs": [
    {
     "name": "stdout",
     "output_type": "stream",
     "text": [
      "1219.9505\n",
      "9.99\n"
     ]
    }
   ],
   "source": [
    "o(1220.45,label)"
   ]
  },
  {
   "cell_type": "code",
   "execution_count": 428,
   "metadata": {},
   "outputs": [
    {
     "data": {
      "text/plain": [
       "[<matplotlib.lines.Line2D at 0x11b5d7198>]"
      ]
     },
     "execution_count": 428,
     "metadata": {},
     "output_type": "execute_result"
    }
   ],
   "source": [
    "elm = 2*ones(10)\n",
    "other = np.zeros(len(X[1])-len(label)-len(elm))\n",
    "pylab.plot(X[0], np.hstack((label,elm,other)))"
   ]
  },
  {
   "cell_type": "code",
   "execution_count": 429,
   "metadata": {
    "collapsed": true
   },
   "outputs": [],
   "source": [
    "#label =h((label,elm))"
   ]
  },
  {
   "cell_type": "code",
   "execution_count": 432,
   "metadata": {},
   "outputs": [
    {
     "name": "stdout",
     "output_type": "stream",
     "text": [
      "1220.4505\n",
      "24.59\n"
     ]
    }
   ],
   "source": [
    "o(1221.68,label)"
   ]
  },
  {
   "cell_type": "code",
   "execution_count": 434,
   "metadata": {},
   "outputs": [
    {
     "data": {
      "text/plain": [
       "[<matplotlib.lines.Line2D at 0x11b5b06d8>]"
      ]
     },
     "execution_count": 434,
     "metadata": {},
     "output_type": "execute_result"
    }
   ],
   "source": [
    "Hmod = np.zeros(26)\n",
    "other = 2*np.ones(len(X[1])-len(label)-len(Hmod))\n",
    "pylab.plot(X[0], np.hstack((label,Hmod,other)))"
   ]
  },
  {
   "cell_type": "code",
   "execution_count": 435,
   "metadata": {
    "collapsed": true
   },
   "outputs": [],
   "source": [
    "#label =h((label,Hmod))"
   ]
  },
  {
   "cell_type": "code",
   "execution_count": 436,
   "metadata": {},
   "outputs": [
    {
     "name": "stdout",
     "output_type": "stream",
     "text": [
      "1221.7505\n",
      "16.39\n"
     ]
    }
   ],
   "source": [
    "o(1222.57,label)"
   ]
  },
  {
   "cell_type": "code",
   "execution_count": 437,
   "metadata": {},
   "outputs": [
    {
     "data": {
      "text/plain": [
       "[<matplotlib.lines.Line2D at 0x11b53d7b8>]"
      ]
     },
     "execution_count": 437,
     "metadata": {},
     "output_type": "execute_result"
    }
   ],
   "source": [
    "elm = 2*ones(17)\n",
    "other = np.zeros(len(X[1])-len(label)-len(elm))\n",
    "pylab.plot(X[0], np.hstack((label,elm,other)))"
   ]
  },
  {
   "cell_type": "code",
   "execution_count": 438,
   "metadata": {
    "collapsed": true
   },
   "outputs": [],
   "source": [
    "#label =h((label,elm))"
   ]
  },
  {
   "cell_type": "code",
   "execution_count": 439,
   "metadata": {},
   "outputs": [
    {
     "name": "stdout",
     "output_type": "stream",
     "text": [
      "1222.6005\n",
      "276.99\n"
     ]
    }
   ],
   "source": [
    "o(1236.45,label)"
   ]
  },
  {
   "cell_type": "code",
   "execution_count": 444,
   "metadata": {},
   "outputs": [
    {
     "data": {
      "text/plain": [
       "[<matplotlib.lines.Line2D at 0x11b6084e0>]"
      ]
     },
     "execution_count": 444,
     "metadata": {},
     "output_type": "execute_result"
    }
   ],
   "source": [
    "Hmod = np.zeros(4)\n",
    "other = 2*np.ones(len(X[1])-len(label)-len(Hmod))\n",
    "pylab.plot(X[0], np.hstack((label,Hmod,other)))"
   ]
  },
  {
   "cell_type": "code",
   "execution_count": 445,
   "metadata": {
    "collapsed": true
   },
   "outputs": [],
   "source": [
    "#label =h((label,Hmod))"
   ]
  },
  {
   "cell_type": "code",
   "execution_count": 446,
   "metadata": {},
   "outputs": [
    {
     "name": "stdout",
     "output_type": "stream",
     "text": [
      "1236.7005\n",
      "5.79\n"
     ]
    }
   ],
   "source": [
    "o(1236.99,label)"
   ]
  },
  {
   "cell_type": "code",
   "execution_count": 447,
   "metadata": {},
   "outputs": [
    {
     "data": {
      "text/plain": [
       "[<matplotlib.lines.Line2D at 0x11b4dabe0>]"
      ]
     },
     "execution_count": 447,
     "metadata": {},
     "output_type": "execute_result"
    }
   ],
   "source": [
    "elm = 2*ones(6)\n",
    "other = np.zeros(len(X[1])-len(label)-len(elm))\n",
    "pylab.plot(X[0], np.hstack((label,elm,other)))"
   ]
  },
  {
   "cell_type": "code",
   "execution_count": 448,
   "metadata": {
    "collapsed": true
   },
   "outputs": [],
   "source": [
    "#label =h((label,elm))"
   ]
  },
  {
   "cell_type": "code",
   "execution_count": 449,
   "metadata": {},
   "outputs": [
    {
     "name": "stdout",
     "output_type": "stream",
     "text": [
      "1237.0005\n",
      "17.99\n"
     ]
    }
   ],
   "source": [
    "o(1237.9,label)"
   ]
  },
  {
   "cell_type": "code",
   "execution_count": 451,
   "metadata": {},
   "outputs": [
    {
     "data": {
      "text/plain": [
       "[<matplotlib.lines.Line2D at 0x11b63f9e8>]"
      ]
     },
     "execution_count": 451,
     "metadata": {},
     "output_type": "execute_result"
    }
   ],
   "source": [
    "Hmod = np.zeros(19)\n",
    "other = 2*np.ones(len(X[1])-len(label)-len(Hmod))\n",
    "pylab.plot(X[0], np.hstack((label,Hmod,other)))"
   ]
  },
  {
   "cell_type": "code",
   "execution_count": 452,
   "metadata": {
    "collapsed": true
   },
   "outputs": [],
   "source": [
    "#label =h((label,Hmod))"
   ]
  },
  {
   "cell_type": "code",
   "execution_count": 453,
   "metadata": {},
   "outputs": [
    {
     "data": {
      "text/plain": [
       "1241"
      ]
     },
     "execution_count": 453,
     "metadata": {},
     "output_type": "execute_result"
    }
   ],
   "source": [
    "len(X[1])-len(label)"
   ]
  },
  {
   "cell_type": "code",
   "execution_count": 454,
   "metadata": {
    "collapsed": true
   },
   "outputs": [],
   "source": [
    "Lmod = np.ones(1241)"
   ]
  },
  {
   "cell_type": "code",
   "execution_count": 455,
   "metadata": {
    "collapsed": true
   },
   "outputs": [],
   "source": [
    "#label =h((label,Lmod))"
   ]
  },
  {
   "cell_type": "code",
   "execution_count": 458,
   "metadata": {},
   "outputs": [
    {
     "data": {
      "text/plain": [
       "(2, 6200)"
      ]
     },
     "execution_count": 458,
     "metadata": {},
     "output_type": "execute_result"
    }
   ],
   "source": [
    "temp = np.vstack((X[0],label))\n",
    "np.shape(temp)"
   ]
  },
  {
   "cell_type": "code",
   "execution_count": 459,
   "metadata": {
    "collapsed": true
   },
   "outputs": [],
   "source": [
    "#np.save(way+\"No4_label.npy\",temp)"
   ]
  },
  {
   "cell_type": "code",
   "execution_count": null,
   "metadata": {
    "collapsed": true
   },
   "outputs": [],
   "source": []
  }
 ],
 "metadata": {
  "kernelspec": {
   "display_name": "Python 3",
   "language": "python",
   "name": "python3"
  },
  "language_info": {
   "codemirror_mode": {
    "name": "ipython",
    "version": 3
   },
   "file_extension": ".py",
   "mimetype": "text/x-python",
   "name": "python",
   "nbconvert_exporter": "python",
   "pygments_lexer": "ipython3",
   "version": "3.6.2"
  }
 },
 "nbformat": 4,
 "nbformat_minor": 2
}
