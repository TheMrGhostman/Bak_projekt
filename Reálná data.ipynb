{
 "cells": [
  {
   "cell_type": "code",
   "execution_count": 1,
   "metadata": {},
   "outputs": [],
   "source": [
    "from math import sqrt, factorial, isnan\n",
    "import warnings\n",
    "import numpy as np\n",
    "from sympy.utilities.iterables import multiset_permutations\n",
    "from hmmlearn.hmm import GaussianHMM\n",
    "import matplotlib.pyplot as plt\n",
    "import pandas as pd\n",
    "import itertools as it\n",
    "import timeit\n",
    "import Classification as CL\n",
    "import os\n",
    "import time\n",
    "way = os.getcwd() + \"/Data_npy/\"\n",
    "way1 = way + \"Chosen ones/\""
   ]
  },
  {
   "cell_type": "code",
   "execution_count": 2,
   "metadata": {
    "scrolled": true
   },
   "outputs": [
    {
     "data": {
      "text/plain": [
       "['No100.npy',\n",
       " 'No100_info.npy',\n",
       " 'No101.npy',\n",
       " 'No101_info.npy',\n",
       " 'No104.npy',\n",
       " 'No104_info.npy',\n",
       " 'No105.npy',\n",
       " 'No105_info.npy',\n",
       " 'No106.npy',\n",
       " 'No106_info.npy',\n",
       " 'No108.npy',\n",
       " 'No108_info.npy',\n",
       " 'No11.npy',\n",
       " 'No110.npy',\n",
       " 'No110_info.npy',\n",
       " 'No111.npy',\n",
       " 'No111_info.npy',\n",
       " 'No114.npy',\n",
       " 'No114_info.npy',\n",
       " 'No116.npy',\n",
       " 'No116_info.npy',\n",
       " 'No117.npy',\n",
       " 'No117_info.npy',\n",
       " 'No118.npy',\n",
       " 'No118_info.npy',\n",
       " 'No119.npy',\n",
       " 'No119_info.npy',\n",
       " 'No120.npy',\n",
       " 'No120_info.npy',\n",
       " 'No126.npy',\n",
       " 'No126_info.npy',\n",
       " 'No127.npy',\n",
       " 'No127_info.npy',\n",
       " 'No128.npy',\n",
       " 'No128_info.npy',\n",
       " 'No130.npy',\n",
       " 'No130_info.npy',\n",
       " 'No132.npy',\n",
       " 'No132_info.npy',\n",
       " 'No133.npy',\n",
       " 'No133_info.npy',\n",
       " 'No137.npy',\n",
       " 'No137_info.npy',\n",
       " 'No138.npy',\n",
       " 'No138_info.npy',\n",
       " 'No140.npy',\n",
       " 'No140_info.npy',\n",
       " 'No141.npy',\n",
       " 'No141_info.npy',\n",
       " 'No146.npy',\n",
       " 'No146_info.npy',\n",
       " 'No154.npy',\n",
       " 'No154_info.npy',\n",
       " 'No160.npy',\n",
       " 'No160_info.npy',\n",
       " 'No164.npy',\n",
       " 'No164_info.npy',\n",
       " 'No165.npy',\n",
       " 'No165_info.npy',\n",
       " 'No170.npy',\n",
       " 'No170_info.npy',\n",
       " 'No2.npy',\n",
       " 'No20.npy',\n",
       " 'No206.npy',\n",
       " 'No206_info.npy',\n",
       " 'No207.npy',\n",
       " 'No207_info.npy',\n",
       " 'No208.npy',\n",
       " 'No208_info.npy',\n",
       " 'No20_info.npy',\n",
       " 'No21.npy',\n",
       " 'No212.npy',\n",
       " 'No212_info.npy',\n",
       " 'No213.npy',\n",
       " 'No213_info.npy',\n",
       " 'No214.npy',\n",
       " 'No214_info.npy',\n",
       " 'No215.npy',\n",
       " 'No215_info.npy',\n",
       " 'No218.npy',\n",
       " 'No218_info.npy',\n",
       " 'No219.npy',\n",
       " 'No219_info.npy',\n",
       " 'No21_info.npy',\n",
       " 'No22.npy',\n",
       " 'No220.npy',\n",
       " 'No220_info.npy',\n",
       " 'No221.npy',\n",
       " 'No221_info.npy',\n",
       " 'No222.npy',\n",
       " 'No222_info.npy',\n",
       " 'No223.npy',\n",
       " 'No223_info.npy',\n",
       " 'No224.npy',\n",
       " 'No224_info.npy',\n",
       " 'No225.npy',\n",
       " 'No225_info.npy',\n",
       " 'No22_info.npy',\n",
       " 'No23.npy',\n",
       " 'No23_info.npy',\n",
       " 'No24.npy',\n",
       " 'No24_info.npy',\n",
       " 'No25.npy',\n",
       " 'No25_info.npy',\n",
       " 'No26.npy',\n",
       " 'No26_info.npy',\n",
       " 'No27.npy',\n",
       " 'No27_info.npy',\n",
       " 'No301.npy',\n",
       " 'No301_info.npy',\n",
       " 'No302.npy',\n",
       " 'No302_info.npy',\n",
       " 'No303.npy',\n",
       " 'No303_info.npy',\n",
       " 'No309.npy',\n",
       " 'No309_info.npy',\n",
       " 'No310.npy',\n",
       " 'No310_info.npy',\n",
       " 'No311.npy',\n",
       " 'No311_info.npy',\n",
       " 'No313.npy',\n",
       " 'No313_info.npy',\n",
       " 'No314.npy',\n",
       " 'No314_info.npy',\n",
       " 'No316.npy',\n",
       " 'No316_info.npy',\n",
       " 'No317.npy',\n",
       " 'No317_info.npy',\n",
       " 'No319.npy',\n",
       " 'No319_info.npy',\n",
       " 'No321.npy',\n",
       " 'No321_info.npy',\n",
       " 'No324.npy',\n",
       " 'No324_info.npy',\n",
       " 'No326.npy',\n",
       " 'No326_info.npy',\n",
       " 'No5.npy']"
      ]
     },
     "execution_count": 2,
     "metadata": {},
     "output_type": "execute_result"
    }
   ],
   "source": [
    "os.listdir(way1)"
   ]
  },
  {
   "cell_type": "code",
   "execution_count": 3,
   "metadata": {},
   "outputs": [
    {
     "name": "stdout",
     "output_type": "stream",
     "text": [
      "done\n"
     ]
    }
   ],
   "source": [
    "train_data = [np.load(way1 + \"No100.npy\"),np.load(way1 + \"No101.npy\"), np.load(way1 + \"No108.npy\"), np.load(way1 + \"No324.npy\") ]\n",
    "test_data = [np.load(way1 + \"No106.npy\")]\n",
    "print(\"done\")"
   ]
  },
  {
   "cell_type": "code",
   "execution_count": 4,
   "metadata": {
    "scrolled": true
   },
   "outputs": [
    {
     "data": {
      "image/png": "[encoded data removed]",
      "text/plain": [
       "<matplotlib.figure.Figure at 0x1159ed8d0>"
      ]
     },
     "metadata": {},
     "output_type": "display_data"
    }
   ],
   "source": [
    "plt.plot(test_data[0][0], test_data[0][1])\n",
    "plt.scatter(test_data[0][0], test_data[0][1], c = test_data[0][2], cmap = plt.cm.plasma)\n",
    "plt.show()"
   ]
  },
  {
   "cell_type": "code",
   "execution_count": 5,
   "metadata": {
    "scrolled": true
   },
   "outputs": [
    {
     "name": "stdout",
     "output_type": "stream",
     "text": [
      "9.288074016571045\n"
     ]
    }
   ],
   "source": [
    "st = time.time()\n",
    "#HMM = GaussianHMM(2) # zavedu co potřebuju\n",
    "G_HMM = GaussianHMM(3,covariance_type = \"full\", algorithm = \"viterbi\")\n",
    "#validace = CL.validuj(GaussianHMM(3), train_data[1], train_data[1], Labely, range(2,11)) #[0,0,1,1,1]\n",
    "[validace, stavy, casf, casp] = CL.validuj(G_HMM, train_data, test_data, 10, [0,0,1,1,0], True)\n",
    "ko = time.time()\n",
    "print(ko-st)"
   ]
  },
  {
   "cell_type": "code",
   "execution_count": 6,
   "metadata": {},
   "outputs": [
    {
     "data": {
      "text/plain": [
       "0.28209519386291504"
      ]
     },
     "execution_count": 6,
     "metadata": {},
     "output_type": "execute_result"
    }
   ],
   "source": [
    "casf"
   ]
  },
  {
   "cell_type": "code",
   "execution_count": 10,
   "metadata": {},
   "outputs": [
    {
     "data": {
      "text/html": [
       "<div>\n",
       "<style>\n",
       "    .dataframe thead tr:only-child th {\n",
       "        text-align: right;\n",
       "    }\n",
       "\n",
       "    .dataframe thead th {\n",
       "        text-align: left;\n",
       "    }\n",
       "\n",
       "    .dataframe tbody tr th {\n",
       "        vertical-align: top;\n",
       "    }\n",
       "</style>\n",
       "<table border=\"1\" class=\"dataframe\">\n",
       "  <thead>\n",
       "    <tr style=\"text-align: right;\">\n",
       "      <th></th>\n",
       "      <th>Kombinace rysů</th>\n",
       "      <th>délka úseku</th>\n",
       "      <th>Accuracy</th>\n",
       "      <th>Chyby</th>\n",
       "      <th>F míra stavu 0</th>\n",
       "      <th>F míra stavu 1</th>\n",
       "      <th>F míra stavu 2</th>\n",
       "      <th>F míra průměrná</th>\n",
       "      <th>Precision stavu 0</th>\n",
       "      <th>Precision stavu 1</th>\n",
       "      <th>Precision stavu 2</th>\n",
       "      <th>Recall stavu 0</th>\n",
       "      <th>Recall stavu 1</th>\n",
       "      <th>Recall stavu 2</th>\n",
       "    </tr>\n",
       "  </thead>\n",
       "  <tbody>\n",
       "    <tr>\n",
       "      <th>0</th>\n",
       "      <td>(0, 0, 1, 1, 0)</td>\n",
       "      <td>10</td>\n",
       "      <td>0.757603</td>\n",
       "      <td>821</td>\n",
       "      <td>0.877845</td>\n",
       "      <td>0.727926</td>\n",
       "      <td>0.571763</td>\n",
       "      <td>0.725845</td>\n",
       "      <td>0.825196</td>\n",
       "      <td>0.576423</td>\n",
       "      <td>0.97992</td>\n",
       "      <td>0.937671</td>\n",
       "      <td>0.987465</td>\n",
       "      <td>0.403639</td>\n",
       "    </tr>\n",
       "    <tr>\n",
       "      <th>1</th>\n",
       "      <td>0</td>\n",
       "      <td>0</td>\n",
       "      <td>0.000000</td>\n",
       "      <td>0</td>\n",
       "      <td>0.000000</td>\n",
       "      <td>0.000000</td>\n",
       "      <td>0.000000</td>\n",
       "      <td>0.000000</td>\n",
       "      <td>0.000000</td>\n",
       "      <td>0.000000</td>\n",
       "      <td>0.00000</td>\n",
       "      <td>0.000000</td>\n",
       "      <td>0.000000</td>\n",
       "      <td>0.000000</td>\n",
       "    </tr>\n",
       "  </tbody>\n",
       "</table>\n",
       "</div>"
      ],
      "text/plain": [
       "    Kombinace rysů  délka úseku  Accuracy  Chyby  F míra stavu 0  \\\n",
       "0  (0, 0, 1, 1, 0)           10  0.757603    821        0.877845   \n",
       "1                0            0  0.000000      0        0.000000   \n",
       "\n",
       "   F míra stavu 1  F míra stavu 2  F míra průměrná  Precision stavu 0  \\\n",
       "0        0.727926        0.571763         0.725845           0.825196   \n",
       "1        0.000000        0.000000         0.000000           0.000000   \n",
       "\n",
       "   Precision stavu 1  Precision stavu 2  Recall stavu 0  Recall stavu 1  \\\n",
       "0           0.576423            0.97992        0.937671        0.987465   \n",
       "1           0.000000            0.00000        0.000000        0.000000   \n",
       "\n",
       "   Recall stavu 2  \n",
       "0        0.403639  \n",
       "1        0.000000  "
      ]
     },
     "execution_count": 10,
     "metadata": {},
     "output_type": "execute_result"
    }
   ],
   "source": [
    "validace.head()"
   ]
  },
  {
   "cell_type": "code",
   "execution_count": 11,
   "metadata": {},
   "outputs": [
    {
     "data": {
      "image/png": "[encoded data removed]",
      "text/plain": [
       "<matplotlib.figure.Figure at 0x115946f60>"
      ]
     },
     "metadata": {},
     "output_type": "display_data"
    }
   ],
   "source": [
    "plt.figure(\"p.1\")\n",
    "plt.plot(test_data[0][0], test_data[0][1])\n",
    "plt.scatter(test_data[0][0], test_data[0][1], c = stavy, cmap = plt.cm.plasma)\n",
    "plt.show()"
   ]
  },
  {
   "cell_type": "code",
   "execution_count": 12,
   "metadata": {},
   "outputs": [
    {
     "data": {
      "text/plain": [
       "array([1, 1, 1, ..., 2, 2, 2])"
      ]
     },
     "execution_count": 12,
     "metadata": {},
     "output_type": "execute_result"
    }
   ],
   "source": [
    "stavy"
   ]
  },
  {
   "cell_type": "code",
   "execution_count": 13,
   "metadata": {},
   "outputs": [],
   "source": [
    "trlist = np.load(way + \"seznam.npy\").tolist()"
   ]
  },
  {
   "cell_type": "code",
   "execution_count": 14,
   "metadata": {},
   "outputs": [
    {
     "data": {
      "text/plain": [
       "['No104.npy',\n",
       " 'No105.npy',\n",
       " 'No106.npy',\n",
       " 'No108.npy',\n",
       " 'No110.npy',\n",
       " 'No111.npy',\n",
       " 'No116.npy',\n",
       " 'No117.npy',\n",
       " 'No118.npy',\n",
       " 'No119.npy']"
      ]
     },
     "execution_count": 14,
     "metadata": {},
     "output_type": "execute_result"
    }
   ],
   "source": [
    "trlist"
   ]
  },
  {
   "cell_type": "code",
   "execution_count": 15,
   "metadata": {
    "scrolled": false
   },
   "outputs": [
    {
     "data": {
      "text/plain": [
       "[array([[  1.05168050e+03,   1.05173050e+03,   1.05178050e+03, ...,\n",
       "           1.23133050e+03,   1.23138050e+03,   1.23143050e+03],\n",
       "        [  1.36690834e-01,   1.31738837e-01,   1.56498822e-01, ...,\n",
       "           1.41800037e-01,   1.24271541e-01,   1.07450472e-01],\n",
       "        [  1.00000000e+00,   1.00000000e+00,   1.00000000e+00, ...,\n",
       "           1.00000000e+00,   1.00000000e+00,   1.00000000e+00]]),\n",
       " array([[  1.05636050e+03,   1.05641050e+03,   1.05646050e+03, ...,\n",
       "           1.21561050e+03,   1.21566050e+03,   1.21571050e+03],\n",
       "        [  1.07922091e-01,   1.06035616e-01,   1.29302141e-01, ...,\n",
       "           1.30638394e-01,   1.38027087e-01,   1.07293266e-01],\n",
       "        [  1.00000000e+00,   1.00000000e+00,   1.00000000e+00, ...,\n",
       "           1.00000000e+00,   1.00000000e+00,   1.00000000e+00]]),\n",
       " array([[  1.05295050e+03,   1.05300050e+03,   1.05305050e+03, ...,\n",
       "           1.22215050e+03,   1.22220050e+03,   1.22225050e+03],\n",
       "        [  1.22070653e-01,   1.41800037e-01,   1.24192937e-01, ...,\n",
       "           1.01005016e-01,   1.01712444e-01,   8.54415969e-02],\n",
       "        [  1.00000000e+00,   1.00000000e+00,   1.00000000e+00, ...,\n",
       "           1.00000000e+00,   1.00000000e+00,   1.00000000e+00]]),\n",
       " array([[  1.05798050e+03,   1.05803050e+03,   1.05808050e+03, ...,\n",
       "           1.22378050e+03,   1.22383050e+03,   1.22388050e+03],\n",
       "        [  1.33075091e-01,   1.33232297e-01,   1.26629634e-01, ...,\n",
       "           1.15310784e-01,   1.09258344e-01,   1.05642600e-01],\n",
       "        [  1.00000000e+00,   1.00000000e+00,   1.00000000e+00, ...,\n",
       "           1.00000000e+00,   1.00000000e+00,   1.00000000e+00]]),\n",
       " array([[  1.05166050e+03,   1.05171050e+03,   1.05176050e+03, ...,\n",
       "           1.23486050e+03,   1.23491050e+03,   1.23496050e+03],\n",
       "        [  1.75677984e-01,   1.46516225e-01,   1.45730194e-01, ...,\n",
       "           1.48009684e-01,   1.45022766e-01,   1.45101369e-01],\n",
       "        [  1.00000000e+00,   1.00000000e+00,   1.00000000e+00, ...,\n",
       "           1.00000000e+00,   1.00000000e+00,   1.00000000e+00]]),\n",
       " array([[  1.05753050e+03,   1.05758050e+03,   1.05763050e+03, ...,\n",
       "           1.23968050e+03,   1.23973050e+03,   1.23978050e+03],\n",
       "        [  1.67503259e-01,   1.57284853e-01,   1.42271656e-01, ...,\n",
       "           1.70175766e-01,   1.90769784e-01,   1.84638741e-01],\n",
       "        [  1.00000000e+00,   1.00000000e+00,   1.00000000e+00, ...,\n",
       "           1.00000000e+00,   1.00000000e+00,   1.00000000e+00]]),\n",
       " array([[  1.05599050e+03,   1.05604050e+03,   1.05609050e+03, ...,\n",
       "           1.21284050e+03,   1.21289050e+03,   1.21294050e+03],\n",
       "        [  2.55067141e-01,   2.41704609e-01,   2.36045184e-01, ...,\n",
       "           1.90612578e-01,   2.13800500e-01,   2.14743737e-01],\n",
       "        [  1.00000000e+00,   1.00000000e+00,   1.00000000e+00, ...,\n",
       "           1.00000000e+00,   1.00000000e+00,   1.00000000e+00]]),\n",
       " array([[  1.05619050e+03,   1.05624050e+03,   1.05629050e+03, ...,\n",
       "           1.21199050e+03,   1.21204050e+03,   1.21209050e+03],\n",
       "        [  2.28577887e-01,   2.10734978e-01,   2.68822687e-01, ...,\n",
       "           2.80141537e-01,   2.47442637e-01,   2.14114912e-01],\n",
       "        [  1.00000000e+00,   1.00000000e+00,   1.00000000e+00, ...,\n",
       "           1.00000000e+00,   1.00000000e+00,   1.00000000e+00]]),\n",
       " array([[  1.06605650e+03,   1.06610650e+03,   1.06615650e+03, ...,\n",
       "           1.20360650e+03,   1.20365650e+03,   1.20370650e+03],\n",
       "        [  3.38936675e-01,   3.22115606e-01,   2.54045300e-01, ...,\n",
       "           2.06254600e-01,   2.11363803e-01,   1.94306925e-01],\n",
       "        [  1.00000000e+00,   1.00000000e+00,   1.00000000e+00, ...,\n",
       "           1.00000000e+00,   1.00000000e+00,   1.00000000e+00]]),\n",
       " array([[  1.05437050e+03,   1.05442050e+03,   1.05447050e+03, ...,\n",
       "           1.20447050e+03,   1.20452050e+03,   1.20457050e+03],\n",
       "        [  2.47835653e-01,   2.50586762e-01,   2.26848619e-01, ...,\n",
       "           1.89905150e-01,   1.95643178e-01,   1.99337525e-01],\n",
       "        [  1.00000000e+00,   1.00000000e+00,   1.00000000e+00, ...,\n",
       "           1.00000000e+00,   1.00000000e+00,   1.00000000e+00]])]"
      ]
     },
     "execution_count": 15,
     "metadata": {},
     "output_type": "execute_result"
    }
   ],
   "source": [
    "del train_data,test_data\n",
    "train_data = []\n",
    "test_data = []\n",
    "for data in trlist:\n",
    "    train_data.append(np.load(way1 + data))\n",
    "\n",
    "test_data.append(np.load(way1 + \"No11.npy\"))    \n",
    "train_data\n"
   ]
  },
  {
   "cell_type": "code",
   "execution_count": 16,
   "metadata": {},
   "outputs": [
    {
     "data": {
      "text/plain": [
       "[array([[  1.05000050e+03,   1.05005050e+03,   1.05010050e+03, ...,\n",
       "           1.19985050e+03,   1.19990050e+03,   1.19995050e+03],\n",
       "        [  2.46342194e-01,   2.45398956e-01,   2.51687206e-01, ...,\n",
       "           4.81758553e-01,   5.12570978e-01,   5.55331078e-01],\n",
       "        [  1.00000000e+00,   1.00000000e+00,   1.00000000e+00, ...,\n",
       "           1.00000000e+00,   1.00000000e+00,   1.00000000e+00]])]"
      ]
     },
     "execution_count": 16,
     "metadata": {},
     "output_type": "execute_result"
    }
   ],
   "source": [
    "test_data"
   ]
  },
  {
   "cell_type": "code",
   "execution_count": 1,
   "metadata": {
    "scrolled": true
   },
   "outputs": [
    {
     "ename": "NameError",
     "evalue": "name 'CL' is not defined",
     "output_type": "error",
     "traceback": [
      "\u001b[0;31m---------------------------------------------------------------------------\u001b[0m",
      "\u001b[0;31mNameError\u001b[0m                                 Traceback (most recent call last)",
      "\u001b[0;32m<ipython-input-1-bee012ede588>\u001b[0m in \u001b[0;36m<module>\u001b[0;34m()\u001b[0m\n\u001b[0;32m----> 1\u001b[0;31m \u001b[0mvalidace\u001b[0m \u001b[0;34m=\u001b[0m \u001b[0mCL\u001b[0m\u001b[0;34m.\u001b[0m\u001b[0mvaliduj\u001b[0m\u001b[0;34m(\u001b[0m\u001b[0mG_HMM\u001b[0m\u001b[0;34m,\u001b[0m \u001b[0mtrain_data\u001b[0m\u001b[0;34m,\u001b[0m \u001b[0mtest_data\u001b[0m\u001b[0;34m,\u001b[0m \u001b[0mrange\u001b[0m\u001b[0;34m(\u001b[0m\u001b[0;36m2\u001b[0m\u001b[0;34m,\u001b[0m\u001b[0;36m20\u001b[0m\u001b[0;34m)\u001b[0m\u001b[0;34m,\u001b[0m \u001b[0munsupervised\u001b[0m \u001b[0;34m=\u001b[0m \u001b[0;32mTrue\u001b[0m\u001b[0;34m)\u001b[0m\u001b[0;34m\u001b[0m\u001b[0m\n\u001b[0m",
      "\u001b[0;31mNameError\u001b[0m: name 'CL' is not defined"
     ]
    }
   ],
   "source": [
    "#validace = CL.validuj(G_HMM, train_data, test_data, range(2,20), unsupervised = True)"
   ]
  },
  {
   "cell_type": "code",
   "execution_count": 16,
   "metadata": {
    "collapsed": true
   },
   "outputs": [],
   "source": [
    "#validace.to_csv('prvni_Validace.csv',index=False)"
   ]
  },
  {
   "cell_type": "code",
   "execution_count": 20,
   "metadata": {
    "collapsed": true
   },
   "outputs": [],
   "source": [
    "validace = pd.read_csv(os.getcwd()+\"/prvni_Validace.csv\")"
   ]
  },
  {
   "cell_type": "code",
   "execution_count": 21,
   "metadata": {},
   "outputs": [
    {
     "data": {
      "text/html": [
       "<div>\n",
       "<style>\n",
       "    .dataframe thead tr:only-child th {\n",
       "        text-align: right;\n",
       "    }\n",
       "\n",
       "    .dataframe thead th {\n",
       "        text-align: left;\n",
       "    }\n",
       "\n",
       "    .dataframe tbody tr th {\n",
       "        vertical-align: top;\n",
       "    }\n",
       "</style>\n",
       "<table border=\"1\" class=\"dataframe\">\n",
       "  <thead>\n",
       "    <tr style=\"text-align: right;\">\n",
       "      <th></th>\n",
       "      <th>Kombinace rysů</th>\n",
       "      <th>délka úseku</th>\n",
       "      <th>Accuracy</th>\n",
       "      <th>Chyby</th>\n",
       "      <th>F míra stavu 0</th>\n",
       "      <th>F míra stavu 1</th>\n",
       "      <th>F míra stavu 2</th>\n",
       "      <th>F míra průměrná</th>\n",
       "      <th>Precision stavu 0</th>\n",
       "      <th>Precision stavu 1</th>\n",
       "      <th>Precision stavu 2</th>\n",
       "      <th>Recall stavu 0</th>\n",
       "      <th>Recall stavu 1</th>\n",
       "      <th>Recall stavu 2</th>\n",
       "    </tr>\n",
       "  </thead>\n",
       "  <tbody>\n",
       "    <tr>\n",
       "      <th>0</th>\n",
       "      <td>(0, 0, 0, 0, 1)</td>\n",
       "      <td>2</td>\n",
       "      <td>0.750000</td>\n",
       "      <td>750</td>\n",
       "      <td>0.918151</td>\n",
       "      <td>0.581290</td>\n",
       "      <td>0.296296</td>\n",
       "      <td>0.598579</td>\n",
       "      <td>0.859352</td>\n",
       "      <td>0.472674</td>\n",
       "      <td>0.598425</td>\n",
       "      <td>0.985588</td>\n",
       "      <td>0.754717</td>\n",
       "      <td>0.196891</td>\n",
       "    </tr>\n",
       "    <tr>\n",
       "      <th>1</th>\n",
       "      <td>(0, 0, 0, 1, 0)</td>\n",
       "      <td>2</td>\n",
       "      <td>0.703667</td>\n",
       "      <td>889</td>\n",
       "      <td>0.882223</td>\n",
       "      <td>0.000000</td>\n",
       "      <td>0.420146</td>\n",
       "      <td>0.434123</td>\n",
       "      <td>0.792753</td>\n",
       "      <td>0.000000</td>\n",
       "      <td>0.430122</td>\n",
       "      <td>0.994457</td>\n",
       "      <td>0.000000</td>\n",
       "      <td>0.410622</td>\n",
       "    </tr>\n",
       "    <tr>\n",
       "      <th>2</th>\n",
       "      <td>(0, 0, 0, 1, 1)</td>\n",
       "      <td>2</td>\n",
       "      <td>0.762000</td>\n",
       "      <td>714</td>\n",
       "      <td>0.912290</td>\n",
       "      <td>0.637218</td>\n",
       "      <td>0.311637</td>\n",
       "      <td>0.620382</td>\n",
       "      <td>0.844665</td>\n",
       "      <td>0.529687</td>\n",
       "      <td>0.652893</td>\n",
       "      <td>0.991685</td>\n",
       "      <td>0.799528</td>\n",
       "      <td>0.204663</td>\n",
       "    </tr>\n",
       "    <tr>\n",
       "      <th>3</th>\n",
       "      <td>(0, 0, 1, 0, 0)</td>\n",
       "      <td>2</td>\n",
       "      <td>0.704667</td>\n",
       "      <td>886</td>\n",
       "      <td>0.882874</td>\n",
       "      <td>0.000000</td>\n",
       "      <td>0.423280</td>\n",
       "      <td>0.435385</td>\n",
       "      <td>0.793805</td>\n",
       "      <td>0.000000</td>\n",
       "      <td>0.432432</td>\n",
       "      <td>0.994457</td>\n",
       "      <td>0.000000</td>\n",
       "      <td>0.414508</td>\n",
       "    </tr>\n",
       "    <tr>\n",
       "      <th>4</th>\n",
       "      <td>(0, 0, 1, 0, 1)</td>\n",
       "      <td>2</td>\n",
       "      <td>0.762000</td>\n",
       "      <td>714</td>\n",
       "      <td>0.912988</td>\n",
       "      <td>0.635426</td>\n",
       "      <td>0.311637</td>\n",
       "      <td>0.620017</td>\n",
       "      <td>0.845863</td>\n",
       "      <td>0.527216</td>\n",
       "      <td>0.652893</td>\n",
       "      <td>0.991685</td>\n",
       "      <td>0.799528</td>\n",
       "      <td>0.204663</td>\n",
       "    </tr>\n",
       "  </tbody>\n",
       "</table>\n",
       "</div>"
      ],
      "text/plain": [
       "    Kombinace rysů  délka úseku  Accuracy  Chyby  F míra stavu 0  \\\n",
       "0  (0, 0, 0, 0, 1)            2  0.750000    750        0.918151   \n",
       "1  (0, 0, 0, 1, 0)            2  0.703667    889        0.882223   \n",
       "2  (0, 0, 0, 1, 1)            2  0.762000    714        0.912290   \n",
       "3  (0, 0, 1, 0, 0)            2  0.704667    886        0.882874   \n",
       "4  (0, 0, 1, 0, 1)            2  0.762000    714        0.912988   \n",
       "\n",
       "   F míra stavu 1  F míra stavu 2  F míra průměrná  Precision stavu 0  \\\n",
       "0        0.581290        0.296296         0.598579           0.859352   \n",
       "1        0.000000        0.420146         0.434123           0.792753   \n",
       "2        0.637218        0.311637         0.620382           0.844665   \n",
       "3        0.000000        0.423280         0.435385           0.793805   \n",
       "4        0.635426        0.311637         0.620017           0.845863   \n",
       "\n",
       "   Precision stavu 1  Precision stavu 2  Recall stavu 0  Recall stavu 1  \\\n",
       "0           0.472674           0.598425        0.985588        0.754717   \n",
       "1           0.000000           0.430122        0.994457        0.000000   \n",
       "2           0.529687           0.652893        0.991685        0.799528   \n",
       "3           0.000000           0.432432        0.994457        0.000000   \n",
       "4           0.527216           0.652893        0.991685        0.799528   \n",
       "\n",
       "   Recall stavu 2  \n",
       "0        0.196891  \n",
       "1        0.410622  \n",
       "2        0.204663  \n",
       "3        0.414508  \n",
       "4        0.204663  "
      ]
     },
     "execution_count": 21,
     "metadata": {},
     "output_type": "execute_result"
    }
   ],
   "source": [
    "validace.head()"
   ]
  },
  {
   "cell_type": "code",
   "execution_count": 22,
   "metadata": {},
   "outputs": [
    {
     "data": {
      "text/html": [
       "<div>\n",
       "<style>\n",
       "    .dataframe thead tr:only-child th {\n",
       "        text-align: right;\n",
       "    }\n",
       "\n",
       "    .dataframe thead th {\n",
       "        text-align: left;\n",
       "    }\n",
       "\n",
       "    .dataframe tbody tr th {\n",
       "        vertical-align: top;\n",
       "    }\n",
       "</style>\n",
       "<table border=\"1\" class=\"dataframe\">\n",
       "  <thead>\n",
       "    <tr style=\"text-align: right;\">\n",
       "      <th></th>\n",
       "      <th>Kombinace rysů</th>\n",
       "      <th>délka úseku</th>\n",
       "      <th>Accuracy</th>\n",
       "      <th>Chyby</th>\n",
       "      <th>F míra stavu 0</th>\n",
       "      <th>F míra stavu 1</th>\n",
       "      <th>F míra stavu 2</th>\n",
       "      <th>F míra průměrná</th>\n",
       "      <th>Precision stavu 0</th>\n",
       "      <th>Precision stavu 1</th>\n",
       "      <th>Precision stavu 2</th>\n",
       "      <th>Recall stavu 0</th>\n",
       "      <th>Recall stavu 1</th>\n",
       "      <th>Recall stavu 2</th>\n",
       "    </tr>\n",
       "  </thead>\n",
       "  <tbody>\n",
       "    <tr>\n",
       "      <th>200</th>\n",
       "      <td>(0, 1, 1, 1, 1)</td>\n",
       "      <td>8</td>\n",
       "      <td>0.869333</td>\n",
       "      <td>392</td>\n",
       "      <td>0.961210</td>\n",
       "      <td>0.726786</td>\n",
       "      <td>0.729317</td>\n",
       "      <td>0.805771</td>\n",
       "      <td>0.954123</td>\n",
       "      <td>0.584770</td>\n",
       "      <td>0.959831</td>\n",
       "      <td>0.968404</td>\n",
       "      <td>0.959906</td>\n",
       "      <td>0.588083</td>\n",
       "    </tr>\n",
       "    <tr>\n",
       "      <th>188</th>\n",
       "      <td>(0, 0, 0, 1, 1)</td>\n",
       "      <td>8</td>\n",
       "      <td>0.866667</td>\n",
       "      <td>400</td>\n",
       "      <td>0.944280</td>\n",
       "      <td>0.772388</td>\n",
       "      <td>0.712284</td>\n",
       "      <td>0.809651</td>\n",
       "      <td>0.917844</td>\n",
       "      <td>0.638889</td>\n",
       "      <td>0.979592</td>\n",
       "      <td>0.972284</td>\n",
       "      <td>0.976415</td>\n",
       "      <td>0.559585</td>\n",
       "    </tr>\n",
       "    <tr>\n",
       "      <th>190</th>\n",
       "      <td>(0, 0, 1, 0, 1)</td>\n",
       "      <td>8</td>\n",
       "      <td>0.866333</td>\n",
       "      <td>401</td>\n",
       "      <td>0.944594</td>\n",
       "      <td>0.773532</td>\n",
       "      <td>0.708023</td>\n",
       "      <td>0.808716</td>\n",
       "      <td>0.917450</td>\n",
       "      <td>0.639445</td>\n",
       "      <td>0.979405</td>\n",
       "      <td>0.973392</td>\n",
       "      <td>0.978774</td>\n",
       "      <td>0.554404</td>\n",
       "    </tr>\n",
       "    <tr>\n",
       "      <th>219</th>\n",
       "      <td>(0, 0, 0, 1, 1)</td>\n",
       "      <td>9</td>\n",
       "      <td>0.866000</td>\n",
       "      <td>402</td>\n",
       "      <td>0.944899</td>\n",
       "      <td>0.754338</td>\n",
       "      <td>0.731235</td>\n",
       "      <td>0.810157</td>\n",
       "      <td>0.930183</td>\n",
       "      <td>0.615499</td>\n",
       "      <td>0.970021</td>\n",
       "      <td>0.960089</td>\n",
       "      <td>0.974057</td>\n",
       "      <td>0.586788</td>\n",
       "    </tr>\n",
       "    <tr>\n",
       "      <th>250</th>\n",
       "      <td>(0, 0, 0, 1, 1)</td>\n",
       "      <td>10</td>\n",
       "      <td>0.864667</td>\n",
       "      <td>406</td>\n",
       "      <td>0.941079</td>\n",
       "      <td>0.740807</td>\n",
       "      <td>0.755906</td>\n",
       "      <td>0.812597</td>\n",
       "      <td>0.939260</td>\n",
       "      <td>0.597685</td>\n",
       "      <td>0.963855</td>\n",
       "      <td>0.942905</td>\n",
       "      <td>0.974057</td>\n",
       "      <td>0.621762</td>\n",
       "    </tr>\n",
       "    <tr>\n",
       "      <th>169</th>\n",
       "      <td>(0, 1, 1, 1, 1)</td>\n",
       "      <td>7</td>\n",
       "      <td>0.863667</td>\n",
       "      <td>409</td>\n",
       "      <td>0.958129</td>\n",
       "      <td>0.731085</td>\n",
       "      <td>0.698776</td>\n",
       "      <td>0.795997</td>\n",
       "      <td>0.940235</td>\n",
       "      <td>0.595840</td>\n",
       "      <td>0.944812</td>\n",
       "      <td>0.976718</td>\n",
       "      <td>0.945755</td>\n",
       "      <td>0.554404</td>\n",
       "    </tr>\n",
       "    <tr>\n",
       "      <th>221</th>\n",
       "      <td>(0, 0, 1, 0, 1)</td>\n",
       "      <td>9</td>\n",
       "      <td>0.863333</td>\n",
       "      <td>410</td>\n",
       "      <td>0.945217</td>\n",
       "      <td>0.749321</td>\n",
       "      <td>0.721044</td>\n",
       "      <td>0.805194</td>\n",
       "      <td>0.929759</td>\n",
       "      <td>0.607930</td>\n",
       "      <td>0.973568</td>\n",
       "      <td>0.961197</td>\n",
       "      <td>0.976415</td>\n",
       "      <td>0.572539</td>\n",
       "    </tr>\n",
       "    <tr>\n",
       "      <th>157</th>\n",
       "      <td>(0, 0, 0, 1, 1)</td>\n",
       "      <td>7</td>\n",
       "      <td>0.862333</td>\n",
       "      <td>413</td>\n",
       "      <td>0.939862</td>\n",
       "      <td>0.786325</td>\n",
       "      <td>0.684609</td>\n",
       "      <td>0.803598</td>\n",
       "      <td>0.903787</td>\n",
       "      <td>0.658188</td>\n",
       "      <td>0.976019</td>\n",
       "      <td>0.978936</td>\n",
       "      <td>0.976415</td>\n",
       "      <td>0.527202</td>\n",
       "    </tr>\n",
       "    <tr>\n",
       "      <th>231</th>\n",
       "      <td>(0, 1, 1, 1, 1)</td>\n",
       "      <td>9</td>\n",
       "      <td>0.861667</td>\n",
       "      <td>415</td>\n",
       "      <td>0.958147</td>\n",
       "      <td>0.697232</td>\n",
       "      <td>0.738095</td>\n",
       "      <td>0.797825</td>\n",
       "      <td>0.964607</td>\n",
       "      <td>0.550546</td>\n",
       "      <td>0.952869</td>\n",
       "      <td>0.951774</td>\n",
       "      <td>0.950472</td>\n",
       "      <td>0.602332</td>\n",
       "    </tr>\n",
       "    <tr>\n",
       "      <th>192</th>\n",
       "      <td>(0, 0, 1, 1, 1)</td>\n",
       "      <td>8</td>\n",
       "      <td>0.861000</td>\n",
       "      <td>417</td>\n",
       "      <td>0.945682</td>\n",
       "      <td>0.744526</td>\n",
       "      <td>0.710311</td>\n",
       "      <td>0.800173</td>\n",
       "      <td>0.927050</td>\n",
       "      <td>0.607143</td>\n",
       "      <td>0.964444</td>\n",
       "      <td>0.965078</td>\n",
       "      <td>0.962264</td>\n",
       "      <td>0.562176</td>\n",
       "    </tr>\n",
       "  </tbody>\n",
       "</table>\n",
       "</div>"
      ],
      "text/plain": [
       "      Kombinace rysů  délka úseku  Accuracy  Chyby  F míra stavu 0  \\\n",
       "200  (0, 1, 1, 1, 1)            8  0.869333    392        0.961210   \n",
       "188  (0, 0, 0, 1, 1)            8  0.866667    400        0.944280   \n",
       "190  (0, 0, 1, 0, 1)            8  0.866333    401        0.944594   \n",
       "219  (0, 0, 0, 1, 1)            9  0.866000    402        0.944899   \n",
       "250  (0, 0, 0, 1, 1)           10  0.864667    406        0.941079   \n",
       "169  (0, 1, 1, 1, 1)            7  0.863667    409        0.958129   \n",
       "221  (0, 0, 1, 0, 1)            9  0.863333    410        0.945217   \n",
       "157  (0, 0, 0, 1, 1)            7  0.862333    413        0.939862   \n",
       "231  (0, 1, 1, 1, 1)            9  0.861667    415        0.958147   \n",
       "192  (0, 0, 1, 1, 1)            8  0.861000    417        0.945682   \n",
       "\n",
       "     F míra stavu 1  F míra stavu 2  F míra průměrná  Precision stavu 0  \\\n",
       "200        0.726786        0.729317         0.805771           0.954123   \n",
       "188        0.772388        0.712284         0.809651           0.917844   \n",
       "190        0.773532        0.708023         0.808716           0.917450   \n",
       "219        0.754338        0.731235         0.810157           0.930183   \n",
       "250        0.740807        0.755906         0.812597           0.939260   \n",
       "169        0.731085        0.698776         0.795997           0.940235   \n",
       "221        0.749321        0.721044         0.805194           0.929759   \n",
       "157        0.786325        0.684609         0.803598           0.903787   \n",
       "231        0.697232        0.738095         0.797825           0.964607   \n",
       "192        0.744526        0.710311         0.800173           0.927050   \n",
       "\n",
       "     Precision stavu 1  Precision stavu 2  Recall stavu 0  Recall stavu 1  \\\n",
       "200           0.584770           0.959831        0.968404        0.959906   \n",
       "188           0.638889           0.979592        0.972284        0.976415   \n",
       "190           0.639445           0.979405        0.973392        0.978774   \n",
       "219           0.615499           0.970021        0.960089        0.974057   \n",
       "250           0.597685           0.963855        0.942905        0.974057   \n",
       "169           0.595840           0.944812        0.976718        0.945755   \n",
       "221           0.607930           0.973568        0.961197        0.976415   \n",
       "157           0.658188           0.976019        0.978936        0.976415   \n",
       "231           0.550546           0.952869        0.951774        0.950472   \n",
       "192           0.607143           0.964444        0.965078        0.962264   \n",
       "\n",
       "     Recall stavu 2  \n",
       "200        0.588083  \n",
       "188        0.559585  \n",
       "190        0.554404  \n",
       "219        0.586788  \n",
       "250        0.621762  \n",
       "169        0.554404  \n",
       "221        0.572539  \n",
       "157        0.527202  \n",
       "231        0.602332  \n",
       "192        0.562176  "
      ]
     },
     "execution_count": 22,
     "metadata": {},
     "output_type": "execute_result"
    }
   ],
   "source": [
    "Sorted = validace.sort_values(['Accuracy'], ascending=False)\n",
    "Sorted.head(10)"
   ]
  },
  {
   "cell_type": "code",
   "execution_count": 17,
   "metadata": {},
   "outputs": [
    {
     "name": "stdout",
     "output_type": "stream",
     "text": [
      "22.491228818893433\n"
     ]
    }
   ],
   "source": [
    "st = time.time()\n",
    "#HMM = GaussianHMM(2) # zavedu co potřebuju\n",
    "G_HMM = GaussianHMM(3,covariance_type = \"full\", algorithm = \"viterbi\")\n",
    "#validace = CL.validuj(GaussianHMM(3), train_data[1], train_data[1], Labely, range(2,11)) #[0,0,1,1,1]\n",
    "[validace, stavy, casf, casp] = CL.validuj(G_HMM, train_data, test_data, 10, [0,0,1,1,0], True)\n",
    "ko = time.time()\n",
    "print(ko-st)"
   ]
  },
  {
   "cell_type": "code",
   "execution_count": 18,
   "metadata": {},
   "outputs": [
    {
     "data": {
      "text/plain": [
       "0.9072728157043457"
      ]
     },
     "execution_count": 18,
     "metadata": {},
     "output_type": "execute_result"
    }
   ],
   "source": [
    "casf\n"
   ]
  },
  {
   "cell_type": "code",
   "execution_count": 19,
   "metadata": {},
   "outputs": [
    {
     "data": {
      "text/plain": [
       "0.0016949176788330078"
      ]
     },
     "execution_count": 19,
     "metadata": {},
     "output_type": "execute_result"
    }
   ],
   "source": [
    "casp"
   ]
  },
  {
   "cell_type": "code",
   "execution_count": null,
   "metadata": {
    "collapsed": true
   },
   "outputs": [],
   "source": []
  }
 ],
 "metadata": {
  "kernelspec": {
   "display_name": "Python 3",
   "language": "python",
   "name": "python3"
  },
  "language_info": {
   "codemirror_mode": {
    "name": "ipython",
    "version": 3
   },
   "file_extension": ".py",
   "mimetype": "text/x-python",
   "name": "python",
   "nbconvert_exporter": "python",
   "pygments_lexer": "ipython3",
   "version": "3.6.2"
  }
 },
 "nbformat": 4,
 "nbformat_minor": 2
}
