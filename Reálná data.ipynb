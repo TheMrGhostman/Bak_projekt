{
 "cells": [
  {
   "cell_type": "code",
   "execution_count": 1,
   "metadata": {},
   "outputs": [],
   "source": [
    "from math import sqrt, factorial, isnan\n",
    "import warnings\n",
    "import numpy as np\n",
    "from sympy.utilities.iterables import multiset_permutations\n",
    "from hmmlearn.hmm import GaussianHMM\n",
    "import matplotlib.pyplot as plt\n",
    "import pandas as pd\n",
    "import itertools as it\n",
    "import timeit\n",
    "import Classification as CL\n",
    "import os\n",
    "way = os.getcwd() + \"/Data_npy/\""
   ]
  },
  {
   "cell_type": "code",
   "execution_count": 2,
   "metadata": {},
   "outputs": [
    {
     "name": "stdout",
     "output_type": "stream",
     "text": [
      "done\n"
     ]
    }
   ],
   "source": [
    "train_data = np.load(way + \"No2.npy\")\n",
    "print(\"done\")"
   ]
  },
  {
   "cell_type": "code",
   "execution_count": 3,
   "metadata": {},
   "outputs": [],
   "source": [
    "#HMM = GaussianHMM(2) # zavedu co potřebuju\n",
    "#validace = CL.validuj(GaussianHMM(3), train_data[1], train_data[1], Labely, range(2,11)) #[0,0,1,1,1]\n",
    "validace = CL.validuj(GaussianHMM(3), [train_data[1],train_data[1]], train_data[1], np.ones(len(train_data[1])), 10, [0,0,1,1,1], True)"
   ]
  },
  {
   "cell_type": "code",
   "execution_count": 4,
   "metadata": {},
   "outputs": [
    {
     "data": {
      "text/html": [
       "<div>\n",
       "<style>\n",
       "    .dataframe thead tr:only-child th {\n",
       "        text-align: right;\n",
       "    }\n",
       "\n",
       "    .dataframe thead th {\n",
       "        text-align: left;\n",
       "    }\n",
       "\n",
       "    .dataframe tbody tr th {\n",
       "        vertical-align: top;\n",
       "    }\n",
       "</style>\n",
       "<table border=\"1\" class=\"dataframe\">\n",
       "  <thead>\n",
       "    <tr style=\"text-align: right;\">\n",
       "      <th></th>\n",
       "      <th>Kombinace rysů</th>\n",
       "      <th>délka úseku</th>\n",
       "      <th>Accuracy</th>\n",
       "      <th>Chyby</th>\n",
       "      <th>F míra stavu 0</th>\n",
       "      <th>F míra stavu 1</th>\n",
       "      <th>F míra stavu 2</th>\n",
       "      <th>F míra průměrná</th>\n",
       "      <th>Precision stavu 0</th>\n",
       "      <th>Precision stavu 1</th>\n",
       "      <th>Precision stavu 2</th>\n",
       "      <th>Recall stavu 0</th>\n",
       "      <th>Recall stavu 1</th>\n",
       "      <th>Recall stavu 2</th>\n",
       "    </tr>\n",
       "  </thead>\n",
       "  <tbody>\n",
       "    <tr>\n",
       "      <th>0</th>\n",
       "      <td>(0, 0, 1, 1, 1)</td>\n",
       "      <td>10</td>\n",
       "      <td>0.4415</td>\n",
       "      <td>2234</td>\n",
       "      <td>0.0</td>\n",
       "      <td>0.612556</td>\n",
       "      <td>0.0</td>\n",
       "      <td>0.204185</td>\n",
       "      <td>0.0</td>\n",
       "      <td>1.0</td>\n",
       "      <td>0.0</td>\n",
       "      <td>0.0</td>\n",
       "      <td>0.4415</td>\n",
       "      <td>0.0</td>\n",
       "    </tr>\n",
       "    <tr>\n",
       "      <th>1</th>\n",
       "      <td>0</td>\n",
       "      <td>0</td>\n",
       "      <td>0.0000</td>\n",
       "      <td>0</td>\n",
       "      <td>0.0</td>\n",
       "      <td>0.000000</td>\n",
       "      <td>0.0</td>\n",
       "      <td>0.000000</td>\n",
       "      <td>0.0</td>\n",
       "      <td>0.0</td>\n",
       "      <td>0.0</td>\n",
       "      <td>0.0</td>\n",
       "      <td>0.0000</td>\n",
       "      <td>0.0</td>\n",
       "    </tr>\n",
       "  </tbody>\n",
       "</table>\n",
       "</div>"
      ],
      "text/plain": [
       "    Kombinace rysů  délka úseku  Accuracy  Chyby  F míra stavu 0  \\\n",
       "0  (0, 0, 1, 1, 1)           10    0.4415   2234             0.0   \n",
       "1                0            0    0.0000      0             0.0   \n",
       "\n",
       "   F míra stavu 1  F míra stavu 2  F míra průměrná  Precision stavu 0  \\\n",
       "0        0.612556             0.0         0.204185                0.0   \n",
       "1        0.000000             0.0         0.000000                0.0   \n",
       "\n",
       "   Precision stavu 1  Precision stavu 2  Recall stavu 0  Recall stavu 1  \\\n",
       "0                1.0                0.0             0.0          0.4415   \n",
       "1                0.0                0.0             0.0          0.0000   \n",
       "\n",
       "   Recall stavu 2  \n",
       "0             0.0  \n",
       "1             0.0  "
      ]
     },
     "execution_count": 4,
     "metadata": {},
     "output_type": "execute_result"
    }
   ],
   "source": [
    "validace.head()"
   ]
  }
 ],
 "metadata": {
  "kernelspec": {
   "display_name": "Python 3",
   "language": "python",
   "name": "python3"
  },
  "language_info": {
   "codemirror_mode": {
    "name": "ipython",
    "version": 3
   },
   "file_extension": ".py",
   "mimetype": "text/x-python",
   "name": "python",
   "nbconvert_exporter": "python",
   "pygments_lexer": "ipython3",
   "version": "3.6.2"
  }
 },
 "nbformat": 4,
 "nbformat_minor": 2
}
